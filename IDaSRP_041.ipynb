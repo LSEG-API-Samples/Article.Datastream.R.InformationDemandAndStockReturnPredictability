{
 "cells": [
  {
   "cell_type": "markdown",
   "metadata": {},
   "source": [
    "# Academic Article Series:\n",
    "# Economics and Finance Study:"
   ]
  },
  {
   "cell_type": "markdown",
   "metadata": {},
   "source": [
    "# Information Demand and Stock Return Predictability (Coded in R)\n",
    "[Refinitiv](https://www.refinitiv.com/en) (all rights reserved)"
   ]
  },
  {
   "cell_type": "markdown",
   "metadata": {},
   "source": [
    "This article addresses well established return forecasting challenges via frameworks that focus on the sign of the change in asset index excess returns using a family of GARCH models. It investigates them in the literature's original S&P 500 index to study the predictive power of information demand proxied by Google's internet search vector index and finds evidence suggesting that an efficient trading strategy stemming from this study can be constructed.\n",
    "This article is aimed at academics from undergraduate level up, and thus will explain all mathematical notations to ensure that there is no confusion and so that anyone - no matter their expertise on the subject - can follow."
   ]
  },
  {
   "cell_type": "markdown",
   "metadata": {},
   "source": [
    "## Introduction\n",
    "\n",
    "Since Tinbergen (1933)'s modelling work on business cycles post World War I, many\n",
    "econometric methods were developed with the aim of constructing ever better economic and\n",
    "financial forecasts. The subject evolved through statistical linear and non-linear relationships\n",
    "with Autoregressive (AR) (Yule (1927)), Moving Average (MA) (N. and Wold (1939)), Autoregressive\n",
    "Moving Average (ARMA) (Whittle (1951)), Autoregressive Conditional Heteroskedasticity\n",
    "(ARCH) (Engle (1982)), Generalized ARCH (GARCH) (Bollerslev (1986)), Exponential\n",
    "GARCH (EGARCH) (Nelson (1991)), threshold nonlinear ARMA (Tong (1990)), and Glosten-\n",
    "Jagannathan-Runkle GARCH (GJR-GARCH) (Glosten, Jagannathan, and Runkle (1993)))\n",
    "models amongst others. $$ \\\\ $$\n",
    "\n",
    "\n",
    "#### Stylized Facts of Financial Return (SFFR)\n",
    "\n",
    "These models’ uses in financial time-series analysis have grown to become staple tools in academia;\n",
    "but many came upon what are now well established asset return forecasting challenges: [Stylized\n",
    "Facts of Financial Return (SFFR)](https://towardsdatascience.com/introduction-to-quantitative-finance-part-i-stylised-facts-of-asset-returns-5190581e40ea) - a\n",
    "set of properties found in most asset return datasets\n",
    "(Booth and Gurun (2004); Harrison (1998); Mitchell, Brown, and Easton (2002)). Many SFFR\n",
    "exist, but only a few are of interest in this instance: asset returns' (i) non-Gaussian distribution\n",
    "(unconditional leptokurtosis/excess-kurtosis and negative-skewness/asymmetry), (ii) weak\n",
    "serial correlation (*id est* (*i.e.*): the lack of correlation between returns on different days), (iii)\n",
    "volatility clustering (heteroskedasticity), as well as (iv) serial correlation in squared returns,\n",
    "and (v) leverage effects (the tendency for variance to rise more following large negative price\n",
    "changes than positive ones of similar magnitude). (Taylor (2005)) \\\n",
    "Numerous time-series processes fail to encapsulate these SFFR, exempli gratia (e.g.): AR,\n",
    "MA and ARMA models may necessitate the assumption of homoscedasticity (i.e.: constant variance\n",
    "in error terms) - failing SFFR (iii), (iv) and (v) - which is a useful characteristic to include\n",
    "as large changes (in asset prices) tend to be followed by large changes-of either sign-and small\n",
    "changes tend to be followed by small changes\" (Mandelbrot (1963), p.418).  \\\n",
    "In this article, I address these challenges using aforementioned models' forecasts in the\n",
    "framework outlined in Christoffersen and Diebold (2006) (C&D hereon) to focus on asset return\n",
    "sign changes instead of their level changes as highlighted in Pesaran and Timmermann (2000).\n",
    "My investigation expands on the work of Chronopoulos, Papadimitriou, and Vlastakis (2018)\n",
    "(CPV hereon) - replicating their research on the United States (U.S.)' Standard & Poor's 500\n",
    "Index (SPX), and studies its feasible financial impact by constructing and assessing investment\n",
    "strategies stemming from findings.  \\\n",
    "Evidence that an efficient trading strategy may be constructible for the SPX are found."
   ]
  },
  {
   "cell_type": "markdown",
   "metadata": {},
   "source": [
    "## Breakdown\n",
    "\n",
    "In this article, I primarily study the frameworks outlined in CPV to investigate the explanatory\n",
    "and forecasting powers of information demand on the SPX. \\\n",
    "$$ \\\\ $$\n",
    "Financial applications of my models are studied via the perspective of a single profit maximising\n",
    "investor in a manner akin to CPV (Kandel and Stambaugh (1996)). In the interest\n",
    "of time, I only investigate the scenario  where the investing agent's risk aversion implies taking a risk as soon as its expected reward is positive. Later we will look into a framework to optimise this risk aversion level to allow for a truly profit maximising strategy.\n",
    "\n",
    "\n",
    "-\t**Part 1: Data Retrieval and Analysis**: In this part, we start the R code, construct some rudimentary functions and collect data from Refinitiv all while explaining their use. We also go through the concept of *risk-free* rates and *excess-returns* as well as *realised variance & realised volatility* in addition to Google’s Search Vector Index before lightly analysing the retrieved data.\n",
    "-\t**Part 2: Econometric Modelling of Non-Linear Variances**: In this section, there is no coding. Instead we go – step by step and including working outs – through ARMA models, their parameter estimation process (via *log-likelihood*), the concepts of *stationarity*, *Taylor’s expansion*, the calculus’ *chain rule*, *first order conditions*, and GARCH models (including the GACH, GJRGARCH and EGARCH models). Finally, we outline the way in which we construct error values from which to evaluate the performance of our models.\n",
    "-\t**Part 3: Coding Non-Linear Variance Econometric Models**: In this section we encode the mathematical models and concepts in Part 2. We build our code, explaining it step-by-step, using in-series (computationally slow) and in-parallel (computationally fast) methods. Finally we expose the Diebold-Mariano test results for each pair of model performances, with and without using SVIs.\n",
    "-\t**Part 4: Sign Forecast Frameworks**: Here we outline the Christopherson and Diebold model to estimate the probability of a positive returns, we compare the predictive performance of each model via rudimentary methods, *Brier Scores* and *Diebold and Mariano statistics*.\n",
    "-\t**Part 5: Financial significance**:  Finally, we put ourselves in the shoes of a profit maximising investor who reinvests – on a daily basis - in the risk-free asset or the S&P500 if the model suggests that its excess return will be positive with more probability than not. We graph the cumulative returns of such an investor for each model-following-strategy and discuss the results with the help of *Sharpe-Ratios* before concluding.\n"
   ]
  },
  {
   "cell_type": "markdown",
   "metadata": {},
   "source": [
    "## Development Tools & Resources\n",
    "Refinitiv's [DataStream](https://www.refinitiv.com/en/products/datastream-macroeconomic-analysis) Web Services for R ([DatastreamDSWS2R](https://developers.refinitiv.com/sites/default/files/Getting%20Started%20with%20R.pdf)): Access to DataStream data. A DataStream or Refinitiv Workspace IDentification (ID) will be needed to run the code bellow."
   ]
  },
  {
   "cell_type": "markdown",
   "metadata": {},
   "source": [
    "$$ \\\\ $$\n",
    "# Part 1: Data Retrieval and Analysis"
   ]
  },
  {
   "cell_type": "markdown",
   "metadata": {},
   "source": [
    "$$ \\\\ $$\n",
    "## Getting to the Coding"
   ]
  },
  {
   "cell_type": "markdown",
   "metadata": {},
   "source": [
    "###  Code preparation (clear memory, prepare libraries)"
   ]
  },
  {
   "cell_type": "code",
   "execution_count": 89,
   "metadata": {},
   "outputs": [],
   "source": [
    "# remove all objects in the memory\n",
    "rm(list = ls())"
   ]
  },
  {
   "cell_type": "markdown",
   "metadata": {},
   "source": [
    "$$ \\\\ $$\n",
    "We are using R version 3.6.1 in this article:"
   ]
  },
  {
   "cell_type": "code",
   "execution_count": 4,
   "metadata": {},
   "outputs": [
    {
     "data": {
      "text/html": [
       "'R version 3.6.1 (2019-07-05)'"
      ],
      "text/latex": [
       "'R version 3.6.1 (2019-07-05)'"
      ],
      "text/markdown": [
       "'R version 3.6.1 (2019-07-05)'"
      ],
      "text/plain": [
       "[1] \"R version 3.6.1 (2019-07-05)\""
      ]
     },
     "metadata": {},
     "output_type": "display_data"
    }
   ],
   "source": [
    "version$version.string"
   ]
  },
  {
   "cell_type": "markdown",
   "metadata": {},
   "source": [
    "$$ \\\\ $$\n",
    "Install packages/libraries/dependencies needed"
   ]
  },
  {
   "cell_type": "code",
   "execution_count": 90,
   "metadata": {},
   "outputs": [],
   "source": [
    "suppressMessages({options(warn = -1) # This will stop all warnings that will show up when importing libraries\n",
    "\n",
    "    # # Install Packages: The line bellow is only needed if all the packages are not installes in your R enviroment yet:\n",
    "    # install.packages(c(\"hash\", \"repr\", \"DatastreamDSWS2R\", \"readxl\", \"xts\", \"fpp\", \"astsa\", \"tidyverse\", \"dplyr\",\n",
    "    #                    \"rugarch\", \"stats\", \"Metrics\", \"e1071\", \"forecast\", \"aTSA\", \"R.utils\", \"foreach\", \"zeallot\",\n",
    "    #                    \"EnvStats\", \"ggplot2\", \"plotly\", \"tsoutliers\", \"data.table\", \"dplyr\", \"scales\", \"parallel\"))\n",
    "\n",
    "    library(DatastreamDSWS2R)\n",
    "    # The two following lines allows us to input our credentials without them being shown:\n",
    "    #    You will need 'DataStream_credentials.csv' to be a Comma-separated values file (readable by Excel) with your Datastream username in cell A1 and its password in cell A2\n",
    "    library(zeallot)\n",
    "    c(DS_username, DS_password) %<-% as.character(read.csv(\"DataStream_credentials.csv\", header = F)$V1)[1:2]\n",
    "    # DataStream needs to know our username to identify us:\n",
    "    options(Datastream.Username = DS_username) \n",
    "    options(Datastream.Password = DS_password)\n",
    "    # This line creates an instance of the DataStream Web Service:\n",
    "    mydsws = dsws$new()\n",
    "\n",
    "    library(plotly) # plotly will allow us to plot graphs\n",
    "    # If you wish, you can connect to plotly:\n",
    "    plotly_username = toString(read.csv(\"plotly_username.csv\", header = F)[,1])\n",
    "    Sys.setenv(\"plotly_username\"=c(plotly_username))\n",
    "    # Sys.setenv(\"plotly_api_key\"=)\n",
    "\n",
    "    library(ggplot2) # ggplot2 will allow us to plot graphs\n",
    "    theme_set(theme_minimal()) # this will allow us to plot graphs with a specific theme.\n",
    "    \n",
    "    # The library 'rugarch' is used for GARCH Modelling. See more at:\n",
    "    # https://stats.stackexchange.com/questions/93815/fit-a-garch-1-1-model-with-covariates-in-r\n",
    "    # https://cran.r-project.org/web/packages/rugarch/rugarch.pdf\n",
    "    # https://rdrr.io/rforge/rugarch/man/ugarchspec-methods.html\n",
    "    library(rugarch)\n",
    "    \n",
    "    # The library 'astsa' is used for Econometric Modelling. See more at:\n",
    "    # https://www.rdocumentation.org/packages/astsa/versions/1.6/\n",
    "    library(astsa)\n",
    "    \n",
    "    # for variable control in Jupyter Notebook's Lab. See more at:\n",
    "    # https://github.com/lckr/jupyterlab-variableInspector\n",
    "    library(repr)\n",
    "    \n",
    "    library(data.table)\n",
    "    library(tidyverse)\n",
    "    library(readxl)\n",
    "    library(dplyr)\n",
    "    library(xts)\n",
    "    library(forecast)\n",
    "    library(dplyr)\n",
    "    library(scales)\n",
    "    library(ggplot2)\n",
    "    library(hash)\n",
    "    library(stats)\n",
    "    # tsoutliers allows us to perform jarque-bera tests\n",
    "    library(tsoutliers)\n",
    "    # The library 'Metrics' allows for the calculation of RMSE\n",
    "    library(Metrics)\n",
    "    # The library 'e1071' allows for the calculation of skewness\n",
    "    library(e1071)\n",
    "    # The library 'aTSA' allows for the calculation of the ADF test\n",
    "    library(aTSA)\n",
    "    # R.utils is needed for timeout functions\n",
    "    library(R.utils)\n",
    "    # EnvStats is needed to plot pdf's\n",
    "    library(EnvStats)\n",
    "    # 'foreach' is used in parallel computing\n",
    "    library(foreach)\n",
    "    # 'parallel' is used in parallel computing\n",
    "    library(parallel)\n",
    "    \n",
    "    options(warn=0) # This line returns warning prompts to default.\n",
    "})"
   ]
  },
  {
   "cell_type": "markdown",
   "metadata": {},
   "source": [
    "$$ \\\\ $$\n",
    "## Define Functions"
   ]
  },
  {
   "cell_type": "markdown",
   "metadata": {},
   "source": [
    "### Statistics Table\n",
    "The function ' Statistics_Table ' will return a table of statistics for a data-set entered including its mean, absolute values' mean, standard deviation, median, skewness, kurtosis, and its 0th and 1st autocorrelation function values (ACF)"
   ]
  },
  {
   "cell_type": "code",
   "execution_count": 91,
   "metadata": {},
   "outputs": [],
   "source": [
    "Statistics_Table = function(name, data)\n",
    "{as.data.table(list(Data_Set = name, Mean = mean(data),\n",
    "                    Mean_of_Absolute_Values = mean(abs(data)),\n",
    "                    Standard_Deviation = sd(data),\n",
    "                    Median = median(data),\n",
    "                    Skewness = skewness(as.numeric(data)),\n",
    "                    Kurtosis = kurtosis(as.numeric(data)),\n",
    "                    ACF_lag_0 = acf(matrix(data),\n",
    "                                    lag.max = 1,\n",
    "                                    plot = FALSE)[[1]][[1]],\n",
    "                    ACF_lag_1 = acf(matrix(data),\n",
    "                                    lag.max = 1,\n",
    "                                    plot = FALSE)[[1]][[2]]))}"
   ]
  },
  {
   "cell_type": "markdown",
   "metadata": {},
   "source": [
    "### Specification Table\n",
    "The function ' Spec_Table ' will return a table of specification of our R variable tabulating their type and dimension."
   ]
  },
  {
   "cell_type": "code",
   "execution_count": 92,
   "metadata": {},
   "outputs": [],
   "source": [
    "Spec_Table = function(variable){\n",
    "    as.data.table(list(Type = typeof(variable), Dimension = toString(dim(variable))))}"
   ]
  },
  {
   "cell_type": "markdown",
   "metadata": {},
   "source": [
    "$$ \\ $$\n",
    "## Set original datasets & variables"
   ]
  },
  {
   "cell_type": "markdown",
   "metadata": {},
   "source": [
    "### S&P 500 Close Prices ($P_{SPX}$)\n",
    "The close price of our index SPX at time $t$ is defined as $P_{SPX,t}$. Its vector through time is defined as:\n",
    "\n",
    "$\n",
    "\\mathbf{SPX\\_raw} = $ $\\left[ \\begin{matrix}\n",
    "    P_{SPX, 1} \\\\\n",
    "    P_{SPX, 2} \\\\\n",
    "    \\vdots\\\\\n",
    "    P_{SPX, T_{SPX\\_raw}}\n",
    "\\end{matrix} \\right]\n",
    "$\n",
    "\n",
    "where $t \\in \\mathbb{Z}$ and $ 1 \\le t \\ge T_{SPX\\_raw}$ where '$\\in$' means 'in' and '$\\mathbb{Z}$' is the set of whole numbers in the [real number](https://en.wikipedia.org/wiki/Real_number#:~:text=In%20mathematics%2C%20a%20real%20number,a%20distance%20along%20a%20line.&text=The%20real%20numbers%20include%20all,%2C%20an%20irrational%20algebraic%20number) line, an [integer](https://en.wikipedia.org/wiki/Integer) (as opposed to on the number plane that includes [imaginary](https://en.wikipedia.org/wiki/Imaginary_number) numbers). $\\mathbf{SPX\\_raw}$ is thus as defined in the cell bellow. It is captured from Refinitiv's [Datastream](https://www.refinitiv.com/en/products/datastream-macroeconomic-analysis)."
   ]
  },
  {
   "cell_type": "code",
   "execution_count": 93,
   "metadata": {},
   "outputs": [
    {
     "data": {
      "text/html": [
       "<table>\n",
       "<caption>A data.table: 1 × 2</caption>\n",
       "<thead>\n",
       "\t<tr><th scope=col>Type</th><th scope=col>Dimension</th></tr>\n",
       "\t<tr><th scope=col>&lt;chr&gt;</th><th scope=col>&lt;chr&gt;</th></tr>\n",
       "</thead>\n",
       "<tbody>\n",
       "\t<tr><td>double</td><td>7981, 1</td></tr>\n",
       "</tbody>\n",
       "</table>\n"
      ],
      "text/latex": [
       "A data.table: 1 × 2\n",
       "\\begin{tabular}{ll}\n",
       " Type & Dimension\\\\\n",
       " <chr> & <chr>\\\\\n",
       "\\hline\n",
       "\t double & 7981, 1\\\\\n",
       "\\end{tabular}\n"
      ],
      "text/markdown": [
       "\n",
       "A data.table: 1 × 2\n",
       "\n",
       "| Type &lt;chr&gt; | Dimension &lt;chr&gt; |\n",
       "|---|---|\n",
       "| double | 7981, 1 |\n",
       "\n"
      ],
      "text/plain": [
       "  Type   Dimension\n",
       "1 double 7981, 1  "
      ]
     },
     "metadata": {},
     "output_type": "display_data"
    }
   ],
   "source": [
    "SPX_raw = na.omit(\n",
    "    mydsws$timeSeriesListRequest(\n",
    "        instrument = c(\"S&PCOMP\"),\n",
    "        startDate = \"1990-01-01\", # You may gather all data on Datastream with ' startDate = \"BDATE\" '\n",
    "        endDate = \"-0D\",\n",
    "        frequency = \"D\",\n",
    "        # datatype = c(\"P\")\n",
    "        format = \"ByDatatype\"))\n",
    "\n",
    "Spec_Table(SPX_raw) # View variable details"
   ]
  },
  {
   "cell_type": "markdown",
   "metadata": {},
   "source": [
    "$$ \\\\ $$\n",
    "### U.S.A. Risk-Free Rate of Return ($r_f$)"
   ]
  },
  {
   "cell_type": "markdown",
   "metadata": {},
   "source": [
    "In order to construct a theoretical risk-free return ($r_f$), we will import three candidate Government Bond Return data-sets:\n",
    "- [TRUS1MT: Refinitiv United States Government Benchmark Bid Yield 1 Month](http://product.datastream.com/browse/search.aspx?dsid=ZRQW955&AppGroup=DSAddin&q=Refinitiv+United+States+Government+Benchmark+Bid+Yield+1+Month&prev=99_Refinitiv+United+States+Government+Benchmark+Bid+Yield+3+Months&nav_category=8)\n",
    "- [TRUS3MT: Refinitiv United States Government Benchmark Bid Yield 3 Months](http://product.datastream.com/browse/search.aspx?dsid=ZRQW955&AppGroup=DSAddin&q=Refinitiv+United+States+Government+Benchmark+Bid+Yield+3+Months&prev=99_DTB3%3A+Refinitiv+United+States+Government+Benchmark+Bid+Yield+3+Months&nav_category=8)\n",
    "- [TRUS10T: Refinitiv United States Government Benchmark Bid Yield 10 Years](http://product.datastream.com/browse/search.aspx?dsid=ZRQW955&AppGroup=DSAddin&q=TRUS10T&prev=99_TRUS10T&prev_csrc=8)"
   ]
  },
  {
   "cell_type": "markdown",
   "metadata": {},
   "source": [
    "We define, where $CRM=$ Constant Maturity Rate (*i.e.:* [TRUS1MT](http://product.datastream.com/browse/search.aspx?dsid=ZRQW955&AppGroup=DSAddin&q=Refinitiv+United+States+Government+Benchmark+Bid+Yield+1+Month&prev=99_Refinitiv+United+States+Government+Benchmark+Bid+Yield+3+Months&nav_category=8), [TRUS3MT](http://product.datastream.com/browse/search.aspx?dsid=ZRQW955&AppGroup=DSAddin&q=Refinitiv+United+States+Government+Benchmark+Bid+Yield+3+Months&prev=99_DTB3%3A+Refinitiv+United+States+Government+Benchmark+Bid+Yield+3+Months&nav_category=8), or [TRUS10T](http://product.datastream.com/browse/search.aspx?dsid=ZRQW955&AppGroup=DSAddin&q=TRUS10T&prev=99_TRUS10T&prev_csrc=8)), the matrix\n",
    "\n",
    "$ \\mathbf{CRM\\_raw} =$ $\\left[ \\begin{matrix}\n",
    "    {CRM}_1 \\\\\n",
    "    {CRM}_2 \\\\\n",
    "    \\vdots\\\\\n",
    "    {CRM}_{T_{CRM\\_raw}}\n",
    "\\end{matrix} \\right]\n",
    "$\n",
    "\n",
    "Where $t \\in \\mathbb{Z}$ and $ 1 \\le t \\ge T_{CRM\\_raw}$.\n",
    "\n",
    "$\\mathbf{CRM\\_raw}$ is thus defined by its constituents $\\mathbf{TRUS1MT\\_raw}$, $\\mathbf{TRUS3MT\\_raw}$, and $\\mathbf{TRUS10T\\_raw}$ defined - themselves - in the cells bellow: "
   ]
  },
  {
   "cell_type": "markdown",
   "metadata": {},
   "source": [
    "#### [TRUS1MT: Refinitiv United States Government Benchmark Bid Yield 1 Month](http://product.datastream.com/browse/search.aspx?dsid=ZRQW955&AppGroup=DSAddin&q=Refinitiv+United+States+Government+Benchmark+Bid+Yield+1+Month&prev=99_Refinitiv+United+States+Government+Benchmark+Bid+Yield+3+Months&nav_category=8)"
   ]
  },
  {
   "cell_type": "code",
   "execution_count": 94,
   "metadata": {},
   "outputs": [],
   "source": [
    "TRUS1MT_raw = na.omit(\n",
    "    mydsws$timeSeriesListRequest(\n",
    "        instrument = c(\"TRUS1MT\"),\n",
    "        startDate = \"1990-01-01\", # You may gather all data on Datastream with ' startDate = \"BDATE\" '\n",
    "        endDate = \"-0D\",\n",
    "        frequency = \"D\",\n",
    "        format = \"ByDatatype\",\n",
    "        datatype = c(\"X\")))"
   ]
  },
  {
   "cell_type": "markdown",
   "metadata": {},
   "source": [
    "We will construct a referential Data-Frame, ' df ':"
   ]
  },
  {
   "cell_type": "code",
   "execution_count": 95,
   "metadata": {},
   "outputs": [],
   "source": [
    "df = na.omit(merge(x = SPX_raw, y = TRUS1MT_raw))\n",
    "\n",
    "# # To see the Data-Frame this far, you may use:\n",
    "# as_tibble(df, rownames = NA)"
   ]
  },
  {
   "cell_type": "markdown",
   "metadata": {},
   "source": [
    "Let's have a look at what our latest data input looks like:"
   ]
  },
  {
   "cell_type": "code",
   "execution_count": 96,
   "metadata": {},
   "outputs": [
    {
     "data": {
      "text/html": [
       "<table>\n",
       "<caption>A data.table: 1 × 2</caption>\n",
       "<thead>\n",
       "\t<tr><th scope=col>Type</th><th scope=col>Dimension</th></tr>\n",
       "\t<tr><th scope=col>&lt;chr&gt;</th><th scope=col>&lt;chr&gt;</th></tr>\n",
       "</thead>\n",
       "<tbody>\n",
       "\t<tr><td>double</td><td>4960, 1</td></tr>\n",
       "</tbody>\n",
       "</table>\n"
      ],
      "text/latex": [
       "A data.table: 1 × 2\n",
       "\\begin{tabular}{ll}\n",
       " Type & Dimension\\\\\n",
       " <chr> & <chr>\\\\\n",
       "\\hline\n",
       "\t double & 4960, 1\\\\\n",
       "\\end{tabular}\n"
      ],
      "text/markdown": [
       "\n",
       "A data.table: 1 × 2\n",
       "\n",
       "| Type &lt;chr&gt; | Dimension &lt;chr&gt; |\n",
       "|---|---|\n",
       "| double | 4960, 1 |\n",
       "\n"
      ],
      "text/plain": [
       "  Type   Dimension\n",
       "1 double 4960, 1  "
      ]
     },
     "metadata": {},
     "output_type": "display_data"
    }
   ],
   "source": [
    "Spec_Table(TRUS1MT_raw)"
   ]
  },
  {
   "cell_type": "markdown",
   "metadata": {},
   "source": [
    "This is what a row of our Data-Frame looks like at the moment:"
   ]
  },
  {
   "cell_type": "code",
   "execution_count": 97,
   "metadata": {},
   "outputs": [
    {
     "name": "stdout",
     "output_type": "stream",
     "text": [
      "           S.PCOMP TRUS1MT\n",
      "2006-04-05 1311.56    4.54\n"
     ]
    }
   ],
   "source": [
    "print(df[c(\"2006-04-05\"),])"
   ]
  },
  {
   "cell_type": "markdown",
   "metadata": {},
   "source": [
    "$$ \\\\ $$\n",
    "#### [TRUS3MT: Refinitiv United States Government Benchmark Bid Yield 3 Months](http://product.datastream.com/browse/search.aspx?dsid=ZRQW955&AppGroup=DSAddin&q=Refinitiv+United+States+Government+Benchmark+Bid+Yield+3+Months&prev=99_DTB3%3A+Refinitiv+United+States+Government+Benchmark+Bid+Yield+3+Months&nav_category=8)"
   ]
  },
  {
   "cell_type": "code",
   "execution_count": 98,
   "metadata": {},
   "outputs": [],
   "source": [
    "TRUS3MT_raw = na.omit(\n",
    "    mydsws$timeSeriesListRequest(\n",
    "        instrument = c(\"TRUS3MT\"),\n",
    "        startDate = \"1990-01-01\", # You may gather all data on Datastream with ' startDate = \"BDATE\" '\n",
    "        endDate = \"-0D\",\n",
    "        frequency = \"D\",\n",
    "        format=\"ByDatatype\",\n",
    "        datatype = c(\"X\")))"
   ]
  },
  {
   "cell_type": "markdown",
   "metadata": {},
   "source": [
    "We will construct a referential Data-Frame, ' df ':"
   ]
  },
  {
   "cell_type": "code",
   "execution_count": 99,
   "metadata": {},
   "outputs": [],
   "source": [
    "df = na.omit(merge(x = df, y = TRUS3MT_raw))"
   ]
  },
  {
   "cell_type": "markdown",
   "metadata": {},
   "source": [
    "Let's have a look at what our latest data input looks like:"
   ]
  },
  {
   "cell_type": "code",
   "execution_count": 100,
   "metadata": {},
   "outputs": [
    {
     "data": {
      "text/html": [
       "<table>\n",
       "<caption>A data.table: 1 × 2</caption>\n",
       "<thead>\n",
       "\t<tr><th scope=col>Type</th><th scope=col>Dimension</th></tr>\n",
       "\t<tr><th scope=col>&lt;chr&gt;</th><th scope=col>&lt;chr&gt;</th></tr>\n",
       "</thead>\n",
       "<tbody>\n",
       "\t<tr><td>double</td><td>7981, 1</td></tr>\n",
       "</tbody>\n",
       "</table>\n"
      ],
      "text/latex": [
       "A data.table: 1 × 2\n",
       "\\begin{tabular}{ll}\n",
       " Type & Dimension\\\\\n",
       " <chr> & <chr>\\\\\n",
       "\\hline\n",
       "\t double & 7981, 1\\\\\n",
       "\\end{tabular}\n"
      ],
      "text/markdown": [
       "\n",
       "A data.table: 1 × 2\n",
       "\n",
       "| Type &lt;chr&gt; | Dimension &lt;chr&gt; |\n",
       "|---|---|\n",
       "| double | 7981, 1 |\n",
       "\n"
      ],
      "text/plain": [
       "  Type   Dimension\n",
       "1 double 7981, 1  "
      ]
     },
     "metadata": {},
     "output_type": "display_data"
    }
   ],
   "source": [
    "Spec_Table(TRUS3MT_raw)"
   ]
  },
  {
   "cell_type": "markdown",
   "metadata": {},
   "source": [
    "This is what a row of our Data-Frame looks like at the moment:"
   ]
  },
  {
   "cell_type": "code",
   "execution_count": 101,
   "metadata": {},
   "outputs": [
    {
     "name": "stdout",
     "output_type": "stream",
     "text": [
      "           S.PCOMP TRUS1MT TRUS3MT\n",
      "2006-04-05 1311.56    4.54   4.656\n"
     ]
    }
   ],
   "source": [
    "print(df[c(\"2006-04-05\"),])"
   ]
  },
  {
   "cell_type": "markdown",
   "metadata": {},
   "source": [
    "$$ \\\\ $$\n",
    "#### [TRUS10T: Refinitiv United States Government Benchmark Bid Yield 10 Years](http://product.datastream.com/browse/search.aspx?dsid=ZRQW955&AppGroup=DSAddin&q=TRUS10T&prev=99_TRUS10T&prev_csrc=8)"
   ]
  },
  {
   "cell_type": "code",
   "execution_count": 102,
   "metadata": {},
   "outputs": [],
   "source": [
    "TRUS10T_raw = na.omit(\n",
    "    mydsws$timeSeriesListRequest(\n",
    "        instrument = c(\"TRUS10T\"),\n",
    "        startDate = \"1990-01-01\", # You may gather all data on Datastream with ' startDate = \"BDATE\" '\n",
    "        endDate = \"-0D\",\n",
    "        frequency = \"D\",\n",
    "        format=\"ByDatatype\",\n",
    "        datatype = c(\"X\")))"
   ]
  },
  {
   "cell_type": "markdown",
   "metadata": {},
   "source": [
    "We will construct a referential Data-Frame, ' df ':"
   ]
  },
  {
   "cell_type": "code",
   "execution_count": 103,
   "metadata": {},
   "outputs": [],
   "source": [
    "df = na.omit(merge(x = df, y = TRUS10T_raw, all = TRUE))"
   ]
  },
  {
   "cell_type": "markdown",
   "metadata": {},
   "source": [
    "Let's have a look at what our latest data input looks like:"
   ]
  },
  {
   "cell_type": "code",
   "execution_count": 104,
   "metadata": {},
   "outputs": [
    {
     "data": {
      "text/html": [
       "<table>\n",
       "<caption>A data.table: 1 × 2</caption>\n",
       "<thead>\n",
       "\t<tr><th scope=col>Type</th><th scope=col>Dimension</th></tr>\n",
       "\t<tr><th scope=col>&lt;chr&gt;</th><th scope=col>&lt;chr&gt;</th></tr>\n",
       "</thead>\n",
       "<tbody>\n",
       "\t<tr><td>double</td><td>7981, 1</td></tr>\n",
       "</tbody>\n",
       "</table>\n"
      ],
      "text/latex": [
       "A data.table: 1 × 2\n",
       "\\begin{tabular}{ll}\n",
       " Type & Dimension\\\\\n",
       " <chr> & <chr>\\\\\n",
       "\\hline\n",
       "\t double & 7981, 1\\\\\n",
       "\\end{tabular}\n"
      ],
      "text/markdown": [
       "\n",
       "A data.table: 1 × 2\n",
       "\n",
       "| Type &lt;chr&gt; | Dimension &lt;chr&gt; |\n",
       "|---|---|\n",
       "| double | 7981, 1 |\n",
       "\n"
      ],
      "text/plain": [
       "  Type   Dimension\n",
       "1 double 7981, 1  "
      ]
     },
     "metadata": {},
     "output_type": "display_data"
    }
   ],
   "source": [
    "Spec_Table(TRUS10T_raw)"
   ]
  },
  {
   "cell_type": "markdown",
   "metadata": {},
   "source": [
    "This is what a row of our Data-Frame looks like at the moment:"
   ]
  },
  {
   "cell_type": "code",
   "execution_count": 105,
   "metadata": {},
   "outputs": [
    {
     "name": "stdout",
     "output_type": "stream",
     "text": [
      "           S.PCOMP TRUS1MT TRUS3MT TRUS10T\n",
      "2006-04-05 1311.56    4.54   4.656   4.843\n"
     ]
    }
   ],
   "source": [
    "print(df[c(\"2006-04-05\"),])"
   ]
  },
  {
   "cell_type": "markdown",
   "metadata": {},
   "source": [
    "$$\\\\ $$\n",
    "#### Risk Free Rate ($r_f$): US_1MO_r_f"
   ]
  },
  {
   "cell_type": "markdown",
   "metadata": {},
   "source": [
    "This section explains what Net Present Values, Face Values, Maturities, Coupons, and risk-free rates are, how to compute them, and how they are used to calculate excess returns using only Zero-Coupon Bonds; other types of bonds will be investigated as such in further articles to come. It is aimed at academics from undergraduate level up, and thus will explain all mathematical notations to ensure that there is no confusion and so that anyone - no matter their expertise on the subject - can follow."
   ]
  },
  {
   "cell_type": "markdown",
   "metadata": {},
   "source": [
    "#### Use of Government Bonds in calculating risk-free rates:\n",
    "\n",
    "Only certain banks have access to the primary sovereign bond markets where they may purchase Domestic Sovereign/Government Bonds. There are many such types of bonds. Among others, there are:\n",
    "\n",
    "\n",
    "- United States (US): US Treasury securities are issued by the US Department of the Treasury and backed by the US government.\n",
    "    - Fixed principal: A principal is the amount due on a debt. In the case of bonds, it is often referred to as the Face Value. The Face Value of all US Treasury securities is 1000 US Dollars (USD)\n",
    "        - Treasury‐bills (as known as (a.k.a.): T-bills) have a maturity of less than a year (< 1 yr). These are bonds that do not pay coupons (Zero-Coupon Bonds).\n",
    "        - Treasury‐notes (a.k.a.: T‐notes) have a maturity between 1 and 10 years (1‐10 yrs).\n",
    "        - Treasury-bonds (a.k.a.: T‐bonds)  have a maturity between 10 and 30 years (10‐30 yrs). It is confusing calling a sub-set of bonds 'T-bonds', but that is their naming conventions. To avoid confusion, I will always refer to them explicitly as Treasury-bonds (or T‐bonds), not just bonds.\n",
    "    - Inflation‐indexed: TIPS\n",
    "    - Treasury STRIPS (created by private sector, not the US government)\n",
    "\n",
    "\n",
    "- United Kingdom: Since1998, gilts have been issued by the UK Debt Management Office (DMO), an executive agency of HMT (Her Majesty's  Treasury).\n",
    "    - Conventional gilts: Short (< 5 yrs), medium (5‐15 yrs), long (> 15 yrs)\n",
    "    - Inflation‐indexed gilts\n",
    "\n",
    "\n",
    "- Japan\n",
    "    - Medium term (2, 3, 4 yrs), long term (10 yrs), super long term (15, 20 yrs)\n",
    "\n",
    "\n",
    "- Eurozone government bonds\n",
    "\n",
    "\n",
    "There are several ways to compute risk-free rates based on bonds. In this section, we will focus on T-bills, as US Sovereign Bonds are often deemed the safest (which is a reason why the USD is named the [world's reserve curency](https://www.investopedia.com/articles/forex-currencies/092316/how-us-dollar-became-worlds-reserve-currency.asp#:~:text=Standing%20on%20Its%20Own%20as,accumulated%20reserves%20of%20U.S.%20dollars.)) and T-bills are an example of Zero-Coupon Bonds (as per [the method outlined by the Business Research Plus](https://bizlib247.wordpress.com/2013/01/18/risk-free-rate-and-fama-french-factors/)). From there, a risk-free rate of return can be computed as **implied by its bond's Yield To Maturity** and **based the change in the same bond's market price from  one day to the next**."
   ]
  },
  {
   "cell_type": "markdown",
   "metadata": {},
   "source": [
    "#### YTM implied daily risk-free rate"
   ]
  },
  {
   "cell_type": "markdown",
   "metadata": {},
   "source": [
    "A bond is a debt; a debt with the promise to pay a [Face Value](https://www.investopedia.com/terms/f/facevalue.asp) ($FV$) in $m$ years (m for maturity) in the future as well as [Coupons](https://www.investopedia.com/terms/c/coupon.asp) (summing to $C$ every year) at a fixed annual frequency ($f$) (usually every 6 months, such that $f = 0.5$) for an amount today. That latter amount paid for the bond may be fair; a fair value for a bond is calculated as its [Net Present Value](https://www.investopedia.com/terms/n/npv.asp) ($NPV$) such that, at time $t$:"
   ]
  },
  {
   "cell_type": "markdown",
   "metadata": {},
   "source": [
    "$$ NPV_t = \n",
    "    \\begin{Bmatrix}\n",
    "         \\frac{FV_t}{\\left(1 + YTM_t\\right)^m} + \\sum^{^\\frac{m}{f}}_{\\tau=1} {\\frac{f \\text{ } C_{\\tau}}{ (1 + f \\text{ } YTM_t)^{\\tau} }} & \\text{if } m \\geq 1 \\\\\n",
    "         \\\\\n",
    "         \\frac{FV_t}{\\left(1 + \\text{ } m \\text{ } YTM_t\\right)} & \\text{if } m < 1\n",
    "     \\end{Bmatrix}\n",
    "$$"
   ]
  },
  {
   "cell_type": "markdown",
   "metadata": {},
   "source": [
    "where $YTM$ is the annualised [Yield To Maturity](https://www.investopedia.com/terms/y/yieldtomaturity.asp) of the bond in question. Thus: **sub-year** interpolation of YTMs are linear/arithmetic; **yearly** extrapolation of YTMs are geometric. It is easy to see that NPVs and YTMs are therefore (inversely) related; if one changes, the other must change too. We may - therefore - equivalently speak about a change in NPV and a change in YTM since the FV (for each sovereign bond [issuer](https://www.investopedia.com/terms/i/issuer.asp)) does not change. The YTM acts as the [discount factor](https://www.investopedia.com/terms/d/discountrate.asp) here; as a matter of fact, we can see that the YTM is the annual growth rate of our NPV that leads it to the FV in the following:"
   ]
  },
  {
   "cell_type": "markdown",
   "metadata": {},
   "source": [
    "$$ FV_t  = \n",
    "    \\begin{Bmatrix}\n",
    "         \\left[ NPV_t - \\sum^{^\\frac{m}{f}}_{\\tau=1} {\\frac{f \\text{ } C_{\\tau}}{ \\text{ } (1 + f \\text{ } YTM_t)^{\\tau} \\text{ }}} \\right] \\text{ } {\\left( 1 + YTM_t\\right)^m} & \\text{if } m \\geq 1 \\\\\n",
    "         \\\\\n",
    "         NPV_t \\text{ } {\\left(1 + \\text{ } m \\text{ } YTM_t\\right)} & \\text{if } m < 1\n",
    "     \\end{Bmatrix}\n",
    "$$"
   ]
  },
  {
   "cell_type": "markdown",
   "metadata": {},
   "source": [
    "NPVs of different bonds are not comparable. That is because they account for bonds maturing at different times. Instead, YTMs of different bonds are comparable because they are annualised, therefore they account for different maturities. It is thus preferable to only speak of changes in sovereign bond NPVs in terms of the change in their YTMs; then we can compare them to each other, *e.g.*: in a Yield Curve (that can be seen [here](https://emea1.apps.cp.thomsonreuters.com/web/Explorer/EVzCURVEzFIxOV.aspx?s=0%23USBMK%3D&st=RIC) with Refinitiv credentials):"
   ]
  },
  {
   "cell_type": "markdown",
   "metadata": {},
   "source": [
    "<img src=\"Yield Curve.PNG\">"
   ]
  },
  {
   "cell_type": "markdown",
   "metadata": {},
   "source": [
    "*N.B.*: It is important to note that the reason we can easily formulate NPV (and FV) in only two cases where $m \\geq 1$ and $m < 1$ is because all maturities greater than 1 are a multiple of 1 (*i.e.*: they are whole numbers) (*i.e.*: no maturities past 1 year stop mid year, *e.g.*: 10 years and 6 months)."
   ]
  },
  {
   "cell_type": "markdown",
   "metadata": {},
   "source": [
    "##### T-bill Example 1:\n",
    "\n",
    "Therefore: a T-bill that matures in one month (One-month T-Bill, OMTB) has a Net Present Value:\n",
    "\n",
    "$$ \\begin{array}{ll}\n",
    "{NPV}_{\\text{OMTB}, t} &= \n",
    "    \\begin{Bmatrix}\n",
    "         \\frac{{FV}_{\\text{OMTB}, t}}{({1+{YTM}_{\\text{OMTB}, t}})^{m_{\\text{OMTB}}}}\n",
    "         + \\sum^{^\\frac{m_{\\text{OMTB}}}{f_{\\text{OMTB}}}}_{\\tau=1} {\\frac{f_{\\text{OMTB}} \\text{ } C_{{\\text{OMTB}}, \\tau}}{ (1 + f_{\\text{OMTB}} \\text{ } YTM_{{\\text{OMTB}},t})^{\\tau} }}\n",
    "         & \\text{if } m_{\\text{OMTB}} \\geq 1 \\\\\n",
    "         \\\\\n",
    "         \\frac{{FV}_{\\text{OMTB}, t}}{{1+ \\text{ } m_{\\text{OMTB}} \\text{ } {YTM}_{\\text{OMTB}, t}}} & \\text{if } m_{\\text{OMTB}} < 1\n",
    "     \\end{Bmatrix} \\\\\n",
    "     \\\\\n",
    "&= \\frac{1000 \\text{ U.S.D.}}{{1+\\frac{1}{12} {YTM}_{\\text{OMTB}, t}}}\n",
    "\\end{array}$$\n",
    "\n",
    "$\\text{since } m_{\\text{OMTB}} = \\frac{1}{12} < 1$ and ${FV}_{\\text{OMTB}, t} = $ 1000 U.S.D.; all US bonds have a $FV$ of 1000 U.S.D.. Lets use the $YTM_{OMTB}$ for the 13$^\\text{rd}$ of July 2020 (2020-07-13) quoted on Datastream under [TRUS1MT](http://product.datastream.com/browse/search.aspx?dsid=ZRQW955&AppGroup=DSAddin&q=Refinitiv+United+States+Government+Benchmark+Bid+Yield+1+Month&prev=99_Refinitiv+United+States+Government+Benchmark+Bid+Yield+3+Months&nav_category=8): 0.112 U.S.D.. It is quoted in U.S.D. because it was normalised for every U.S.D.. This gives a YTM of 0.00112 (*i.e.*: 0.112%). Then:\n",
    "\n",
    "$$ \\begin{array}{ll}\n",
    "{NPV}_{\\text{OMTB}, t} &= \\frac{1000 \\text{ U.S.D.}}{{1+\\frac{1}{12} {YTM}_{\\text{OMTB}, t}}} \\\\\n",
    "& = \\frac{1000 \\text{ U.S.D.}}{{1+\\frac{1}{12} 0.00112}} \\\\\n",
    "& \\approx 999.906675 \\text{ U.S.D.}\n",
    "\\end{array}$$"
   ]
  },
  {
   "cell_type": "markdown",
   "metadata": {},
   "source": [
    "since:"
   ]
  },
  {
   "cell_type": "code",
   "execution_count": 1,
   "metadata": {},
   "outputs": [
    {
     "data": {
      "text/html": [
       "999.906675376965"
      ],
      "text/latex": [
       "999.906675376965"
      ],
      "text/markdown": [
       "999.906675376965"
      ],
      "text/plain": [
       "[1] 999.9067"
      ]
     },
     "metadata": {},
     "output_type": "display_data"
    }
   ],
   "source": [
    "1000 / (1 + (1/12) * 0.00112)"
   ]
  },
  {
   "cell_type": "markdown",
   "metadata": {},
   "source": [
    "$$ \\\\ $$\n",
    "##### T-bill Example 2: Risk-free rate of a One-Month T-Bill"
   ]
  },
  {
   "cell_type": "markdown",
   "metadata": {},
   "source": [
    "If an investor buys a One-month T-Bill for 900 U.S.D. at the start of a 30 day month, it will mature with a Face Value of 1000 U.S.D., and the investor would have made $1000 - 900 = 100$ U.S.D. in profit. Over that 30 days, that's a straight-line / arithmetic return rate of $\\frac{1000 - 900}{900} = 0.\\dot{1}$ (note that the [dot on top of $1$ in $0.\\dot{1}$ is the standard notation of a recurring decimal](https://en.wikipedia.org/wiki/Repeating_decimal)) , *i.e.*: approximately 11.11%, since:"
   ]
  },
  {
   "cell_type": "code",
   "execution_count": 2,
   "metadata": {},
   "outputs": [
    {
     "data": {
      "text/plain": [
       "0.1111111111111111"
      ]
     },
     "execution_count": 2,
     "metadata": {},
     "output_type": "execute_result"
    }
   ],
   "source": [
    "(1000 - 900)/900"
   ]
  },
  {
   "cell_type": "markdown",
   "metadata": {},
   "source": [
    "That - itself - is a straight-line / arithmetic daily return rate of $\\frac{0.\\dot{1}}{30} = 0.0\\dot{0}3\\dot{7} \\approx 0.37 \\%$ since:"
   ]
  },
  {
   "cell_type": "code",
   "execution_count": 3,
   "metadata": {},
   "outputs": [
    {
     "data": {
      "text/plain": [
       "0.0037037037037037034"
      ]
     },
     "execution_count": 3,
     "metadata": {},
     "output_type": "execute_result"
    }
   ],
   "source": [
    "((1000 - 900)/900)/30"
   ]
  },
  {
   "cell_type": "markdown",
   "metadata": {},
   "source": [
    "(S)He **theoretically** gets that return every day (theoretically since it doesn't realise until the bond matures, *i.e.*: until the end of the Bond).\n",
    "\n",
    "**But** investors are in the habit of re-investing their returns to benefit from [compounding](https://www.investopedia.com/terms/c/compounding.asp). This way we are not looking at straight-line / arithmetic interests, but [geometric](https://en.wikipedia.org/wiki/Exponential_growth) interest. The geometric daily interest of our investor is"
   ]
  },
  {
   "cell_type": "markdown",
   "metadata": {},
   "source": [
    "$$\\sqrt[30]{1 + \\frac{1000 - 900}{900}} - 1 = \\left( 1 + \\frac{1000 - 900}{900} \\right)^{\\frac{1}{30}} - 1 \\approx 0.0035181915469957303 \\approx 0.35 \\%$$"
   ]
  },
  {
   "cell_type": "markdown",
   "metadata": {},
   "source": [
    "since:"
   ]
  },
  {
   "cell_type": "code",
   "execution_count": 4,
   "metadata": {},
   "outputs": [
    {
     "data": {
      "text/plain": [
       "0.0035181915469957303"
      ]
     },
     "execution_count": 4,
     "metadata": {},
     "output_type": "execute_result"
    }
   ],
   "source": [
    "((1 + ((1000-900)/900)))**(1/30) - 1"
   ]
  },
  {
   "cell_type": "markdown",
   "metadata": {},
   "source": [
    "(note that the ${\\frac{1}{n}}^{th}$ exponent of a value is its $n^{th}$ root; this is a concept that is imperative to comprehend to understand the coding we go through bellow) meaning that (s)he gets approximately $900 * 0.0035 = 3.15$ USD the first day, then $(900 + 3.15) * 0.0035 \\approx 3.16$ USD the next day, and so on."
   ]
  },
  {
   "cell_type": "markdown",
   "metadata": {},
   "source": [
    "$$ \\\\ $$\n",
    "\n",
    "Following the same logic, it is easy to calculate the risk-free rate ($r_f$) on any frequency. The compounding $r_f$ of our 1-Month T-Bill for any number of periods in a year (say, daily, *i.e.*: $d$) with a yield ${YTM}_{\\text{OMTB}, t}$ is such that:"
   ]
  },
  {
   "cell_type": "markdown",
   "metadata": {},
   "source": [
    "$$\\mathbf{r_f = \\sqrt[d]{1 + {YTM}_{\\text{OMTB}, t}} - 1}$$"
   ]
  },
  {
   "cell_type": "markdown",
   "metadata": {},
   "source": [
    "It is this simple because YTMs are annualised. *E.g.*: for a year with 252 trading days where ${YTM}_{\\text{OMTB}, t} = 0.00091$ : $$r_f = \\sqrt[252]{1 + 0.00091} - 1 \\approx 0.0000036094755657689603 \\approx 0.0004 \\%$$ since:"
   ]
  },
  {
   "cell_type": "code",
   "execution_count": 5,
   "metadata": {},
   "outputs": [
    {
     "data": {
      "text/plain": [
       "3.6094755657689603e-06"
      ]
     },
     "execution_count": 5,
     "metadata": {},
     "output_type": "execute_result"
    }
   ],
   "source": [
    "(1.00091**(1/252))-1"
   ]
  },
  {
   "cell_type": "markdown",
   "metadata": {},
   "source": [
    "This is the **YTM implied daily risk-free rate** ($r_f$) of our bond. A similar 'weekly' - 7 day - or 'monthly' - 30 day - rate can be made by letting $d$ be the number of weeks or months for the year in question.\n",
    "\n",
    "Why would one use 30 days (as per our example)? Because the 1-, 2-, and 3-month rates are equivalent to the 30-, 60-, and 90-day dates respectively, reported on [the Board's Commercial Paper Web page](www.federalreserve.gov/releases/cp/). This is as per reference (see more [here](https://fred.stlouisfed.org/series/DGS1MO#0) and [here](https://www.federalreserve.gov/releases/h15/current/h15.pdf)) with that said, one ought to use the exact number of days to maturity.\n",
    "\n",
    "Note - however - that We only looked at Zero-Coupon Bonds. If $m > 1$, then Coupons usually have to be taken into account."
   ]
  },
  {
   "cell_type": "markdown",
   "metadata": {},
   "source": [
    "We can create an R function to compute such Zero-Coupn Bond (ZCB) Yield To Maturity (YTM) Implied Risk Free Interest Rate:"
   ]
  },
  {
   "cell_type": "code",
   "execution_count": 108,
   "metadata": {},
   "outputs": [],
   "source": [
    "ZCB_YTM_Implied_r_f  = function(CMR, Maturity, D){\n",
    "\n",
    "#     This R function returns the Zero-Coupn Bond (ZCB) Yield To Maturity (YTM) Implied Risk Free Interest Rate, thus its name 'ZCB_YTM_Implied_r_f'\n",
    "    \n",
    "#     CMR (vector): The Constant Maturity Rate of the Zero-Coupon Bond in question.\n",
    "    \n",
    "#     Maturity (float): The number of years until the bond matures.\n",
    "#     This can be lower than 1, e.g.: One-Month Zero-Coupon Bonds would have a 'Maturity' value of 1/12.\n",
    "#     E.g.: Maturity = 1/12\n",
    "    \n",
    "#     D (int): The number of time periods (e.g.: days) until the bond matures\n",
    "#     N.B.: The 1-, 2-, and 3-month rates are equivalent to 30-, 60-, and 90-day dates respectively, as reported on the Board's Commercial Paper Web page.\n",
    "#     E.g.: D = 30\n",
    "\n",
    "    \n",
    "    # Calculate the YTM\n",
    "    YTM = CMR/100\n",
    "    \n",
    "    # Calculate the r_f\n",
    "    r_f = (((YTM + 1)^Maturity)^(1/D))-1\n",
    "    \n",
    "    # return a list including r_f 0th and YTM 1st.\n",
    "    return(r_f)}"
   ]
  },
  {
   "cell_type": "markdown",
   "metadata": {},
   "source": [
    "##### Risk-free rate based on the change in the same bond's market price from  one day to the next"
   ]
  },
  {
   "cell_type": "markdown",
   "metadata": {},
   "source": [
    "Now we may compute a theoretical risk-free daily return value to use in our study\n",
    "\n",
    "- 1st: As aforementioned, \n",
    "the 1-, 2-, and 3-month rates are equivalent to the 30-, 60-,\n",
    "and 90-day dates respectively, reported on [the Board's Commercial Paper Web\n",
    "page](www.federalreserve.gov/releases/cp/). This is as per reference (see more [here](https://fred.stlouisfed.org/series/DGS1MO#0) and [here](https://www.federalreserve.gov/releases/h15/current/h15.pdf)).\n",
    "Figures [are annualized using a 360-day year or bank interest](https://www.federalreserve.gov/releases/h15/).\n",
    "We are using Refinitiv's Datastream Constant Maturity Rate (CMR) data,  more info on [Constant Maturity](https://www.investopedia.com/terms/c/constantmaturity.asp) and [One-Year Constant Maturity Treasury](https://www.investopedia.com/terms/c/cmtindex.asp) can be found on Investopedia online and [here](https://fred.stlouisfed.org/release/tables?rid=18&eid=289&snid=316).\n",
    "\n",
    "- 2nd: From there,\n",
    "we workout bellow the unit return from holding a one-month Treasury bill over\n",
    "the period from t-1 to t by calculating its difference in daily price\n",
    "where:\n",
    "$$\n",
    "Daily Price = 1000 \\left[ {\\left( \\frac{CMR}{100} + 1 \\right)}^{-\\frac{1}{12}} \\right] \n",
    "$$\n",
    "Where $CRM=$ Constant Maturity Rate (*i.e.:* [TRUS1MT](http://product.datastream.com/browse/search.aspx?dsid=ZRQW955&AppGroup=DSAddin&q=Refinitiv+United+States+Government+Benchmark+Bid+Yield+1+Month&prev=99_Refinitiv+United+States+Government+Benchmark+Bid+Yield+3+Months&nav_category=8), [TRUS3MT](http://product.datastream.com/browse/search.aspx?dsid=ZRQW955&AppGroup=DSAddin&q=Refinitiv+United+States+Government+Benchmark+Bid+Yield+3+Months&prev=99_DTB3%3A+Refinitiv+United+States+Government+Benchmark+Bid+Yield+3+Months&nav_category=8), or [TRUS10T](http://product.datastream.com/browse/search.aspx?dsid=ZRQW955&AppGroup=DSAddin&q=TRUS10T&prev=99_TRUS10T&prev_csrc=8)). The price of the theoretical risk-free asset in our case is:\n",
    "$$\n",
    "P_{r_{f_{SPX}},t} =  1000 \\left[ \\left( \\frac{TRUS1MT_t}{100} + 1 \\right)^{-\\frac{1}{12}} \\right]\n",
    "$$\n",
    "and we define\n",
    "\n",
    "$$\n",
    "r_{{f_{SPX}},t} =\n",
    "\\frac{P_{r_{f_{SPX}},t} - P_{r_{f_{SPX}},t-1}}{P_{r_{f_{SPX}},t-1}} =\n",
    "\\frac{ \\left[ 1000 \\left[ \\left( \\frac{TRUS1MT_t}{100} + 1 \\right)^{-\\frac{1}{12}} \\right] \\right] - \n",
    "    \\left[ 1000 \\left[ \\left( \\frac{TRUS1MT_{t-1}}{100} + 1 \\right)^{-\\frac{1}{12}} \\right] \\right] }\n",
    "    { 1000 \\left[ \\left( \\frac{TRUS1MT_{t-1}}{100} + 1 \\right)^{-\\frac{1}{12}} \\right]}\n",
    "$$\n",
    "\n",
    "where $t \\in \\mathbb{Z}$ and $ 1 \\le t \\ge T_{US\\_1MO\\_r\\_f}$. We define the (time) vector\n",
    "\n",
    "$\n",
    "\\mathbf{US\\_1MO\\_r\\_f} =\n",
    "$\n",
    "$\n",
    "\\left[ \\begin{matrix}\n",
    "    r_{{f_{SPX}},1} \\\\\n",
    "    r_{{f_{SPX}},2} \\\\\n",
    "    \\vdots\\\\\n",
    "    r_{{f_{SPX}},T_{US\\_1MO\\_r\\_f}}\n",
    "\\end{matrix} \\right]\n",
    "$\n",
    "\n",
    "$\\mathbf{US\\_1MO\\_r\\_f}$ is thus as defined in the cell bellow."
   ]
  },
  {
   "cell_type": "code",
   "execution_count": 109,
   "metadata": {},
   "outputs": [],
   "source": [
    "US_1MO_r_f = ((((((TRUS1MT_raw/100)+1)^(-1/12))*1000) -\n",
    "               ((((lag(TRUS1MT_raw)/100)+1)^(-1/12))*1000)) /\n",
    "              ((((lag(TRUS1MT_raw)/100)+1)^(-(1/12)))*1000))\n",
    "US_1MO_r_f_zoo = zoo(US_1MO_r_f) # Calculations and manipulations of ' US_1MO_r_f ' nessesitate it to be a 'zoo' R variable.\n",
    "colnames(US_1MO_r_f_zoo) = \"US_1MO_r_f\""
   ]
  },
  {
   "cell_type": "markdown",
   "metadata": {},
   "source": [
    "If you are havving issues with vector lengths, try running the cell above replacing ' lag ' with ' stats::lag '"
   ]
  },
  {
   "cell_type": "markdown",
   "metadata": {},
   "source": [
    "Let's have a look at what our latest data input looks like:"
   ]
  },
  {
   "cell_type": "code",
   "execution_count": 110,
   "metadata": {},
   "outputs": [
    {
     "data": {
      "text/html": [
       "<table>\n",
       "<caption>A data.table: 1 × 2</caption>\n",
       "<thead>\n",
       "\t<tr><th scope=col>Type</th><th scope=col>Dimension</th></tr>\n",
       "\t<tr><th scope=col>&lt;chr&gt;</th><th scope=col>&lt;chr&gt;</th></tr>\n",
       "</thead>\n",
       "<tbody>\n",
       "\t<tr><td>double</td><td>4960, 1</td></tr>\n",
       "</tbody>\n",
       "</table>\n"
      ],
      "text/latex": [
       "A data.table: 1 × 2\n",
       "\\begin{tabular}{ll}\n",
       " Type & Dimension\\\\\n",
       " <chr> & <chr>\\\\\n",
       "\\hline\n",
       "\t double & 4960, 1\\\\\n",
       "\\end{tabular}\n"
      ],
      "text/markdown": [
       "\n",
       "A data.table: 1 × 2\n",
       "\n",
       "| Type &lt;chr&gt; | Dimension &lt;chr&gt; |\n",
       "|---|---|\n",
       "| double | 4960, 1 |\n",
       "\n"
      ],
      "text/plain": [
       "  Type   Dimension\n",
       "1 double 4960, 1  "
      ]
     },
     "metadata": {},
     "output_type": "display_data"
    }
   ],
   "source": [
    "Spec_Table(US_1MO_r_f_zoo)"
   ]
  },
  {
   "cell_type": "markdown",
   "metadata": {},
   "source": [
    "We will construct a referential Data-Frame, ' df ':"
   ]
  },
  {
   "cell_type": "code",
   "execution_count": 111,
   "metadata": {},
   "outputs": [],
   "source": [
    "df = na.omit(merge(x = df, y = US_1MO_r_f_zoo, all = TRUE))"
   ]
  },
  {
   "cell_type": "markdown",
   "metadata": {},
   "source": [
    "This is what a row of our Data-Frame looks like at the moment:"
   ]
  },
  {
   "cell_type": "code",
   "execution_count": 112,
   "metadata": {},
   "outputs": [
    {
     "name": "stdout",
     "output_type": "stream",
     "text": [
      "           S.PCOMP TRUS1MT TRUS3MT TRUS10T   US_1MO_r_f\n",
      "2006-04-05 1311.56    4.54   4.656   4.843 1.195636e-05\n"
     ]
    }
   ],
   "source": [
    "print(df[c(\"2006-04-05\"),])"
   ]
  },
  {
   "cell_type": "markdown",
   "metadata": {},
   "source": [
    "$$\\\\ $$\n",
    "### $R_t$ (and its lagged value, $R_{t-1}$)\n",
    "\n",
    "The SPX's index excess returns at time t are computed as per CPV, Pesaran and Timmermann (1995)\n",
    "and Chevapatrakul (2013) for each index such that:\n",
    "\n",
    "$$\\begin{equation}\n",
    "    R_{SPX, t} = \\frac{P_{SPX, t} - P_{SPX, t-1}}{P_{SPX, t-1}} - {r_{f_{SPX, t}}}\n",
    "\\end{equation}$$\n",
    "\n",
    "Note here that:\n",
    "\n",
    "- 1st: Due to the differencing nessesary to calculate 'R', the first value is empty. The following command displays this well:\n",
    "    \n",
    "    *as.matrix(((SPX_df-lag.xts(data.matrix(SPX_df)))/SPX_df)-US_1MO_r_f_r_f)*\n",
    "\n",
    "- 2nd: In order for the correct *SPX_R* values to be associated with the correct dates, the element *SPX_R* has to be changed into a 'zoo' element. This will allow future models to have data points with correct date labels. A vector element is left however, for libraries and functions that do not support them.\n",
    "\n",
    "We define the (time) vector\n",
    "\n",
    "$\\mathbf{SPX\\_R}\n",
    "=\n",
    "\\left[ \\begin{matrix}\n",
    "    R_{SPX, 1} \\\\\n",
    "    R_{SPX, 2} \\\\\n",
    "    \\vdots\\\\\n",
    "    R_{SPX, T_{SPX\\_R}}\n",
    "\\end{matrix} \\right]\n",
    "$\n",
    "\n",
    "where $t \\in \\mathbb{Z}$ and $ 1 \\le t \\ge T_{SPX\\_R}$. $\\mathbf{SPX\\_R}$ is thus as defined in the cell bellow."
   ]
  },
  {
   "cell_type": "code",
   "execution_count": 113,
   "metadata": {},
   "outputs": [],
   "source": [
    "SPX_R = as.matrix(((zoo(SPX_raw)-lag.xts(zoo(SPX_raw))) / lag.xts(zoo(SPX_raw))) - zoo(US_1MO_r_f))\n",
    "# the use of ' zoo() ' is a trick to make sure that only compatible data is manipulated.\n",
    "# This far in our article we wouldn't need it, but it is better to generalise for other senarios.\n",
    "colnames(SPX_R) = \"SPX_R\""
   ]
  },
  {
   "cell_type": "markdown",
   "metadata": {},
   "source": [
    "We will construct a referential Data-Frame, ' df ':"
   ]
  },
  {
   "cell_type": "code",
   "execution_count": 114,
   "metadata": {},
   "outputs": [],
   "source": [
    "df = na.omit(merge(x = df, y = zoo(SPX_R, as.Date(row.names(SPX_R))), all = TRUE))"
   ]
  },
  {
   "cell_type": "markdown",
   "metadata": {},
   "source": [
    "Let's have a look at what our latest data input looks like:"
   ]
  },
  {
   "cell_type": "code",
   "execution_count": 115,
   "metadata": {},
   "outputs": [
    {
     "data": {
      "text/html": [
       "<table>\n",
       "<caption>A data.table: 1 × 2</caption>\n",
       "<thead>\n",
       "\t<tr><th scope=col>Type</th><th scope=col>Dimension</th></tr>\n",
       "\t<tr><th scope=col>&lt;chr&gt;</th><th scope=col>&lt;chr&gt;</th></tr>\n",
       "</thead>\n",
       "<tbody>\n",
       "\t<tr><td>double</td><td>4960, 1</td></tr>\n",
       "</tbody>\n",
       "</table>\n"
      ],
      "text/latex": [
       "A data.table: 1 × 2\n",
       "\\begin{tabular}{ll}\n",
       " Type & Dimension\\\\\n",
       " <chr> & <chr>\\\\\n",
       "\\hline\n",
       "\t double & 4960, 1\\\\\n",
       "\\end{tabular}\n"
      ],
      "text/markdown": [
       "\n",
       "A data.table: 1 × 2\n",
       "\n",
       "| Type &lt;chr&gt; | Dimension &lt;chr&gt; |\n",
       "|---|---|\n",
       "| double | 4960, 1 |\n",
       "\n"
      ],
      "text/plain": [
       "  Type   Dimension\n",
       "1 double 4960, 1  "
      ]
     },
     "metadata": {},
     "output_type": "display_data"
    }
   ],
   "source": [
    "Spec_Table(SPX_R)"
   ]
  },
  {
   "cell_type": "markdown",
   "metadata": {},
   "source": [
    "Note that due to the use of a lagged variable ($t-1$), the 1st value of $\\mathbf{SPX\\_R}$ is empty"
   ]
  },
  {
   "cell_type": "markdown",
   "metadata": {},
   "source": [
    "$$ \\ $$\n",
    "### SPX's Realised Variance and Volatility\n",
    "\n",
    "As per Barndorff-Nielsen and Shephard (2002), Realised Volatility (Andersen, Bollerslev, Diebold, and Ebens (2001)) has been shown to be an accurate, useful and model-free representation of volatility in the literature. I therefore use it as a benchmark against which to assess volatility forecasts.\n",
    "\n",
    "The SPX close-prices ($P_{SPX}$) as well as their 5 minute subsampling Realised-Variances ($RVAR_{SPX}$ and $RV_{SPX}$) are Refinitiv data-sets compiled and collected from the [Realized Library of the Oxford-Man Institute](https://realized.oxford-man.ox.ac.uk/data). Realised Volatilities at time t are computed as\n",
    "\n",
    "$\n",
    "\\begin{equation}\n",
    "    {RV}_{SPX, t} = \\sqrt{{RVAR}_{SPX, t}}\n",
    "\\end{equation}\n",
    "$\n",
    "\n",
    "where\n",
    "\n",
    "$\n",
    "\\mathbf{SPX\\_RV} = \\left[ \\begin{matrix} {RV}_{SPX, 1}\\\\ {RV}_{SPX, 2}\\\\ \\vdots\\\\ {RV}_{SPX, T_{SPX\\_RV}} \\end{matrix} \\right] = \\left[ \\begin{matrix}\\sqrt{{RVAR}_{SPX, 1}}\\\\ \\sqrt{{RVAR}_{SPX, 2}}\\\\ \\vdots\\\\ \\sqrt{{RVAR}_{SPX, T_{SPX\\_RV}}} \\end{matrix} \\right]\n",
    "$\n",
    "\n",
    "and where $t \\in \\mathbb{Z}$ and $ 1 \\le t \\ge T_{SPX\\_RV}$.\n",
    "\n",
    "*Nota Bene* (*N.B.*): $\\sqrt{x} = x^{0.5}$ $\\forall x \\in \\mathbb{R}$ and that $\\mathbb{Z} \\subset \\mathbb{R}$"
   ]
  },
  {
   "cell_type": "code",
   "execution_count": 125,
   "metadata": {},
   "outputs": [],
   "source": [
    "current_directory = toString(getwd())"
   ]
  },
  {
   "cell_type": "code",
   "execution_count": 127,
   "metadata": {},
   "outputs": [],
   "source": [
    "# First we setup dates:\n",
    "SPX_Dates_df = read_excel(\n",
    "    toString(\n",
    "        paste(\n",
    "            current_directory,\n",
    "            \"/Data/1-Month_Treasury_Rate/1-Month_Treasury_Constant_Maturity_Rate_FRED_id_DGS1MO_2004.01.01_to_2019.03.13.xlsx\",\n",
    "            sep = \"\")),\n",
    "    sheet = \"Without_FRED_or_O-M_Holidays\",\n",
    "    range = \"A2:A3794\",\n",
    "    col_names = \"SPX_Dates\")\n",
    "SPX_Dates = as.Date(SPX_Dates_df$SPX_Dates,\"%Y-%m-%d\", tz=\"Europe/London\")\n",
    "\n",
    "# Then setup the Variance:\n",
    "SPX_RVar_df = read_excel(\n",
    "    toString(\n",
    "        paste(\n",
    "            current_directory,\n",
    "            \"Data/Realised Volatility/5min_realised_volatility_from_Oxford-Man.xlsx\",\n",
    "            sep = \"\")),\n",
    "    sheet = \"SPX2004-2019.03.1WithoutFREDHol\",\n",
    "    range = \"I2:I3794\",\n",
    "    col_names = \"SPX_RVar\")\n",
    "\n",
    "# Note that the Ox-Man institute provides real VARIANCE as per\n",
    "# https://realized.oxford-man.ox.ac.uk/documentation/estimators\n",
    "SPX_RV_df = (SPX_RVar_df^0.5)\n",
    "SPX_RV = as.matrix(SPX_RV_df)\n",
    "colnames(SPX_RV) = c('SPX_RV')\n",
    "SPX_RV_zoo = zoo(SPX_RV, as.Date(SPX_Dates))"
   ]
  },
  {
   "cell_type": "markdown",
   "metadata": {},
   "source": [
    "Let's have a look at what our latest data input looks like:"
   ]
  },
  {
   "cell_type": "code",
   "execution_count": 26,
   "metadata": {},
   "outputs": [
    {
     "data": {
      "text/html": [
       "<table>\n",
       "<caption>A data.table: 1 × 2</caption>\n",
       "<thead>\n",
       "\t<tr><th scope=col>Type</th><th scope=col>Dimension</th></tr>\n",
       "\t<tr><th scope=col>&lt;chr&gt;</th><th scope=col>&lt;chr&gt;</th></tr>\n",
       "</thead>\n",
       "<tbody>\n",
       "\t<tr><td>double</td><td>3793, 1</td></tr>\n",
       "</tbody>\n",
       "</table>\n"
      ],
      "text/latex": [
       "A data.table: 1 × 2\n",
       "\\begin{tabular}{ll}\n",
       " Type & Dimension\\\\\n",
       " <chr> & <chr>\\\\\n",
       "\\hline\n",
       "\t double & 3793, 1\\\\\n",
       "\\end{tabular}\n"
      ],
      "text/markdown": [
       "\n",
       "A data.table: 1 × 2\n",
       "\n",
       "| Type &lt;chr&gt; | Dimension &lt;chr&gt; |\n",
       "|---|---|\n",
       "| double | 3793, 1 |\n",
       "\n"
      ],
      "text/plain": [
       "  Type   Dimension\n",
       "1 double 3793, 1  "
      ]
     },
     "metadata": {},
     "output_type": "display_data"
    }
   ],
   "source": [
    "Spec_Table(SPX_RV)"
   ]
  },
  {
   "cell_type": "markdown",
   "metadata": {},
   "source": [
    "We will construct a referential Data-Frame, ' df ':"
   ]
  },
  {
   "cell_type": "code",
   "execution_count": 27,
   "metadata": {},
   "outputs": [],
   "source": [
    "df = na.omit(merge(x = df, y = SPX_RV_zoo, all = TRUE))"
   ]
  },
  {
   "cell_type": "markdown",
   "metadata": {},
   "source": [
    "This is what a row of our Data-Frame looks like at the moment:"
   ]
  },
  {
   "cell_type": "code",
   "execution_count": 28,
   "metadata": {},
   "outputs": [
    {
     "name": "stdout",
     "output_type": "stream",
     "text": [
      "           S.PCOMP TRUS1MT TRUS3MT TRUS10T   US_1MO_r_f       SPX_R      SPX_RV\n",
      "2006-04-05 1311.56    4.54   4.656   4.843 1.195636e-05 0.004299148 0.005001079\n"
     ]
    }
   ],
   "source": [
    "print(df[c(\"2006-04-05\"),])"
   ]
  },
  {
   "cell_type": "markdown",
   "metadata": {},
   "source": [
    "$$ \\\\ $$\n",
    "### Google's Search Vector Index (SVI)"
   ]
  },
  {
   "cell_type": "markdown",
   "metadata": {},
   "source": [
    "  Alphabet Inc.'s Google Trends tool provides the number of times a specified term was searched on their website - for specified world regions and time-periods - normalised from 0 to 100, forming the SVI. In this article, SVI was gathered as outlined in CPV's Appendix A, normalising all results such that the day the term was searched the most in the period of choice is valued as 100 and the least as 0.\n",
    "\n",
    "The worldwide searched term used as an SVI keyword here is \"s\\&p 500” - rendering $SVI_{SPX}$. This is in line with Vlastakis and Markellos (2012) and their study on the best terms to use in such investigations. They used several variations of the index term in addition to ones proposed by [Wordtracker](https://www.wordtracker.com/). ([Wordtracker](https://www.wordtracker.com/) offers Search Engine word search reports that include related search terms.) This study suggested picking the one with greatest search volume in the sample period. This is - naturally - in addition to picking no terms that may easily be misconstrued and have other meanings (*e.g.*: the listed company name 'Apple' which may also refer to the apple fruit).\n",
    "\n",
    "We denote\n",
    "$$\n",
    "\\Delta SVI_{SPX, t} = SVI_{SPX, t} - SVI_{SPX, t-1}\n",
    "$$\n",
    "where $t \\in \\mathbb{Z}$ denotes only trading days.\n",
    "\n",
    "For completeness, I repeated my work relaxing $SVI_{SPX, t-1}$'s time set to any day, not only trading days, while keeping $SVI_{SPX, t}$'s strictly to trading days to allow for situations where, *e.g.*, $t$ would denote a Monday and $t-1$ a Sunday. Equally, I repeated my work on all $SVI_{SPX}$ moving averages from 2 days to one week.\n",
    "\n",
    "All $SVI_{SPX}$ data represented Worldwide results."
   ]
  },
  {
   "cell_type": "markdown",
   "metadata": {},
   "source": [
    "We thus define \n",
    "\n",
    "$\n",
    "\\mathbf{SPX\\_dSVI} =$ $ \\left[ \\begin{matrix}\n",
    "     {\\Delta SVI}_{SPX, 1}\\\\\n",
    "     {\\Delta SVI}_{SPX, 1}\\\\\n",
    "     \\vdots\\\\\n",
    "     {\\Delta SVI}_{SPX, T_{SPX\\_dSVI}}\n",
    "\\end{matrix} \\right]\n",
    "$\n",
    "\n",
    "where $t \\in \\mathbb{Z}$ and $ 1 \\le t \\ge T_{SPX\\_dSVI}$ as per the bellow:"
   ]
  },
  {
   "cell_type": "markdown",
   "metadata": {},
   "source": [
    "- 1st: Gather $SVI_t$ data"
   ]
  },
  {
   "cell_type": "code",
   "execution_count": 29,
   "metadata": {},
   "outputs": [],
   "source": [
    "# The SVI Excel file tends to have empty values at its end.\n",
    "# The 'slice' function bellow will remove them.\n",
    "SPX_SVI_df = slice(\n",
    "    read_excel(\n",
    "        \"C:/Users/U6082174.TEN/OneDrive - Refinitiv/UoE/Disertation/Data/SVI/SVI_from_2004.01.01_to_2019.03.13_normalised_by_2018.02.06_Only_Trading_Days.xlsx\",\n",
    "        sheet = \"SVI_Without_O-M_Holidays\",\n",
    "        range = \"A1:B3802\",\n",
    "        col_names = c(\"Dates\", \"SPX_SVI\")),\n",
    "    1:length(SPX_Dates))\n",
    "SPX_SVI = as.matrix(SPX_SVI_df$SPX_SVI) # Convert the data frame 'SPX_SVI_df' into a matrix\n",
    "SPX_SVI_zoo = zoo(SPX_SVI, as.Date(SPX_SVI_df$Dates,\"%Y-%m-%d\", tz=\"Europe/London\"))\n",
    "colnames(SPX_SVI_zoo) = \"SPX_SVI\""
   ]
  },
  {
   "cell_type": "markdown",
   "metadata": {},
   "source": [
    "let's have a look at its characteristics:"
   ]
  },
  {
   "cell_type": "code",
   "execution_count": 30,
   "metadata": {},
   "outputs": [
    {
     "data": {
      "text/html": [
       "<table>\n",
       "<caption>A data.table: 1 × 2</caption>\n",
       "<thead>\n",
       "\t<tr><th scope=col>Type</th><th scope=col>Dimension</th></tr>\n",
       "\t<tr><th scope=col>&lt;chr&gt;</th><th scope=col>&lt;chr&gt;</th></tr>\n",
       "</thead>\n",
       "<tbody>\n",
       "\t<tr><td>double</td><td>3793, 1</td></tr>\n",
       "</tbody>\n",
       "</table>\n"
      ],
      "text/latex": [
       "A data.table: 1 × 2\n",
       "\\begin{tabular}{ll}\n",
       " Type & Dimension\\\\\n",
       " <chr> & <chr>\\\\\n",
       "\\hline\n",
       "\t double & 3793, 1\\\\\n",
       "\\end{tabular}\n"
      ],
      "text/markdown": [
       "\n",
       "A data.table: 1 × 2\n",
       "\n",
       "| Type &lt;chr&gt; | Dimension &lt;chr&gt; |\n",
       "|---|---|\n",
       "| double | 3793, 1 |\n",
       "\n"
      ],
      "text/plain": [
       "  Type   Dimension\n",
       "1 double 3793, 1  "
      ]
     },
     "metadata": {},
     "output_type": "display_data"
    }
   ],
   "source": [
    "Spec_Table(SPX_SVI_zoo)"
   ]
  },
  {
   "cell_type": "markdown",
   "metadata": {},
   "source": [
    "let's add this to our data-frame:"
   ]
  },
  {
   "cell_type": "code",
   "execution_count": 31,
   "metadata": {},
   "outputs": [],
   "source": [
    "df = na.omit(merge(x = df, y = SPX_SVI_zoo, all = TRUE))"
   ]
  },
  {
   "cell_type": "markdown",
   "metadata": {},
   "source": [
    "- 2nd: Now make $dSVI_t$ values"
   ]
  },
  {
   "cell_type": "code",
   "execution_count": 32,
   "metadata": {},
   "outputs": [],
   "source": [
    "# Construct Google's Search Vecrot Index (SVI).\n",
    "SPX_dSVI = zoo(SPX_SVI_zoo - lag.xts(data.matrix(SPX_SVI_zoo)))\n",
    "colnames(SPX_dSVI) = \"SPX_dSVI\""
   ]
  },
  {
   "cell_type": "code",
   "execution_count": 33,
   "metadata": {},
   "outputs": [
    {
     "data": {
      "text/html": [
       "<table>\n",
       "<caption>A data.table: 1 × 2</caption>\n",
       "<thead>\n",
       "\t<tr><th scope=col>Type</th><th scope=col>Dimension</th></tr>\n",
       "\t<tr><th scope=col>&lt;chr&gt;</th><th scope=col>&lt;chr&gt;</th></tr>\n",
       "</thead>\n",
       "<tbody>\n",
       "\t<tr><td>double</td><td>3793, 1</td></tr>\n",
       "</tbody>\n",
       "</table>\n"
      ],
      "text/latex": [
       "A data.table: 1 × 2\n",
       "\\begin{tabular}{ll}\n",
       " Type & Dimension\\\\\n",
       " <chr> & <chr>\\\\\n",
       "\\hline\n",
       "\t double & 3793, 1\\\\\n",
       "\\end{tabular}\n"
      ],
      "text/markdown": [
       "\n",
       "A data.table: 1 × 2\n",
       "\n",
       "| Type &lt;chr&gt; | Dimension &lt;chr&gt; |\n",
       "|---|---|\n",
       "| double | 3793, 1 |\n",
       "\n"
      ],
      "text/plain": [
       "  Type   Dimension\n",
       "1 double 3793, 1  "
      ]
     },
     "metadata": {},
     "output_type": "display_data"
    }
   ],
   "source": [
    "Spec_Table(SPX_dSVI)"
   ]
  },
  {
   "cell_type": "code",
   "execution_count": 34,
   "metadata": {},
   "outputs": [],
   "source": [
    "df = na.omit(merge(x = df, y = SPX_dSVI, all = TRUE))"
   ]
  },
  {
   "cell_type": "code",
   "execution_count": 35,
   "metadata": {
    "collapsed": true,
    "jupyter": {
     "outputs_hidden": true
    }
   },
   "outputs": [
    {
     "name": "stderr",
     "output_type": "stream",
     "text": [
      "Warning message:\n",
      "\"Calling `as_tibble()` on a vector is discouraged, because the behavior is likely to change in the future. Use `tibble::enframe(name = NULL)` instead.\n",
      "\u001b[90mThis warning is displayed once per session.\u001b[39m\"\n"
     ]
    }
   ],
   "source": [
    "SPX_R = zoo(as_tibble(df, rownames = NA) %>% select(SPX_R))"
   ]
  },
  {
   "cell_type": "code",
   "execution_count": 36,
   "metadata": {},
   "outputs": [
    {
     "data": {
      "text/html": [
       "<table>\n",
       "<caption>A data.table: 1 × 2</caption>\n",
       "<thead>\n",
       "\t<tr><th scope=col>Type</th><th scope=col>Dimension</th></tr>\n",
       "\t<tr><th scope=col>&lt;chr&gt;</th><th scope=col>&lt;chr&gt;</th></tr>\n",
       "</thead>\n",
       "<tbody>\n",
       "\t<tr><td>double</td><td>3792, 1</td></tr>\n",
       "</tbody>\n",
       "</table>\n"
      ],
      "text/latex": [
       "A data.table: 1 × 2\n",
       "\\begin{tabular}{ll}\n",
       " Type & Dimension\\\\\n",
       " <chr> & <chr>\\\\\n",
       "\\hline\n",
       "\t double & 3792, 1\\\\\n",
       "\\end{tabular}\n"
      ],
      "text/markdown": [
       "\n",
       "A data.table: 1 × 2\n",
       "\n",
       "| Type &lt;chr&gt; | Dimension &lt;chr&gt; |\n",
       "|---|---|\n",
       "| double | 3792, 1 |\n",
       "\n"
      ],
      "text/plain": [
       "  Type   Dimension\n",
       "1 double 3792, 1  "
      ]
     },
     "metadata": {},
     "output_type": "display_data"
    }
   ],
   "source": [
    "Spec_Table(SPX_R)"
   ]
  },
  {
   "cell_type": "markdown",
   "metadata": {},
   "source": [
    "Let's graph our SVI data:"
   ]
  },
  {
   "cell_type": "code",
   "execution_count": 37,
   "metadata": {},
   "outputs": [
    {
     "data": {
      "image/png": "[encoded data removed]",
      "text/plain": [
       "Plot with title \"Google's Search Vector Index for the searched term 's&p 500'\""
      ]
     },
     "metadata": {
      "image/png": {
       "height": 420,
       "width": 420
      },
      "text/plain": {
       "height": 420,
       "width": 420
      }
     },
     "output_type": "display_data"
    }
   ],
   "source": [
    "par(bg = \"grey30\", col.axis = \"white\", col.lab = \"white\", col.main = \"white\", col.sub = \"white\")\n",
    "plot(SPX_SVI_zoo, xlab = 'Date', ylab = \"SPX's SVI\", col = \"blue\", type = 'l',\n",
    "     main = \"Google's Search Vector Index for the searched term 's&p 500'\")"
   ]
  },
  {
   "cell_type": "markdown",
   "metadata": {},
   "source": [
    "One can identify several key dates at peaks inthe figure above. Interestingly, it shows three peaks that did not show in [CVP](https://www.economist.com/finance-and-economics/2018/02/08/bets-on-low-market-volatility-went-spectacularly-wrong) (06/02/2018 and 09/02/2018), the days following the (more than) doubling of the fear-gauge Chicago Board Options Exchange Volatility Index (Economist (8th of Febuary 2018)); and 26/12/2018, [when tensions between the U.S. Federal Bank Chair and the Government's President were revealed as impactful](https://www.zacks.com/stock/news/344571/stock-market-news-for-dec-26-2018).\n",
    "\n",
    "It is important to note several caveats with SVIs. First, SVI data has randomised elements so as to stop any individual form identifying any one particular person or group's internet searches.\n",
    "\n",
    "Second, we must not forget that while Google's implementation of [caffeine](https://www.searchenginejournal.com/google-algorithm-history/caffeine-update/) (Dave Davis (2017)) on 08/06/2010 may have distorted SVI data little enough for CPV's work in 2017/2018, it may also have accumulated by 13/03/2019, rendering this dataset less consistent from year to year. To circumvent such issues, one might consider using other metrics (such as Reuters News) or splitting the sample into two (pre and post caffeine implementation)."
   ]
  },
  {
   "cell_type": "markdown",
   "metadata": {},
   "source": [
    "$$ \\\\ $$\n",
    "## Descriptive Statistics of variables"
   ]
  },
  {
   "cell_type": "markdown",
   "metadata": {},
   "source": [
    "### Probability Distribution Function Plots"
   ]
  },
  {
   "cell_type": "code",
   "execution_count": 38,
   "metadata": {},
   "outputs": [
    {
     "data": {
      "image/png": "[encoded data removed]",
      "text/plain": [
       "Plot with title \"Probability Distribution Function Plots\""
      ]
     },
     "metadata": {
      "image/png": {
       "height": 420,
       "width": 420
      },
      "text/plain": {
       "height": 420,
       "width": 420
      }
     },
     "output_type": "display_data"
    }
   ],
   "source": [
    "par(bg = \"grey30\", col.axis = \"white\", col.lab = \"white\", col.main = \"white\", col.sub = \"white\")\n",
    "epdfPlot(as.numeric(SPX_R), main = \"\", xlab = \"\", epdf.col = \"orange2\")\n",
    "pdfPlot(param.list = list(mean=0, sd = sd(na.omit(SPX_R))), add = TRUE, pdf.col = \"blue\")\n",
    "pdfPlot(add = TRUE, pdf.col = \"green4\")\n",
    "legend(\"topright\", legend = c(\"EPDF plot of Excess SPX Returns\", \"N[0,Var(Excess SPX Returns)]\", \"N(0,1)\"),\n",
    "       col = c(\"orange2\", \"blue\", \"green4\"), text.col = c(\"white\"), lwd = 2 * par(\"cex\"))\n",
    "title(\"Probability Distribution Function Plots\")"
   ]
  },
  {
   "cell_type": "markdown",
   "metadata": {},
   "source": [
    "This PDF graph allows us to discern SPX_R's leptokurtoticity as anticipated by SFFR (i). One may also note the skewness that allows for the application of CDMTT's work."
   ]
  },
  {
   "cell_type": "markdown",
   "metadata": {},
   "source": [
    "$$ \\\\ $$\n",
    "### Statistics"
   ]
  },
  {
   "cell_type": "code",
   "execution_count": 39,
   "metadata": {},
   "outputs": [
    {
     "data": {
      "text/html": [
       "<table>\n",
       "<caption>A data.table: 5 × 9</caption>\n",
       "<thead>\n",
       "\t<tr><th scope=col>Data_Set</th><th scope=col>Mean</th><th scope=col>Mean_of_Absolute_Values</th><th scope=col>Standard_Deviation</th><th scope=col>Median</th><th scope=col>Skewness</th><th scope=col>Kurtosis</th><th scope=col>ACF_lag_0</th><th scope=col>ACF_lag_1</th></tr>\n",
       "\t<tr><th scope=col>&lt;chr&gt;</th><th scope=col>&lt;dbl&gt;</th><th scope=col>&lt;dbl&gt;</th><th scope=col>&lt;dbl&gt;</th><th scope=col>&lt;dbl&gt;</th><th scope=col>&lt;dbl&gt;</th><th scope=col>&lt;dbl&gt;</th><th scope=col>&lt;dbl&gt;</th><th scope=col>&lt;dbl&gt;</th></tr>\n",
       "</thead>\n",
       "<tbody>\n",
       "\t<tr><td>US_1MO_r_f_zoo</td><td>5.797888e-07</td><td>2.085725e-05</td><td>5.064683e-05</td><td>0.000000e+00</td><td>-0.8774263</td><td>77.86414</td><td>1</td><td> 0.02188150</td></tr>\n",
       "\t<tr><td>SPX_R         </td><td>2.827717e-04</td><td>7.347506e-03</td><td>1.138390e-02</td><td>6.618012e-04</td><td>-0.4009613</td><td>10.33001</td><td>1</td><td>-0.09659269</td></tr>\n",
       "\t<tr><td>SPX_RV        </td><td>7.907957e-03</td><td>7.907957e-03</td><td>6.101960e-03</td><td>6.119621e-03</td><td> 3.6538825</td><td>22.38065</td><td>1</td><td> 0.82340884</td></tr>\n",
       "\t<tr><td>SPX_SVI       </td><td>1.184630e+01</td><td>1.184630e+01</td><td>7.164055e+00</td><td>1.000000e+01</td><td> 3.1354058</td><td>18.81460</td><td>1</td><td> 0.86890496</td></tr>\n",
       "\t<tr><td>SPX_dSVI      </td><td>3.428270e-03</td><td>2.133175e+00</td><td>3.660369e+00</td><td>0.000000e+00</td><td> 0.6474908</td><td>64.14817</td><td>1</td><td>-0.32774311</td></tr>\n",
       "</tbody>\n",
       "</table>\n"
      ],
      "text/latex": [
       "A data.table: 5 × 9\n",
       "\\begin{tabular}{lllllllll}\n",
       " Data\\_Set & Mean & Mean\\_of\\_Absolute\\_Values & Standard\\_Deviation & Median & Skewness & Kurtosis & ACF\\_lag\\_0 & ACF\\_lag\\_1\\\\\n",
       " <chr> & <dbl> & <dbl> & <dbl> & <dbl> & <dbl> & <dbl> & <dbl> & <dbl>\\\\\n",
       "\\hline\n",
       "\t US\\_1MO\\_r\\_f\\_zoo & 5.797888e-07 & 2.085725e-05 & 5.064683e-05 & 0.000000e+00 & -0.8774263 & 77.86414 & 1 &  0.02188150\\\\\n",
       "\t SPX\\_R          & 2.827717e-04 & 7.347506e-03 & 1.138390e-02 & 6.618012e-04 & -0.4009613 & 10.33001 & 1 & -0.09659269\\\\\n",
       "\t SPX\\_RV         & 7.907957e-03 & 7.907957e-03 & 6.101960e-03 & 6.119621e-03 &  3.6538825 & 22.38065 & 1 &  0.82340884\\\\\n",
       "\t SPX\\_SVI        & 1.184630e+01 & 1.184630e+01 & 7.164055e+00 & 1.000000e+01 &  3.1354058 & 18.81460 & 1 &  0.86890496\\\\\n",
       "\t SPX\\_dSVI       & 3.428270e-03 & 2.133175e+00 & 3.660369e+00 & 0.000000e+00 &  0.6474908 & 64.14817 & 1 & -0.32774311\\\\\n",
       "\\end{tabular}\n"
      ],
      "text/markdown": [
       "\n",
       "A data.table: 5 × 9\n",
       "\n",
       "| Data_Set &lt;chr&gt; | Mean &lt;dbl&gt; | Mean_of_Absolute_Values &lt;dbl&gt; | Standard_Deviation &lt;dbl&gt; | Median &lt;dbl&gt; | Skewness &lt;dbl&gt; | Kurtosis &lt;dbl&gt; | ACF_lag_0 &lt;dbl&gt; | ACF_lag_1 &lt;dbl&gt; |\n",
       "|---|---|---|---|---|---|---|---|---|\n",
       "| US_1MO_r_f_zoo | 5.797888e-07 | 2.085725e-05 | 5.064683e-05 | 0.000000e+00 | -0.8774263 | 77.86414 | 1 |  0.02188150 |\n",
       "| SPX_R          | 2.827717e-04 | 7.347506e-03 | 1.138390e-02 | 6.618012e-04 | -0.4009613 | 10.33001 | 1 | -0.09659269 |\n",
       "| SPX_RV         | 7.907957e-03 | 7.907957e-03 | 6.101960e-03 | 6.119621e-03 |  3.6538825 | 22.38065 | 1 |  0.82340884 |\n",
       "| SPX_SVI        | 1.184630e+01 | 1.184630e+01 | 7.164055e+00 | 1.000000e+01 |  3.1354058 | 18.81460 | 1 |  0.86890496 |\n",
       "| SPX_dSVI       | 3.428270e-03 | 2.133175e+00 | 3.660369e+00 | 0.000000e+00 |  0.6474908 | 64.14817 | 1 | -0.32774311 |\n",
       "\n"
      ],
      "text/plain": [
       "  Data_Set       Mean         Mean_of_Absolute_Values Standard_Deviation\n",
       "1 US_1MO_r_f_zoo 5.797888e-07 2.085725e-05            5.064683e-05      \n",
       "2 SPX_R          2.827717e-04 7.347506e-03            1.138390e-02      \n",
       "3 SPX_RV         7.907957e-03 7.907957e-03            6.101960e-03      \n",
       "4 SPX_SVI        1.184630e+01 1.184630e+01            7.164055e+00      \n",
       "5 SPX_dSVI       3.428270e-03 2.133175e+00            3.660369e+00      \n",
       "  Median       Skewness   Kurtosis ACF_lag_0 ACF_lag_1  \n",
       "1 0.000000e+00 -0.8774263 77.86414 1          0.02188150\n",
       "2 6.618012e-04 -0.4009613 10.33001 1         -0.09659269\n",
       "3 6.119621e-03  3.6538825 22.38065 1          0.82340884\n",
       "4 1.000000e+01  3.1354058 18.81460 1          0.86890496\n",
       "5 0.000000e+00  0.6474908 64.14817 1         -0.32774311"
      ]
     },
     "metadata": {},
     "output_type": "display_data"
    }
   ],
   "source": [
    "rbind(Statistics_Table(\"US_1MO_r_f_zoo\", na.omit(US_1MO_r_f_zoo)),\n",
    "      Statistics_Table(\"SPX_R\", na.omit(SPX_R)),\n",
    "      Statistics_Table(\"SPX_RV\", SPX_RV_zoo),\n",
    "      Statistics_Table(\"SPX_SVI\", SPX_SVI), # Note that SVIFTSE_zoo's Mean is the same as 'mean(SPX_dSVI_zoo)'; after much study on the matter, it seems as though this mean and other statistics are correct, which only highlights how different seperate SVI draws can be.\n",
    "      Statistics_Table(\"SPX_dSVI\", na.omit(SPX_dSVI)))"
   ]
  },
  {
   "cell_type": "markdown",
   "metadata": {},
   "source": [
    "This statistics table allows us to discern SPX_R's leptokurtoticity again - as anticipated by SFFR (i). One may also note the skewness that allows for the application of CDMTT's work - yet again.\n",
    "\n",
    "dSVI's ACFs also provide us with evidence that they are stationary. The concept of stationaity and its nessesity is explained in Part 2. For more on the necessity of stationary variables in research such as this one, see Verbeek (2008) Chapters 8 to 10."
   ]
  },
  {
   "cell_type": "markdown",
   "metadata": {},
   "source": [
    "Bellow, we perform an Augmented Dickey-Fuller Test:"
   ]
  },
  {
   "cell_type": "code",
   "execution_count": 40,
   "metadata": {},
   "outputs": [
    {
     "name": "stdout",
     "output_type": "stream",
     "text": [
      "[1] \"Augmented Dickey-Fuller Test of SPX's SVI\"\n",
      "Augmented Dickey-Fuller Test \n",
      "alternative: stationary \n",
      " \n",
      "Type 1: no drift no trend \n",
      "      lag   ADF p.value\n",
      " [1,]   0 -8.13  0.0100\n",
      " [2,]   1 -5.76  0.0100\n",
      " [3,]   2 -4.55  0.0100\n",
      " [4,]   3 -3.92  0.0100\n",
      " [5,]   4 -3.69  0.0100\n",
      " [6,]   5 -3.33  0.0100\n",
      " [7,]   6 -3.05  0.0100\n",
      " [8,]   7 -2.69  0.0100\n",
      " [9,]   8 -2.41  0.0172\n",
      "Type 2: with drift no trend \n",
      "      lag    ADF p.value\n",
      " [1,]   0 -16.20    0.01\n",
      " [2,]   1 -11.69    0.01\n",
      " [3,]   2  -9.32    0.01\n",
      " [4,]   3  -8.16    0.01\n",
      " [5,]   4  -7.75    0.01\n",
      " [6,]   5  -7.13    0.01\n",
      " [7,]   6  -6.62    0.01\n",
      " [8,]   7  -5.97    0.01\n",
      " [9,]   8  -5.39    0.01\n",
      "Type 3: with drift and trend \n",
      "      lag    ADF p.value\n",
      " [1,]   0 -19.65    0.01\n",
      " [2,]   1 -14.38    0.01\n",
      " [3,]   2 -11.64    0.01\n",
      " [4,]   3 -10.26    0.01\n",
      " [5,]   4  -9.81    0.01\n",
      " [6,]   5  -9.05    0.01\n",
      " [7,]   6  -8.46    0.01\n",
      " [8,]   7  -7.67    0.01\n",
      " [9,]   8  -7.02    0.01\n",
      "---- \n",
      "Note: in fact, p.value = 0.01 means p.value <= 0.01 \n"
     ]
    }
   ],
   "source": [
    "print(\"Augmented Dickey-Fuller Test of SPX's SVI\")\n",
    "adf.test(matrix(SPX_SVI), nlag = NULL, output = TRUE) # Our ADF test here should show that we reject the Null Hypothesis (low p-value) in preference for the alternative of stationarity. One can see that dSVIFTSE_zoo is stationary by ploting it with:"
   ]
  },
  {
   "cell_type": "markdown",
   "metadata": {},
   "source": [
    "SVI's Augmented Dickey-Fuller (ADF) (Dickey and Fuller (1979)) tests indicate a rejection of the null in preference for the alternative of stationarity at the 99% Confidence Level (CL)."
   ]
  },
  {
   "cell_type": "markdown",
   "metadata": {},
   "source": [
    "Bellow we perform a KPSS test:"
   ]
  },
  {
   "cell_type": "code",
   "execution_count": 41,
   "metadata": {},
   "outputs": [
    {
     "name": "stdout",
     "output_type": "stream",
     "text": [
      "[1] \"KPSS Test of SPX_SVI_zoo\"\n",
      "KPSS Unit Root Test \n",
      "alternative: nonstationary \n",
      " \n",
      "Type 1: no drift no trend \n",
      " lag stat p.value\n",
      "  14 27.2    0.01\n",
      "----- \n",
      " Type 2: with drift no trend \n",
      " lag stat p.value\n",
      "  14 9.41    0.01\n",
      "----- \n",
      " Type 1: with drift and trend \n",
      " lag stat p.value\n",
      "  14 3.26    0.01\n",
      "----------- \n",
      "Note: p.value = 0.01 means p.value <= 0.01 \n",
      "    : p.value = 0.10 means p.value >= 0.10 \n"
     ]
    }
   ],
   "source": [
    "print(\"KPSS Test of SPX_SVI_zoo\")\n",
    "kpss.test(matrix(SPX_SVI_zoo))"
   ]
  },
  {
   "cell_type": "markdown",
   "metadata": {},
   "source": [
    "The KPSS (Kwiatkowski–Phillips–Schmidt–Shin) tests are used for testing a null hypothesis that an observable time series is stationary around a deterministic trend against the alternative of a unit root. It similarly indicates that our SVI dataset is stationary."
   ]
  },
  {
   "cell_type": "markdown",
   "metadata": {},
   "source": [
    "As per the outlined methods, we will use the 1st difference in SVI in our models. If SVI is stationary, then dSVI is too, making it compatible with our work."
   ]
  },
  {
   "cell_type": "markdown",
   "metadata": {},
   "source": [
    "$$ \\\\ $$\n",
    "Saving our data this far to help with de-bugging if needed: (It start with p4 as I ran debugging sessions 4 times by this point; I would advise anyone doing such a study necessitating a large amount of data computation to regularly save data progression in files using a logical naming procedure)"
   ]
  },
  {
   "cell_type": "code",
   "execution_count": 42,
   "metadata": {},
   "outputs": [],
   "source": [
    "save.image(file = \"IDaSRP_work_space_p4.00.01.RData\")\n",
    "# To restore your workspace, type this:\n",
    "# load(\"IDaSRP_work_space_p4.00.01.RData\")"
   ]
  },
  {
   "cell_type": "markdown",
   "metadata": {},
   "source": [
    "$$ \\\\ $$\n",
    "# Part 2: Econometric Modelling of Non-Linear Variances"
   ]
  },
  {
   "cell_type": "markdown",
   "metadata": {},
   "source": [
    "## ARMA models"
   ]
  },
  {
   "cell_type": "markdown",
   "metadata": {},
   "source": [
    "An AutoRegressive Moving Average model of order $p$ and $q$ (ARMA($p,q$)) represents $y_t$ in terms of $p$ of its own lags and $q$ lags of a white noise process such that:\n",
    "\n",
    "$$\\begin{align}\n",
    "    y_t &= c + \\phi_1 y_{t-1} + \\phi_2 y_{t-2} + ... + \\phi_p y_{t-p} + \\epsilon_t + \\psi_1 \\epsilon_{t-1} + \\psi_2 \\epsilon_{t-2} + ... + \\psi_q \\epsilon_{t-q} \\\\\n",
    "    y_t &= c + \\left( \\sum_{i=1}^{p}\\phi_i y_{t-i} \\right)+ \\epsilon_t + \\left( \\sum_{j=1}^{q} \\psi_j \\epsilon_{t-j} \\right)  \\\\\n",
    "    y_t - \\left( \\sum_{i=1}^{p}\\phi_i y_{t-i} \\right) &= c + \\epsilon_t + \\sum_{j=1}^{q} \\psi_j \\epsilon_{t-j} \\\\\n",
    "    y_t - \\phi_1 y_{t-1} - \\phi_2 y_{t-2} - ... - \\phi_p y_{t-p} &= c + \\epsilon_t + \\psi_1 \\epsilon_{t-1} + \\psi_2 \\epsilon_{t-2} + ... + \\psi_q \\epsilon_{t-q} \\\\\n",
    "    y_t \\left( 1 - \\phi_1 L^1 - \\phi_2 L^2 - ... - \\phi_p L^{p} \\right) &= c + \\epsilon_t \\left( 1 + \\psi_1 L^1 + \\psi_2 L^2 + ... + \\psi_q L^{q} \\right) \\\\\n",
    "    \\label{eq:ARMApq} \\tag{1} y_t \\left( 1 - \\sum_{i=1}^{p}\\phi_i L^{i} \\right) &= c + \\epsilon_t \\left( 1 + \\sum_{j=1}^{q} \\psi_j L^{j} \\right)\n",
    "\\end{align}$$\n",
    "\n",
    "where $L$ is the Lag opperator such that $x_t L^i = x_{t-i} $ $ \\forall $  $ x, t, i \\in \\mathbb{R}$.\n",
    "\n",
    "\n",
    "It is important to note that due to the fact that we use $p$ autoregressive and $q$ moving average componants, we use $p$ lags of our dependent variable - $y$ - and $q$ lags of our error term - $\\epsilon$. This means that the first forecast produced by an ARMA($p,q$) model must use at least $max(p,q)$ lags and we thus loose these observations from our observation data-set.\n",
    "\\\n",
    "$\\textbf{Example:}$ Let $p = 2$ and $q = 3$, then\n",
    "\n",
    "$$\\begin{align}\n",
    "    y_t &= c + \\left( \\sum_{i=1}^{2}\\phi_i y_{t-i} \\right)+ \\epsilon_t + \\left( \\sum_{j=1}^{3} \\psi_j \\epsilon_{t-j} \\right) \\\\\n",
    "    y_t - \\left( \\sum_{i=1}^{2}\\phi_i y_{t-i} \\right) &= c + \\epsilon_t + \\sum_{j=1}^{3} \\psi_j \\epsilon_{t-j} \\\\\n",
    "    y_t - \\phi_1 y_{t-1} - \\phi_2 y_{t-2} &= c + \\epsilon_t + \\psi_1 \\epsilon_{t-1} + \\psi_2 \\epsilon_{t-2} + \\psi_q \\epsilon_{t-3} \\\\\n",
    "    y_t \\left( 1 - \\phi_1 L^1 - \\phi_2 L^2 \\right) &= c + \\epsilon_t \\left( 1 + \\psi_1 L^1 + \\psi_2 L^2 \\psi_q L^{3} \\right) \\\\\n",
    "    y_t \\left( 1 - \\sum_{i=1}^{2}\\phi_i L^{i} \\right) &= c + \\epsilon_t \\left( 1 - \\sum_{j=1}^{3} \\psi_j L^{j} \\right)\n",
    "\\end{align}$$\n",
    "\n",
    "\n",
    "### ARMA models' Stationarity\n",
    "\n",
    "Now we can see that \\eqref{eq:ARMApq} can be re-written such that\n",
    "\n",
    "$$\\begin{align}\n",
    "    y_t \\left( 1 - \\sum_{i=1}^{p}\\phi_i L^{i} \\right) &= c + \\epsilon_t \\left( 1 + \\sum_{j=1}^{q} \\psi_j L^{j} \\right) \\\\\n",
    "    y_t \\Phi_p(L) &= c + \\epsilon_t \\Psi_q(L)\n",
    "\\end{align}$$\n",
    "\n",
    "where the AR (AutoRegressive) component of our model is encapsulated in $\\Phi_p(z) \\equiv (1 - \\sum_{i=1}^{p}\\phi_i z^{i})$ and the MA (Moving Average)'s in $\\Psi_q(z) \\equiv (1 + \\sum_{j=1}^{q} \\psi_j z^{j})$  $\\forall p,q,z \\in \\mathbb{R}$. From there, we can see that\n",
    "\n",
    "$$\\begin{align}\n",
    "    y_t &= \\frac{c + \\epsilon_t \\Psi_q(L)}{\\Phi_p(L)} \\\\\n",
    "    y_t &= \\frac{c}{\\Phi_p(L)} + \\frac{\\epsilon_t \\Psi_q(L)}{\\Phi_p(L)}\n",
    "\\end{align}$$\n",
    "\n",
    "$c$ is just an arbitrary constant, so we can use an arbitrary $c_{_{\\Psi}}$ for $\\frac{c}{\\Psi_q(L)}$ such that:\n",
    "\n",
    "$$\\begin{align}\n",
    "    y_t &= c_{_{\\Psi}} + \\epsilon_t \\frac{\\Psi_q(L)}{\\Phi_p(L)} \\\\\n",
    "    &= c_{_{\\Psi}} + \\epsilon_t \\Psi_q(L) \\frac{1}{\\Phi_p(L)} \\\\\n",
    "    &= c_{_{\\Psi}} + \\epsilon_t \\Psi_q(L) \\frac{1}{1 - \\phi_1 L^1 - \\phi_2 L^2 - ... - \\phi_p L^p}\n",
    "\\end{align}$$"
   ]
  },
  {
   "cell_type": "markdown",
   "metadata": {},
   "source": [
    "$\\\\ $\n",
    "\n",
    "#### N.B.: Taylor's expansion\n",
    "\n",
    "By Tylor's expansion, $\\frac{1}{1 - x} = \\sum_{n=0}^{∞}{x^n}$, thus $\\frac{1}{1 - x} \\rightarrow ∞ \\text{ if } \\begin{Bmatrix} x > 1 & \\text{if } x \\in \\mathbb{R} \\\\ x \\text{ lies outside the unit circle } & \\text{if } x \\in \\mathbb{Z} \\end{Bmatrix}$.\n",
    "\n",
    "$\\textbf{Example 1:}$ The last equality only applies thanks to Taylor's expansion:\n",
    "$$\\begin{equation}\n",
    "    \\frac{1}{\\Phi_1(L)} = \\frac{1}{1 - \\phi_1 L^1} = \\sum_{n=0}^{∞}{(\\phi_1 L)^n}\n",
    "\\end{equation}$$\n",
    "\n",
    "$\\textbf{Example 2:}$ The last equality only applies thanks to Taylor's expansion:\n",
    "$$\\begin{equation}\n",
    "    \\frac{1}{\\Phi_p(L)} = \\frac{1}{1 - \\phi_1 L^1 - \\phi_2 L^2 - ... - \\phi_p L^p} = \\frac{1}{1 - (\\phi_1 L^1 + \\phi_2 L^2 + ... + \\phi_p L^p)} = \\sum_{n=0}^{∞}{(\\phi_1 L^1 + \\phi_2 L^2 + ... + \\phi_p L^p)^n}\n",
    "\\end{equation}$$\n",
    "similarly to how\n",
    "$$\\begin{equation}\n",
    "    \\frac{1}{\\Phi_p(L)} = \\frac{1}{1 - \\sum_{i=1}^{p}\\phi_i L^{i}} = \\sum_{n=0}^{∞}{\\left(\\sum_{i=1}^{p}\\phi_i L^{i} \\right)^n}\n",
    "\\end{equation}$$\n",
    "\n",
    "Thus, $\\forall (\\sum_{i=1}^{p}\\phi_i L^{i})$ lying outside the unit circle, we end up with $\\frac{1}{\\Phi_p(L)} \\rightarrow ∞$; *i.e.*:"
   ]
  },
  {
   "cell_type": "markdown",
   "metadata": {},
   "source": [
    "$ \\\\ $\n",
    "\n",
    "<ins> An AR process is called **stationary** if the roots of its equation $ \\Phi_p(z)$ ( denoted with a star: $z^*$ ) lie outside the unit circle </ins>\n",
    "\n",
    "\n",
    "In practice, an ARMA($p$, $q$) model (${y_t \\Phi_p(L) = c + \\epsilon_t \\Psi_q(L)}$) is stationary if its AR part ($\\Phi_p(L)$) is stationary, which itself only occurs if its roots lie outside the unit circle (i.e.: ${|z^*| > 1}$). More explicitly, for $\\Phi_p(z)$:\n",
    "\n",
    "$$\\begin{align}\n",
    "    \\Phi_p(z) &= 0 \\\\\n",
    "    1 - (\\phi_1 z^1 + \\phi_2 z^2 + ... + \\phi_p z^p) &= 0 \\\\\n",
    "    \\label{eq:roots}\\phi_1 z^1 + \\phi_2 z^2 + ... + \\phi_p z^p &= 1 \\tag{2}\n",
    "\\end{align}$$\n",
    "\n",
    "The z value abiding by \\eqref{eq:roots} are its roots, ${|z^*|}$, and there often are more than one. As long as they are all greater than one, then the process is stationary.\n",
    "\n",
    "$\\textbf{Example:}$ For AR(1) processes, (i.e.: when $p = 1$)\n",
    "$$\\begin{align}\n",
    "    \\Phi_1(z) &= 0 \\\\\n",
    "    1 - \\phi_1 z^1 &= 0 \\\\\n",
    "    \\phi_1 z &= 1 \\\\\n",
    "    z &= \\frac{1}{\\phi_1} \\\\\n",
    "\\end{align}$$\n",
    "\\\n",
    "Then the modulus is simply the absolute value; and so ${|z^*| > 1}$ if ${\\phi_1 < 1}$, by extention: when $\\sum_{i=1}^{p}\\phi_i L^{i}$ is lying inside the unit circle, $\\frac{1}{\\Phi_p(L)}$ is finite (or, with notational abuse: $\\frac{1}{\\Phi_p(L)} < ∞$)."
   ]
  },
  {
   "cell_type": "markdown",
   "metadata": {},
   "source": [
    "$$ \\ $$\n",
    "### Generic ARMA(p,q) model Estimation"
   ]
  },
  {
   "cell_type": "markdown",
   "metadata": {},
   "source": [
    "#### Method of parameter estimation\n",
    "\n",
    "In this study, we will use the Maximum Likelihood method of estimation of our unknown parameters.\n",
    "\n",
    "The log likelihood function of independantly and identically distributed $y$ variables is defined as $L_T(\\Theta) \\equiv \\prod_{t=1}^T{f(y_t|y_{1}, y_{2}, ... , y_{t}; \\Theta)}.$ It is often normalised (without loss of information or generalisation) by $T$ such that $L_T(\\Theta) \\equiv \\frac{1}{T} \\prod_{t=1}^T{f(y_t|y_{1}, y_{2}, ... , y_{t}; \\Theta)}.$"
   ]
  },
  {
   "cell_type": "markdown",
   "metadata": {},
   "source": [
    "#### Likelyhood function with normally, identically and independently distributed independent-variables and only with known parameters $\\Theta = $[${\\mu, \\sigma^2}$]\n",
    "\n",
    "Asumming independently and normaly distributed independent variables {$y_t$}$^T_1$, i.e.: assuming that ${y_t \\stackrel{iid}{\\sim} N \\left( \\mu, \\sigma^2 \\right)}$, then - with known parameters $\\Theta = $[${\\mu, \\sigma^2}$]:"
   ]
  },
  {
   "cell_type": "markdown",
   "metadata": {},
   "source": [
    "$$\\begin{array}{ll}\n",
    "    f(y_t;\\Theta) = \\frac{1}{\\sqrt[2]{2 \\pi \\sigma^2}} exp \\left[ -\\frac{(y_t - \\mu)^2}{2 \\sigma^2} \\right]\n",
    "        &\n",
    "        & \\text{where $exp[\\cdot] \\equiv e^{[\\cdot]}$, since ${y_t \\sim N(\\mu, \\sigma^2)}$}, \\\\\n",
    "    \\prod_{t=1}^T{f(y_t|y_1;\\Theta)} = \\prod_{t=1}^T{f(y_t|y_{t-1}, y_{t-2}, ... , y_{1}; \\Theta) } = \\prod_{t=1}^T{\\frac{1}{\\sqrt[2]{2 \\pi \\sigma^2}} exp \\left[ -\\frac{(y_t - \\mu)^2}{2 \\sigma^2} \\right]}\n",
    "        &\n",
    "        & \\text{due to the independance in $y_t$'s distributions ${ \\left( \\text{i.e.: }  y_t \\stackrel{\\textbf{iid}}{\\sim} N(\\mu, \\sigma^2) \\right) }$,} \\\\\n",
    "    L_T(\\Theta) = \\prod_{t=1}^T{\\frac{1}{\\sqrt[2]{2 \\pi \\sigma^2}} exp \\left[ -\\frac{(y_t - \\mu)^2}{2 \\sigma^2} \\right]}\n",
    "        &\n",
    "        & \\text{since the likelihood function is } L_T(\\Theta) \\equiv \\prod_{t=1}^T{f(y_t|y_{1}, y_{2}, ... , y_{t}; \\Theta)}.\n",
    "\\end{array}$$"
   ]
  },
  {
   "cell_type": "markdown",
   "metadata": {},
   "source": [
    "Then, we define the log-likelihood functin as ${ln[ L_T(\\Theta) ]}$ such that:\n",
    "$$\\begin{align}\n",
    "    ln[ L_T(\\Theta) ] \\equiv ln[ f(y_T|y_{T-1}, y_{T-2}, ... , y_{1}; \\Theta) ] &= ln \\left( \\prod_{t=1}^T{\\frac{1}{\\sqrt[2]{2 \\pi \\sigma^2}} exp \\left[ -\\frac{(y_t - \\mu)^2}{2 \\sigma^2} \\right]} \\right) \\\\\n",
    "    &= ln \\left[ \\prod_{t=1}^T{f(y_t;\\Theta)} \\right] \\\\\n",
    "    &= \\sum_{t=1}^T{ln [ f(y_t;\\Theta) ] } \\\\\n",
    "\\end{align}$$\n",
    "\n",
    "Without loss of generality, and to take an individualistic aproach - normalising by $T$, we can write\n",
    "\n",
    "$$\\begin{align}\n",
    "    ln[ L_T(\\Theta) ] &= \\frac{1}{T} \\sum_{t=1}^T{ln [ f(y_t;\\Theta) ] } \\\\\n",
    "    &= \\frac{1}{T} \\sum_{t=1}^T{ln \\left( \\frac{1}{\\sqrt[2]{2 \\pi \\sigma^2}} exp \\left[ -\\frac{(y_t - \\mu)^2}{2 \\sigma^2} \\right] \\right) } \\\\\n",
    "    &= \\frac{1}{T} \\sum_{t=1}^T{ln \\left( \\left[2 \\pi \\sigma^2 \\right]^{ - \\frac{1}{2}} exp \\left[ -\\frac{(y_t - \\mu)^2}{2 \\sigma^2} \\right] \\right) } \\\\\n",
    "    &= \\frac{1}{T} \\sum_{t=1}^T{ \\left[ - \\frac{1}{2} ln(2 \\pi) - \\frac{1}{2} ln \\left( \\sigma^2 \\right) - \\frac{(y_t - \\mu)^2}{2 \\sigma^2} \\right]} \\\\\n",
    "    &= - \\frac{1}{2} ln(2 \\pi) - \\frac{1}{2} ln \\left( \\sigma^2 \\right) - \\frac{1}{2 \\sigma^2 T} \\sum_{t=1}^T{ (y_t - \\mu)^2} \\\\\n",
    "\\end{align}$$"
   ]
  },
  {
   "cell_type": "markdown",
   "metadata": {},
   "source": [
    "$ \\\\ $\n",
    "#### With unknown parameters\n",
    "\n",
    "We may have situations where we do not know all the parameters in $\\Theta$ (which, as a reminder, previously was [${\\mu, \\sigma^2}$]). Then, we may estimate it as:\n",
    "\n",
    "$\n",
    "\\begin{equation}\n",
    "    { \\hat{\\Theta} = \\stackrel{\\Theta}{arg max} ln[L_T(\\Theta)]}.\n",
    "\\end{equation}\n",
    "$\n",
    "\n",
    "There, the notation $\\stackrel{x}{arg max} f(x)$ denotes 'the value of $x$ maximising the function $f(x)$', *i.e.*: $\\hat{\\Theta} = \\stackrel{\\Theta}{arg max}[f(\\Theta)]$ denotes 'the value of $\\Theta$ maximising the function $f(\\Theta)$'."
   ]
  },
  {
   "cell_type": "markdown",
   "metadata": {},
   "source": [
    "$ \\\\ $\n",
    "\n",
    "#### With normally, identically and independently distributed independent-variables and unknown ARMA parameters (i.e.: $\\Theta = $[${c, \\phi_1, ... , \\phi_p, \\psi_1, ... , \\psi_q, \\sigma^2}$])\n",
    "\n",
    "\n",
    "The assumption of 'normally, identically and independently distributed independent-variables' translates to: $ \\epsilon_t \\stackrel{\\textbf{iid}}{\\sim} N \\left( 0, \\sigma^2 \\right) $, which itself implies that $ \\epsilon_{t \\vert t-1} \\sim N \\left( 0, \\sigma^2 \\right) $\n",
    "\n",
    "\n",
    "We may define our (fixed but) unknown parameters as $\\Theta = \\left[ {c, \\phi_1, ... , \\phi_p, \\psi_1, ... , \\psi_q, \\sigma^2}\\right]$ and estimate them as $\\hat{\\Theta} = \\left[ {\\hat{c}, \\hat{\\phi_1}, ... , \\hat{\\phi_p}, \\hat{\\psi_1}, ... , \\hat{\\psi_q}, \\hat{\\sigma^2}} \\right]$:\n",
    "\n",
    "\n",
    "\n",
    "$$\\begin{array}{ll}\n",
    "    \\hat{\\Theta}\n",
    "    &\n",
    "    = \\stackrel{\\Theta}{arg max} ln[L_T(\\Theta)]\n",
    "    \\\\\n",
    "    &\n",
    "    = \\stackrel{\\Theta}{arg max}\n",
    "        \\left[\n",
    "                - \\frac{ln(2 \\pi)}{2} - \\frac{ln \\left( \\sigma^2 \\right)}{2} - \\frac{1}{2 \\sigma^2 T} \\sum_{t=1}^T{ (y_t - \\mu)^2}\n",
    "        \\right]\n",
    "    &\n",
    "    \\text{since } ln[L_T(\\Theta)] =\n",
    "        \\left[\n",
    "            - \\frac{ln(2 \\pi)}{2} - \\frac{ln \\left( \\sigma^2 \\right)}{2} - \\frac{1}{2 \\sigma^2 T} \\sum_{t=1}^T{ (y_t - \\mu)^2}\n",
    "        \\right]\n",
    "    \\\\\n",
    "    &\n",
    "    = \\stackrel{\\Theta}{arg max}\n",
    "        \\left[\n",
    "            - \\frac{ln(2 \\pi)}{2} - \\frac{ln \\left( \\sigma^2 \\right)}{2} - \\frac{1}{2 \\sigma^2 T} \\sum_{t=1}^T{ (y_t -\n",
    "                    \\mathbb{E} \\left( y_t \\vert y_{t-1} \\right)\n",
    "                )^2}\n",
    "        \\right]\n",
    "    & {\\text{since $\\mu = \\mathbb{E} \\left( y_t \\vert y_{t-1} \\right)$ and where $ \\vert $ is the standard notation for 'knowing'} \\\\ \\text{Here we only look at conditional Likelihood.}}\n",
    "    \\\\\n",
    "    &\n",
    "    = \\stackrel{\\Theta}{arg max}\n",
    "        \\left[\n",
    "            - \\frac{\n",
    "                ln(2 \\pi)}{2} - \\frac{ln \\left( \\sigma^2 \\right)}{2} - \\frac{1}{2 \\sigma^2 T} \\sum_{t=1}^T{\n",
    "                \\left(\n",
    "                        y_t - \\mathbb{E} \\left[\n",
    "                            c + \\left(\n",
    "                                \\sum_{i=1}^{p}\\phi_i y_{t-i}\n",
    "                                \\right) \\\\\n",
    "                            + \\epsilon_t + \\left(\n",
    "                                \\sum_{j=1}^{q} \\psi_j \\epsilon_{t-j}\n",
    "                            \\right)\n",
    "                        \\vert y_{t-1} \\right]\n",
    "                \\right)^2\n",
    "            }\n",
    "        \\right]\n",
    "    & \\text{since } y_t = c + \\left( \\sum_{i=1}^{p}\\phi_i y_{t-i} \\right)+ \\epsilon_t + \\left( \\sum_{j=1}^{q} \\psi_j \\epsilon_{t-j} \\right)\n",
    "    \\\\\n",
    "    &\n",
    "    = \\stackrel{\\Theta}{arg max}\n",
    "        \\left[\n",
    "            - \\frac{\n",
    "                ln(2 \\pi)}{2} - \\frac{ln \\left( \\sigma^2 \\right)}{2} - \\frac{1}{2 \\sigma^2 T} \\sum_{t=1}^T{\n",
    "                \\left(\n",
    "                        y_t - \\left[\n",
    "                            \\mathbb{E}(c \\vert y_{t-1} ) + \\left(\n",
    "                                \\sum_{i=1}^{p} \\mathbb{E}( \\phi_i y_{t-i} \\vert y_{t-1})\n",
    "                            \\right) \\\\ + \\mathbb{E}(\\epsilon_t \\vert y_{t-1} ) + \\left(\n",
    "                                \\sum_{j=1}^{q} \\mathbb{E} (\\psi_j \\epsilon_{t-j} \\vert y_{t-1} )\n",
    "                            \\right)\n",
    "                        \\right]\n",
    "                \\right)^2\n",
    "            }\n",
    "        \\right]\n",
    "    & \\text{since the Expectation of summs is the sum of Expectations}\n",
    "    \\\\\n",
    "    &\n",
    "    = \\stackrel{\\Theta}{arg max}\n",
    "        \\left[\n",
    "            - \\frac{\n",
    "                ln(2 \\pi)}{2} - \\frac{ln \\left( \\sigma^2 \\right)}{2} - \\frac{1}{2 \\sigma^2 T} \\sum_{t=1}^T{\n",
    "                \\left(\n",
    "                    y_t -  c + \\left(\n",
    "                        \\sum_{i=1}^{p}\\phi_i y_{t-i}\n",
    "                    \\right) \\\\\n",
    "                    + \\mathbb{E}(\\epsilon_t \\vert y_{t-1} ) + \\left(\n",
    "                        \\sum_{j=1}^{q} \\psi_j \\epsilon_{t-j}\n",
    "                    \\right)\n",
    "                \\right)^2\n",
    "            }\n",
    "        \\right]\n",
    "    & \\text{since only } \\epsilon_t \\text{ is random in } y_t \\text{ (knowing } y_{t-1}\\text{)}\n",
    "    \\\\\n",
    "    &\n",
    "    = \\stackrel{\\Theta}{arg max}\n",
    "        \\left[\n",
    "            - \\frac{\n",
    "                ln(2 \\pi)}{2} - \\frac{ln \\left( \\sigma^2 \\right)}{2} - \\frac{1}{2 \\sigma^2 T} \\sum_{t=1}^T{\n",
    "                \\left(\n",
    "                    y_t -  c + \\left(\n",
    "                        \\sum_{i=1}^{p}\\phi_i y_{t-i}\n",
    "                    \\right) \\\\\n",
    "                    + 0 + \\left(\n",
    "                        \\sum_{j=1}^{q} \\psi_j \\epsilon_{t-j}\n",
    "                    \\right)\n",
    "                \\right)^2\n",
    "            }\n",
    "        \\right]\n",
    "    & \\text{since } \\mathbb{E}(\\epsilon_t \\vert y_{t-1} ) = \\mathbb{E}(\\epsilon_{t \\vert t-1} ) = 0 \\text{, since } \\epsilon_t \\sim N \\left( 0, \\sigma^2 \\right)\n",
    "    \\\\\n",
    "    &\n",
    "    = \\stackrel{\\Theta}{arg max}\n",
    "        \\left[\n",
    "            - \\frac{\n",
    "                ln(2 \\pi)}{2} - \\frac{ln \\left( \\sigma^2 \\right)}{2} - \\frac{1}{2 \\sigma^2 T} \\sum_{t=1}^T{\n",
    "                \\left(\n",
    "                    c + \\left( \\sum_{i=1}^{p}\\phi_i y_{t-i} \\right)+ \\epsilon_t + \\left( \\sum_{j=1}^{q} \\psi_j \\epsilon_{t-j} \\right) \\\\ -  c + \\left(\n",
    "                        \\sum_{i=1}^{p}\\phi_i y_{t-i}\n",
    "                    \\right)\n",
    "                    + \\left(\n",
    "                        \\sum_{j=1}^{q} \\psi_j \\epsilon_{t-j}\n",
    "                    \\right)\n",
    "                \\right)^2\n",
    "            }\n",
    "        \\right]\n",
    "    & \\text{since } y_t = c + \\left( \\sum_{i=1}^{p}\\phi_i y_{t-i} \\right)+ \\epsilon_t + \\left( \\sum_{j=1}^{q} \\psi_j \\epsilon_{t-j} \\right)\n",
    "    \\\\\n",
    "    &\n",
    "    = \\stackrel{\\Theta}{arg max}\n",
    "        \\left[\n",
    "            - \\frac{\n",
    "                ln(2 \\pi)}{2} - \\frac{ln \\left( \\sigma^2 \\right)}{2} - \\frac{1}{2 \\sigma^2 T} \\sum_{t=1}^T{\\epsilon_t^2\n",
    "            }\n",
    "        \\right]\n",
    "    & \\text{rearanging}\n",
    "\\end{array}$$"
   ]
  },
  {
   "cell_type": "markdown",
   "metadata": {},
   "source": [
    "Thus:\n",
    "\n",
    "$$\n",
    "\\begin{array}{ll}\n",
    "\\hat{\\Theta} &= \\stackrel{\\Theta}{arg max}\n",
    "        \\left[\n",
    "            - \\frac{\n",
    "                ln(2 \\pi)}{2} - \\frac{ln \\left( \\sigma^2 \\right)}{2} - \\frac{1}{2 \\sigma^2 T} \\sum_{t=1}^T{ \\left(\n",
    "                    {\\left[ y_t - c - \\left( \\sum_{i=1}^{p}\\phi_i y_{t-i} \\right) - \\left( \\sum_{j=1}^{q} \\psi_j \\epsilon_{t-j} \\right) \\right]}^2\n",
    "                \\right)}\n",
    "        \\right] \\\\\n",
    "\\hat{\\Theta} &= \\stackrel{\\Theta}{arg max}\n",
    "        \\left[\n",
    "            - \\frac{\n",
    "                ln(2 \\pi)}{2} - \\frac{ln \\left( \\sigma^2 \\right)}{2} - \\frac{1}{2 \\sigma^2 T} \\sum_{t=1}^T{ \\left(\n",
    "                    \\left[ y_t - c - \\left( \\sum_{i=1}^{p}\\phi_i y_{t-i} \\right) - \\left( \\sum_{j=1}^{q} \\psi_j \\epsilon_{t-j} \\right) \\right]\n",
    "                    \\left[ y_t - c - \\left( \\sum_{i=1}^{p}\\phi_i y_{t-i} \\right) - \\left( \\sum_{j=1}^{q} \\psi_j \\epsilon_{t-j} \\right) \\right]\n",
    "                \\right)}\n",
    "        \\right] \\\\\n",
    "&= \\stackrel{\\Theta}{arg max}\n",
    "        \\left[\n",
    "            - \\frac{\n",
    "                ln(2 \\pi)}{2} - \\frac{ln \\left( \\sigma^2 \\right)}{2} - \\frac{1}{2 \\sigma^2 T} \\sum_{t=1}^T{ \\left[\n",
    "                {y_t}^2 - y_t c - y_t \\left( \\sum_{i=1}^{p}\\phi_i y_{t-i} \\right) - y_t \\left( \\sum_{j=1}^{q} \\psi_j \\epsilon_{t-j} \\right) \\\\\n",
    "                - c y_t + c^2 + c \\left( \\sum_{i=1}^{p}\\phi_i y_{t-i} \\right) + c \\left( \\sum_{j=1}^{q} \\psi_j \\epsilon_{t-j} \\right) \\\\\n",
    "                - \\left( \\sum_{i=1}^{p}\\phi_i y_{t-i} \\right) {y_t} + \\left( \\sum_{i=1}^{p}\\phi_i y_{t-i} \\right) c +  {\\left( \\sum_{i=1}^{p}\\phi_i y_{t-i} \\right)}^2 + \\left( \\sum_{i=1}^{p}\\phi_i y_{t-i} \\right) \\left( \\sum_{j=1}^{q} \\psi_j \\epsilon_{t-j} \\right) \\\\\n",
    "                - \\left( \\sum_{j=1}^{q} \\psi_j \\epsilon_{t-j} \\right) {y_t} + \\left( \\sum_{j=1}^{q} \\psi_j \\epsilon_{t-j} \\right) c + \\left( \\sum_{j=1}^{q} \\psi_j \\epsilon_{t-j} \\right) \\left( \\sum_{i=1}^{p}\\phi_i y_{t-i} \\right) + {\\left( \\sum_{j=1}^{q} \\psi_j \\epsilon_{t-j} \\right)}^2 \\right] }\n",
    "        \\right] \\\\\n",
    "&= \\stackrel{\\Theta}{arg max}\n",
    "    \\left[\n",
    "        - \\frac{ln(2 \\pi)}{2}\n",
    "        - \\frac{ln \\left( \\sigma^2 \\right)}{2}\n",
    "        - \\frac{1}{2 \\sigma^2 T} \\sum_{t=1}^T{\n",
    "            \\left[ {y_t}^2 - 2 y_t c\n",
    "                - 2 y_t \\left(\n",
    "                    \\sum_{i=1}^{p}\\phi_i y_{t-i}\n",
    "                \\right)\n",
    "                - 2 y_t \\left(\n",
    "                    \\sum_{j=1}^{q} \\psi_j \\epsilon_{t-j}\n",
    "                \\right) \\\\\n",
    "                + c^2\n",
    "                + 2 c \\left(\n",
    "                    \\sum_{i=1}^{p}\\phi_i y_{t-i}\n",
    "                \\right)\n",
    "                + 2 c \\left(\n",
    "                    \\sum_{j=1}^{q} \\psi_j \\epsilon_{t-j}\n",
    "                \\right) \\\\\n",
    "                + {\n",
    "                    \\left(\n",
    "                        \\sum_{i=1}^{p}\\phi_i y_{t-i}\n",
    "                    \\right)\n",
    "                }^2\n",
    "                + 2 \\left(\n",
    "                    \\sum_{i=1}^{p}\\phi_i y_{t-i}\n",
    "                \\right)\n",
    "                \\left(\n",
    "                    \\sum_{j=1}^{q} \\psi_j \\epsilon_{t-j}\n",
    "                \\right) \\\\\n",
    "                + {\n",
    "                    \\left(\n",
    "                        \\sum_{j=1}^{q} \\psi_j \\epsilon_{t-j}\n",
    "                    \\right)\n",
    "                }^2\n",
    "            \\right]\n",
    "        }\n",
    "    \\right]\n",
    "\\end{array}\n",
    "$$"
   ]
  },
  {
   "cell_type": "markdown",
   "metadata": {},
   "source": [
    "$ \\\\ $\n",
    "\n",
    "N.B.: The **Chain Rule** states that:\n",
    "\n",
    "if $f$ and $g$ are both differntiatable and $F(x)$ is the composite funcition defined by $F(x) = f(g(x))$, then $F$ is diferentiatable and its 1st derivative (i.e.: $F'$) is given by the product:\n",
    "\n",
    "$$\n",
    "F'(x) = f'(g(x))g'(x)\n",
    "$$"
   ]
  },
  {
   "cell_type": "markdown",
   "metadata": {},
   "source": [
    "To maximise $- \\frac{ln(2 \\pi)}{2} - \\frac{ln \\left( \\sigma^2 \\right)}{2} - \\frac{1}{2 \\sigma^2 T} \\sum_{t=1}^T{\\epsilon_t^2}$  with respect to $\\Theta$, we differentiate with respect to $\\Theta$ and equate it to $0$, this is known as **First Order Condition** maximisation; thus:"
   ]
  },
  {
   "cell_type": "markdown",
   "metadata": {},
   "source": [
    "$ \\\\ $\n",
    "##### First Order Condition with Respect to $c$\n",
    "\n",
    "$$\n",
    "\\begin{array}{ll}\n",
    "\\frac{\\delta ln[L_T(\\Theta)]}{\\delta c} &=\n",
    "- \\frac{1}{2 \\sigma^2 T} \\sum_{t=1}^T{\n",
    "    \\left[\n",
    "        - 2 y_t + 2 c\n",
    "        + 2 \\left(\n",
    "            \\sum_{i=1}^{p}\\phi_i y_{t-i}\n",
    "        \\right)\n",
    "        + 2 \\left(\n",
    "            \\sum_{j=1}^{q} \\psi_j \\epsilon_{t-j}\n",
    "        \\right)\n",
    "    \\right]\n",
    "} \\\\\n",
    "&=\n",
    "- \\frac{1}{2 \\sigma^2 T} \\sum_{t=1}^T{ 2\n",
    "    \\left[\n",
    "        - y_t + c\n",
    "        + \\left(\n",
    "            \\sum_{i=1}^{p}\\phi_i y_{t-i}\n",
    "        \\right)\n",
    "        + \\left(\n",
    "            \\sum_{j=1}^{q} \\psi_j \\epsilon_{t-j}\n",
    "        \\right)\n",
    "    \\right]\n",
    "} \\\\\n",
    "&=\n",
    "- \\frac{2}{2 \\sigma^2 T} \\sum_{t=1}^T{\n",
    "    \\left[\n",
    "        - y_t + c\n",
    "        + \\left(\n",
    "            \\sum_{i=1}^{p}\\phi_i y_{t-i}\n",
    "        \\right)\n",
    "        + \\left(\n",
    "            \\sum_{j=1}^{q} \\psi_j \\epsilon_{t-j}\n",
    "        \\right)\n",
    "    \\right]\n",
    "} \\\\\n",
    "&=\n",
    "- \\frac{1}{\\sigma^2 T} \\sum_{t=1}^T{\n",
    "    \\left[\n",
    "        - y_t + c\n",
    "        + \\left(\n",
    "            \\sum_{i=1}^{p}\\phi_i y_{t-i}\n",
    "        \\right)\n",
    "        + \\left(\n",
    "            \\sum_{j=1}^{q} \\psi_j \\epsilon_{t-j}\n",
    "        \\right)\n",
    "    \\right]\n",
    "}\n",
    "\\end{array}\n",
    "$$"
   ]
  },
  {
   "cell_type": "markdown",
   "metadata": {},
   "source": [
    "by **FOC**, $\\Theta = \\widehat{\\Theta}$ when $\\frac{\\delta ln[L_T(\\Theta)]}{\\delta c} = 0$, therefore $\\frac{\\delta ln[L_T(\\widehat{\\Theta})]}{\\delta \\widehat{c}} = 0$, and:\n",
    "\n",
    "$$\n",
    "\\begin{array}{ll}\n",
    "\\frac{\\delta ln[L_T(\\widehat{\\Theta})]}{\\delta \\widehat{c}} = 0 &=\n",
    "- \\frac{1}{\\widehat{\\sigma^2} T} \\sum_{t=1}^T{\n",
    "    \\left[\n",
    "        - y_t + \\widehat{c}\n",
    "        + \\left(\n",
    "            \\sum_{i=1}^{p} \\widehat{\\phi_i} y_{t-i}\n",
    "        \\right)\n",
    "        + \\left(\n",
    "            \\sum_{j=1}^{q} \\widehat{\\psi_j} \\epsilon_{t-j}\n",
    "        \\right)\n",
    "    \\right]\n",
    "} & \\\\\n",
    "&=\n",
    "- \\frac{1}{T} \\sum_{t=1}^T{\n",
    "    \\left[\n",
    "        - y_t + \\widehat{c}\n",
    "        + \\left(\n",
    "            \\sum_{i=1}^{p} \\widehat{\\phi_i} y_{t-i}\n",
    "        \\right)\n",
    "        + \\left(\n",
    "            \\sum_{j=1}^{q} \\widehat{\\psi_j} \\epsilon_{t-j}\n",
    "        \\right)\n",
    "    \\right]\n",
    "} & \\text{multiplying both sides by } \\widehat{\\sigma^2} \\\\\n",
    "&= - \\frac{T \\widehat{c}}{T}\n",
    "- \\frac{1}{T} \\sum_{t=1}^T{\n",
    "    \\left[\n",
    "        - y_t\n",
    "        + \\left(\n",
    "            \\sum_{i=1}^{p} \\widehat{\\phi_i} y_{t-i}\n",
    "        \\right)\n",
    "        + \\left(\n",
    "            \\sum_{j=1}^{q} \\widehat{\\psi_j} \\epsilon_{t-j}\n",
    "        \\right)\n",
    "    \\right]\n",
    "} & \\\\\n",
    "&= - \\widehat{c}\n",
    "- \\frac{1}{T} \\sum_{t=1}^T{\n",
    "    \\left[\n",
    "        - y_t\n",
    "        + \\left(\n",
    "            \\sum_{i=1}^{p} \\widehat{\\phi_i} y_{t-i}\n",
    "        \\right)\n",
    "        + \\left(\n",
    "            \\sum_{j=1}^{q} \\widehat{\\psi_j} \\epsilon_{t-j}\n",
    "        \\right)\n",
    "    \\right]\n",
    "}\n",
    "\\end{array}\n",
    "$$"
   ]
  },
  {
   "cell_type": "markdown",
   "metadata": {},
   "source": [
    "then:\n",
    "\n",
    "$$\n",
    "\\begin{array}{ll}\n",
    "\\widehat{c} &= - \\frac{1}{T} \\sum_{t=1}^T{\n",
    "    \\left[\n",
    "        - y_t\n",
    "        + \\left(\n",
    "            \\sum_{i=1}^{p} \\widehat{\\phi_i} y_{t-i}\n",
    "        \\right)\n",
    "        + \\left(\n",
    "            \\sum_{j=1}^{q} \\widehat{\\psi_j} \\epsilon_{t-j}\n",
    "        \\right)\n",
    "    \\right]\n",
    "}\n",
    "\\end{array}\n",
    "$$"
   ]
  },
  {
   "cell_type": "markdown",
   "metadata": {},
   "source": [
    "$ \\\\ $\n",
    "##### First Order Condition with Respect to $\\phi_i$\n",
    "\n",
    "The notation here might seem a litle confusing, but it is actually ergonomic. We are going to investigate the $ln[L_T(\\Theta)]$ function with respect to any one $\\phi_i$ for any applicable $i$. The bellow is thus for any one applicable $i$:\n",
    "\n",
    "$$\n",
    "\\begin{array}{ll}\n",
    "\\frac{\\delta ln[L_T(\\Theta)]}{\\delta \\phi_i}\n",
    "&= - \\frac{1}{2 \\sigma^2 T} \\sum_{t=1}^T{\n",
    "    \\left[- 2 y_t y_{t-i}\n",
    "        + 2 c y_{t-i}\n",
    "        + 2 {\n",
    "            \\left(\n",
    "                \\sum_{k=1}^{p}\\phi_k y_{t-k}\n",
    "            \\right)\n",
    "        } y_{t-i}\n",
    "        + 2  y_{t-i} \\left(\n",
    "            \\sum_{j=1}^{q} \\psi_j \\epsilon_{t-j}\n",
    "        \\right)\n",
    "    \\right]\n",
    "} \\\\\n",
    "&= - \\frac{2}{2 \\sigma^2 T} \\sum_{t=1}^T{\n",
    "    \\left[- y_t y_{t-i}\n",
    "        + c y_{t-i}\n",
    "        + {\n",
    "            \\left(\n",
    "                \\sum_{k=1}^{p}\\phi_k y_{t-k}\n",
    "            \\right)\n",
    "        } y_{t-i}\n",
    "        + y_{t-i} \\left(\n",
    "            \\sum_{j=1}^{q} \\psi_j \\epsilon_{t-j}\n",
    "        \\right)\n",
    "    \\right]\n",
    "} \\\\\n",
    "&= - \\frac{1}{\\sigma^2 T} \\sum_{t=1}^T{\n",
    "    \\left[- y_t y_{t-i}\n",
    "        + c y_{t-i}\n",
    "        + {\n",
    "            \\left(\n",
    "                \\sum_{k=1}^{p}\\phi_k y_{t-k}\n",
    "            \\right)\n",
    "        } y_{t-i}\n",
    "        + y_{t-i} \\left(\n",
    "            \\sum_{j=1}^{q} \\psi_j \\epsilon_{t-j}\n",
    "        \\right)\n",
    "    \\right]\n",
    "}\n",
    "\\end{array}\n",
    "$$"
   ]
  },
  {
   "cell_type": "markdown",
   "metadata": {},
   "source": [
    "by **FOC**, $\\Theta = \\widehat{\\Theta}$ when $\\frac{\\delta ln[L_T(\\Theta)]}{\\delta \\phi_i} = 0$, therefore $\\frac{\\delta ln[L_T(\\widehat{\\Theta})]}{\\delta \\phi_i} = 0$, and (again, for any applicable $i$) :\n",
    "\n",
    "$$\n",
    "\\begin{array}{ll}\n",
    "\\frac{\\delta ln[L_T(\\widehat{\\Theta})]}{\\delta \\widehat{\\phi_i}} = 0 &= - \\frac{1}{\\widehat{\\sigma^2} T} \\sum_{t=1}^T{\n",
    "    \\left[- y_t y_{t-i}\n",
    "        + \\widehat{c} y_{t-i}\n",
    "        + {\n",
    "            \\left(\n",
    "                \\sum_{k=1}^{p} \\widehat{\\phi_k} y_{t-k}\n",
    "            \\right)\n",
    "        } y_{t-i}\n",
    "        + y_{t-i} \\left(\n",
    "            \\sum_{j=1}^{q} \\widehat{\\psi_j} \\epsilon_{t-j}\n",
    "        \\right)\n",
    "    \\right]\n",
    "} \\\\\n",
    "&= \\sum_{t=1}^T{\n",
    "    \\left[- y_t y_{t-i}\n",
    "        + \\widehat{c} y_{t-i}\n",
    "        + {\n",
    "            \\left(\n",
    "                \\sum_{k=1}^{p} \\widehat{\\phi_k} y_{t-k}\n",
    "            \\right)\n",
    "        } y_{t-i}\n",
    "        + y_{t-i} \\left(\n",
    "            \\sum_{j=1}^{q} \\widehat{\\psi_j} \\epsilon_{t-j}\n",
    "        \\right)\n",
    "    \\right]\n",
    "} \\\\\n",
    "&= \\sum_{t=1}^T{ y_{t-i}\n",
    "    \\left[- y_t\n",
    "        + \\widehat{c}\n",
    "        + {\n",
    "            \\left(\n",
    "                \\sum_{k=1}^{p} \\widehat{\\phi_k} y_{t-k}\n",
    "            \\right)\n",
    "        }\n",
    "        + \\left(\n",
    "            \\sum_{j=1}^{q} \\widehat{\\psi_j} \\epsilon_{t-j}\n",
    "        \\right)\n",
    "    \\right]\n",
    "}\n",
    "\\end{array}\n",
    "$$"
   ]
  },
  {
   "cell_type": "markdown",
   "metadata": {},
   "source": [
    "$ \\\\ $\n",
    "##### First Order Condition with Respect to $\\psi_j$\n",
    "\n",
    "The notation here might seem a litle confusing, but it is actually ergonomic. We are going to investigate the $ln[L_T(\\Theta)]$ function with respect to any one $\\psi_j$ for any applicable $j$. The bellow is thus for any one applicable $j$:\n",
    "\n",
    "$$\n",
    "\\begin{array}{ll}\n",
    "\\frac{\\delta ln[L_T(\\Theta)]}{\\delta \\psi_j}\n",
    "&= - \\frac{1}{2 \\sigma^2 T} \\sum_{t=1}^T{\n",
    "    \\left[- 2 y_t \\epsilon_{t-j}\n",
    "        + 2 c \\epsilon_{t-j}\n",
    "        + 2 {\n",
    "            \\left(\n",
    "                \\sum_{i=1}^{p}\\phi_i y_{t-i}\n",
    "            \\right)\n",
    "        } \\epsilon_{t-j}\n",
    "        + 2 \\left(\n",
    "            \\sum_{k=1}^{q} \\psi_k \\epsilon_{t-k}\n",
    "        \\right) \\epsilon_{t-j}\n",
    "    \\right]\n",
    "} \\\\\n",
    "&= - \\frac{2}{2 \\sigma^2 T} \\sum_{t=1}^T{\n",
    "    \\left[- y_t \\epsilon_{t-j}\n",
    "        + c \\epsilon_{t-j}\n",
    "        + {\n",
    "            \\left(\n",
    "                \\sum_{i=1}^{p}\\phi_i y_{t-i}\n",
    "            \\right)\n",
    "        } \\epsilon_{t-j}\n",
    "        + \\left(\n",
    "            \\sum_{k=1}^{q} \\psi_k \\epsilon_{t-k}\n",
    "        \\right) \\epsilon_{t-j}\n",
    "    \\right]\n",
    "} \\\\\n",
    "&= - \\frac{1}{\\sigma^2 T} \\sum_{t=1}^T{\n",
    "    \\left[- y_t \\epsilon_{t-j}\n",
    "        + c \\epsilon_{t-j}\n",
    "        + {\n",
    "            \\left(\n",
    "                \\sum_{i=1}^{p}\\phi_i y_{t-i}\n",
    "            \\right)\n",
    "        } \\epsilon_{t-j}\n",
    "        + \\left(\n",
    "            \\sum_{k=1}^{q} \\psi_k \\epsilon_{t-k}\n",
    "        \\right) \\epsilon_{t-j}\n",
    "    \\right]\n",
    "}\n",
    "\\end{array}\n",
    "$$"
   ]
  },
  {
   "cell_type": "markdown",
   "metadata": {},
   "source": [
    "by **FOC**, $\\Theta = \\widehat{\\Theta}$ when $\\frac{\\delta ln[L_T(\\Theta)]}{\\delta \\psi_j} = 0$, therefore $\\frac{\\delta ln[L_T(\\widehat{\\Theta})]}{\\delta \\psi_j} = 0$, and (again, for any applicable $j$) :\n",
    "\n",
    "$$\n",
    "\\begin{array}{ll}\n",
    "\\frac{\\delta ln[L_T(\\widehat{\\Theta})]}{\\delta \\widehat{\\psi_j}} = 0 &= - \\frac{1}{\\widehat{\\sigma^2} T} \\sum_{t=1}^T{\n",
    "    \\left[- y_t \\epsilon_{t-j}\n",
    "        + \\widehat{c} \\epsilon_{t-j}\n",
    "        + {\n",
    "            \\left(\n",
    "                \\sum_{i=1}^{p} \\widehat{\\phi_i} y_{t-i}\n",
    "            \\right)\n",
    "        } \\epsilon_{t-j}\n",
    "        + \\left(\n",
    "            \\sum_{k=1}^{q} \\widehat{\\psi_k} \\epsilon_{t-k}\n",
    "        \\right) \\epsilon_{t-j}\n",
    "    \\right]\n",
    "} \\\\\n",
    "&= \\sum_{t=1}^T{\n",
    "    \\left[- y_t \\epsilon_{t-j}\n",
    "        + \\widehat{c} \\epsilon_{t-j}\n",
    "        + {\n",
    "            \\left(\n",
    "                \\sum_{i=1}^{p} \\widehat{\\phi_i} y_{t-i}\n",
    "            \\right)\n",
    "        } \\epsilon_{t-j}\n",
    "        + \\left(\n",
    "            \\sum_{k=1}^{q} \\widehat{\\psi_k} \\epsilon_{t-k}\n",
    "        \\right) \\epsilon_{t-j}\n",
    "    \\right]\n",
    "} \\\\\n",
    "&= \\sum_{t=1}^T{ \\epsilon_{t-j}\n",
    "    \\left[- y_t\n",
    "        + \\widehat{c}\n",
    "        + {\n",
    "            \\left(\n",
    "                \\sum_{i=1}^{p} \\widehat{\\phi_i} y_{t-i}\n",
    "            \\right)\n",
    "        }\n",
    "        + \\left(\n",
    "            \\sum_{k=1}^{q} \\widehat{\\psi_k} \\epsilon_{t-k}\n",
    "        \\right)\n",
    "    \\right]\n",
    "}\n",
    "\\end{array}\n",
    "$$"
   ]
  },
  {
   "cell_type": "markdown",
   "metadata": {},
   "source": [
    "$ \\\\ $\n",
    "##### First Order Condition with Respect to $\\sigma^2$\n",
    "\n",
    "Letting\n",
    "\n",
    "$$\n",
    "S(\\widehat{c}, \\widehat{\\phi_i}, \\widehat{\\psi_j}) = \n",
    "\\sum_{t=1}^T {\n",
    "    \\left[\n",
    "        {y_t}^2 - 2 y_t \\widehat{c}\n",
    "        - 2 y_t \\left(\n",
    "        \\sum_{i=1}^{p} \\widehat{\\phi_i} y_{t-i}\n",
    "        \\right)\n",
    "        - 2 y_t \\left(\n",
    "            \\sum_{j=1}^{q} \\widehat{\\psi_j} \\epsilon_{t-j}\n",
    "        \\right) \\\\\n",
    "        + \\widehat{c}^2\n",
    "        + 2 \\widehat{c} \\left(\n",
    "            \\sum_{i=1}^{p} \\widehat{\\phi_i} y_{t-i}\n",
    "        \\right)\n",
    "        + 2 \\widehat{c} \\left(\n",
    "            \\sum_{j=1}^{q} \\widehat{\\psi_j} \\epsilon_{t-j}\n",
    "        \\right) \\\\\n",
    "        + {\n",
    "            \\left(\n",
    "                \\sum_{i=1}^{p} \\widehat{\\phi_i} y_{t-i}\n",
    "            \\right)\n",
    "        }^2\n",
    "        + 2 \\left(\n",
    "            \\sum_{i=1}^{p} \\widehat{\\phi_i} y_{t-i}\n",
    "        \\right)\n",
    "        \\left(\n",
    "            \\sum_{j=1}^{q} \\widehat{\\psi_j} \\epsilon_{t-j}\n",
    "        \\right) \\\\\n",
    "        + {\n",
    "        \\left(\n",
    "            \\sum_{j=1}^{q} \\widehat{\\psi_j} \\epsilon_{t-j}\n",
    "        \\right)\n",
    "        }^2\n",
    "    \\right]\n",
    "}\n",
    "$$\n",
    "\n",
    "then:\n",
    "\n",
    "$$\n",
    "\\begin{array}{ll}\n",
    "\\frac{\\delta ln[L_T(\\Theta)]}{\\delta \\sigma^2}\n",
    "&= - \\frac{1}{2 \\sigma^2} + \\frac{1}{2 {\\left( \\sigma^2 \\right)}^2 T} S(\\widehat{c}, \\widehat{\\phi_i}, \\widehat{\\psi_j})\n",
    "\\end{array}\n",
    "$$\n",
    "\n",
    "Note that the $+$ in $+ \\frac{1}{2 {\\left( \\sigma^2 \\right)}^2 T}$ comes from the differential of $- \\frac{1}{2 \\sigma^2 T}$, *i.e.*: of $- \\frac{(\\sigma^2)^{-1}}{2 T}$ "
   ]
  },
  {
   "cell_type": "markdown",
   "metadata": {},
   "source": [
    "by **FOC**, $\\Theta = \\widehat{\\Theta}$ when $\\frac{\\delta ln[L_T(\\Theta)]}{\\delta \\sigma^2} = 0$, therefore $\\frac{\\delta ln[L_T(\\widehat{\\Theta})]}{\\delta \\sigma^2} = 0$, and:"
   ]
  },
  {
   "cell_type": "markdown",
   "metadata": {},
   "source": [
    "$\n",
    "\\begin{array}{ll}\n",
    "\\frac{\\delta ln[L_T(\\widehat{\\Theta})]}{\\delta \\widehat{\\sigma^2}} = 0\n",
    "&= - \\frac{1}{2 \\widehat{\\sigma^2}} + \\frac{1}{2 {\\left( \\widehat{\\sigma^2} \\right)}^2 T} S(\\widehat{c}, \\widehat{\\phi_i}, \\widehat{\\psi_j})\n",
    "\\end{array}\n",
    "$"
   ]
  },
  {
   "cell_type": "markdown",
   "metadata": {},
   "source": [
    "Thus:\n",
    "\n",
    "$\n",
    "\\begin{array}{ll}\n",
    "\\frac{1}{2 \\widehat{\\sigma^2}}\n",
    "&= \\frac{1}{2 {\\left( \\widehat{\\sigma^2} \\right)}^2 T} S(\\widehat{c}, \\widehat{\\phi_i}, \\widehat{\\psi_j})\n",
    "\\end{array}\n",
    "$\n",
    "\n",
    "then:\n",
    "\n",
    "$\n",
    "\\begin{array}{ll}\n",
    "\\frac{1}{\\widehat{\\sigma^2}} &= \\frac{1}{{\\left( \\widehat{\\sigma^2} \\right)}^2 T} S(\\widehat{c}, \\widehat{\\phi_i}, \\widehat{\\psi_j})\n",
    "\\end{array} $\n",
    "\n",
    "then:\n",
    "\n",
    "$$\n",
    "\\begin{array}{ll}\n",
    "\\widehat{\\sigma^2} &= \\frac{1}{T} S(\\widehat{c}, \\widehat{\\phi_i}, \\widehat{\\psi_j}) \\\\\n",
    "&= \\frac{1}{T} \\sum_{t=1}^T {\n",
    "    \\left[\n",
    "        {y_t}^2 - 2 y_t \\widehat{c} - 2 y_t \\left(\n",
    "        \\sum_{i=1}^{p} \\widehat{\\phi_i} y_{t-i}\n",
    "        \\right) - 2 y_t \\left(\n",
    "            \\sum_{j=1}^{q} \\widehat{\\psi_j} \\epsilon_{t-j}\n",
    "        \\right) \\\\ + \\widehat{c}^2 + 2 \\widehat{c} \\left(\n",
    "            \\sum_{i=1}^{p} \\widehat{\\phi_i} y_{t-i}\n",
    "        \\right) + 2 \\widehat{c} \\left(\n",
    "            \\sum_{j=1}^{q} \\widehat{\\psi_j} \\epsilon_{t-j}\n",
    "        \\right) \\\\ + {\n",
    "            \\left(\n",
    "                \\sum_{i=1}^{p} \\widehat{\\phi_i} y_{t-i}\n",
    "            \\right)\n",
    "        }^2 + 2 \\left(\n",
    "            \\sum_{i=1}^{p} \\widehat{\\phi_i} y_{t-i}\n",
    "        \\right) \\left(\n",
    "            \\sum_{j=1}^{q} \\widehat{\\psi_j} \\epsilon_{t-j}\n",
    "        \\right) \\\\ + {\n",
    "        \\left(\n",
    "            \\sum_{j=1}^{q} \\widehat{\\psi_j} \\epsilon_{t-j}\n",
    "        \\right)\n",
    "        }^2\n",
    "    \\right]\n",
    "} \\\\\n",
    "\\end{array}\n",
    "$$"
   ]
  },
  {
   "cell_type": "markdown",
   "metadata": {},
   "source": [
    "$ \\\\ $\n",
    "##### First Order Conditions\n",
    "Resuming; our FOC equations produced:"
   ]
  },
  {
   "cell_type": "markdown",
   "metadata": {},
   "source": [
    "$$\n",
    "\\begin{equation}\n",
    "\\widehat{c} = - \\frac{1}{T} \\sum_{t=1}^T{\n",
    "    \\left[\n",
    "        - y_t\n",
    "        + \\left(\n",
    "            \\sum_{i=1}^{p} \\widehat{\\phi_i} y_{t-i}\n",
    "        \\right)\n",
    "        + \\left(\n",
    "            \\sum_{j=1}^{q} \\widehat{\\psi_j} \\epsilon_{t-j}\n",
    "        \\right)\n",
    "    \\right]\n",
    "}\n",
    "\\end{equation}\n",
    "$$\n",
    "\n",
    "$$ \\\\ $$"
   ]
  },
  {
   "cell_type": "markdown",
   "metadata": {},
   "source": [
    "$$\\begin{align}\n",
    "0 = \\sum_{t=1}^T{ y_{t-i}\n",
    "    \\left[- y_t\n",
    "        + \\widehat{c}\n",
    "        + {\n",
    "            \\left(\n",
    "                \\sum_{k=1}^{p} \\widehat{\\phi_k} y_{t-k}\n",
    "            \\right)\n",
    "        }\n",
    "        + \\left(\n",
    "            \\sum_{j=1}^{q} \\widehat{\\psi_j} \\epsilon_{t-j}\n",
    "        \\right)\n",
    "    \\right]\n",
    "}\n",
    "& \\text{   for all } i \\leq p\n",
    "\\end{align}$$\n",
    "\n",
    "$$ \\\\ $$"
   ]
  },
  {
   "cell_type": "markdown",
   "metadata": {},
   "source": [
    "$$\\begin{align}\n",
    "0 = \\sum_{t=1}^T{ \\epsilon_{t-j}\n",
    "    \\left[- y_t\n",
    "        + \\widehat{c}\n",
    "        + {\n",
    "            \\left(\n",
    "                \\sum_{i=1}^{p} \\widehat{\\phi_i} y_{t-i}\n",
    "            \\right)\n",
    "        }\n",
    "        + \\left(\n",
    "            \\sum_{k=1}^{q} \\widehat{\\psi_k} \\epsilon_{t-k}\n",
    "        \\right)\n",
    "    \\right]\n",
    "}\n",
    "& \\text{   for all } j \\leq q\n",
    "\\end{align}$$\n",
    "\n",
    "$$ \\\\ $$"
   ]
  },
  {
   "cell_type": "markdown",
   "metadata": {},
   "source": [
    "$$\n",
    "\\begin{equation}\n",
    "\\widehat{\\sigma^2} = \\frac{1}{T} \\sum_{t=1}^T {\n",
    "    \\left[\n",
    "        {y_t}^2 - 2 y_t \\widehat{c} - 2 y_t \\left(\n",
    "        \\sum_{i=1}^{p} \\widehat{\\phi_i} y_{t-i}\n",
    "        \\right) - 2 y_t \\left(\n",
    "            \\sum_{j=1}^{q} \\widehat{\\psi_j} \\epsilon_{t-j}\n",
    "        \\right) \\\\\n",
    "        + \\widehat{c}^2 + 2 \\widehat{c} \\left(\n",
    "            \\sum_{i=1}^{p} \\widehat{\\phi_i} y_{t-i}\n",
    "        \\right) + 2 \\widehat{c} \\left(\n",
    "            \\sum_{j=1}^{q} \\widehat{\\psi_j} \\epsilon_{t-j}\n",
    "        \\right) \\\\\n",
    "        + {\n",
    "            \\left(\n",
    "                \\sum_{i=1}^{p} \\widehat{\\phi_i} y_{t-i}\n",
    "            \\right)\n",
    "        }^2\n",
    "        + 2 \\left(\n",
    "            \\sum_{i=1}^{p} \\widehat{\\phi_i} y_{t-i}\n",
    "        \\right) \\left(\n",
    "            \\sum_{j=1}^{q} \\widehat{\\psi_j} \\epsilon_{t-j}\n",
    "        \\right) \\\\\n",
    "        + {\n",
    "        \\left(\n",
    "            \\sum_{j=1}^{q} \\widehat{\\psi_j} \\epsilon_{t-j}\n",
    "        \\right)\n",
    "        }^2\n",
    "    \\right]\n",
    "} \\\\\n",
    "\\end{equation}\n",
    "$$"
   ]
  },
  {
   "cell_type": "markdown",
   "metadata": {},
   "source": [
    "From there one can only compute the parameters numerically. It does not look like it due to the large amounts of substitutions that would be required but these FOC equations offer a closed system solvable itteratively from the data we have. Remember that the data we have consist of $y_t, y_{t-1}, ... , y_1, \\epsilon_{t-1}, \\epsilon_{t-2}, ..., \\epsilon_{1}$, *i.e.*: everything without a hat."
   ]
  },
  {
   "cell_type": "markdown",
   "metadata": {},
   "source": [
    "$$ \\\\ $$\n",
    "## GARCH models"
   ]
  },
  {
   "cell_type": "markdown",
   "metadata": {},
   "source": [
    "### Modelling Level Changes\n",
    "\n",
    "Let $\\{R_t\\}_{t \\in \\mathbb{Z}}$ be the level change in index excess return such that (i.e.: $\\textbf{:}$) $R_t \\in \\mathbb{R}$ at time $t$. Then one may attempt to encapsulate the movement in $R_t$ via the discrete-time stochastic process\n",
    "$$\\begin{equation}\n",
    "    \\label{eq:AR1} R_t = C + \\phi_1 R_{t-1} + \\epsilon_t \\tag{3}\n",
    "\\end{equation}$$\n",
    "where $C \\in \\mathbb{R}$ is an unknown constant, $\\phi_1$ is the cofactor of the regressor $R_{t-1}$ - the 1$^{st}$ lag of $R_{t}$, and the error term $\\epsilon_{t} \\stackrel{iid}{\\sim} N(0,\\sigma^2)$ has standard deviation $\\sigma \\in \\mathbb{R}$. This is an AR process of order one - AR(1). It is then easy to incorporate SVI - enabling us to study its effect on $R_t$ - with the cofactor $\\phi_2 \\in \\mathbb{R}$ via the AR(1)-SVI model:\n",
    "$$\\begin{equation}\n",
    "    \\label{eq:AR1SVI} R_t = C + \\phi_1 R_{t-1} + \\phi_2 \\Delta SVI_{t-1} + \\epsilon_t \\text{ .} \\tag{4}\n",
    "\\end{equation}$$\n",
    "\n",
    "These two models will be used throughout this article to model the level change in index excess returns.\n",
    "\n",
    "### Modelling Non-Linear Variances\n",
    "\n",
    "#### ARCH Models\n",
    "\n",
    "As aforementioned, the lack of time-dependence in $\\sigma$ results in the AR(1) model outlined in the above AR(1) Equation \\ref{eq:AR1} and \\ref{eq:AR1SVI} failing to represent SFFR (iii). To account for this heteroscedasticity, ARCH models of order $q \\in \\mathbb{Z}$ where $q > 0$ can be used. These ARCH($q$) models  render $\\sigma$ into time-dependent $\\sigma_{t}$ $\\textbf{:}$ $\\epsilon_t \\stackrel{iid}{\\sim} N(0,\\sigma^2_{t})$. To do so, let $\\Omega_t$ denote the information set at time $t$; let the conditional mean and variance of $R_{t+1}$ respectively be $\\mu_{t+1|t} = E(R_{t+1} | \\Omega_{t})$ and  $\\sigma_{t+1|t}^2 = Var(R_{t+1} | \\Omega_t)$ where $E$ and $Var$ are respectively the expectation and variance operators; let\n",
    "\n",
    "$$\\begin{equation}\n",
    "    \\epsilon_t = \\sigma_{t|t-1} \\eta_t\n",
    "\\end{equation}$$\n",
    "\n",
    "where $\\eta_t$ is independent from $\\Omega_t$ and $\\eta_t \\stackrel{iid}{\\sim} N(0,1)$; and let\n",
    "\n",
    "$$\\begin{equation}\n",
    "    \\sigma_{t|t-1}^2 = c + \\sum_{i=1}^{q}\\alpha_i \\epsilon_{t-i}^2\n",
    "\\end{equation}$$\n",
    "\n",
    "where $c,\\alpha_i \\in \\mathbb{R}$, $c>0$ and $\\alpha_i \\geq 0 \\quad \\forall i=(1,2,...,q)$ to allow only for positive - thus valid - variances.\n",
    "\n",
    "\n",
    "Several expansions were applied to the ARCH model; the ones of interest here are namely the GARCH, GJRGARCH and EGARCH models of order one."
   ]
  },
  {
   "cell_type": "markdown",
   "metadata": {},
   "source": [
    "$$ \\\\ $$\n",
    "\n",
    "#### GARCH models\n",
    "\n",
    "GARCH(1,1) account for SFFR (iv) and (v) in addition to (iii) and non-normal unconditional distributions in levels, which works in parallel with SFFR (i). To do so, an MA component is added to the ARCH(1):\n",
    "\n",
    "$$\\begin{equation}\n",
    "    \\sigma_{t|t-1}^2 = c + \\alpha \\epsilon_{t-1}^2 + \\beta \\sigma_{t-1}^2\n",
    "\\end{equation}$$\n",
    "\n",
    "where elements are as aforementioned, $\\beta \\in \\mathbb{R}$ is positive and in this specific case: $(\\alpha + \\beta) < 1$ for stationarity. I implement the SVI factor with positive $\\delta \\in \\mathbb{R}$ - enabling us to study its effect on $R_t$'s variance - via:\n",
    "\n",
    "$$\\begin{equation}\n",
    "    \\sigma_{t|t-1}^2 = c + \\alpha \\epsilon_{t-1}^2 + \\beta \\sigma_{t-1}^2 + \\delta \\Delta SVI_{t-1}\n",
    "\\end{equation}$$\n",
    "\n",
    "Whilst GARCH models are a natural fit in this study by the virtues mentioned, “*in general, models that incorporate volatility asymmetry such as EGARCH and GJR-GARCH perform better*” (Poon and Granger (2003), p.507). Indeed, GARCH models cannot account for SFFR (v) of leverage effects, whereas GJRGARCH and EGACH models may; CPV therefore considered them too - as do I. The thicker bottom left tail of the Empirical Probability Distribution Functions (EPDFs) suggest such leverage effects."
   ]
  },
  {
   "cell_type": "markdown",
   "metadata": {},
   "source": [
    "$$ \\\\ $$\n",
    "\n",
    "#### GJRGARCH Models\n",
    "\n",
    "GJRGARCH models account for asymmetry (SFFR (i)) via the last summand in\n",
    "\n",
    "$$\\begin{equation}\n",
    "    \\sigma_{t|t-1}^2 = c + \\alpha \\epsilon_{t-1}^2 + \\beta \\sigma_{t-i}^2 + \\gamma I(\\epsilon_{t-1}<0) \\epsilon_{t-1}^2\n",
    "\\end{equation}$$\n",
    "\n",
    "and second to last in\n",
    "$$\\begin{equation}\n",
    "    \\sigma_{t|t-1}^2 = c + \\alpha \\epsilon_{t-1}^2 + \\beta \\sigma_{t-1}^2 + \\gamma I(\\epsilon_{t-1}<0) \\epsilon_{t-1}^2 + \\delta \\Delta SVI_{t-1}\n",
    "\\end{equation}$$\n",
    "where a leverage case would result in $\\gamma > 0$, and $I(\\cdot)$ is the indicator function returning $1$ if its bracketed statement is true, $0$ otherwise - in this case:\n",
    "\n",
    "$$\\begin{equation}\n",
    "    I(\\epsilon_{t-1}<0) = \\begin{Bmatrix} 1 & \\text{if } \\epsilon_{t-1}<0 \\\\ 0 & \\text{otherwise} \\end{Bmatrix} .\n",
    "\\end{equation}$$"
   ]
  },
  {
   "cell_type": "markdown",
   "metadata": {},
   "source": [
    "$$ \\\\ $$\n",
    "\n",
    "#### EGARCH Models\n",
    "\n",
    "The use of the logarithm function insures non-negativity in EGARCH models\n",
    "\n",
    "$$\\begin{equation}\n",
    "    ln(\\sigma_{t|t-1}^2) = c + \\alpha \\Bigg[ \\frac{|\\epsilon_{t-1}|}{\\sigma_{t-1}} - \\sqrt{\\frac{2}{\\pi}} \\Bigg] +  \\beta ln(\\sigma_{t-1}^2) + \\gamma \\frac{\\epsilon_{t-1}}{\\sigma_{t-1}}\n",
    "\\end{equation}$$\n",
    "\n",
    "and\n",
    "\n",
    "$$\\begin{equation}\n",
    "    ln(\\sigma_{t|t-1}^2) = c + \\alpha \\Bigg[ \\frac{|\\epsilon_{t-1}|}{\\sigma_{t-1}} - \\sqrt{\\frac{2}{\\pi}} \\Bigg] +  \\beta ln(\\sigma_{t-1}^2) + \\gamma \\frac{\\epsilon_{t-1}}{\\sigma_{t-1}} + \\delta \\Delta SVI_{t-1}\n",
    "\\end{equation}$$\n",
    "\n",
    "where  ln($\\cdot$) and |$\\cdot$| denote the logarithm base $e$ and the absolute value functions respectively and where $c, \\alpha, \\beta, \\gamma \\in \\mathbb{R}$ are not constrained $\\textbf{: } c + \\alpha + \\beta + \\gamma > 0$ . If $Var(R_t|\\Omega_{t-1})$ and $R_t$ react negatively to each other, $\\beta$ would be negative, and *vice versa*."
   ]
  },
  {
   "cell_type": "markdown",
   "metadata": {},
   "source": [
    "$$ \\ $$\n",
    "#### Generic ARMA(p,q)-Non-Linear-Variance model Estimation\n",
    "\n",
    "ARMA(p,q)-GARCH(P,Q), ARMA(p,q)-GJRGARCH(P,Q) and ARMA(p,q)-EGARCH(P,Q) models' estimates can be computed via the same method as the generic ARMA(p,q) model above, but substituting in the modeled value for $\\sigma_{t|t-1}^2$. This would then be a (Conditional) Quazi Maximum Likelihood estimation method where (assuming normality in the errors):\n",
    "\n",
    "$$\n",
    "L_T(\\Theta) = \\prod_{t=1}^T{\\frac{1}{\\sqrt[2]{2 \\pi \\sigma^2}} exp \\left[ -\\frac{(y_t - \\mu)^2}{2 \\sigma^2} \\right]}\n",
    "$$\n",
    "\n",
    "where $\\sigma^2$ is recursively computed $\\forall t \\geq 1$ as dictated by the non-linear variance model GARCH(P,Q), GJRGARCH(P,Q) or EGARCH(P,Q)."
   ]
  },
  {
   "cell_type": "markdown",
   "metadata": {},
   "source": [
    "$$ \\\\ $$\n",
    "\n",
    "$$ \\\\ $$\n",
    "\n",
    "#### Error Functions\n",
    "\n",
    "To asses the accuracy of volatility and positive sign probability forecasts, this sub-section specifies error functions.\n",
    "\n",
    "Variance forecasts from the models GARCH to EGARCH-SVI are simply compared against realised volatilities to compute variance forecast errors as\n",
    "$$ \\hat{\\sigma}_{t|t-1} - RV_t \\text{ .}$$\n",
    "\n",
    "\n",
    "Sign forecast errors are computed as \n",
    "\n",
    "$$\\begin{equation} \\label{eq:SignForecastErrors}\n",
    "\\hat{\\pi}_{t+1}^{j} - \\mathbb{P}(R_{t+1} > 0 | \\Omega_{t \\textbf{+1}})\n",
    "\\end{equation}$$\n",
    "\n",
    "where $j = (C\\&D_M,  Naive)$, and where $M$ can be replaced by a model name ranging from GARCH to EGARCH-SVI (Note the bold `$+1$' in $\\Omega_{t \\textbf{+1}}$ here to emphasise how $\\mathbb{P}(R_{t+1}>0|\\Omega_{t \\textbf{+1}})=I(R_{t+1}>0)$.) and also where:\n",
    "\n",
    "#### Naïve Framework\n",
    "\n",
    "A Naïve model of sign change is used as a benchmark to construct comparisons. It is formulated as\n",
    "$$ \\hat{\\pi}_{t+1}^{Naive} = \\hat{\\mathbb{P}}_{Naive}(R_{t+1|t}>0) = \\frac{1}{t} \\sum_{k=1}^{t} I (R_k > 0) \\text{ .}$$"
   ]
  },
  {
   "cell_type": "markdown",
   "metadata": {},
   "source": [
    "$ \\ $\n",
    "### Part 2 References\n",
    "\n",
    "P.S.: Plenty of help on MLE can be foud on:\n",
    "\n",
    "http://www.science.unitn.it/AnalisiInfoTLC/SSP/SSP14_15/lectures/lecture14.pdf\n",
    "\n",
    "https://faculty.washington.edu/ezivot/econ584/notes/armaestimation.pdf\n",
    "\n",
    "https://pdfs.semanticscholar.org/e3f5/90f5614a25b688c3d8bea67aad21c6840bc0.pdf\n",
    "\n",
    "https://stats.stackexchange.com/questions/349214/some-aspects-of-maximum-likelihood-estimation-of-garchp-q-model\n",
    "\n",
    "http://fmwww.bc.edu/repec/sce2004/up.27698.1075991479.pdf\n",
    "\n",
    "http://www.math.chalmers.se/~palbin/dongthesis.pdf\n",
    "\n",
    "https://www.youtube.com/watch?v=ul3u2yLPwU0\n",
    "\n",
    "https://dachxiu.chicagobooth.edu/download/NGQMLE.pdf\n",
    "\n",
    "https://rady.ucsd.edu/faculty/directory/valkanov/pub/classes/mfe/docs/lecture6_2010.pdf\n",
    "\n",
    "https://stats.stackexchange.com/questions/35488/conditional-maximum-likelihood-estimation-for-armap-q\n",
    "\n",
    "https://jeanmariedufour.github.io/ResE/Dufour_2008_C_TS_ARIMA_Estimation.pdf\n",
    "\n",
    "http://www.real-statistics.com/time-series-analysis/autoregressive-processes/autoregressive-processes-basic-concepts/autoregressive-process-proofs/\n",
    "\n",
    "https://www.real-statistics.com/time-series-analysis/autoregressive-processes/autoregressive-processes-basic-concepts/\n",
    "\n",
    "https://msu.edu/~baillie/822/MLE.pdf\n",
    "\n",
    "https://www.real-statistics.com/time-series-analysis/arma-processes/arma-coefficients-maximum-likelihood/\n",
    "\n",
    "http://www.maths.qmul.ac.uk/~bb/TimeSeries/TS_Chapter6_3_3.pdf\n",
    "\n",
    "http://www.phdeconomics.sssup.it/documents/Lesson12.pdf\n",
    "\n",
    "https://math.berkeley.edu/~btw/thesis4.pdf\n",
    "\n",
    "https://pdfs.semanticscholar.org/9e19/c169fd51c9beddf1007c8b95331619ceea20.pdf\n",
    "\n",
    "https://pdfs.semanticscholar.org/e3f5/90f5614a25b688c3d8bea67aad21c6840bc0.pdf"
   ]
  },
  {
   "cell_type": "markdown",
   "metadata": {},
   "source": [
    "$$ \\\\ $$\n",
    "# Part 3: Coding Non-Linear Variance Econometric Models"
   ]
  },
  {
   "cell_type": "markdown",
   "metadata": {},
   "source": [
    "$$ \\\\ $$\n",
    "### Creating functions for our GARCH models"
   ]
  },
  {
   "cell_type": "markdown",
   "metadata": {},
   "source": [
    "'**roll**' will be the number of out-of-sample predictions."
   ]
  },
  {
   "cell_type": "code",
   "execution_count": 43,
   "metadata": {},
   "outputs": [
    {
     "data": {
      "text/html": [
       "3540"
      ],
      "text/latex": [
       "3540"
      ],
      "text/markdown": [
       "3540"
      ],
      "text/plain": [
       "[1] 3540"
      ]
     },
     "metadata": {},
     "output_type": "display_data"
    }
   ],
   "source": [
    "roll = length(index(df)) - 252\n",
    "roll"
   ]
  },
  {
   "cell_type": "markdown",
   "metadata": {},
   "source": [
    "#### Define functions to make our code easier to read"
   ]
  },
  {
   "cell_type": "markdown",
   "metadata": {},
   "source": [
    "##### Series Functions"
   ]
  },
  {
   "cell_type": "markdown",
   "metadata": {},
   "source": [
    "*GARCH_model_spec* is defined as an R function to streamline the use of *ugarchspec*"
   ]
  },
  {
   "cell_type": "code",
   "execution_count": 44,
   "metadata": {},
   "outputs": [],
   "source": [
    "GARCH_model_spec = function(mod, exreg)\n",
    "{ugarchspec(variance.model = list(model = mod, garchOrder = c(1, 1),\n",
    "                                  external.regressors = exreg),\n",
    "            mean.model = list(armaOrder = c(1, 0), include.mean = TRUE,\n",
    "                            external.regressors = exreg),\n",
    "            distribution.model = \"norm\")}\n",
    "\n",
    "GARCH_model_forecast = function(mod)\n",
    "{ugarchforecast(mod, n.ahead = 1, n.roll = 0, data = NULL, out.sample = 0)}"
   ]
  },
  {
   "cell_type": "markdown",
   "metadata": {},
   "source": [
    "Now we can define the R function *GARCHprocess_ser* to go through our method. ('ser' for 'series' as opposed to 'par' for 'parallel'.) This function goes through our method in series, which means that it performs every step one after the other, none in parallel at the same time another step is being processed. There we:\n",
    "- 1st: Define our *training_sample_size* R variable. It is a number, the number of observations in our training sample. We want to split our sample between the in- and out-of-smaple samples. The training sample is used to compute the first set of estimates of our model. In the case of the GARCH model, we use the first 252 observations (253rd element will be computed - there are approximately 253 trading days per year) to estimate $\\Theta = $[${c, \\phi_1, \\psi_q, \\sigma^2}$] into $\\hat{\\Theta} = $[${\\hat{c}, \\hat{\\phi_1}, \\hat{\\psi_q}, \\hat{\\sigma^2}}$]"
   ]
  },
  {
   "cell_type": "code",
   "execution_count": 45,
   "metadata": {},
   "outputs": [
    {
     "data": {
      "text/html": [
       "252"
      ],
      "text/latex": [
       "252"
      ],
      "text/markdown": [
       "252"
      ],
      "text/plain": [
       "[1] 252"
      ]
     },
     "metadata": {},
     "output_type": "display_data"
    }
   ],
   "source": [
    "length(df[, c(\"SPX_R\")]) - roll"
   ]
  },
  {
   "cell_type": "markdown",
   "metadata": {},
   "source": [
    "- 2nd: That's why we create R variables *in_sample_GARCH* and *in_sample_GARCHfit*, they include specifications for the in-traning-smaple model\n",
    "- 3rd: We define R variables *GARCH_mu_hat* and *GARCH_sigma_hat* as matricies to be filled by the folowing for loop. There we increase the training sample by 1 for every step in the loop.\n",
    "- 4th: then we can populate our *GARCH_mu_hat* and *GARCH_sigma_hat* matrices and compute our desiered R variables, *RV_no_GARCH_sigma_hat_na_dated*, *GARCHforecasterror*, a *stats_table* with statistics of our variables, and the [Root Mean Scuared Error](https://www.statisticshowto.com/probability-and-statistics/regression-analysis/rmse-root-mean-square-error/#:~:text=Root%20Mean%20Square%20Error%20(RMSE)%20is%20the%20standard%20deviation%20of,the%20line%20of%20best%20fit.) of our results."
   ]
  },
  {
   "cell_type": "code",
   "execution_count": 46,
   "metadata": {},
   "outputs": [],
   "source": [
    "GARCHprocess_ser = function(regressand = df[, c(\"SPX_R\")],\n",
    "                            roll = roll,\n",
    "                            exreg = NULL,\n",
    "                            mod = \"sGARCH\",\n",
    "                            RV = df[, c(\"SPX_RV\")],\n",
    "                            model_name)\n",
    "{\n",
    "    training_sample_size = length(regressand) - roll\n",
    "    in_sample_GARCH = GARCH_model_spec(mod = mod, exreg = exreg)\n",
    "    in_sample_GARCHfit = ugarchfit(data = list(regressand)[[1]][1:training_sample_size],\n",
    "                                   spec = in_sample_GARCH)\n",
    "    \n",
    "    GARCH_mu_hat = zoo(matrix(, nrow = roll, ncol = 1),\n",
    "                       as.Date(index(regressand[(training_sample_size+1):(training_sample_size+roll)])))\n",
    "    colnames(GARCH_mu_hat) = c('GARCH_mu_hat')\n",
    "    \n",
    "    GARCH_sigma_hat = zoo(matrix(, nrow=roll, ncol=1),\n",
    "                          as.Date(index(regressand[(training_sample_size+1):(training_sample_size+roll)])))\n",
    "    colnames(GARCH_sigma_hat) = c('GARCH_sigma_hat')\n",
    "    \n",
    "    for (i in c(1:roll))\n",
    "    {GARCH_spec = GARCH_model_spec(mod = mod, exreg = exreg)\n",
    "     try(\n",
    "         withTimeout({(\n",
    "             GARCHfit = ugarchfit(data = as.matrix(regressand)[1:((training_sample_size-1)+i)],\n",
    "                                  spec = GARCH_spec)\n",
    "         )}, timeout = 5),\n",
    "         silent = TRUE)\n",
    "     try((GARCHfitforecast = GARCH_model_forecast(mod = GARCHfit)), silent = TRUE\n",
    "         # suppressWarnings(expr)\n",
    "        )\n",
    "     try((GARCH_mu_hat[i] = GARCHfitforecast@forecast[[\"seriesFor\"]]), silent = TRUE)\n",
    "     try((GARCH_sigma_hat[i] = GARCHfitforecast@forecast[[\"sigmaFor\"]]), silent = TRUE)\n",
    "     rm(GARCH_spec)\n",
    "     rm(GARCHfit)\n",
    "     rm(GARCHfitforecast)\n",
    "    }\n",
    "    # fitted(GARCHfitforecast)\n",
    "    \n",
    "    RV_no_GARCH_sigma_hat_na_dated = as.matrix(\n",
    "        zoo(df[, c(\"SPX_RV\")]) - (na.omit(GARCH_sigma_hat*0)))\n",
    "    # This above is just a neat trick that returns strictly the RV (Realised Volatility) values corresponding to the dates for which GARCH11_sigma_hat values are not NA without any new functions or packages.\n",
    "    \n",
    "    # Forecast Error, Mean and S.D.:\n",
    "    GARCHforecasterror = (na.omit(GARCH_sigma_hat) - RV_no_GARCH_sigma_hat_na_dated)\n",
    "    colnames(GARCHforecasterror) = c(\"GARCHforecasterror\")\n",
    "    \n",
    "#     plot(zoo(GARCHforecasterror, as.Date(index(GARCHforecasterror))), \n",
    "#          type='l', ylab='GARCHforecasterror', xlab='Date')\n",
    "    \n",
    "    stats_table = Statistics_Table(paste(model_name, \" forecast error\", sep = \"\"),\n",
    "                                   na.omit(GARCHforecasterror))\n",
    "    \n",
    "    # RMSE of the sigma (standard deviations) of the forecast:\n",
    "    print(paste(\"RMSE of the sigma (standard deviations) of the forecast from the model \",\n",
    "                model_name, sep = \"\"))\n",
    "    print(rmse(RV_no_GARCH_sigma_hat_na_dated, (na.omit(GARCH_sigma_hat)))) # Note that this is the same as: sqrt(mean((RV[(252+1):(length(FTSE_R_matrix)+1)] - as.matrix((GARCH11fitforecast@forecast[[\"sigmaFor\"]]))[1:roll]) ^2))\n",
    "    \n",
    "    return(list(in_sample_GARCH,\n",
    "                in_sample_GARCHfit,\n",
    "                GARCH_mu_hat,\n",
    "                GARCH_sigma_hat,\n",
    "                RV_no_GARCH_sigma_hat_na_dated,\n",
    "                GARCHforecasterror,\n",
    "                stats_table,\n",
    "                rmse(RV_no_GARCH_sigma_hat_na_dated, (na.omit(GARCH_sigma_hat)))))\n",
    "}"
   ]
  },
  {
   "cell_type": "markdown",
   "metadata": {},
   "source": [
    "##### Parallel Functions"
   ]
  },
  {
   "cell_type": "markdown",
   "metadata": {},
   "source": [
    "This time we will try and create a *GARCHprocess_ser* but ask for it to be done in parallel, call it *GARCHprocess_par*, 'par' for 'parallel'.\n",
    "To do so, the *GARCHprocess_out_of_sample_par* R function is needed. You see, in order to parallelise our method, we use the R function *clusterApply* from the library *parallel*; this nessesitates the method to be fully self contained in order to send orders to each CPU (Computer Processing Unit); we thus go through steps such as importing the *rugarch* library and defining *GARCH_model_spec* and *GARCH_model_forecast* again:"
   ]
  },
  {
   "cell_type": "code",
   "execution_count": 47,
   "metadata": {},
   "outputs": [],
   "source": [
    "GARCHprocess_out_of_sample_par = function(StartEnd,\n",
    "                                          mod,\n",
    "                                          exreg,\n",
    "                                          roll,\n",
    "                                          regressand = df[, c(\"SPX_R\")]){\n",
    "\n",
    "    library(rugarch)\n",
    "    \n",
    "    tryCatch({\n",
    "        \n",
    "        training_sample_size = length(regressand) - roll\n",
    "        \n",
    "        GARCH_model_spec = function(mod, exreg)\n",
    "        {ugarchspec(variance.model = list(model = mod, garchOrder = c(1, 1),\n",
    "                                          external.regressors = exreg),\n",
    "                    mean.model = list(armaOrder = c(1, 0), include.mean = TRUE,\n",
    "                                      external.regressors = exreg),\n",
    "                    distribution.model = \"norm\")}\n",
    "        \n",
    "        GARCH_model_forecast = function(mod)\n",
    "        {ugarchforecast(mod, n.ahead = 1, n.roll = 0, data = NULL, out.sample = 0)}\n",
    "        \n",
    "        GARCH_spec = GARCH_model_spec(mod = mod, exreg = exreg)\n",
    "        GARCHfit = ugarchfit(data = as.matrix(regressand)[1:((training_sample_size-1)+StartEnd)], spec = GARCH_spec)\n",
    "        GARCHfitforecast = GARCH_model_forecast(mod = GARCHfit)\n",
    "        \n",
    "        return(list(GARCHfitforecast@forecast[[\"seriesFor\"]], GARCHfitforecast@forecast[[\"sigmaFor\"]]))\n",
    "    },\n",
    "             error = function(e){return(list(NA,NA))})\n",
    "}"
   ]
  },
  {
   "cell_type": "markdown",
   "metadata": {},
   "source": [
    "Incorporating a Parallel Computing Framework:"
   ]
  },
  {
   "cell_type": "code",
   "execution_count": 48,
   "metadata": {},
   "outputs": [],
   "source": [
    "GARCHprocess_par = function(regressand = df[, c(\"SPX_R\")],\n",
    "                            roll = roll,\n",
    "                            exreg = NULL,\n",
    "                            mod = \"sGARCH\",\n",
    "                            no_of_clusters = detectCores(logical = FALSE),\n",
    "                            RV = df[, c(\"SPX_RV\")],\n",
    "                            model_name = \"Econometric Method\")\n",
    "{\n",
    "    training_sample_size = length(regressand) - roll\n",
    "    in_sample_GARCH = GARCH_model_spec(mod = mod, exreg = exreg)\n",
    "    in_sample_GARCHfit = ugarchfit(data = list(regressand)[[1]][1:training_sample_size],\n",
    "                                   spec = in_sample_GARCH)\n",
    "    \n",
    "    GARCH_mu_hat = zoo(matrix(, nrow = roll, ncol = 1),\n",
    "                       as.Date(index(regressand[(training_sample_size+1):(training_sample_size+roll)])))\n",
    "    colnames(GARCH_mu_hat) = c('GARCH_mu_hat')\n",
    "    \n",
    "    GARCH_sigma_hat = zoo(matrix(, nrow = roll, ncol=1),\n",
    "                          as.Date(index(regressand[(training_sample_size+1):(training_sample_size+roll)])))\n",
    "    colnames(GARCH_sigma_hat) = c('GARCH_sigma_hat')\n",
    "    \n",
    "    \n",
    "    # Parallel part:\n",
    "    cl = makeCluster(no_of_clusters)\n",
    "    mu_and_sigma_out_of_sample = clusterApply(cl,\n",
    "                                              x = 1:roll, # StartEnd\n",
    "                                              fun = GARCHprocess_out_of_sample_par,\n",
    "                                              roll = roll,\n",
    "                                              mod = mod,\n",
    "                                              exreg = exreg,\n",
    "                                              regressand = df[, c(\"SPX_R\")])\n",
    "    stopCluster(cl)\n",
    "    \n",
    "    \n",
    "    # Back to series processing:\n",
    "    for (i in c(1:roll))\n",
    "    {try({GARCH_mu_hat[i] = mu_and_sigma_out_of_sample[[i]][[1]]}, silent = TRUE)\n",
    "     try({GARCH_sigma_hat[i] = mu_and_sigma_out_of_sample[[i]][[2]]}, silent = TRUE)}\n",
    "    \n",
    "    # The ' - (na.omit(GARCH_sigma_hat*0)) ' bellow is just a trick that returns strictly\n",
    "    # the RV (Realised Volatility) values corresponding to the dates for which\n",
    "    # GARCH11_sigma_hat values are not NA without any new functions or packages.\n",
    "    RV_no_GARCH_sigma_hat_na_dated = as.matrix(zoo(RV) - (na.omit(GARCH_sigma_hat*0)))\n",
    "    \n",
    "    # Forecast Error, Mean and S.D.:\n",
    "    GARCHforecasterror = (na.omit(GARCH_sigma_hat) - RV_no_GARCH_sigma_hat_na_dated)\n",
    "    colnames(GARCHforecasterror) = c(\"GARCHforecasterror\")\n",
    "    \n",
    "    #  plot(zoo(GARCHforecasterror, as.Date(index(GARCHforecasterror))), \n",
    "    #       type='l', ylab='GARCHforecasterror', xlab='Date')\n",
    "    \n",
    "    stats_table = Statistics_Table(paste(model_name, \" forecast error\", sep = \"\"),\n",
    "                                   na.omit(GARCHforecasterror))\n",
    "    \n",
    "    # RMSE of the sigma (standard deviations) of the forecast:\n",
    "    print(paste(\"RMSE of the sigma (standard deviations) of the forecast from the model \",\n",
    "                model_name, sep = \"\"))\n",
    "    print(rmse(RV_no_GARCH_sigma_hat_na_dated, (na.omit(GARCH_sigma_hat)))) # Note that this is the same as: sqrt(mean((RV[(252+1):(length(FTSE_R_matrix)+1)] - as.matrix((GARCH11fitforecast@forecast[[\"sigmaFor\"]]))[1:roll]) ^2))\n",
    "    \n",
    "    return(list(in_sample_GARCH,\n",
    "                in_sample_GARCHfit,\n",
    "                GARCH_mu_hat,\n",
    "                GARCH_sigma_hat,\n",
    "                RV_no_GARCH_sigma_hat_na_dated,\n",
    "                GARCHforecasterror,\n",
    "                stats_table,\n",
    "                rmse(RV_no_GARCH_sigma_hat_na_dated, (na.omit(GARCH_sigma_hat)))))\n",
    "}"
   ]
  },
  {
   "cell_type": "markdown",
   "metadata": {},
   "source": [
    "$$ \\\\ $$\n",
    "Saving our data this far to help with de-bugging if needed:"
   ]
  },
  {
   "cell_type": "code",
   "execution_count": 49,
   "metadata": {},
   "outputs": [],
   "source": [
    "save.image(file = \"IDaSRP_work_space_p4.00.02.RData\")\n",
    "# To restore your workspace, type this:\n",
    "# load(\"IDaSRP_work_space_p4.00.02.RData\")"
   ]
  },
  {
   "cell_type": "markdown",
   "metadata": {},
   "source": [
    "$$ \\\\ $$"
   ]
  },
  {
   "cell_type": "markdown",
   "metadata": {},
   "source": [
    "Now we can apply our newly defined R functions with a graph of our non-linear-variance model's results' errors when comparing them to $\\mathbf{SPX\\_RV}$. The graphs will only be there to give us visual confirmation that the R function worked properly:\n",
    "\n",
    "$$ \\\\ $$\n",
    "#### AR(1)-GARCH(1,1) Model"
   ]
  },
  {
   "cell_type": "markdown",
   "metadata": {},
   "source": [
    "Remember that we outlined our GARCH models as follows:\n",
    "\n",
    "GARCH(1,1) accounts for SFFR (iv) and (v) in addition to (iii) and non-normal unconditional distributions in levels, which works in parallel with SFFR (i). To do so, an MA component is added to the ARCH(1):\n",
    "\n",
    "$$\\begin{equation}\n",
    "    \\sigma_{t|t-1}^2 = c + \\alpha \\epsilon_{t-1}^2 + \\beta \\sigma_{t-1}^2\n",
    "\\end{equation}$$\n",
    "\n",
    "where elements are as aforementioned, $\\beta \\in \\mathbb{R}$ is positive and in this specific case: $(\\alpha + \\beta) < 1$ for stationarity. I implement the SVI factor with positive $\\delta \\in \\mathbb{R}$ - enabling us to study its effect on $R_t$'s variance - via:\n",
    "\n",
    "$$\\begin{equation}\n",
    "    \\sigma_{t|t-1}^2 = c + \\alpha \\epsilon_{t-1}^2 + \\beta \\sigma_{t-1}^2 + \\delta \\Delta SVI_{t-1}\n",
    "\\end{equation}$$\n",
    "\n",
    "Whilst GARCH models are a natural fit in this study by the virtues mentioned, “*in general, models that incorporate volatility asymmetry such as EGARCH and GJR-GARCH perform better*” (Poon and Granger (2003), p.507). Indeed, GARCH models cannot account for SFFR (v) of leverage effects, whereas GJRGARCH and EGACH models may; CPV therefore considered them too - as do I. The thicker bottom left tail of the EPDFs suggest such leverage effects."
   ]
  },
  {
   "cell_type": "markdown",
   "metadata": {},
   "source": [
    "##### Series"
   ]
  },
  {
   "cell_type": "code",
   "execution_count": 50,
   "metadata": {
    "collapsed": true,
    "jupyter": {
     "outputs_hidden": true
    }
   },
   "outputs": [
    {
     "name": "stderr",
     "output_type": "stream",
     "text": [
      "Warning message in .sgarchfit(spec = spec, data = data, out.sample = out.sample, :\n",
      "\"\n",
      "ugarchfit-->warning: solver failer to converge.\"\n"
     ]
    },
    {
     "name": "stdout",
     "output_type": "stream",
     "text": [
      "\n",
      "ugarchfilter-->error: parameters names do not match specification\n",
      "Expected Parameters are: mu ar1 omega alpha1 beta1\n"
     ]
    },
    {
     "name": "stderr",
     "output_type": "stream",
     "text": [
      "Warning message in rm(GARCHfitforecast):\n",
      "\"object 'GARCHfitforecast' not found\"\n",
      "Warning message in .sgarchfit(spec = spec, data = data, out.sample = out.sample, :\n",
      "\"\n",
      "ugarchfit-->warning: solver failer to converge.\"\n"
     ]
    },
    {
     "name": "stdout",
     "output_type": "stream",
     "text": [
      "\n",
      "ugarchfilter-->error: parameters names do not match specification\n",
      "Expected Parameters are: mu ar1 omega alpha1 beta1\n"
     ]
    },
    {
     "name": "stderr",
     "output_type": "stream",
     "text": [
      "Warning message in rm(GARCHfitforecast):\n",
      "\"object 'GARCHfitforecast' not found\"\n",
      "Warning message in .sgarchfit(spec = spec, data = data, out.sample = out.sample, :\n",
      "\"\n",
      "ugarchfit-->warning: solver failer to converge.\"\n"
     ]
    },
    {
     "name": "stdout",
     "output_type": "stream",
     "text": [
      "\n",
      "ugarchfilter-->error: parameters names do not match specification\n",
      "Expected Parameters are: mu ar1 omega alpha1 beta1\n"
     ]
    },
    {
     "name": "stderr",
     "output_type": "stream",
     "text": [
      "Warning message in rm(GARCHfitforecast):\n",
      "\"object 'GARCHfitforecast' not found\"\n",
      "Warning message in .sgarchfit(spec = spec, data = data, out.sample = out.sample, :\n",
      "\"\n",
      "ugarchfit-->warning: solver failer to converge.\"\n"
     ]
    },
    {
     "name": "stdout",
     "output_type": "stream",
     "text": [
      "\n",
      "ugarchfilter-->error: parameters names do not match specification\n",
      "Expected Parameters are: mu ar1 omega alpha1 beta1\n"
     ]
    },
    {
     "name": "stderr",
     "output_type": "stream",
     "text": [
      "Warning message in rm(GARCHfitforecast):\n",
      "\"object 'GARCHfitforecast' not found\"\n"
     ]
    },
    {
     "name": "stdout",
     "output_type": "stream",
     "text": [
      "[1] \"RMSE of the sigma (standard deviations) of the forecast from the model GARCH11_ser\"\n",
      "[1] 0.00427858\n"
     ]
    }
   ],
   "source": [
    "GARCH11process_series = GARCHprocess_ser(regressand = df[, c(\"SPX_R\")],\n",
    "                                         roll = roll, mod = \"sGARCH\",\n",
    "                                         exreg = NULL,\n",
    "                                         model_name = \"GARCH11_ser\",\n",
    "                                         RV = df[, c(\"SPX_RV\")])"
   ]
  },
  {
   "cell_type": "code",
   "execution_count": 51,
   "metadata": {},
   "outputs": [],
   "source": [
    "in_sample_GARCH11_ser = GARCH11process_series[[1]]\n",
    "in_sample_GARCH11fit_ser = GARCH11process_series[[2]]\n",
    "GARCH11_mu_hat_ser = GARCH11process_series[[3]]\n",
    "GARCH11_sigma_hat_ser = GARCH11process_series[[4]]\n",
    "RV_no_GARCH11_sigma_hat_na_dated_ser = GARCH11process_series[[5]]\n",
    "GARCH11forecasterror_ser = GARCH11process_series[[6]]\n",
    "GARCH11_stats_table_ser = GARCH11process_series[[7]]\n",
    "GARCH11_rmse_ser = GARCH11process_series[[8]]"
   ]
  },
  {
   "cell_type": "code",
   "execution_count": 52,
   "metadata": {},
   "outputs": [
    {
     "data": {
      "image/png": "[encoded data removed]",
      "text/plain": [
       "Plot with title \"\""
      ]
     },
     "metadata": {
      "image/png": {
       "height": 420,
       "width": 420
      },
      "text/plain": {
       "height": 420,
       "width": 420
      }
     },
     "output_type": "display_data"
    }
   ],
   "source": [
    "plot(zoo(GARCH11forecasterror_ser, as.Date(index(GARCH11forecasterror_ser))), \n",
    "     type='l', ylab='GARCH11forecasterror_ser', xlab='Date')"
   ]
  },
  {
   "cell_type": "markdown",
   "metadata": {},
   "source": [
    "$$ \\\\ $$\n",
    "Saving our data this far to help with de-bugging if needed:"
   ]
  },
  {
   "cell_type": "code",
   "execution_count": 53,
   "metadata": {},
   "outputs": [],
   "source": [
    "save.image(file = \"IDaSRP_work_space_p4.00.03.RData\")\n",
    "# To restore your workspace, type this:\n",
    "# load(\"IDaSRP_work_space_p4.00.03.RData\")"
   ]
  },
  {
   "cell_type": "markdown",
   "metadata": {},
   "source": [
    "##### Parallel"
   ]
  },
  {
   "cell_type": "code",
   "execution_count": 54,
   "metadata": {},
   "outputs": [
    {
     "name": "stdout",
     "output_type": "stream",
     "text": [
      "[1] \"RMSE of the sigma (standard deviations) of the forecast from the model GARCH11_par\"\n",
      "[1] 0.004278812\n"
     ]
    }
   ],
   "source": [
    "GARCH11process_parallel = GARCHprocess_par(regressand = df[, c(\"SPX_R\")],\n",
    "                                           roll = roll, exreg = NULL, mod = \"sGARCH\",\n",
    "                                           no_of_clusters = detectCores(logical = FALSE),\n",
    "                                           RV = df[, c(\"SPX_RV\")], model_name = \"GARCH11_par\")"
   ]
  },
  {
   "cell_type": "code",
   "execution_count": 55,
   "metadata": {},
   "outputs": [],
   "source": [
    "in_sample_GARCH11_par = GARCH11process_parallel[[1]]\n",
    "in_sample_GARCH11fit_par = GARCH11process_parallel[[2]]\n",
    "GARCH11_mu_hat_par = GARCH11process_parallel[[3]]\n",
    "GARCH11_sigma_hat_par = GARCH11process_parallel[[4]]\n",
    "RV_no_GARCH11_sigma_hat_na_dated_par = GARCH11process_parallel[[5]]\n",
    "GARCH11forecasterror_par = GARCH11process_parallel[[6]]\n",
    "GARCH11_stats_table_par = GARCH11process_parallel[[7]]\n",
    "GARCH11_rmse_par = GARCH11process_parallel[[8]]"
   ]
  },
  {
   "cell_type": "code",
   "execution_count": 56,
   "metadata": {},
   "outputs": [
    {
     "data": {
      "image/png": "[encoded data removed]",
      "text/plain": [
       "Plot with title \"\""
      ]
     },
     "metadata": {
      "image/png": {
       "height": 420,
       "width": 420
      },
      "text/plain": {
       "height": 420,
       "width": 420
      }
     },
     "output_type": "display_data"
    }
   ],
   "source": [
    "plot(zoo(GARCH11forecasterror_par, as.Date(index(GARCH11forecasterror_par))), \n",
    "     type='l', ylab='GARCH11forecasterror_par', xlab='Date')"
   ]
  },
  {
   "cell_type": "markdown",
   "metadata": {},
   "source": [
    "$$ \\\\ $$\n",
    "Saving our data this far to help with de-bugging if needed:"
   ]
  },
  {
   "cell_type": "code",
   "execution_count": 57,
   "metadata": {},
   "outputs": [],
   "source": [
    "save.image(file = \"IDaSRP_work_space_p4.00.04.RData\")\n",
    "# To restore your workspace, type this:\n",
    "# load(\"IDaSRP_work_space_p4.00.04.RData\")"
   ]
  },
  {
   "cell_type": "markdown",
   "metadata": {},
   "source": [
    "$$ \\\\ $$\n",
    "#### AR(1)-GARCH(1,1)-SVI Model"
   ]
  },
  {
   "cell_type": "markdown",
   "metadata": {},
   "source": [
    "##### Series"
   ]
  },
  {
   "cell_type": "code",
   "execution_count": 58,
   "metadata": {
    "collapsed": true,
    "jupyter": {
     "outputs_hidden": true
    }
   },
   "outputs": [
    {
     "name": "stderr",
     "output_type": "stream",
     "text": [
      "Warning message in .sgarchfit(spec = spec, data = data, out.sample = out.sample, :\n",
      "\"\n",
      "ugarchfit-->warning: solver failer to converge.\"\n"
     ]
    },
    {
     "name": "stdout",
     "output_type": "stream",
     "text": [
      "\n",
      "ugarchfilter-->error: parameters names do not match specification\n",
      "Expected Parameters are: mu ar1 mxreg1 omega alpha1 beta1 vxreg1\n"
     ]
    },
    {
     "name": "stderr",
     "output_type": "stream",
     "text": [
      "Warning message in rm(GARCHfitforecast):\n",
      "\"object 'GARCHfitforecast' not found\"\n",
      "Warning message in .sgarchfit(spec = spec, data = data, out.sample = out.sample, :\n",
      "\"\n",
      "ugarchfit-->warning: solver failer to converge.\"\n"
     ]
    },
    {
     "name": "stdout",
     "output_type": "stream",
     "text": [
      "\n",
      "ugarchfilter-->error: parameters names do not match specification\n",
      "Expected Parameters are: mu ar1 mxreg1 omega alpha1 beta1 vxreg1\n"
     ]
    },
    {
     "name": "stderr",
     "output_type": "stream",
     "text": [
      "Warning message in rm(GARCHfitforecast):\n",
      "\"object 'GARCHfitforecast' not found\"\n",
      "Warning message in sqrt(ans$h):\n",
      "\"NaNs produced\"\n",
      "Warning message in sqrt(ans$h):\n",
      "\"NaNs produced\"\n",
      "Warning message in sqrt(ans$h):\n",
      "\"NaNs produced\"\n",
      "Warning message in sqrt(ans$h):\n",
      "\"NaNs produced\"\n",
      "Warning message in sqrt(ans$h):\n",
      "\"NaNs produced\"\n",
      "Warning message in sqrt(ans$h):\n",
      "\"NaNs produced\"\n",
      "Warning message in sqrt(ans$h):\n",
      "\"NaNs produced\"\n",
      "Warning message in sqrt(ans$h):\n",
      "\"NaNs produced\"\n",
      "Warning message in sqrt(ans$h):\n",
      "\"NaNs produced\"\n",
      "Warning message in sqrt(ans$h):\n",
      "\"NaNs produced\"\n",
      "Warning message in sqrt(ans$h):\n",
      "\"NaNs produced\"\n",
      "Warning message in sqrt(ans$h):\n",
      "\"NaNs produced\"\n",
      "Warning message in sqrt(ans$h):\n",
      "\"NaNs produced\"\n",
      "Warning message in sqrt(ans$h):\n",
      "\"NaNs produced\"\n",
      "Warning message in sqrt(ans$h):\n",
      "\"NaNs produced\"\n",
      "Warning message in sqrt(ans$h):\n",
      "\"NaNs produced\"\n",
      "Warning message in sqrt(ans$h):\n",
      "\"NaNs produced\"\n",
      "Warning message in sqrt(ans$h):\n",
      "\"NaNs produced\"\n",
      "Warning message in sqrt(ans$h):\n",
      "\"NaNs produced\"\n",
      "Warning message in sqrt(ans$h):\n",
      "\"NaNs produced\"\n",
      "Warning message in sqrt(ans$h):\n",
      "\"NaNs produced\"\n",
      "Warning message in sqrt(ans$h):\n",
      "\"NaNs produced\"\n",
      "Warning message in sqrt(ans$h):\n",
      "\"NaNs produced\"\n",
      "Warning message in sqrt(ans$h):\n",
      "\"NaNs produced\"\n",
      "Warning message in sqrt(ans$h):\n",
      "\"NaNs produced\"\n",
      "Warning message in sqrt(ans$h):\n",
      "\"NaNs produced\"\n",
      "Warning message in sqrt(ans$h):\n",
      "\"NaNs produced\"\n",
      "Warning message in sqrt(ans$h):\n",
      "\"NaNs produced\"\n",
      "Warning message in sqrt(ans$h):\n",
      "\"NaNs produced\"\n",
      "Warning message in sqrt(ans$h):\n",
      "\"NaNs produced\"\n",
      "Warning message in sqrt(ans$h):\n",
      "\"NaNs produced\"\n",
      "Warning message in sqrt(ans$h):\n",
      "\"NaNs produced\"\n",
      "Warning message in sqrt(ans$h):\n",
      "\"NaNs produced\"\n",
      "Warning message in sqrt(ans$h):\n",
      "\"NaNs produced\"\n",
      "Warning message in sqrt(ans$h):\n",
      "\"NaNs produced\"\n",
      "Warning message in sqrt(ans$h):\n",
      "\"NaNs produced\"\n",
      "Warning message in sqrt(ans$h):\n",
      "\"NaNs produced\"\n",
      "Warning message in sqrt(ans$h):\n",
      "\"NaNs produced\"\n",
      "Warning message in sqrt(ans$h):\n",
      "\"NaNs produced\"\n",
      "Warning message in sqrt(ans$h):\n",
      "\"NaNs produced\"\n",
      "Warning message in sqrt(ans$h):\n",
      "\"NaNs produced\"\n",
      "Warning message in sqrt(ans$h):\n",
      "\"NaNs produced\"\n",
      "Warning message in sqrt(ans$h):\n",
      "\"NaNs produced\"\n",
      "Warning message in sqrt(ans$h):\n",
      "\"NaNs produced\"\n",
      "Warning message in sqrt(ans$h):\n",
      "\"NaNs produced\"\n",
      "Warning message in sqrt(ans$h):\n",
      "\"NaNs produced\"\n",
      "Warning message in sqrt(ans$h):\n",
      "\"NaNs produced\"\n",
      "Warning message in sqrt(ans$h):\n",
      "\"NaNs produced\"\n",
      "Warning message in sqrt(ans$h):\n",
      "\"NaNs produced\"\n",
      "Warning message in sqrt(ans$h):\n",
      "\"NaNs produced\"\n",
      "Warning message in .sgarchfit(spec = spec, data = data, out.sample = out.sample, :\n",
      "\"\n",
      "ugarchfit-->warning: solver failer to converge.\"\n"
     ]
    },
    {
     "name": "stdout",
     "output_type": "stream",
     "text": [
      "\n",
      "ugarchfilter-->error: parameters names do not match specification\n",
      "Expected Parameters are: mu ar1 mxreg1 omega alpha1 beta1 vxreg1\n"
     ]
    },
    {
     "name": "stderr",
     "output_type": "stream",
     "text": [
      "Warning message in rm(GARCHfitforecast):\n",
      "\"object 'GARCHfitforecast' not found\"\n",
      "Warning message in sqrt(ans$h):\n",
      "\"NaNs produced\"\n",
      "Warning message in sqrt(ans$h):\n",
      "\"NaNs produced\"\n",
      "Warning message in sqrt(ans$h):\n",
      "\"NaNs produced\"\n",
      "Warning message in sqrt(ans$h):\n",
      "\"NaNs produced\"\n",
      "Warning message in sqrt(ans$h):\n",
      "\"NaNs produced\"\n",
      "Warning message in sqrt(ans$h):\n",
      "\"NaNs produced\"\n",
      "Warning message in sqrt(ans$h):\n",
      "\"NaNs produced\"\n",
      "Warning message in sqrt(ans$h):\n",
      "\"NaNs produced\"\n",
      "Warning message in sqrt(ans$h):\n",
      "\"NaNs produced\"\n",
      "Warning message in sqrt(ans$h):\n",
      "\"NaNs produced\"\n",
      "Warning message in .sgarchfit(spec = spec, data = data, out.sample = out.sample, :\n",
      "\"\n",
      "ugarchfit-->warning: solver failer to converge.\"\n"
     ]
    },
    {
     "name": "stdout",
     "output_type": "stream",
     "text": [
      "\n",
      "ugarchfilter-->error: parameters names do not match specification\n",
      "Expected Parameters are: mu ar1 mxreg1 omega alpha1 beta1 vxreg1\n"
     ]
    },
    {
     "name": "stderr",
     "output_type": "stream",
     "text": [
      "Warning message in rm(GARCHfitforecast):\n",
      "\"object 'GARCHfitforecast' not found\"\n",
      "Warning message in sqrt(ans$h):\n",
      "\"NaNs produced\"\n",
      "Warning message in sqrt(ans$h):\n",
      "\"NaNs produced\"\n",
      "Warning message in sqrt(ans$h):\n",
      "\"NaNs produced\"\n",
      "Warning message in sqrt(ans$h):\n",
      "\"NaNs produced\"\n",
      "Warning message in sqrt(ans$h):\n",
      "\"NaNs produced\"\n",
      "Warning message in sqrt(ans$h):\n",
      "\"NaNs produced\"\n",
      "Warning message in sqrt(ans$h):\n",
      "\"NaNs produced\"\n",
      "Warning message in sqrt(ans$h):\n",
      "\"NaNs produced\"\n",
      "Warning message in sqrt(ans$h):\n",
      "\"NaNs produced\"\n",
      "Warning message in .sgarchfit(spec = spec, data = data, out.sample = out.sample, :\n",
      "\"\n",
      "ugarchfit-->warning: solver failer to converge.\"\n"
     ]
    },
    {
     "name": "stdout",
     "output_type": "stream",
     "text": [
      "\n",
      "ugarchfilter-->error: parameters names do not match specification\n",
      "Expected Parameters are: mu ar1 mxreg1 omega alpha1 beta1 vxreg1\n"
     ]
    },
    {
     "name": "stderr",
     "output_type": "stream",
     "text": [
      "Warning message in rm(GARCHfitforecast):\n",
      "\"object 'GARCHfitforecast' not found\"\n",
      "Warning message in sqrt(ans$h):\n",
      "\"NaNs produced\"\n",
      "Warning message in sqrt(ans$h):\n",
      "\"NaNs produced\"\n",
      "Warning message in sqrt(ans$h):\n",
      "\"NaNs produced\"\n",
      "Warning message in sqrt(ans$h):\n",
      "\"NaNs produced\"\n",
      "Warning message in sqrt(ans$h):\n",
      "\"NaNs produced\"\n",
      "Warning message in .sgarchfit(spec = spec, data = data, out.sample = out.sample, :\n",
      "\"\n",
      "ugarchfit-->warning: solver failer to converge.\"\n"
     ]
    },
    {
     "name": "stdout",
     "output_type": "stream",
     "text": [
      "\n",
      "ugarchfilter-->error: parameters names do not match specification\n",
      "Expected Parameters are: mu ar1 mxreg1 omega alpha1 beta1 vxreg1\n"
     ]
    },
    {
     "name": "stderr",
     "output_type": "stream",
     "text": [
      "Warning message in rm(GARCHfitforecast):\n",
      "\"object 'GARCHfitforecast' not found\"\n"
     ]
    },
    {
     "name": "stdout",
     "output_type": "stream",
     "text": [
      "[1] \"RMSE of the sigma (standard deviations) of the forecast from the model GARCH11SVI_ser\"\n",
      "[1] 0.004297524\n"
     ]
    }
   ],
   "source": [
    "GARCH11SVIprocess_series = GARCHprocess_ser(regressand = df[, c(\"SPX_R\")],\n",
    "                                            roll = roll, mod = \"sGARCH\",\n",
    "                                            exreg = matrix(df[, c(\"SPX_dSVI\")]),\n",
    "                                            model_name = \"GARCH11SVI_ser\",\n",
    "                                            RV = df[, c(\"SPX_RV\")])"
   ]
  },
  {
   "cell_type": "code",
   "execution_count": 59,
   "metadata": {},
   "outputs": [],
   "source": [
    "in_sample_GARCH11SVI_ser = GARCH11SVIprocess_series[[1]]\n",
    "in_sample_GARCH11SVIfit_ser = GARCH11SVIprocess_series[[2]]\n",
    "GARCH11SVI_mu_hat_ser = GARCH11SVIprocess_series[[3]]\n",
    "GARCH11SVI_sigma_hat_ser = GARCH11SVIprocess_series[[4]]\n",
    "RV_no_GARCH11SVI_sigma_hat_na_dated_ser = GARCH11SVIprocess_series[[5]]\n",
    "GARCH11SVIforecasterror_ser = GARCH11SVIprocess_series[[6]]\n",
    "GARCH11SVI_stats_table_ser = GARCH11SVIprocess_series[[7]]\n",
    "GARCH11SVI_rmse_ser = GARCH11SVIprocess_series[[8]]"
   ]
  },
  {
   "cell_type": "code",
   "execution_count": 60,
   "metadata": {},
   "outputs": [
    {
     "data": {
      "image/png": "[encoded data removed]",
      "text/plain": [
       "Plot with title \"\""
      ]
     },
     "metadata": {
      "image/png": {
       "height": 420,
       "width": 420
      },
      "text/plain": {
       "height": 420,
       "width": 420
      }
     },
     "output_type": "display_data"
    }
   ],
   "source": [
    "plot(zoo(GARCH11SVIforecasterror_ser, as.Date(index(GARCH11SVIforecasterror_ser))), \n",
    "     type='l', ylab='GARCH11SVIforecasterror_ser', xlab='Date')"
   ]
  },
  {
   "cell_type": "markdown",
   "metadata": {},
   "source": [
    "$$ \\\\ $$\n",
    "Saving our data this far to help with de-bugging if needed:"
   ]
  },
  {
   "cell_type": "code",
   "execution_count": 61,
   "metadata": {},
   "outputs": [],
   "source": [
    "save.image(file = \"IDaSRP_work_space_p4.00.05.RData\")\n",
    "# To restore your workspace, type this:\n",
    "# load(\"IDaSRP_work_space_p4.00.05.RData\")"
   ]
  },
  {
   "cell_type": "markdown",
   "metadata": {},
   "source": [
    "##### Parallel"
   ]
  },
  {
   "cell_type": "code",
   "execution_count": 62,
   "metadata": {},
   "outputs": [
    {
     "name": "stdout",
     "output_type": "stream",
     "text": [
      "[1] \"RMSE of the sigma (standard deviations) of the forecast from the model GARCH11SVI_par\"\n",
      "[1] 0.004298738\n"
     ]
    }
   ],
   "source": [
    "GARCH11SVIprocess_parallel = GARCHprocess_par(regressand = df[, c(\"SPX_R\")],\n",
    "                                          roll = roll,\n",
    "                                          mod = \"sGARCH\",\n",
    "                                          exreg = matrix(df[, c(\"SPX_dSVI\")]),\n",
    "                                          no_of_clusters = detectCores(logical = FALSE),\n",
    "                                          model_name = \"GARCH11SVI_par\",\n",
    "                                          RV = df[, c(\"SPX_RV\")])"
   ]
  },
  {
   "cell_type": "code",
   "execution_count": 63,
   "metadata": {},
   "outputs": [],
   "source": [
    "in_sample_GARCH11SVI_par = GARCH11SVIprocess_parallel[[1]]\n",
    "in_sample_GARCH11SVIfit_par = GARCH11SVIprocess_parallel[[2]]\n",
    "GARCH11SVI_mu_hat_par = GARCH11SVIprocess_parallel[[3]]\n",
    "GARCH11SVI_sigma_hat_par = GARCH11SVIprocess_parallel[[4]]\n",
    "RV_no_GARCH11SVI_sigma_hat_na_dated_par = GARCH11SVIprocess_parallel[[5]]\n",
    "GARCH11SVIforecasterror_par = GARCH11SVIprocess_parallel[[6]]\n",
    "GARCH11SVI_stats_table_par = GARCH11SVIprocess_parallel[[7]]\n",
    "GARCH11SVI_rmse_par = GARCH11SVIprocess_parallel[[8]]"
   ]
  },
  {
   "cell_type": "code",
   "execution_count": 64,
   "metadata": {},
   "outputs": [
    {
     "data": {
      "image/png": "[encoded data removed]",
      "text/plain": [
       "Plot with title \"\""
      ]
     },
     "metadata": {
      "image/png": {
       "height": 420,
       "width": 420
      },
      "text/plain": {
       "height": 420,
       "width": 420
      }
     },
     "output_type": "display_data"
    }
   ],
   "source": [
    "plot(zoo(GARCH11SVIforecasterror_par, as.Date(index(GARCH11SVIforecasterror_par))), \n",
    "     type='l', ylab='GARCH11forecasterror_par', xlab='Date')"
   ]
  },
  {
   "cell_type": "markdown",
   "metadata": {},
   "source": [
    "$$ \\\\ $$\n",
    "Saving our data this far to help with de-bugging if needed:"
   ]
  },
  {
   "cell_type": "code",
   "execution_count": 65,
   "metadata": {},
   "outputs": [],
   "source": [
    "save.image(file = \"IDaSRP_work_space_p4.00.06.RData\")\n",
    "# To restore your workspace, type this:\n",
    "# load(\"IDaSRP_work_space_p4.00.06.RData\")"
   ]
  },
  {
   "cell_type": "markdown",
   "metadata": {},
   "source": [
    "$$ \\\\ $$\n",
    "\n",
    "#### GJRGARCH Models\n",
    "\n",
    "GJRGARCH models account for asymmetry (SFFR (i)) via the last summand in\n",
    "\n",
    "$$\\begin{equation}\n",
    "    \\sigma_{t|t-1}^2 = c + \\alpha \\epsilon_{t-1}^2 + \\beta \\sigma_{t-i}^2 + \\gamma I(\\epsilon_{t-1}<0) \\epsilon_{t-1}^2\n",
    "\\end{equation}$$\n",
    "\n",
    "and second to last in\n",
    "$$\\begin{equation}\n",
    "    \\sigma_{t|t-1}^2 = c + \\alpha \\epsilon_{t-1}^2 + \\beta \\sigma_{t-1}^2 + \\gamma I(\\epsilon_{t-1}<0) \\epsilon_{t-1}^2 + \\delta \\Delta SVI_{t-1}\n",
    "\\end{equation}$$\n",
    "where a leverage case would result in $\\gamma > 0$, and $I(\\cdot)$ is the indicator function returning $1$ if its bracketed statement is true, $0$ otherwise - in this case:\n",
    "\n",
    "$$\\begin{equation}\n",
    "    I(\\epsilon_{t-1}<0) = \\begin{Bmatrix} 1 & \\text{if } \\epsilon_{t-1}<0 \\\\ 0 & \\text{otherwise} \\end{Bmatrix} .\n",
    "\\end{equation}$$"
   ]
  },
  {
   "cell_type": "markdown",
   "metadata": {},
   "source": [
    "$$ \\\\ $$\n",
    "#### AR(1)-GJRGARCH(1,1) Model"
   ]
  },
  {
   "cell_type": "markdown",
   "metadata": {},
   "source": [
    "##### Series"
   ]
  },
  {
   "cell_type": "code",
   "execution_count": 66,
   "metadata": {
    "collapsed": true,
    "jupyter": {
     "outputs_hidden": true
    }
   },
   "outputs": [
    {
     "name": "stderr",
     "output_type": "stream",
     "text": [
      "Warning message in .sgarchfit(spec = spec, data = data, out.sample = out.sample, :\n",
      "\"\n",
      "ugarchfit-->warning: solver failer to converge.\"\n"
     ]
    },
    {
     "name": "stdout",
     "output_type": "stream",
     "text": [
      "\n",
      "ugarchfilter-->error: parameters names do not match specification\n",
      "Expected Parameters are: mu ar1 omega alpha1 beta1\n"
     ]
    },
    {
     "name": "stderr",
     "output_type": "stream",
     "text": [
      "Warning message in rm(GARCHfitforecast):\n",
      "\"object 'GARCHfitforecast' not found\"\n",
      "Warning message in .sgarchfit(spec = spec, data = data, out.sample = out.sample, :\n",
      "\"\n",
      "ugarchfit-->warning: solver failer to converge.\"\n"
     ]
    },
    {
     "name": "stdout",
     "output_type": "stream",
     "text": [
      "\n",
      "ugarchfilter-->error: parameters names do not match specification\n",
      "Expected Parameters are: mu ar1 omega alpha1 beta1\n"
     ]
    },
    {
     "name": "stderr",
     "output_type": "stream",
     "text": [
      "Warning message in rm(GARCHfitforecast):\n",
      "\"object 'GARCHfitforecast' not found\"\n"
     ]
    },
    {
     "name": "stdout",
     "output_type": "stream",
     "text": [
      "[1] \"RMSE of the sigma (standard deviations) of the forecast from the model GJRGARCH11_ser\"\n",
      "[1] 0.004277899\n"
     ]
    }
   ],
   "source": [
    "GJRGARCH11process_series = GARCHprocess_ser(regressand = df[, c(\"SPX_R\")],\n",
    "                                         roll = roll, mod = \"sGARCH\",\n",
    "                                         exreg = NULL,\n",
    "                                         model_name = \"GJRGARCH11_ser\",\n",
    "                                         RV = df[, c(\"SPX_RV\")])"
   ]
  },
  {
   "cell_type": "code",
   "execution_count": 67,
   "metadata": {},
   "outputs": [],
   "source": [
    "in_sample_GJRGARCH11_ser = GJRGARCH11process_series[[1]]\n",
    "in_sample_GJRGARCH11fit_ser = GJRGARCH11process_series[[2]]\n",
    "GJRGARCH11_mu_hat_ser = GJRGARCH11process_series[[3]]\n",
    "GJRGARCH11_sigma_hat_ser = GJRGARCH11process_series[[4]]\n",
    "RV_no_GJRGARCH11_sigma_hat_na_dated_ser = GJRGARCH11process_series[[5]]\n",
    "GJRGARCH11forecasterror_ser = GJRGARCH11process_series[[6]]\n",
    "GJRGARCH11_stats_table_ser = GJRGARCH11process_series[[7]]\n",
    "GJRGARCH11_rmse_ser = GJRGARCH11process_series[[8]]"
   ]
  },
  {
   "cell_type": "code",
   "execution_count": 68,
   "metadata": {},
   "outputs": [
    {
     "data": {
      "image/png": "[encoded data removed]",
      "text/plain": [
       "Plot with title \"\""
      ]
     },
     "metadata": {
      "image/png": {
       "height": 420,
       "width": 420
      },
      "text/plain": {
       "height": 420,
       "width": 420
      }
     },
     "output_type": "display_data"
    }
   ],
   "source": [
    "plot(zoo(GJRGARCH11forecasterror_ser, as.Date(index(GJRGARCH11forecasterror_ser))), \n",
    "     type='l', ylab='GJRGARCH11forecasterror_ser', xlab='Date')"
   ]
  },
  {
   "cell_type": "markdown",
   "metadata": {},
   "source": [
    "$$ \\\\ $$\n",
    "Saving our data this far to help with de-bugging if needed:"
   ]
  },
  {
   "cell_type": "code",
   "execution_count": 69,
   "metadata": {},
   "outputs": [],
   "source": [
    "save.image(file = \"IDaSRP_work_space_p4.00.07.RData\")\n",
    "# To restore your workspace, type this:\n",
    "# load(\"IDaSRP_work_space_p4.00.07.RData\")"
   ]
  },
  {
   "cell_type": "markdown",
   "metadata": {},
   "source": [
    "##### Parallel"
   ]
  },
  {
   "cell_type": "code",
   "execution_count": 70,
   "metadata": {},
   "outputs": [
    {
     "name": "stdout",
     "output_type": "stream",
     "text": [
      "[1] \"RMSE of the sigma (standard deviations) of the forecast from the model GJRGARCH11_par\"\n",
      "[1] 0.003897316\n"
     ]
    }
   ],
   "source": [
    "# Parallel:\n",
    "GJRGARCH11process_parallel = GARCHprocess_par(regressand = df[, c(\"SPX_R\")],\n",
    "                                          roll = roll,\n",
    "                                          mod = \"gjrGARCH\",\n",
    "                                          exreg = NULL,\n",
    "                                          no_of_clusters = detectCores(logical = FALSE),\n",
    "                                          model_name = \"GJRGARCH11_par\",\n",
    "                                          RV = df[, c(\"SPX_RV\")])"
   ]
  },
  {
   "cell_type": "code",
   "execution_count": 124,
   "metadata": {},
   "outputs": [],
   "source": [
    "in_sample_GJRGARCH11_par = GJRGARCH11process_parallel[[1]]\n",
    "in_sample_GJRGARCH11fit_par = GJRGARCH11process_parallel[[2]]\n",
    "GJRGARCH11_mu_hat_par = GJRGARCH11process_parallel[[3]]\n",
    "GJRGARCH11_sigma_hat_par = GJRGARCH11process_parallel[[4]]\n",
    "RV_no_GJRGARCH11_sigma_hat_na_dated_par = GJRGARCH11process_parallel[[5]]\n",
    "GJRGARCH11forecasterror_par = GJRGARCH11process_parallel[[6]]\n",
    "GJRGARCH11_stats_table_par = GJRGARCH11process_parallel[[7]]\n",
    "GJRGARCH11_rmse_par = GJRGARCH11process_parallel[[8]]"
   ]
  },
  {
   "cell_type": "markdown",
   "metadata": {},
   "source": [
    "$$ \\\\ $$\n",
    "Saving our data this far to help with de-bugging if needed:"
   ]
  },
  {
   "cell_type": "code",
   "execution_count": 72,
   "metadata": {},
   "outputs": [],
   "source": [
    "save.image(file = \"IDaSRP_work_space_p4.00.08.RData\")\n",
    "# To restore your workspace, type this:\n",
    "# load(\"IDaSRP_work_space_p4.00.08.RData\")"
   ]
  },
  {
   "cell_type": "markdown",
   "metadata": {},
   "source": [
    "$$ \\\\ $$\n",
    "#### AR(1)-GJRGARCH(1,1)-SVI Model"
   ]
  },
  {
   "cell_type": "markdown",
   "metadata": {},
   "source": [
    "##### Series"
   ]
  },
  {
   "cell_type": "code",
   "execution_count": 73,
   "metadata": {
    "collapsed": true,
    "jupyter": {
     "outputs_hidden": true
    }
   },
   "outputs": [
    {
     "name": "stderr",
     "output_type": "stream",
     "text": [
      "Warning message in .sgarchfit(spec = spec, data = data, out.sample = out.sample, :\n",
      "\"\n",
      "ugarchfit-->warning: solver failer to converge.\"\n"
     ]
    },
    {
     "name": "stdout",
     "output_type": "stream",
     "text": [
      "\n",
      "ugarchfilter-->error: parameters names do not match specification\n",
      "Expected Parameters are: mu ar1 mxreg1 omega alpha1 beta1 vxreg1\n"
     ]
    },
    {
     "name": "stderr",
     "output_type": "stream",
     "text": [
      "Warning message in rm(GARCHfitforecast):\n",
      "\"object 'GARCHfitforecast' not found\"\n",
      "Warning message in .sgarchfit(spec = spec, data = data, out.sample = out.sample, :\n",
      "\"\n",
      "ugarchfit-->warning: solver failer to converge.\"\n"
     ]
    },
    {
     "name": "stdout",
     "output_type": "stream",
     "text": [
      "\n",
      "ugarchfilter-->error: parameters names do not match specification\n",
      "Expected Parameters are: mu ar1 mxreg1 omega alpha1 beta1 vxreg1\n"
     ]
    },
    {
     "name": "stderr",
     "output_type": "stream",
     "text": [
      "Warning message in rm(GARCHfitforecast):\n",
      "\"object 'GARCHfitforecast' not found\"\n",
      "Warning message in sqrt(ans$h):\n",
      "\"NaNs produced\"\n",
      "Warning message in sqrt(ans$h):\n",
      "\"NaNs produced\"\n",
      "Warning message in sqrt(ans$h):\n",
      "\"NaNs produced\"\n",
      "Warning message in sqrt(ans$h):\n",
      "\"NaNs produced\"\n",
      "Warning message in sqrt(ans$h):\n",
      "\"NaNs produced\"\n",
      "Warning message in sqrt(ans$h):\n",
      "\"NaNs produced\"\n",
      "Warning message in sqrt(ans$h):\n",
      "\"NaNs produced\"\n",
      "Warning message in sqrt(ans$h):\n",
      "\"NaNs produced\"\n",
      "Warning message in sqrt(ans$h):\n",
      "\"NaNs produced\"\n",
      "Warning message in sqrt(ans$h):\n",
      "\"NaNs produced\"\n",
      "Warning message in sqrt(ans$h):\n",
      "\"NaNs produced\"\n",
      "Warning message in sqrt(ans$h):\n",
      "\"NaNs produced\"\n",
      "Warning message in sqrt(ans$h):\n",
      "\"NaNs produced\"\n",
      "Warning message in sqrt(ans$h):\n",
      "\"NaNs produced\"\n",
      "Warning message in sqrt(ans$h):\n",
      "\"NaNs produced\"\n",
      "Warning message in sqrt(ans$h):\n",
      "\"NaNs produced\"\n",
      "Warning message in sqrt(ans$h):\n",
      "\"NaNs produced\"\n",
      "Warning message in sqrt(ans$h):\n",
      "\"NaNs produced\"\n",
      "Warning message in sqrt(ans$h):\n",
      "\"NaNs produced\"\n",
      "Warning message in sqrt(ans$h):\n",
      "\"NaNs produced\"\n",
      "Warning message in sqrt(ans$h):\n",
      "\"NaNs produced\"\n",
      "Warning message in sqrt(ans$h):\n",
      "\"NaNs produced\"\n",
      "Warning message in sqrt(ans$h):\n",
      "\"NaNs produced\"\n",
      "Warning message in sqrt(ans$h):\n",
      "\"NaNs produced\"\n",
      "Warning message in sqrt(ans$h):\n",
      "\"NaNs produced\"\n",
      "Warning message in sqrt(ans$h):\n",
      "\"NaNs produced\"\n",
      "Warning message in sqrt(ans$h):\n",
      "\"NaNs produced\"\n",
      "Warning message in sqrt(ans$h):\n",
      "\"NaNs produced\"\n",
      "Warning message in sqrt(ans$h):\n",
      "\"NaNs produced\"\n",
      "Warning message in sqrt(ans$h):\n",
      "\"NaNs produced\"\n",
      "Warning message in sqrt(ans$h):\n",
      "\"NaNs produced\"\n",
      "Warning message in sqrt(ans$h):\n",
      "\"NaNs produced\"\n",
      "Warning message in .sgarchfit(spec = spec, data = data, out.sample = out.sample, :\n",
      "\"\n",
      "ugarchfit-->warning: solver failer to converge.\"\n"
     ]
    },
    {
     "name": "stdout",
     "output_type": "stream",
     "text": [
      "\n",
      "ugarchfilter-->error: parameters names do not match specification\n",
      "Expected Parameters are: mu ar1 mxreg1 omega alpha1 beta1 vxreg1\n"
     ]
    },
    {
     "name": "stderr",
     "output_type": "stream",
     "text": [
      "Warning message in rm(GARCHfitforecast):\n",
      "\"object 'GARCHfitforecast' not found\"\n",
      "Warning message in sqrt(ans$h):\n",
      "\"NaNs produced\"\n",
      "Warning message in sqrt(ans$h):\n",
      "\"NaNs produced\"\n",
      "Warning message in sqrt(ans$h):\n",
      "\"NaNs produced\"\n",
      "Warning message in sqrt(ans$h):\n",
      "\"NaNs produced\"\n",
      "Warning message in sqrt(ans$h):\n",
      "\"NaNs produced\"\n",
      "Warning message in .sgarchfit(spec = spec, data = data, out.sample = out.sample, :\n",
      "\"\n",
      "ugarchfit-->warning: solver failer to converge.\"\n"
     ]
    },
    {
     "name": "stdout",
     "output_type": "stream",
     "text": [
      "\n",
      "ugarchfilter-->error: parameters names do not match specification\n",
      "Expected Parameters are: mu ar1 mxreg1 omega alpha1 beta1 vxreg1\n"
     ]
    },
    {
     "name": "stderr",
     "output_type": "stream",
     "text": [
      "Warning message in rm(GARCHfitforecast):\n",
      "\"object 'GARCHfitforecast' not found\"\n",
      "Warning message in sqrt(ans$h):\n",
      "\"NaNs produced\"\n",
      "Warning message in sqrt(ans$h):\n",
      "\"NaNs produced\"\n",
      "Warning message in sqrt(ans$h):\n",
      "\"NaNs produced\"\n",
      "Warning message in sqrt(ans$h):\n",
      "\"NaNs produced\"\n",
      "Warning message in sqrt(ans$h):\n",
      "\"NaNs produced\"\n",
      "Warning message in sqrt(ans$h):\n",
      "\"NaNs produced\"\n",
      "Warning message in sqrt(ans$h):\n",
      "\"NaNs produced\"\n",
      "Warning message in sqrt(ans$h):\n",
      "\"NaNs produced\"\n",
      "Warning message in sqrt(ans$h):\n",
      "\"NaNs produced\"\n",
      "Warning message in sqrt(ans$h):\n",
      "\"NaNs produced\"\n",
      "Warning message in sqrt(ans$h):\n",
      "\"NaNs produced\"\n",
      "Warning message in sqrt(ans$h):\n",
      "\"NaNs produced\"\n",
      "Warning message in sqrt(ans$h):\n",
      "\"NaNs produced\"\n",
      "Warning message in .sgarchfit(spec = spec, data = data, out.sample = out.sample, :\n",
      "\"\n",
      "ugarchfit-->warning: solver failer to converge.\"\n"
     ]
    },
    {
     "name": "stdout",
     "output_type": "stream",
     "text": [
      "\n",
      "ugarchfilter-->error: parameters names do not match specification\n",
      "Expected Parameters are: mu ar1 mxreg1 omega alpha1 beta1 vxreg1\n"
     ]
    },
    {
     "name": "stderr",
     "output_type": "stream",
     "text": [
      "Warning message in rm(GARCHfitforecast):\n",
      "\"object 'GARCHfitforecast' not found\"\n",
      "Warning message in sqrt(ans$h):\n",
      "\"NaNs produced\"\n",
      "Warning message in .sgarchfit(spec = spec, data = data, out.sample = out.sample, :\n",
      "\"\n",
      "ugarchfit-->warning: solver failer to converge.\"\n"
     ]
    },
    {
     "name": "stdout",
     "output_type": "stream",
     "text": [
      "\n",
      "ugarchfilter-->error: parameters names do not match specification\n",
      "Expected Parameters are: mu ar1 mxreg1 omega alpha1 beta1 vxreg1\n"
     ]
    },
    {
     "name": "stderr",
     "output_type": "stream",
     "text": [
      "Warning message in rm(GARCHfitforecast):\n",
      "\"object 'GARCHfitforecast' not found\"\n",
      "Warning message in sqrt(ans$h):\n",
      "\"NaNs produced\"\n",
      "Warning message in .sgarchfit(spec = spec, data = data, out.sample = out.sample, :\n",
      "\"\n",
      "ugarchfit-->warning: solver failer to converge.\"\n"
     ]
    },
    {
     "name": "stdout",
     "output_type": "stream",
     "text": [
      "\n",
      "ugarchfilter-->error: parameters names do not match specification\n",
      "Expected Parameters are: mu ar1 mxreg1 omega alpha1 beta1 vxreg1\n"
     ]
    },
    {
     "name": "stderr",
     "output_type": "stream",
     "text": [
      "Warning message in rm(GARCHfitforecast):\n",
      "\"object 'GARCHfitforecast' not found\"\n",
      "Warning message in sqrt(ans$h):\n",
      "\"NaNs produced\"\n",
      "Warning message in sqrt(ans$h):\n",
      "\"NaNs produced\"\n",
      "Warning message in sqrt(ans$h):\n",
      "\"NaNs produced\"\n",
      "Warning message in sqrt(ans$h):\n",
      "\"NaNs produced\"\n",
      "Warning message in sqrt(ans$h):\n",
      "\"NaNs produced\"\n",
      "Warning message in sqrt(ans$h):\n",
      "\"NaNs produced\"\n",
      "Warning message in sqrt(ans$h):\n",
      "\"NaNs produced\"\n",
      "Warning message in .sgarchfit(spec = spec, data = data, out.sample = out.sample, :\n",
      "\"\n",
      "ugarchfit-->warning: solver failer to converge.\"\n"
     ]
    },
    {
     "name": "stdout",
     "output_type": "stream",
     "text": [
      "\n",
      "ugarchfilter-->error: parameters names do not match specification\n",
      "Expected Parameters are: mu ar1 mxreg1 omega alpha1 beta1 vxreg1\n"
     ]
    },
    {
     "name": "stderr",
     "output_type": "stream",
     "text": [
      "Warning message in rm(GARCHfitforecast):\n",
      "\"object 'GARCHfitforecast' not found\"\n",
      "Warning message in sqrt(ans$h):\n",
      "\"NaNs produced\"\n"
     ]
    },
    {
     "name": "stdout",
     "output_type": "stream",
     "text": [
      "[1] \"RMSE of the sigma (standard deviations) of the forecast from the model GJRGARCH11SVI_ser\"\n",
      "[1] 0.004297734\n"
     ]
    }
   ],
   "source": [
    "GJRGARCH11SVIprocess_series = GARCHprocess_ser(regressand = df[, c(\"SPX_R\")],\n",
    "                                            roll = roll, mod = \"sGARCH\",\n",
    "                                            exreg = matrix(df[, c(\"SPX_dSVI\")]),\n",
    "                                            model_name = \"GJRGARCH11SVI_ser\",\n",
    "                                            RV = df[, c(\"SPX_RV\")])"
   ]
  },
  {
   "cell_type": "code",
   "execution_count": 74,
   "metadata": {},
   "outputs": [],
   "source": [
    "in_sample_GJRGARCH11SVI_ser = GJRGARCH11SVIprocess_series[[1]]\n",
    "in_sample_GJRGARCH11SVIfit_ser = GJRGARCH11SVIprocess_series[[2]]\n",
    "GJRGARCH11SVI_mu_hat_ser = GJRGARCH11SVIprocess_series[[3]]\n",
    "GJRGARCH11SVI_sigma_hat_ser = GJRGARCH11SVIprocess_series[[4]]\n",
    "RV_no_GJRGARCH11SVI_sigma_hat_na_dated_ser = GJRGARCH11SVIprocess_series[[5]]\n",
    "GJRGARCH11SVIforecasterror_ser = GJRGARCH11SVIprocess_series[[6]]\n",
    "GJRGARCH11SVI_stats_table_ser = GJRGARCH11SVIprocess_series[[7]]\n",
    "GJRGARCH11SVI_rmse_ser = GJRGARCH11SVIprocess_series[[8]]"
   ]
  },
  {
   "cell_type": "code",
   "execution_count": 75,
   "metadata": {},
   "outputs": [
    {
     "data": {
      "image/png": "[encoded data removed]",
      "text/plain": [
       "Plot with title \"\""
      ]
     },
     "metadata": {
      "image/png": {
       "height": 420,
       "width": 420
      },
      "text/plain": {
       "height": 420,
       "width": 420
      }
     },
     "output_type": "display_data"
    }
   ],
   "source": [
    "plot(zoo(GJRGARCH11SVIforecasterror_ser, as.Date(index(GJRGARCH11SVIforecasterror_ser))), \n",
    "     type='l', ylab='GJRGARCH11SVIforecasterror_ser', xlab='Date')"
   ]
  },
  {
   "cell_type": "markdown",
   "metadata": {},
   "source": [
    "$$ \\\\ $$\n",
    "Saving our data this far to help with de-bugging if needed:"
   ]
  },
  {
   "cell_type": "markdown",
   "metadata": {},
   "source": [
    "$$ \\\\ $$\n",
    "Saving our data this far to help with de-bugging if needed:"
   ]
  },
  {
   "cell_type": "code",
   "execution_count": 76,
   "metadata": {},
   "outputs": [],
   "source": [
    "save.image(file = \"IDaSRP_work_space_p4.00.09.RData\")\n",
    "# To restore your workspace, type this:\n",
    "# load(\"IDaSRP_work_space_p4.00.09.RData\")"
   ]
  },
  {
   "cell_type": "markdown",
   "metadata": {},
   "source": [
    "##### Parallel"
   ]
  },
  {
   "cell_type": "code",
   "execution_count": 77,
   "metadata": {},
   "outputs": [
    {
     "name": "stdout",
     "output_type": "stream",
     "text": [
      "[1] \"RMSE of the sigma (standard deviations) of the forecast from the model GJRGARCH11SVI_par\"\n",
      "[1] 0.003910605\n"
     ]
    }
   ],
   "source": [
    "GJRGARCH11SVIprocess_parallel = GARCHprocess_par(regressand = df[, c(\"SPX_R\")],\n",
    "                                             roll = roll,\n",
    "                                             mod = \"gjrGARCH\",\n",
    "                                             exreg = matrix(df[, c(\"SPX_dSVI\")]),\n",
    "                                             no_of_clusters = detectCores(logical = FALSE),\n",
    "                                             model_name = \"GJRGARCH11SVI_par\",\n",
    "                                             RV = df[, c(\"SPX_RV\")])"
   ]
  },
  {
   "cell_type": "code",
   "execution_count": 78,
   "metadata": {},
   "outputs": [],
   "source": [
    "in_sample_GJRGARCH11SVI_par = GJRGARCH11SVIprocess_parallel[[1]]\n",
    "in_sample_GJRGARCH11SVIfit_par = GJRGARCH11SVIprocess_parallel[[2]]\n",
    "GJRGARCH11SVI_mu_hat_par = GJRGARCH11SVIprocess_parallel[[3]]\n",
    "GJRGARCH11SVI_sigma_hat_par = GJRGARCH11SVIprocess_parallel[[4]]\n",
    "RV_no_GJRGARCH11SVI_sigma_hat_na_dated_par = GJRGARCH11SVIprocess_parallel[[5]]\n",
    "GJRGARCH11SVIforecasterror_par = GJRGARCH11SVIprocess_parallel[[6]]\n",
    "GJRGARCH11SVI_stats_table_par = GJRGARCH11SVIprocess_parallel[[7]]\n",
    "GJRGARCH11SVI_rmse_par = GJRGARCH11SVIprocess_parallel[[8]]"
   ]
  },
  {
   "cell_type": "code",
   "execution_count": 79,
   "metadata": {},
   "outputs": [
    {
     "data": {
      "image/png": "[encoded data removed]",
      "text/plain": [
       "Plot with title \"\""
      ]
     },
     "metadata": {
      "image/png": {
       "height": 420,
       "width": 420
      },
      "text/plain": {
       "height": 420,
       "width": 420
      }
     },
     "output_type": "display_data"
    }
   ],
   "source": [
    "plot(zoo(GJRGARCH11SVIforecasterror_par, as.Date(index(GJRGARCH11SVIforecasterror_par))), \n",
    "     type='l', ylab='GJRGARCH11SVIforecasterror_par', xlab='Date')"
   ]
  },
  {
   "cell_type": "markdown",
   "metadata": {},
   "source": [
    "$$ \\\\ $$\n",
    "Saving our data this far to help with de-bugging if needed:"
   ]
  },
  {
   "cell_type": "code",
   "execution_count": 80,
   "metadata": {},
   "outputs": [],
   "source": [
    "save.image(file = \"IDaSRP_work_space_p4.00.10.RData\")\n",
    "# To restore your workspace, type this:\n",
    "# load(\"IDaSRP_work_space_p4.00.10.RData\")"
   ]
  },
  {
   "cell_type": "markdown",
   "metadata": {},
   "source": [
    "$$ \\\\ $$\n",
    "\n",
    "#### EGARCH Models\n",
    "\n",
    "The use of the logarithm function insures non-negativity in EGARCH models\n",
    "\n",
    "$$\\begin{equation}\n",
    "    ln(\\sigma_{t|t-1}^2) = c + \\alpha \\Bigg[ \\frac{|\\epsilon_{t-1}|}{\\sigma_{t-1}} - \\sqrt{\\frac{2}{\\pi}} \\Bigg] +  \\beta ln(\\sigma_{t-1}^2) + \\gamma \\frac{\\epsilon_{t-1}}{\\sigma_{t-1}}\n",
    "\\end{equation}$$\n",
    "\n",
    "and\n",
    "\n",
    "$$\\begin{equation}\n",
    "    ln(\\sigma_{t|t-1}^2) = c + \\alpha \\Bigg[ \\frac{|\\epsilon_{t-1}|}{\\sigma_{t-1}} - \\sqrt{\\frac{2}{\\pi}} \\Bigg] +  \\beta ln(\\sigma_{t-1}^2) + \\gamma \\frac{\\epsilon_{t-1}}{\\sigma_{t-1}} + \\delta \\Delta SVI_{t-1}\n",
    "\\end{equation}$$\n",
    "\n",
    "where  ln($\\cdot$) and |$\\cdot$| denote the logarithm base $e$ and the absolute value functions respectively and where $c, \\alpha, \\beta, \\gamma \\in \\mathbb{R}$ are not constrained $\\textbf{: } c + \\alpha + \\beta + \\gamma > 0$ . If $Var(R_t|\\Omega_{t-1})$ and $R_t$ react negatively to each other, $\\beta$ would be negative, and \\textit{vice versa}."
   ]
  },
  {
   "cell_type": "markdown",
   "metadata": {},
   "source": [
    "$$ \\\\ $$\n",
    "#### AR(1)-EGARCH(1,1) Model"
   ]
  },
  {
   "cell_type": "markdown",
   "metadata": {},
   "source": [
    "##### Series"
   ]
  },
  {
   "cell_type": "code",
   "execution_count": 81,
   "metadata": {
    "collapsed": true,
    "jupyter": {
     "outputs_hidden": true
    }
   },
   "outputs": [
    {
     "name": "stderr",
     "output_type": "stream",
     "text": [
      "Warning message in .sgarchfit(spec = spec, data = data, out.sample = out.sample, :\n",
      "\"\n",
      "ugarchfit-->warning: solver failer to converge.\"\n"
     ]
    },
    {
     "name": "stdout",
     "output_type": "stream",
     "text": [
      "\n",
      "ugarchfilter-->error: parameters names do not match specification\n",
      "Expected Parameters are: mu ar1 omega alpha1 beta1\n"
     ]
    },
    {
     "name": "stderr",
     "output_type": "stream",
     "text": [
      "Warning message in rm(GARCHfitforecast):\n",
      "\"object 'GARCHfitforecast' not found\"\n",
      "Warning message in .sgarchfit(spec = spec, data = data, out.sample = out.sample, :\n",
      "\"\n",
      "ugarchfit-->warning: solver failer to converge.\"\n"
     ]
    },
    {
     "name": "stdout",
     "output_type": "stream",
     "text": [
      "\n",
      "ugarchfilter-->error: parameters names do not match specification\n",
      "Expected Parameters are: mu ar1 omega alpha1 beta1\n"
     ]
    },
    {
     "name": "stderr",
     "output_type": "stream",
     "text": [
      "Warning message in rm(GARCHfitforecast):\n",
      "\"object 'GARCHfitforecast' not found\"\n",
      "Warning message in .sgarchfit(spec = spec, data = data, out.sample = out.sample, :\n",
      "\"\n",
      "ugarchfit-->warning: solver failer to converge.\"\n"
     ]
    },
    {
     "name": "stdout",
     "output_type": "stream",
     "text": [
      "\n",
      "ugarchfilter-->error: parameters names do not match specification\n",
      "Expected Parameters are: mu ar1 omega alpha1 beta1\n"
     ]
    },
    {
     "name": "stderr",
     "output_type": "stream",
     "text": [
      "Warning message in rm(GARCHfitforecast):\n",
      "\"object 'GARCHfitforecast' not found\"\n",
      "Warning message in .sgarchfit(spec = spec, data = data, out.sample = out.sample, :\n",
      "\"\n",
      "ugarchfit-->warning: solver failer to converge.\"\n"
     ]
    },
    {
     "name": "stdout",
     "output_type": "stream",
     "text": [
      "\n",
      "ugarchfilter-->error: parameters names do not match specification\n",
      "Expected Parameters are: mu ar1 omega alpha1 beta1\n"
     ]
    },
    {
     "name": "stderr",
     "output_type": "stream",
     "text": [
      "Warning message in rm(GARCHfitforecast):\n",
      "\"object 'GARCHfitforecast' not found\"\n"
     ]
    },
    {
     "name": "stdout",
     "output_type": "stream",
     "text": [
      "[1] \"RMSE of the sigma (standard deviations) of the forecast from the model EGARCH11_ser\"\n",
      "[1] 0.004278411\n"
     ]
    }
   ],
   "source": [
    "EGARCH11process_series = GARCHprocess_ser(regressand = df[, c(\"SPX_R\")],\n",
    "                                         roll = roll, mod = \"sGARCH\",\n",
    "                                         exreg = NULL,\n",
    "                                         model_name = \"EGARCH11_ser\",\n",
    "                                         RV = df[, c(\"SPX_RV\")])"
   ]
  },
  {
   "cell_type": "code",
   "execution_count": 82,
   "metadata": {},
   "outputs": [],
   "source": [
    "in_sample_EGARCH11_ser = EGARCH11process_series[[1]]\n",
    "in_sample_EGARCH11fit_ser = EGARCH11process_series[[2]]\n",
    "EGARCH11_mu_hat_ser = EGARCH11process_series[[3]]\n",
    "EGARCH11_sigma_hat_ser = EGARCH11process_series[[4]]\n",
    "RV_no_EGARCH11_sigma_hat_na_dated_ser = EGARCH11process_series[[5]]\n",
    "EGARCH11forecasterror_ser = EGARCH11process_series[[6]]\n",
    "EGARCH11_stats_table_ser = EGARCH11process_series[[7]]\n",
    "EGARCH11_rmse_ser = EGARCH11process_series[[8]]"
   ]
  },
  {
   "cell_type": "code",
   "execution_count": 83,
   "metadata": {},
   "outputs": [
    {
     "data": {
      "image/png": "[encoded data removed]",
      "text/plain": [
       "Plot with title \"\""
      ]
     },
     "metadata": {
      "image/png": {
       "height": 420,
       "width": 420
      },
      "text/plain": {
       "height": 420,
       "width": 420
      }
     },
     "output_type": "display_data"
    }
   ],
   "source": [
    "plot(zoo(EGARCH11forecasterror_ser, as.Date(index(EGARCH11forecasterror_ser))), \n",
    "     type='l', ylab='EGARCH11forecasterror_ser', xlab='Date')"
   ]
  },
  {
   "cell_type": "markdown",
   "metadata": {},
   "source": [
    "$$ \\\\ $$\n",
    "Saving our data this far to help with de-bugging if needed:"
   ]
  },
  {
   "cell_type": "code",
   "execution_count": 84,
   "metadata": {},
   "outputs": [],
   "source": [
    "save.image(file = \"IDaSRP_work_space_p4.00.11.RData\")\n",
    "# To restore your workspace, type this:\n",
    "# load(\"IDaSRP_work_space_p4.00.11.RData\")"
   ]
  },
  {
   "cell_type": "markdown",
   "metadata": {},
   "source": [
    "##### Parallel"
   ]
  },
  {
   "cell_type": "code",
   "execution_count": 85,
   "metadata": {},
   "outputs": [
    {
     "name": "stdout",
     "output_type": "stream",
     "text": [
      "[1] \"RMSE of the sigma (standard deviations) of the forecast from the model EGARCH11_par\"\n",
      "[1] 0.003657765\n"
     ]
    }
   ],
   "source": [
    "EGARCH11process_parallel = GARCHprocess_par(regressand = df[, c(\"SPX_R\")],\n",
    "                                        roll = roll,\n",
    "                                        mod = \"eGARCH\",\n",
    "                                        exreg = NULL,\n",
    "                                        no_of_clusters = detectCores(logical = FALSE),\n",
    "                                        model_name = \"EGARCH11_par\",\n",
    "                                        RV = df[, c(\"SPX_RV\")])"
   ]
  },
  {
   "cell_type": "code",
   "execution_count": 139,
   "metadata": {},
   "outputs": [],
   "source": [
    "in_sample_EGARCH11_par = EGARCH11process_parallel[[1]]\n",
    "in_sample_EGARCH11fit_par = EGARCH11process_parallel[[2]]\n",
    "EGARCH11_mu_hat_par = EGARCH11process_parallel[[3]]\n",
    "EGARCH11_sigma_hat_par = EGARCH11process_parallel[[4]]\n",
    "RV_no_EGARCH11_sigma_hat_na_dated_par = EGARCH11process_parallel[[5]]\n",
    "EGARCH11forecasterror_par = EGARCH11process_parallel[[6]]\n",
    "EGARCH11_stats_table_par = EGARCH11process_parallel[[7]]\n",
    "EGARCH11_rmse_par = EGARCH11process_parallel[[8]]"
   ]
  },
  {
   "cell_type": "code",
   "execution_count": 87,
   "metadata": {},
   "outputs": [
    {
     "data": {
      "image/png": "[encoded data removed]",
      "text/plain": [
       "Plot with title \"\""
      ]
     },
     "metadata": {
      "image/png": {
       "height": 420,
       "width": 420
      },
      "text/plain": {
       "height": 420,
       "width": 420
      }
     },
     "output_type": "display_data"
    }
   ],
   "source": [
    "plot(zoo(EGARCH11forecasterror_par, as.Date(index(EGARCH11forecasterror_par))), \n",
    "     type='l', ylab='EGARCH11forecasterror_par', xlab='Date')"
   ]
  },
  {
   "cell_type": "markdown",
   "metadata": {},
   "source": [
    "$$ \\\\ $$\n",
    "Saving our data this far to help with de-bugging if needed:"
   ]
  },
  {
   "cell_type": "code",
   "execution_count": 88,
   "metadata": {},
   "outputs": [],
   "source": [
    "save.image(file = \"IDaSRP_work_space_p4.00.12.RData\")\n",
    "# To restore your workspace, type this:\n",
    "# load(\"IDaSRP_work_space_p4.00.12.RData\")"
   ]
  },
  {
   "cell_type": "markdown",
   "metadata": {},
   "source": [
    "$$ \\\\ $$\n",
    "#### AR(1)-EGARCH(1,1)-SVI Model"
   ]
  },
  {
   "cell_type": "markdown",
   "metadata": {},
   "source": [
    "##### Series"
   ]
  },
  {
   "cell_type": "code",
   "execution_count": 90,
   "metadata": {
    "collapsed": true,
    "jupyter": {
     "outputs_hidden": true
    }
   },
   "outputs": [
    {
     "name": "stderr",
     "output_type": "stream",
     "text": [
      "Warning message in .sgarchfit(spec = spec, data = data, out.sample = out.sample, :\n",
      "\"\n",
      "ugarchfit-->warning: solver failer to converge.\"\n"
     ]
    },
    {
     "name": "stdout",
     "output_type": "stream",
     "text": [
      "\n",
      "ugarchfilter-->error: parameters names do not match specification\n",
      "Expected Parameters are: mu ar1 mxreg1 omega alpha1 beta1 vxreg1\n"
     ]
    },
    {
     "name": "stderr",
     "output_type": "stream",
     "text": [
      "Warning message in rm(GARCHfitforecast):\n",
      "\"object 'GARCHfitforecast' not found\"\n",
      "Warning message in .sgarchfit(spec = spec, data = data, out.sample = out.sample, :\n",
      "\"\n",
      "ugarchfit-->warning: solver failer to converge.\"\n"
     ]
    },
    {
     "name": "stdout",
     "output_type": "stream",
     "text": [
      "\n",
      "ugarchfilter-->error: parameters names do not match specification\n",
      "Expected Parameters are: mu ar1 mxreg1 omega alpha1 beta1 vxreg1\n"
     ]
    },
    {
     "name": "stderr",
     "output_type": "stream",
     "text": [
      "Warning message in rm(GARCHfitforecast):\n",
      "\"object 'GARCHfitforecast' not found\"\n",
      "Warning message in .sgarchfit(spec = spec, data = data, out.sample = out.sample, :\n",
      "\"\n",
      "ugarchfit-->warning: solver failer to converge.\"\n"
     ]
    },
    {
     "name": "stdout",
     "output_type": "stream",
     "text": [
      "\n",
      "ugarchfilter-->error: parameters names do not match specification\n",
      "Expected Parameters are: mu ar1 mxreg1 omega alpha1 beta1 vxreg1\n"
     ]
    },
    {
     "name": "stderr",
     "output_type": "stream",
     "text": [
      "Warning message in rm(GARCHfitforecast):\n",
      "\"object 'GARCHfitforecast' not found\"\n",
      "Warning message in sqrt(ans$h):\n",
      "\"NaNs produced\"\n",
      "Warning message in sqrt(ans$h):\n",
      "\"NaNs produced\"\n",
      "Warning message in sqrt(ans$h):\n",
      "\"NaNs produced\"\n",
      "Warning message in sqrt(ans$h):\n",
      "\"NaNs produced\"\n",
      "Warning message in sqrt(ans$h):\n",
      "\"NaNs produced\"\n",
      "Warning message in sqrt(ans$h):\n",
      "\"NaNs produced\"\n",
      "Warning message in sqrt(ans$h):\n",
      "\"NaNs produced\"\n",
      "Warning message in sqrt(ans$h):\n",
      "\"NaNs produced\"\n",
      "Warning message in sqrt(ans$h):\n",
      "\"NaNs produced\"\n",
      "Warning message in sqrt(ans$h):\n",
      "\"NaNs produced\"\n",
      "Warning message in sqrt(ans$h):\n",
      "\"NaNs produced\"\n",
      "Warning message in sqrt(ans$h):\n",
      "\"NaNs produced\"\n",
      "Warning message in sqrt(ans$h):\n",
      "\"NaNs produced\"\n",
      "Warning message in sqrt(ans$h):\n",
      "\"NaNs produced\"\n",
      "Warning message in sqrt(ans$h):\n",
      "\"NaNs produced\"\n",
      "Warning message in sqrt(ans$h):\n",
      "\"NaNs produced\"\n",
      "Warning message in sqrt(ans$h):\n",
      "\"NaNs produced\"\n",
      "Warning message in sqrt(ans$h):\n",
      "\"NaNs produced\"\n",
      "Warning message in sqrt(ans$h):\n",
      "\"NaNs produced\"\n",
      "Warning message in sqrt(ans$h):\n",
      "\"NaNs produced\"\n",
      "Warning message in sqrt(ans$h):\n",
      "\"NaNs produced\"\n",
      "Warning message in sqrt(ans$h):\n",
      "\"NaNs produced\"\n",
      "Warning message in sqrt(ans$h):\n",
      "\"NaNs produced\"\n",
      "Warning message in sqrt(ans$h):\n",
      "\"NaNs produced\"\n",
      "Warning message in sqrt(ans$h):\n",
      "\"NaNs produced\"\n",
      "Warning message in sqrt(ans$h):\n",
      "\"NaNs produced\"\n",
      "Warning message in .sgarchfit(spec = spec, data = data, out.sample = out.sample, :\n",
      "\"\n",
      "ugarchfit-->warning: solver failer to converge.\"\n"
     ]
    },
    {
     "name": "stdout",
     "output_type": "stream",
     "text": [
      "\n",
      "ugarchfilter-->error: parameters names do not match specification\n",
      "Expected Parameters are: mu ar1 mxreg1 omega alpha1 beta1 vxreg1\n"
     ]
    },
    {
     "name": "stderr",
     "output_type": "stream",
     "text": [
      "Warning message in rm(GARCHfitforecast):\n",
      "\"object 'GARCHfitforecast' not found\"\n",
      "Warning message in sqrt(ans$h):\n",
      "\"NaNs produced\"\n",
      "Warning message in sqrt(ans$h):\n",
      "\"NaNs produced\"\n",
      "Warning message in sqrt(ans$h):\n",
      "\"NaNs produced\"\n",
      "Warning message in sqrt(ans$h):\n",
      "\"NaNs produced\"\n",
      "Warning message in sqrt(ans$h):\n",
      "\"NaNs produced\"\n",
      "Warning message in sqrt(ans$h):\n",
      "\"NaNs produced\"\n",
      "Warning message in sqrt(ans$h):\n",
      "\"NaNs produced\"\n",
      "Warning message in sqrt(ans$h):\n",
      "\"NaNs produced\"\n",
      "Warning message in sqrt(ans$h):\n",
      "\"NaNs produced\"\n",
      "Warning message in .sgarchfit(spec = spec, data = data, out.sample = out.sample, :\n",
      "\"\n",
      "ugarchfit-->warning: solver failer to converge.\"\n"
     ]
    },
    {
     "name": "stdout",
     "output_type": "stream",
     "text": [
      "\n",
      "ugarchfilter-->error: parameters names do not match specification\n",
      "Expected Parameters are: mu ar1 mxreg1 omega alpha1 beta1 vxreg1\n"
     ]
    },
    {
     "name": "stderr",
     "output_type": "stream",
     "text": [
      "Warning message in rm(GARCHfitforecast):\n",
      "\"object 'GARCHfitforecast' not found\"\n",
      "Warning message in sqrt(ans$h):\n",
      "\"NaNs produced\"\n",
      "Warning message in sqrt(ans$h):\n",
      "\"NaNs produced\"\n",
      "Warning message in sqrt(ans$h):\n",
      "\"NaNs produced\"\n",
      "Warning message in sqrt(ans$h):\n",
      "\"NaNs produced\"\n",
      "Warning message in sqrt(ans$h):\n",
      "\"NaNs produced\"\n",
      "Warning message in sqrt(ans$h):\n",
      "\"NaNs produced\"\n",
      "Warning message in sqrt(ans$h):\n",
      "\"NaNs produced\"\n",
      "Warning message in sqrt(ans$h):\n",
      "\"NaNs produced\"\n",
      "Warning message in sqrt(ans$h):\n",
      "\"NaNs produced\"\n",
      "Warning message in sqrt(ans$h):\n",
      "\"NaNs produced\"\n",
      "Warning message in sqrt(ans$h):\n",
      "\"NaNs produced\"\n",
      "Warning message in sqrt(ans$h):\n",
      "\"NaNs produced\"\n",
      "Warning message in sqrt(ans$h):\n",
      "\"NaNs produced\"\n",
      "Warning message in sqrt(ans$h):\n",
      "\"NaNs produced\"\n",
      "Warning message in sqrt(ans$h):\n",
      "\"NaNs produced\"\n",
      "Warning message in sqrt(ans$h):\n",
      "\"NaNs produced\"\n",
      "Warning message in .sgarchfit(spec = spec, data = data, out.sample = out.sample, :\n",
      "\"\n",
      "ugarchfit-->warning: solver failer to converge.\"\n"
     ]
    },
    {
     "name": "stdout",
     "output_type": "stream",
     "text": [
      "\n",
      "ugarchfilter-->error: parameters names do not match specification\n",
      "Expected Parameters are: mu ar1 mxreg1 omega alpha1 beta1 vxreg1\n"
     ]
    },
    {
     "name": "stderr",
     "output_type": "stream",
     "text": [
      "Warning message in rm(GARCHfitforecast):\n",
      "\"object 'GARCHfitforecast' not found\"\n",
      "Warning message in sqrt(ans$h):\n",
      "\"NaNs produced\"\n",
      "Warning message in sqrt(ans$h):\n",
      "\"NaNs produced\"\n",
      "Warning message in sqrt(ans$h):\n",
      "\"NaNs produced\"\n",
      "Warning message in .sgarchfit(spec = spec, data = data, out.sample = out.sample, :\n",
      "\"\n",
      "ugarchfit-->warning: solver failer to converge.\"\n"
     ]
    },
    {
     "name": "stdout",
     "output_type": "stream",
     "text": [
      "\n",
      "ugarchfilter-->error: parameters names do not match specification\n",
      "Expected Parameters are: mu ar1 mxreg1 omega alpha1 beta1 vxreg1\n"
     ]
    },
    {
     "name": "stderr",
     "output_type": "stream",
     "text": [
      "Warning message in rm(GARCHfitforecast):\n",
      "\"object 'GARCHfitforecast' not found\"\n",
      "Warning message in .sgarchfit(spec = spec, data = data, out.sample = out.sample, :\n",
      "\"\n",
      "ugarchfit-->warning: solver failer to converge.\"\n"
     ]
    },
    {
     "name": "stdout",
     "output_type": "stream",
     "text": [
      "\n",
      "ugarchfilter-->error: parameters names do not match specification\n",
      "Expected Parameters are: mu ar1 mxreg1 omega alpha1 beta1 vxreg1\n"
     ]
    },
    {
     "name": "stderr",
     "output_type": "stream",
     "text": [
      "Warning message in rm(GARCHfitforecast):\n",
      "\"object 'GARCHfitforecast' not found\"\n",
      "Warning message in sqrt(ans$h):\n",
      "\"NaNs produced\"\n",
      "Warning message in sqrt(ans$h):\n",
      "\"NaNs produced\"\n",
      "Warning message in .sgarchfit(spec = spec, data = data, out.sample = out.sample, :\n",
      "\"\n",
      "ugarchfit-->warning: solver failer to converge.\"\n"
     ]
    },
    {
     "name": "stdout",
     "output_type": "stream",
     "text": [
      "\n",
      "ugarchfilter-->error: parameters names do not match specification\n",
      "Expected Parameters are: mu ar1 mxreg1 omega alpha1 beta1 vxreg1\n"
     ]
    },
    {
     "name": "stderr",
     "output_type": "stream",
     "text": [
      "Warning message in rm(GARCHfitforecast):\n",
      "\"object 'GARCHfitforecast' not found\"\n",
      "Warning message in sqrt(ans$h):\n",
      "\"NaNs produced\"\n",
      "Warning message in sqrt(ans$h):\n",
      "\"NaNs produced\"\n",
      "Warning message in sqrt(ans$h):\n",
      "\"NaNs produced\"\n",
      "Warning message in sqrt(ans$h):\n",
      "\"NaNs produced\"\n",
      "Warning message in sqrt(ans$h):\n",
      "\"NaNs produced\"\n"
     ]
    },
    {
     "name": "stdout",
     "output_type": "stream",
     "text": [
      "[1] \"RMSE of the sigma (standard deviations) of the forecast from the model EGARCH11_ser\"\n",
      "[1] 0.004298382\n"
     ]
    }
   ],
   "source": [
    "EGARCH11SVIprocess_series = GARCHprocess_ser(regressand = df[, c(\"SPX_R\")],\n",
    "                                         roll = roll, mod = \"sGARCH\",\n",
    "                                         exreg = matrix(df[, c(\"SPX_dSVI\")]),\n",
    "                                         model_name = \"EGARCH11_ser\",\n",
    "                                         RV = df[, c(\"SPX_RV\")])"
   ]
  },
  {
   "cell_type": "code",
   "execution_count": 91,
   "metadata": {},
   "outputs": [],
   "source": [
    "in_sample_EGARCH11SVI_ser = EGARCH11SVIprocess_series[[1]]\n",
    "in_sample_EGARCH11SVIfit_ser = EGARCH11SVIprocess_series[[2]]\n",
    "EGARCH11SVI_mu_hat_ser = EGARCH11SVIprocess_series[[3]]\n",
    "EGARCH11SVI_sigma_hat_ser = EGARCH11SVIprocess_series[[4]]\n",
    "RV_no_EGARCH11SVI_sigma_hat_na_dated_ser = EGARCH11SVIprocess_series[[5]]\n",
    "EGARCH11SVIforecasterror_ser = EGARCH11SVIprocess_series[[6]]\n",
    "EGARCH11SVI_stats_table_ser = EGARCH11SVIprocess_series[[7]]\n",
    "EGARCH11SVI_rmse_ser = EGARCH11SVIprocess_series[[8]]"
   ]
  },
  {
   "cell_type": "code",
   "execution_count": 92,
   "metadata": {},
   "outputs": [
    {
     "data": {
      "image/png": "[encoded data removed]",
      "text/plain": [
       "Plot with title \"\""
      ]
     },
     "metadata": {
      "image/png": {
       "height": 420,
       "width": 420
      },
      "text/plain": {
       "height": 420,
       "width": 420
      }
     },
     "output_type": "display_data"
    }
   ],
   "source": [
    "plot(zoo(EGARCH11SVIforecasterror_ser, as.Date(index(EGARCH11SVIforecasterror_ser))), \n",
    "     type='l', ylab='EGARCH11SVIforecasterror_ser', xlab='Date')"
   ]
  },
  {
   "cell_type": "markdown",
   "metadata": {},
   "source": [
    "$$ \\\\ $$\n",
    "Saving our data this far to help with de-bugging if needed:"
   ]
  },
  {
   "cell_type": "code",
   "execution_count": 93,
   "metadata": {},
   "outputs": [],
   "source": [
    "save.image(file = \"IDaSRP_work_space_p4.00.13.RData\")\n",
    "# To restore your workspace, type this:\n",
    "# load(\"IDaSRP_work_space_p4.00.13.RData\")"
   ]
  },
  {
   "cell_type": "markdown",
   "metadata": {},
   "source": [
    "##### Parallel"
   ]
  },
  {
   "cell_type": "code",
   "execution_count": 94,
   "metadata": {},
   "outputs": [
    {
     "name": "stdout",
     "output_type": "stream",
     "text": [
      "[1] \"RMSE of the sigma (standard deviations) of the forecast from the model EGARCH11SVI_par\"\n",
      "[1] 0.007463993\n"
     ]
    }
   ],
   "source": [
    "EGARCH11SVIprocess_parallel = GARCHprocess_par(regressand = df[, c(\"SPX_R\")],\n",
    "                                               roll = roll,\n",
    "                                               mod = \"eGARCH\",\n",
    "                                               exreg = matrix(df[, c(\"SPX_dSVI\")]),\n",
    "                                               no_of_clusters = detectCores(logical = FALSE),\n",
    "                                               model_name = \"EGARCH11SVI_par\",\n",
    "                                               RV = df[, c(\"SPX_RV\")])"
   ]
  },
  {
   "cell_type": "code",
   "execution_count": 95,
   "metadata": {},
   "outputs": [],
   "source": [
    "in_sample_EGARCH11SVI_par = EGARCH11SVIprocess_parallel[[1]]\n",
    "in_sample_EGARCH11SVIfit_par = EGARCH11SVIprocess_parallel[[2]]\n",
    "EGARCH11SVI_mu_hat_par = EGARCH11SVIprocess_parallel[[3]]\n",
    "EGARCH11SVI_sigma_hat_par = EGARCH11SVIprocess_parallel[[4]]\n",
    "RV_no_EGARCH11SVI_sigma_hat_na_dated_par = EGARCH11SVIprocess_parallel[[5]]\n",
    "EGARCH11SVIforecasterror_par = EGARCH11SVIprocess_parallel[[6]]\n",
    "EGARCH11SVI_stats_table_par = EGARCH11SVIprocess_parallel[[7]]\n",
    "EGARCH11SVI_rmse_par = EGARCH11SVIprocess_parallel[[8]]"
   ]
  },
  {
   "cell_type": "code",
   "execution_count": 96,
   "metadata": {},
   "outputs": [
    {
     "data": {
      "image/png": "[encoded data removed]",
      "text/plain": [
       "Plot with title \"\""
      ]
     },
     "metadata": {
      "image/png": {
       "height": 420,
       "width": 420
      },
      "text/plain": {
       "height": 420,
       "width": 420
      }
     },
     "output_type": "display_data"
    }
   ],
   "source": [
    "plot(zoo(EGARCH11SVIforecasterror_par, as.Date(index(EGARCH11SVIforecasterror_par))), \n",
    "     type='l', ylab='EGARCH11SVIforecasterror_par', xlab='Date')"
   ]
  },
  {
   "cell_type": "markdown",
   "metadata": {},
   "source": [
    "$$ \\\\ $$\n",
    "Saving our data this far to help with de-bugging if needed:"
   ]
  },
  {
   "cell_type": "code",
   "execution_count": 97,
   "metadata": {},
   "outputs": [],
   "source": [
    "save.image(file = \"IDaSRP_work_space_p4.00.14.RData\")\n",
    "# To restore your workspace, type this:\n",
    "# load(\"IDaSRP_work_space_p4.00.14.RData\")"
   ]
  },
  {
   "cell_type": "markdown",
   "metadata": {},
   "source": [
    "$$ \\ $$\n",
    "### Standard Deviation Forecast Diebold-Mariano tests\n",
    "\n",
    "This function implements the modified test proposed by Harvey, Leybourne and Newbold (1997). The null hypothesis is that the two methods have the same forecast accuracy. For alternative=less, the alternative hypothesis is that method 2 is less accurate than method 1. For alternative=greater, the alternative hypothesis is that method 2 is more accurate than method 1. For alternative=two.sided, the alternative hypothesis is that method 1 and method 2 have different levels of accuracy."
   ]
  },
  {
   "cell_type": "code",
   "execution_count": 15,
   "metadata": {},
   "outputs": [
    {
     "name": "stdout",
     "output_type": "stream",
     "text": [
      "[1] \"Diebold and Mariano test GARCH11 with and without SVI\"\n"
     ]
    },
    {
     "data": {
      "text/plain": [
       "\n",
       "\tDiebold-Mariano Test\n",
       "\n",
       "data:  matrix(GARCH11forecasterror_par_dm)matrix(GARCH11SVIforecasterror_par_dm)\n",
       "DM = -1.9405, Forecast horizon = 1, Loss function power = 2, p-value =\n",
       "0.0262\n",
       "alternative hypothesis: less\n"
      ]
     },
     "metadata": {},
     "output_type": "display_data"
    },
    {
     "name": "stdout",
     "output_type": "stream",
     "text": [
      "[1] \"Diebold and Mariano test GJRGARCH11 with and without SVI\"\n"
     ]
    },
    {
     "data": {
      "text/plain": [
       "\n",
       "\tDiebold-Mariano Test\n",
       "\n",
       "data:  matrix(GJRGARCH11forecasterror_par_dm)matrix(GJRGARCH11SVIforecasterror_par_dm)\n",
       "DM = -1.1588, Forecast horizon = 1, Loss function power = 2, p-value =\n",
       "0.1233\n",
       "alternative hypothesis: less\n"
      ]
     },
     "metadata": {},
     "output_type": "display_data"
    },
    {
     "name": "stdout",
     "output_type": "stream",
     "text": [
      "[1] \"Diebold and Mariano test EGARCH11 with and without SVI\"\n"
     ]
    },
    {
     "data": {
      "text/plain": [
       "\n",
       "\tDiebold-Mariano Test\n",
       "\n",
       "data:  matrix(EGARCH11forecasterror_par_dm)matrix(EGARCH11SVIforecasterror_par_dm)\n",
       "DM = -1.5212, Forecast horizon = 1, Loss function power = 2, p-value =\n",
       "0.06415\n",
       "alternative hypothesis: less\n"
      ]
     },
     "metadata": {},
     "output_type": "display_data"
    }
   ],
   "source": [
    "print(\"Diebold and Mariano test GARCH11 with and without SVI\")\n",
    "GARCH11forecasterror_par_dm = GARCH11forecasterror_par - (GARCH11SVIforecasterror_par*0)\n",
    "GARCH11SVIforecasterror_par_dm = GARCH11SVIforecasterror_par - (GARCH11forecasterror_par*0)\n",
    "dm.test(matrix(GARCH11forecasterror_par_dm), matrix(GARCH11SVIforecasterror_par_dm), alternative = \"less\")\n",
    "\n",
    "print(\"Diebold and Mariano test GJRGARCH11 with and without SVI\")\n",
    "GJRGARCH11forecasterror_par_dm = GJRGARCH11forecasterror_par - (GJRGARCH11SVIforecasterror_par*0)\n",
    "GJRGARCH11SVIforecasterror_par_dm = GJRGARCH11SVIforecasterror_par - (GJRGARCH11forecasterror_par*0)\n",
    "dm.test(matrix(GJRGARCH11forecasterror_par_dm), matrix(GJRGARCH11SVIforecasterror_par_dm), alternative = \"less\")\n",
    "\n",
    "print(\"Diebold and Mariano test EGARCH11 with and without SVI\")\n",
    "EGARCH11forecasterror_par_dm = EGARCH11forecasterror_par - (EGARCH11SVIforecasterror_par*0)\n",
    "EGARCH11SVIforecasterror_par_dm = EGARCH11SVIforecasterror_par - (EGARCH11forecasterror_par*0)\n",
    "dm.test(matrix(EGARCH11forecasterror_par_dm), matrix(EGARCH11SVIforecasterror_par_dm), alternative = \"less\")"
   ]
  },
  {
   "cell_type": "markdown",
   "metadata": {},
   "source": [
    "Here, the alternative hypothesis is that method 2 (SVI-implementing) is less accurate than method 1 (SVI-free). The fact that all test scores were negative suggest that the SVI-free models are not better performing than the SVI-implementing ones. However, only the GARCH and EGARCH models' D-M tests provided statistically significant results (at the 10% Confidence Level / 90% Statistical Significance). All in all, more is needed to evaluate the efficiency of our method."
   ]
  },
  {
   "cell_type": "markdown",
   "metadata": {},
   "source": [
    "$$ \\\\ $$\n",
    "Saving our data this far to help with de-bugging if needed:"
   ]
  },
  {
   "cell_type": "code",
   "execution_count": 99,
   "metadata": {},
   "outputs": [],
   "source": [
    "save.image(file = \"IDaSRP_work_space_p4.01.RData\")\n",
    "# # To restore your workspace, type this:\n",
    "# load(\"IDaSRP_work_space_p4.01.RData\")"
   ]
  },
  {
   "cell_type": "markdown",
   "metadata": {},
   "source": [
    "$$ \\\\ $$\n",
    "\n",
    "## Part 4: Sign Forecast Frameworks\n",
    "\n",
    "### Christopherson and Diebold Framework\n",
    "\n",
    "Following from C\\&D, Christoffersen, Diebold, Mariano, Tay & Tse (2006)'s working paper outlined how the conditional probability of a positive return in the next time period is\n",
    "$$\\begin{equation}\n",
    "    \\mathbb{P}(R_{t+1} > 0 | \\Omega_{t}) = 1 - \\mathbb{P} \\bigg( \\frac{R_{t+1} - \\mu}{\\sigma_{t+1|t}} \\leq \\frac{-\\mu}{\\sigma_{t+1|t}} \\bigg) = 1 - F\\bigg( \\frac{-\\mu}{\\sigma_{t+1|t}} \\bigg)\n",
    "\\end{equation}$$\n",
    "\n",
    "where $\\mathbb{P}$ denotes probability, where there is no conditional mean predictability in returns $\\textbf{: } \\mu_{t+1|t} = \\mu$, where $R_{t+1}\\sim D(\\mu,\\sigma_{t+1|t})$ for a generic distribution  $D$ dependent only on $\\mu$ and $\\sigma$ (such as the Normal distribution), and where $F$ is the distribution function of the “standardized” return $\\frac{R_{t+1} - \\mu}{\\sigma_{t+1|t}}$. Then $R_{t+1}$'s sign is predictable even if its conditional mean isn't,\n",
    "provided that $\\mu \\neq 0$. If $F$ is asymmetric - as per SFFR(i) - then forecast constructions are still possible if $\\mu = 0$.\n",
    "\n",
    "$R_{t+1}$ sign forecasts are formulated as\n",
    "$$\\begin{equation} \\label{eq:PiCandD}\n",
    "    \\hat{\\pi}_{C\\&D_M, t+1} = \\hat{\\mathbb{P}}_{C\\&D_M}(R_{t+1|t}>0) = 1 - \\frac{1}{t} \\sum_{k=1}^{t} I \\bigg( \\frac{R_{k} - {\\hat{\\mu}_{k|k-1}}}{\\hat{\\sigma}_{k|k-1}} \\leq \\frac{-\\hat{\\mu}_{t+1|t}}{\\hat{\\sigma}_{t+1|t}} \\bigg)\n",
    "\\end{equation}$$\n",
    "\n",
    "where $M$ is the model used to compute recursive one-step-ahead out-of-sample forecasts $\\hat{\\mu}$ and $\\hat{\\sigma}$ ranging from GARCH to EGARCH-SVI (note that the model used to estimate $\\hat{\\mu}_{t+1|t}$ and $\\hat{\\sigma}_{t+1|t}$ are not specified on the right-hand-side of this equation to keep the notation uncluttered; it is so throughout the article), and where $k \\in \\mathbb{Z}$."
   ]
  },
  {
   "cell_type": "markdown",
   "metadata": {},
   "source": [
    "$$ \\\\ $$\n",
    "### Estimates of the probability of a positive return"
   ]
  },
  {
   "cell_type": "markdown",
   "metadata": {},
   "source": [
    "#### Naive Model and its forecast error statistics"
   ]
  },
  {
   "cell_type": "markdown",
   "metadata": {},
   "source": [
    "Remember our Naïve Framework. A Naïve model of sign change is used as a benchmark to construct comparisons. It is formulated as\n",
    "$$ \\hat{\\pi}_{Naive, t+1} = \\hat{\\mathbb{P}}_{Naive}(R_{t+1|t}>0) = \\frac{1}{t} \\sum_{k=1}^{t} I (R_k > 0) \\text{ .}$$"
   ]
  },
  {
   "cell_type": "code",
   "execution_count": 101,
   "metadata": {},
   "outputs": [],
   "source": [
    "# Naive-Model's Indicator function according to the GARCH11 Model:\n",
    "Naive_I = ifelse(matrix(df[, c(\"SPX_R\")])>0 , 1 , 0)\n",
    "\n",
    "# Naive Model:\n",
    "Naive = (1:(length(matrix(df[, c(\"SPX_R\")]))))\n",
    "for(t in c(1:(length(matrix(df[, c(\"SPX_R\")])))))\n",
    "{Naive[t] = (1/t) * sum(matrix(df[, c(\"SPX_R\")])[1:t])}"
   ]
  },
  {
   "cell_type": "code",
   "execution_count": 102,
   "metadata": {},
   "outputs": [],
   "source": [
    "Naive_zoo = zoo(Naive, index(df[, c(\"SPX_R\")]))"
   ]
  },
  {
   "cell_type": "markdown",
   "metadata": {},
   "source": [
    "$$ \\\\ $$\n",
    "### C&D's GARCH models with and without SVI (Model independent variables' construction)"
   ]
  },
  {
   "cell_type": "markdown",
   "metadata": {},
   "source": [
    "A few pre-required variables (and R variables) have to be constructed first:"
   ]
  },
  {
   "cell_type": "code",
   "execution_count": 18,
   "metadata": {},
   "outputs": [],
   "source": [
    "# mean of return up to time 'k'\n",
    "R_mu = (1:length(matrix(df[, c(\"SPX_R\")])))\n",
    "for (i in c(1:length(matrix(df[, c(\"SPX_R\")]))))\n",
    "{R_mu[i] = mean(matrix(df[, c(\"SPX_R\")])[1:i])}\n",
    "\n",
    "# standard deviation of return up to time 'k'.\n",
    "# Note that its 1st value is NA since there is no standard deviation for a \n",
    "# constant (according to R).\n",
    "R_sigma = (1:length(matrix(df[, c(\"SPX_R\")])))\n",
    "for (i in c(1:length(matrix(df[, c(\"SPX_R\")]))))\n",
    "{R_sigma[i] = sd(matrix(df[, c(\"SPX_R\")])[1:i])}\n",
    "R_sigma[1] = 0 # Since the variance of a constant is 0."
   ]
  },
  {
   "cell_type": "markdown",
   "metadata": {},
   "source": [
    "$$ \\\\ $$\n",
    "Saving our data this far to help with de-bugging if needed:"
   ]
  },
  {
   "cell_type": "code",
   "execution_count": 104,
   "metadata": {},
   "outputs": [],
   "source": [
    "save.image(file = \"IDaSRP_work_space_p4.02.RData\")\n",
    "# # To restore your workspace, type this:\n",
    "# load(\"IDaSRP_work_space_p4.02.RData\")"
   ]
  },
  {
   "cell_type": "markdown",
   "metadata": {},
   "source": [
    "#### GARCH11's C&D Model"
   ]
  },
  {
   "cell_type": "markdown",
   "metadata": {},
   "source": [
    "##### Series"
   ]
  },
  {
   "cell_type": "markdown",
   "metadata": {},
   "source": [
    "Computing in series the values $\\hat{\\pi}_{C\\&D_{GARCH(1,1)}, t+1} $"
   ]
  },
  {
   "cell_type": "code",
   "execution_count": 105,
   "metadata": {},
   "outputs": [],
   "source": [
    "CnDprocess_ser = function(regressand = df[, c(\"SPX_R\")],\n",
    "                          GARCH_mu_hat,\n",
    "                          GARCH_sigma_hat)\n",
    "{\n",
    "    # # Create our variables:\n",
    "\n",
    "    # C&D's Indicator function according to the GARCH11 Model:\n",
    "    GARCH_CandD_I = matrix(, nrow = roll, ncol = roll)\n",
    "    GARCH_CandD_I_k = matrix(, nrow = roll, ncol = roll)\n",
    "    GARCH_CandD_I_t = matrix( - (GARCH_mu_hat/GARCH_sigma_hat))\n",
    "    \n",
    "    \n",
    "    for(t in c(1:roll))\n",
    "    {for (k in c(1:t))\n",
    "    {GARCH_CandD_I_k[k,t] =\n",
    "     ifelse(((matrix(regressand)[252+k] - GARCH_mu_hat[k])/GARCH_sigma_hat[k])\n",
    "            <= GARCH_CandD_I_t[t+1],\n",
    "            1,0)\n",
    "\n",
    "    # Note that we have some missing values due to the model not always managing\n",
    "    # to converge to estimates of sigma and mu; since we need the t+1 model\n",
    "    # estimates to compute its CandD_I_k, we also loose its t'th value for\n",
    "    # each model's missing value.\n",
    "    # We also lose the last value (the roll'th value) for the same reason.\n",
    "    GARCH_CandD_I[k,t] =  ifelse((is.na(GARCH_CandD_I_k[k,t])), NA,\n",
    "                                 (sum(GARCH_CandD_I_k[1:k,t], na.rm = TRUE)))}}\n",
    "    \n",
    "    # C&D's model according to the GARCH11 Model:\n",
    "    GARCH_CandD = (1:(roll-1))\n",
    "    for(i in c(1:(roll-1)))\n",
    "    {GARCH_CandD[i] = 1 - ((GARCH_CandD_I[i,i])/\n",
    "                           length(na.omit(GARCH_CandD_I[1:i,i])))}\n",
    "    GARCH_CandD_zoo = zoo(GARCH_CandD, index(df[, c(\"SPX_R\")][(253+1):(253+(roll-1))]))\n",
    "    \n",
    "    # This zoo object has missing values, so we can remove them:\n",
    "    GARCH_CandD_zoo_no_nas = na.omit(GARCH_CandD_zoo)\n",
    "\n",
    "    ## Cleaning datasets\n",
    "    # rm(GARCH_CandD_I_t)\n",
    "    # rm(GARCH_CandD_I_k)\n",
    "    # rm(GARCH_CandD_I)\n",
    "    \n",
    "    return(list(GARCH_CandD_I_k,\n",
    "                GARCH_CandD_I,\n",
    "                GARCH_CandD,\n",
    "                GARCH_CandD_zoo,\n",
    "                GARCH_CandD_zoo_no_nas\n",
    "               ))\n",
    "}"
   ]
  },
  {
   "cell_type": "code",
   "execution_count": 106,
   "metadata": {},
   "outputs": [],
   "source": [
    "GARCH11_CandD_process_ser = CnDprocess_ser(regressand = df[, c(\"SPX_R\")],\n",
    "                                           GARCH_mu_hat = GARCH11_mu_hat_ser,\n",
    "                                           GARCH_sigma_hat = GARCH11_sigma_hat_ser)"
   ]
  },
  {
   "cell_type": "code",
   "execution_count": 107,
   "metadata": {},
   "outputs": [],
   "source": [
    "GARCH11_CandD_I_k_ser = GARCH11_CandD_process_ser[[1]]\n",
    "GARCH11_CandD_I_ser = GARCH11_CandD_process_ser[[2]]\n",
    "GARCH11_CandD_ser = GARCH11_CandD_process_ser[[3]]\n",
    "GARCH11_CandD_zoo_ser = zoo(GARCH11_CandD_ser, index(df[, c(\"SPX_R\")][(253+1):(253+(roll-1))]))\n",
    "GARCH11_CandD_zoo_no_nas_ser = zoo(na.omit(GARCH11_CandD_zoo_ser))"
   ]
  },
  {
   "cell_type": "markdown",
   "metadata": {},
   "source": [
    "$$ \\\\ $$\n",
    "Saving our data this far to help with de-bugging if needed:"
   ]
  },
  {
   "cell_type": "code",
   "execution_count": 108,
   "metadata": {},
   "outputs": [],
   "source": [
    "save.image(file = \"IDaSRP_work_space_p4.03.RData\")\n",
    "# # To restore your workspace, type this:\n",
    "# load(\"IDaSRP_work_space_p4.03.RData\")"
   ]
  },
  {
   "cell_type": "markdown",
   "metadata": {},
   "source": [
    "##### Parallel"
   ]
  },
  {
   "cell_type": "markdown",
   "metadata": {},
   "source": [
    "Computing in parallel the values $\\hat{\\pi}_{C\\&D_{GARCH(1,1)}, t+1} $"
   ]
  },
  {
   "cell_type": "code",
   "execution_count": 109,
   "metadata": {},
   "outputs": [],
   "source": [
    "CnDprocess_t_par = function(\n",
    "    t,\n",
    "    regressand = df[, c(\"SPX_R\")],\n",
    "    pre_GARCH_mu_hat = GARCH11_mu_hat_par,\n",
    "    pre_GARCH_sigma_hat = GARCH11_sigma_hat_par,\n",
    "    pre_GARCH_CandD_I_k = matrix(, nrow = roll, ncol = 1),\n",
    "    pre_GARCH_CandD_I = matrix(, nrow = roll, ncol = 1))\n",
    "{\n",
    "    pre_GARCH_CandD_I_t = matrix( - (pre_GARCH_mu_hat/pre_GARCH_sigma_hat))\n",
    "    \n",
    "    for (k in c(1:t))\n",
    "    {pre_GARCH_CandD_I_k[k] =\n",
    "     ifelse(((matrix(regressand)[252+k] -\n",
    "              pre_GARCH_mu_hat[k])/\n",
    "             pre_GARCH_sigma_hat[k])\n",
    "            <= pre_GARCH_CandD_I_t[t+1],\n",
    "            1,0)\n",
    "\n",
    "    # Note that we have some missing values due to the model not always managing\n",
    "    # to converge to estimates of sigma and mu; since we need the t+1 model\n",
    "    # estimates to compute its CandD_I_k, we also loose its t'th value for\n",
    "    # each model's missing value.\n",
    "    # We also lose the last value (the roll'th value) for the same reason.\n",
    "    pre_GARCH_CandD_I[k] = \n",
    "     ifelse((is.na(pre_GARCH_CandD_I_k[k])),\n",
    "            NA,\n",
    "            (sum(pre_GARCH_CandD_I_k[1:k],\n",
    "                 na.rm = TRUE)))}\n",
    "    \n",
    "    return(list(pre_GARCH_CandD_I_k, pre_GARCH_CandD_I))\n",
    "}"
   ]
  },
  {
   "cell_type": "code",
   "execution_count": 110,
   "metadata": {},
   "outputs": [],
   "source": [
    "no_of_clusters = detectCores(logical = FALSE)\n",
    "cl = makeCluster(no_of_clusters)\n",
    "\n",
    "GARCH11_CnDprocess_par = clusterApply(cl,\n",
    "                                     x = 1:roll, # t\n",
    "                                     fun = CnDprocess_t_par,\n",
    "                                     regressand = df[, c(\"SPX_R\")],\n",
    "                                     pre_GARCH_mu_hat = GARCH11_mu_hat_par,\n",
    "                                     pre_GARCH_sigma_hat = GARCH11_sigma_hat_par,\n",
    "                                     pre_GARCH_CandD_I_k = matrix(, nrow = roll, ncol = 1),\n",
    "                                     pre_GARCH_CandD_I = matrix(, nrow = roll, ncol = 1))\n",
    "stopCluster(cl)"
   ]
  },
  {
   "cell_type": "code",
   "execution_count": 111,
   "metadata": {},
   "outputs": [],
   "source": [
    "# C&D's model according to the GARCH11 Model:\n",
    "GARCH11_CandD_par = (1:(roll-1))\n",
    "for(i in c(1:(roll-1)))\n",
    "{GARCH11_CandD_par[i] = 1 - ((GARCH11_CnDprocess_par[[i]][[2]][i])/\n",
    "                       length(na.omit(GARCH11_CnDprocess_par[[i]][[2]])))}\n",
    "GARCH11_CandD_zoo_par = zoo(GARCH11_CandD_par, index(df[, c(\"SPX_R\")][(253+1):(253+(roll-1))]))\n",
    "\n",
    "# This zoo object has missing values, so we can remove them:\n",
    "GARCH11_CandD_zoo_no_nas_par = na.omit(GARCH11_CandD_zoo_par)"
   ]
  },
  {
   "cell_type": "markdown",
   "metadata": {},
   "source": [
    "$$ \\\\ $$\n",
    "Saving our data this far to help with de-bugging if needed:"
   ]
  },
  {
   "cell_type": "code",
   "execution_count": 112,
   "metadata": {},
   "outputs": [],
   "source": [
    "save.image(file = \"IDaSRP_work_space_p4.04.RData\")\n",
    "# # To restore your workspace, type this:\n",
    "# load(\"IDaSRP_work_space_p4.04.RData\")"
   ]
  },
  {
   "cell_type": "markdown",
   "metadata": {},
   "source": [
    "It is interesting to see that each 'CnDprocess_t' column is not the same. In addition to having 'NA's at different locations, they were built off recursive modellings of $\\hat{\\mu_t}$ and $\\hat{\\sigma_t}$. This is most apparent in the second element of the last list in 'CnDprocess_t', where the summation of previous outputs emphasise this effect:"
   ]
  },
  {
   "cell_type": "markdown",
   "metadata": {},
   "source": [
    "$$ \\\\ $$\n",
    "#### GARCH11SVI's C&D Model"
   ]
  },
  {
   "cell_type": "markdown",
   "metadata": {},
   "source": [
    "##### Series"
   ]
  },
  {
   "cell_type": "markdown",
   "metadata": {},
   "source": [
    "Computing in series the values $\\hat{\\pi}_{C\\&D_{GARCH(1,1)-SVI}, t+1} $"
   ]
  },
  {
   "cell_type": "code",
   "execution_count": 113,
   "metadata": {},
   "outputs": [],
   "source": [
    "GARCH11SVI_CandD_process_ser = CnDprocess_ser(regressand = df[, c(\"SPX_R\")],\n",
    "                                              GARCH_mu_hat = GARCH11SVI_mu_hat_ser,\n",
    "                                              GARCH_sigma_hat = GARCH11SVI_sigma_hat_ser)"
   ]
  },
  {
   "cell_type": "code",
   "execution_count": 114,
   "metadata": {},
   "outputs": [],
   "source": [
    "GARCH11SVI_CandD_I_k_ser = GARCH11SVI_CandD_process_ser[[1]]\n",
    "GARCH11SVI_CandD_I_ser = GARCH11SVI_CandD_process_ser[[2]]\n",
    "GARCH11SVI_CandD_ser = GARCH11SVI_CandD_process_ser[[3]]\n",
    "GARCH11SVI_CandD_zoo_ser = zoo(GARCH11SVI_CandD_ser, index(df[, c(\"SPX_R\")][(253+1):(253+(roll-1))]))\n",
    "GARCH11SVI_CandD_zoo_no_nas_ser = zoo(na.omit(GARCH11SVI_CandD_zoo_ser))"
   ]
  },
  {
   "cell_type": "markdown",
   "metadata": {},
   "source": [
    "$$ \\\\ $$\n",
    "Saving our data this far to help with de-bugging if needed:"
   ]
  },
  {
   "cell_type": "code",
   "execution_count": 115,
   "metadata": {},
   "outputs": [],
   "source": [
    "save.image(file = \"IDaSRP_work_space_p4.05.RData\")\n",
    "# # To restore your workspace, type this:\n",
    "# load(\"IDaSRP_work_space_p4.05.RData\")"
   ]
  },
  {
   "cell_type": "markdown",
   "metadata": {},
   "source": [
    "##### Parallel"
   ]
  },
  {
   "cell_type": "markdown",
   "metadata": {},
   "source": [
    "Computing in parallel the values $\\hat{\\pi}_{C\\&D_{GARCH(1,1)-SVI}, t+1} $"
   ]
  },
  {
   "cell_type": "code",
   "execution_count": 117,
   "metadata": {},
   "outputs": [],
   "source": [
    "no_of_clusters = detectCores(logical = FALSE)\n",
    "cl = makeCluster(no_of_clusters)\n",
    "\n",
    "GARCH11SVI_CnDprocess_par = clusterApply(cl,\n",
    "                                         x = 1:roll, # t\n",
    "                                         fun = CnDprocess_t_par,\n",
    "                                         regressand = df[, c(\"SPX_R\")],\n",
    "                                         pre_GARCH_mu_hat = GARCH11SVI_mu_hat_par,\n",
    "                                         pre_GARCH_sigma_hat = GARCH11SVI_sigma_hat_par,\n",
    "                                         pre_GARCH_CandD_I_k = matrix(, nrow = roll, ncol = 1),\n",
    "                                         pre_GARCH_CandD_I = matrix(, nrow = roll, ncol = 1))\n",
    "stopCluster(cl)"
   ]
  },
  {
   "cell_type": "code",
   "execution_count": 118,
   "metadata": {},
   "outputs": [],
   "source": [
    "# C&D's model according to the GARCH11SVI Model:\n",
    "GARCH11SVI_CandD_par = (1:(roll-1))\n",
    "for(i in c(1:(roll-1)))\n",
    "{GARCH11SVI_CandD_par[i] = 1 - ((GARCH11SVI_CnDprocess_par[[i]][[2]][i])/\n",
    "                       length(na.omit(GARCH11SVI_CnDprocess_par[[i]][[2]])))}\n",
    "GARCH11SVI_CandD_zoo_par = zoo(GARCH11SVI_CandD_par, index(df[, c(\"SPX_R\")][(253+1):(253+(roll-1))]))\n",
    "\n",
    "# This zoo object has missing values, so we can remove them:\n",
    "GARCH11SVI_CandD_zoo_no_nas_par = na.omit(GARCH11SVI_CandD_zoo_par)"
   ]
  },
  {
   "cell_type": "markdown",
   "metadata": {},
   "source": [
    "$$ \\\\ $$\n",
    "Saving our data this far to help with de-bugging if needed:"
   ]
  },
  {
   "cell_type": "code",
   "execution_count": 119,
   "metadata": {},
   "outputs": [],
   "source": [
    "save.image(file = \"IDaSRP_work_space_p4.06.RData\")\n",
    "# # To restore your workspace, type this:\n",
    "# load(\"IDaSRP_work_space_p4.06.RData\")"
   ]
  },
  {
   "cell_type": "markdown",
   "metadata": {},
   "source": [
    "$$ \\\\ $$\n",
    "#### GJRGARCH11's C&D Model"
   ]
  },
  {
   "cell_type": "markdown",
   "metadata": {},
   "source": [
    "##### Series"
   ]
  },
  {
   "cell_type": "markdown",
   "metadata": {},
   "source": [
    "Computing in series the values $\\hat{\\pi}_{C\\&D_{GJRGARCH(1,1)}, t+1} $"
   ]
  },
  {
   "cell_type": "code",
   "execution_count": 120,
   "metadata": {},
   "outputs": [],
   "source": [
    "GJRGARCH11_CandD_process_ser = CnDprocess_ser(regressand = df[, c(\"SPX_R\")],\n",
    "                                              GARCH_mu_hat = GJRGARCH11_mu_hat_ser,\n",
    "                                              GARCH_sigma_hat = GJRGARCH11_sigma_hat_ser)"
   ]
  },
  {
   "cell_type": "code",
   "execution_count": 121,
   "metadata": {},
   "outputs": [],
   "source": [
    "GJRGARCH11_CandD_I_k_ser = GJRGARCH11_CandD_process_ser[[1]]\n",
    "GJRGARCH11_CandD_I_ser = GJRGARCH11_CandD_process_ser[[2]]\n",
    "GJRGARCH11_CandD_ser = GJRGARCH11_CandD_process_ser[[3]]\n",
    "GJRGARCH11_CandD_zoo_ser = zoo(GJRGARCH11_CandD_ser, index(df[, c(\"SPX_R\")][(253+1):(253+(roll-1))]))\n",
    "GJRGARCH11_CandD_zoo_no_nas_ser = zoo(na.omit(GJRGARCH11_CandD_zoo_ser))"
   ]
  },
  {
   "cell_type": "markdown",
   "metadata": {},
   "source": [
    "$$ \\\\ $$\n",
    "Saving our data this far to help with de-bugging if needed:"
   ]
  },
  {
   "cell_type": "code",
   "execution_count": 122,
   "metadata": {},
   "outputs": [],
   "source": [
    "save.image(file = \"IDaSRP_work_space_p4.07.RData\")\n",
    "# # To restore your workspace, type this:\n",
    "# load(\"IDaSRP_work_space_p4.07.RData\")"
   ]
  },
  {
   "cell_type": "markdown",
   "metadata": {},
   "source": [
    "##### Parallel"
   ]
  },
  {
   "cell_type": "markdown",
   "metadata": {},
   "source": [
    "Computing in parallel the values $\\hat{\\pi}_{C\\&D_{GJRGARCH(1,1)}, t+1} $"
   ]
  },
  {
   "cell_type": "code",
   "execution_count": 125,
   "metadata": {},
   "outputs": [],
   "source": [
    "no_of_clusters = detectCores(logical = FALSE)\n",
    "cl = makeCluster(no_of_clusters)\n",
    "\n",
    "GJRGARCH11_CnDprocess_par = clusterApply(cl,\n",
    "                                         x = 1:roll, # t\n",
    "                                         fun = CnDprocess_t_par,\n",
    "                                         regressand = df[, c(\"SPX_R\")],\n",
    "                                         pre_GARCH_mu_hat = GJRGARCH11_mu_hat_par,\n",
    "                                         pre_GARCH_sigma_hat = GJRGARCH11_sigma_hat_par,\n",
    "                                         pre_GARCH_CandD_I_k = matrix(, nrow = roll, ncol = 1),\n",
    "                                         pre_GARCH_CandD_I = matrix(, nrow = roll, ncol = 1))\n",
    "stopCluster(cl)"
   ]
  },
  {
   "cell_type": "code",
   "execution_count": 126,
   "metadata": {},
   "outputs": [],
   "source": [
    "# C&D's model according to the GJRGARCH11 Model:\n",
    "GJRGARCH11_CandD_par = (1:(roll-1))\n",
    "for(i in c(1:(roll-1)))\n",
    "{GJRGARCH11_CandD_par[i] = 1 - ((GJRGARCH11_CnDprocess_par[[i]][[2]][i])/\n",
    "                       length(na.omit(GJRGARCH11_CnDprocess_par[[i]][[2]])))}\n",
    "GJRGARCH11_CandD_zoo_par = zoo(GJRGARCH11_CandD_par, index(df[, c(\"SPX_R\")][(253+1):(253+(roll-1))]))\n",
    "\n",
    "# This zoo object has missing values, so we can remove them:\n",
    "GJRGARCH11_CandD_zoo_no_nas_par = na.omit(GJRGARCH11_CandD_zoo_par)"
   ]
  },
  {
   "cell_type": "markdown",
   "metadata": {},
   "source": [
    "$$ \\\\ $$\n",
    "Saving our data this far to help with de-bugging if needed:"
   ]
  },
  {
   "cell_type": "code",
   "execution_count": 127,
   "metadata": {},
   "outputs": [],
   "source": [
    "save.image(file = \"IDaSRP_work_space_p4.08.RData\")\n",
    "# # To restore your workspace, type this:\n",
    "# load(\"IDaSRP_work_space_p4.08.RData\")"
   ]
  },
  {
   "cell_type": "markdown",
   "metadata": {},
   "source": [
    "$$ \\\\ $$\n",
    "#### GJRGARCH11SVI's C&D Model"
   ]
  },
  {
   "cell_type": "markdown",
   "metadata": {},
   "source": [
    "##### Series"
   ]
  },
  {
   "cell_type": "markdown",
   "metadata": {},
   "source": [
    "Computing in series the values $\\hat{\\pi}_{C\\&D_{GJRGARCH(1,1)-SVI}, t+1} $"
   ]
  },
  {
   "cell_type": "code",
   "execution_count": 128,
   "metadata": {},
   "outputs": [],
   "source": [
    "GJRGARCH11SVI_CandD_process_ser = CnDprocess_ser(regressand = df[, c(\"SPX_R\")],\n",
    "                                              GARCH_mu_hat = GJRGARCH11SVI_mu_hat_ser,\n",
    "                                              GARCH_sigma_hat = GJRGARCH11SVI_sigma_hat_ser)"
   ]
  },
  {
   "cell_type": "code",
   "execution_count": 129,
   "metadata": {},
   "outputs": [],
   "source": [
    "GJRGARCH11SVI_CandD_I_k_ser = GJRGARCH11SVI_CandD_process_ser[[1]]\n",
    "GJRGARCH11SVI_CandD_I_ser = GJRGARCH11SVI_CandD_process_ser[[2]]\n",
    "GJRGARCH11SVI_CandD_ser = GJRGARCH11SVI_CandD_process_ser[[3]]\n",
    "GJRGARCH11SVI_CandD_zoo_ser = zoo(GJRGARCH11SVI_CandD_ser, index(df[, c(\"SPX_R\")][(253+1):(253+(roll-1))]))\n",
    "GJRGARCH11SVI_CandD_zoo_no_nas_ser = zoo(na.omit(GJRGARCH11SVI_CandD_zoo_ser))"
   ]
  },
  {
   "cell_type": "markdown",
   "metadata": {},
   "source": [
    "$$ \\\\ $$\n",
    "Saving our data this far to help with de-bugging if needed:"
   ]
  },
  {
   "cell_type": "code",
   "execution_count": 130,
   "metadata": {},
   "outputs": [],
   "source": [
    "save.image(file = \"IDaSRP_work_space_p4.09.RData\")\n",
    "# # To restore your workspace, type this:\n",
    "# load(\"IDaSRP_work_space_p4.09.RData\")"
   ]
  },
  {
   "cell_type": "markdown",
   "metadata": {},
   "source": [
    "##### Parallel"
   ]
  },
  {
   "cell_type": "markdown",
   "metadata": {},
   "source": [
    "Computing in parallel the values $\\hat{\\pi}_{C\\&D_{GJRGARCH(1,1)-SVI}, t+1} $"
   ]
  },
  {
   "cell_type": "code",
   "execution_count": 132,
   "metadata": {},
   "outputs": [],
   "source": [
    "no_of_clusters = detectCores(logical = FALSE)\n",
    "cl = makeCluster(no_of_clusters)\n",
    "\n",
    "GJRGARCH11SVI_CnDprocess_par = clusterApply(cl,\n",
    "                                            x = 1:roll, # t\n",
    "                                            fun = CnDprocess_t_par,\n",
    "                                            regressand = df[, c(\"SPX_R\")],\n",
    "                                            pre_GARCH_mu_hat = GJRGARCH11SVI_mu_hat_par,\n",
    "                                            pre_GARCH_sigma_hat = GJRGARCH11SVI_sigma_hat_par,\n",
    "                                            pre_GARCH_CandD_I_k = matrix(, nrow = roll, ncol = 1),\n",
    "                                            pre_GARCH_CandD_I = matrix(, nrow = roll, ncol = 1))\n",
    "stopCluster(cl)"
   ]
  },
  {
   "cell_type": "code",
   "execution_count": 133,
   "metadata": {},
   "outputs": [],
   "source": [
    "# C&D's model according to the GJRGARCH11SVI Model:\n",
    "GJRGARCH11SVI_CandD_par = (1:(roll-1))\n",
    "for(i in c(1:(roll-1)))\n",
    "{GJRGARCH11SVI_CandD_par[i] = 1 - ((GJRGARCH11SVI_CnDprocess_par[[i]][[2]][i])/\n",
    "                                   length(na.omit(GJRGARCH11SVI_CnDprocess_par[[i]][[2]])))}\n",
    "GJRGARCH11SVI_CandD_zoo_par = zoo(GJRGARCH11SVI_CandD_par, index(df[, c(\"SPX_R\")][(253+1):(253+(roll-1))]))\n",
    "\n",
    "# This zoo object has missing values, so we can remove them:\n",
    "GJRGARCH11SVI_CandD_zoo_no_nas_par = na.omit(GJRGARCH11SVI_CandD_zoo_par)"
   ]
  },
  {
   "cell_type": "markdown",
   "metadata": {},
   "source": [
    "$$ \\\\ $$\n",
    "Saving our data this far to help with de-bugging if needed:"
   ]
  },
  {
   "cell_type": "code",
   "execution_count": 134,
   "metadata": {},
   "outputs": [],
   "source": [
    "save.image(file = \"IDaSRP_work_space_p4.10.RData\")\n",
    "# # To restore your workspace, type this:\n",
    "# load(\"IDaSRP_work_space_p4.10.RData\")"
   ]
  },
  {
   "cell_type": "markdown",
   "metadata": {},
   "source": [
    "$$ \\\\ $$\n",
    "#### EGARCH11's C&D Model"
   ]
  },
  {
   "cell_type": "markdown",
   "metadata": {},
   "source": [
    "##### Series"
   ]
  },
  {
   "cell_type": "markdown",
   "metadata": {},
   "source": [
    "Computing in series the values $\\hat{\\pi}_{C\\&D_{EGARCH(1,1)}, t+1} $"
   ]
  },
  {
   "cell_type": "code",
   "execution_count": 135,
   "metadata": {},
   "outputs": [],
   "source": [
    "EGARCH11_CandD_process_ser = CnDprocess_ser(regressand = df[, c(\"SPX_R\")],\n",
    "                                              GARCH_mu_hat = EGARCH11_mu_hat_ser,\n",
    "                                              GARCH_sigma_hat = EGARCH11_sigma_hat_ser)"
   ]
  },
  {
   "cell_type": "code",
   "execution_count": 136,
   "metadata": {},
   "outputs": [],
   "source": [
    "EGARCH11_CandD_I_k_ser = EGARCH11_CandD_process_ser[[1]]\n",
    "EGARCH11_CandD_I_ser = EGARCH11_CandD_process_ser[[2]]\n",
    "EGARCH11_CandD_ser = EGARCH11_CandD_process_ser[[3]]\n",
    "EGARCH11_CandD_zoo_ser = zoo(EGARCH11_CandD_ser, index(df[, c(\"SPX_R\")][(253+1):(253+(roll-1))]))\n",
    "EGARCH11_CandD_zoo_no_nas_ser = zoo(na.omit(EGARCH11_CandD_zoo_ser))"
   ]
  },
  {
   "cell_type": "markdown",
   "metadata": {},
   "source": [
    "$$ \\\\ $$\n",
    "Saving our data this far to help with de-bugging if needed:"
   ]
  },
  {
   "cell_type": "code",
   "execution_count": 137,
   "metadata": {},
   "outputs": [],
   "source": [
    "save.image(file = \"IDaSRP_work_space_p4.11.RData\")\n",
    "# # To restore your workspace, type this:\n",
    "# load(\"IDaSRP_work_space_p4.11.RData\")"
   ]
  },
  {
   "cell_type": "markdown",
   "metadata": {},
   "source": [
    "##### Parallel"
   ]
  },
  {
   "cell_type": "markdown",
   "metadata": {},
   "source": [
    "Computing in parallel the values $\\hat{\\pi}_{C\\&D_{EGARCH(1,1)}, t+1} $"
   ]
  },
  {
   "cell_type": "code",
   "execution_count": 140,
   "metadata": {},
   "outputs": [],
   "source": [
    "no_of_clusters = detectCores(logical = FALSE)\n",
    "cl = makeCluster(no_of_clusters)\n",
    "\n",
    "EGARCH11_CnDprocess_par = clusterApply(cl,\n",
    "                                       x = 1:roll, # t\n",
    "                                       fun = CnDprocess_t_par,\n",
    "                                       regressand = df[, c(\"SPX_R\")],\n",
    "                                       pre_GARCH_mu_hat = EGARCH11_mu_hat_par,\n",
    "                                       pre_GARCH_sigma_hat = EGARCH11_sigma_hat_par,\n",
    "                                       pre_GARCH_CandD_I_k = matrix(, nrow = roll, ncol = 1),\n",
    "                                       pre_GARCH_CandD_I = matrix(, nrow = roll, ncol = 1))\n",
    "stopCluster(cl)"
   ]
  },
  {
   "cell_type": "code",
   "execution_count": 141,
   "metadata": {},
   "outputs": [],
   "source": [
    "# C&D's model according to the EGARCH11 Model:\n",
    "EGARCH11_CandD_par = (1:(roll-1))\n",
    "for(i in c(1:(roll-1)))\n",
    "{EGARCH11_CandD_par[i] = 1 - ((EGARCH11_CnDprocess_par[[i]][[2]][i])/\n",
    "                              length(na.omit(EGARCH11_CnDprocess_par[[i]][[2]])))}\n",
    "EGARCH11_CandD_zoo_par = zoo(EGARCH11_CandD_par, index(df[, c(\"SPX_R\")][(253+1):(253+(roll-1))]))\n",
    "\n",
    "# This zoo object has missing values, so we can remove them:\n",
    "EGARCH11_CandD_zoo_no_nas_par = na.omit(EGARCH11_CandD_zoo_par)"
   ]
  },
  {
   "cell_type": "markdown",
   "metadata": {},
   "source": [
    "$$ \\\\ $$\n",
    "Saving our data this far to help with de-bugging if needed:"
   ]
  },
  {
   "cell_type": "code",
   "execution_count": 142,
   "metadata": {},
   "outputs": [],
   "source": [
    "save.image(file = \"IDaSRP_work_space_p4.12.RData\")\n",
    "# # To restore your workspace, type this:\n",
    "# load(\"IDaSRP_work_space_p4.12.RData\")"
   ]
  },
  {
   "cell_type": "markdown",
   "metadata": {},
   "source": [
    "$$ \\\\ $$\n",
    "#### EGARCH11SVI's C&D Model"
   ]
  },
  {
   "cell_type": "markdown",
   "metadata": {},
   "source": [
    "##### Series"
   ]
  },
  {
   "cell_type": "markdown",
   "metadata": {},
   "source": [
    "Computing in series the values $\\hat{\\pi}_{C\\&D_{EGARCH(1,1)-SVI}, t+1} $"
   ]
  },
  {
   "cell_type": "code",
   "execution_count": 143,
   "metadata": {},
   "outputs": [],
   "source": [
    "EGARCH11SVI_CandD_process_ser = CnDprocess_ser(regressand = df[, c(\"SPX_R\")],\n",
    "                                              GARCH_mu_hat = EGARCH11SVI_mu_hat_ser,\n",
    "                                              GARCH_sigma_hat = EGARCH11SVI_sigma_hat_ser)"
   ]
  },
  {
   "cell_type": "code",
   "execution_count": 144,
   "metadata": {},
   "outputs": [],
   "source": [
    "EGARCH11SVI_CandD_I_k_ser = EGARCH11SVI_CandD_process_ser[[1]]\n",
    "EGARCH11SVI_CandD_I_ser = EGARCH11SVI_CandD_process_ser[[2]]\n",
    "EGARCH11SVI_CandD_ser = EGARCH11SVI_CandD_process_ser[[3]]\n",
    "EGARCH11SVI_CandD_zoo_ser = zoo(EGARCH11SVI_CandD_ser, index(df[, c(\"SPX_R\")][(253+1):(253+(roll-1))]))\n",
    "EGARCH11SVI_CandD_zoo_no_nas_ser = zoo(na.omit(EGARCH11SVI_CandD_zoo_ser))"
   ]
  },
  {
   "cell_type": "markdown",
   "metadata": {},
   "source": [
    "$$ \\\\ $$\n",
    "Saving our data this far to help with de-bugging if needed:"
   ]
  },
  {
   "cell_type": "code",
   "execution_count": 145,
   "metadata": {},
   "outputs": [],
   "source": [
    "save.image(file = \"IDaSRP_work_space_p4.13.RData\")\n",
    "# # To restore your workspace, type this:\n",
    "# load(\"IDaSRP_work_space_p4.13.RData\")"
   ]
  },
  {
   "cell_type": "markdown",
   "metadata": {},
   "source": [
    "##### Parallel"
   ]
  },
  {
   "cell_type": "markdown",
   "metadata": {},
   "source": [
    "Computing in parallel the values $\\hat{\\pi}_{C\\&D_{EGARCH(1,1)-SVI}, t+1} $"
   ]
  },
  {
   "cell_type": "code",
   "execution_count": 146,
   "metadata": {},
   "outputs": [],
   "source": [
    "no_of_clusters = detectCores(logical = FALSE)\n",
    "cl = makeCluster(no_of_clusters)\n",
    "\n",
    "EGARCH11SVI_CnDprocess_par = clusterApply(cl,\n",
    "                                          x = 1:roll, # t\n",
    "                                          fun = CnDprocess_t_par,\n",
    "                                          regressand = df[, c(\"SPX_R\")],\n",
    "                                          pre_GARCH_mu_hat = EGARCH11SVI_mu_hat_par,\n",
    "                                          pre_GARCH_sigma_hat = EGARCH11SVI_sigma_hat_par,\n",
    "                                          pre_GARCH_CandD_I_k = matrix(, nrow = roll, ncol = 1),\n",
    "                                          pre_GARCH_CandD_I = matrix(, nrow = roll, ncol = 1))\n",
    "stopCluster(cl)"
   ]
  },
  {
   "cell_type": "code",
   "execution_count": 151,
   "metadata": {},
   "outputs": [],
   "source": [
    "# C&D's model according to the EGARCH11SVI Model:\n",
    "EGARCH11SVI_CandD_par = (1:(roll-1))\n",
    "for(i in c(1:(roll-1)))\n",
    "{EGARCH11SVI_CandD_par[i] = 1 - ((EGARCH11SVI_CnDprocess_par[[i]][[2]][i])/\n",
    "                                 length(na.omit(EGARCH11SVI_CnDprocess_par[[i]][[2]])))}\n",
    "EGARCH11SVI_CandD_zoo_par = zoo(EGARCH11SVI_CandD_par, index(df[, c(\"SPX_R\")][(253+1):(253+(roll-1))]))\n",
    "\n",
    "# This zoo object has missing values, so we can remove them:\n",
    "EGARCH11SVI_CandD_zoo_no_nas_par = na.omit(EGARCH11SVI_CandD_zoo_par)"
   ]
  },
  {
   "cell_type": "markdown",
   "metadata": {},
   "source": [
    "$$ \\\\ $$\n",
    "Saving our data this far to help with de-bugging if needed:"
   ]
  },
  {
   "cell_type": "code",
   "execution_count": 152,
   "metadata": {},
   "outputs": [],
   "source": [
    "save.image(file = \"IDaSRP_work_space_p4.14.1.RData\")\n",
    "# # To restore your workspace, type this:\n",
    "# load(\"IDaSRP_work_space_p4.14.1.RData\")"
   ]
  },
  {
   "cell_type": "markdown",
   "metadata": {},
   "source": [
    "$$ \\\\ $$\n",
    "## Comparing the predictive performance of each model:\n",
    "Forecast error mean, sd (standard deviation), Brier Scores and Diebold&Mariano statistics based on results from the parallel methods used above:"
   ]
  },
  {
   "cell_type": "markdown",
   "metadata": {},
   "source": [
    "Mean of the probabilistic forecast errors derived from each model letting $ \\pi_{Observed,t} = I(R_{SPX,t} > 0) = \\begin{Bmatrix} 1 & \\text{if } R_{SPX,t} > 0 \\\\ 0 & \\text{otherwise} \\end{Bmatrix} $ and $ \\mathbf{Observed\\_pi} = $ $\\left[ \\begin{matrix}\n",
    "    \\pi_{Observed,1} \\\\\n",
    "    \\pi_{Observed,2} \\\\\n",
    "    \\vdots\\\\\n",
    "    \\pi_{Observed,T_{Observed\\_pi}}\n",
    "\\end{matrix} \\right]\n",
    "$ = $\\left[ \\begin{matrix}\n",
    "    I(R_{SPX,1} > 0) \\\\\n",
    "    I(R_{SPX,2} > 0) \\\\\n",
    "    \\vdots\\\\\n",
    "    I(R_{SPX,T_{Observed\\_pi}} > 0)\n",
    "\\end{matrix} \\right]\n",
    "$"
   ]
  },
  {
   "cell_type": "code",
   "execution_count": 153,
   "metadata": {},
   "outputs": [],
   "source": [
    "Observed_pi = ifelse(matrix(df[, c(\"SPX_R\")])>0,1,0)\n",
    "Observed_pi_zoo = zoo(Observed_pi, index(df[, c(\"SPX_R\")]))"
   ]
  },
  {
   "cell_type": "markdown",
   "metadata": {},
   "source": [
    "To asses the accuracy of volatility and positive sign probability forecasts, this sub-section specifies error functions.\n",
    "\n",
    "Variance forecasts from the models GARCH to EGARCH-SVI are simply compared against realised volatilities to compute variance forecast errors as\n",
    "$$ \\hat{\\sigma}_{t|t-1} - RV_t \\text{ .}$$\n",
    "\n",
    "\n",
    "Sign forecast errors are computed as \n",
    "\n",
    "$$\\begin{equation} \\label{eq:SignForecastErrors}\n",
    "\\hat{\\pi}_{j, t+1} - \\mathbb{P}(R_{t+1} > 0 | \\Omega_{t \\textbf{+1}}) = \\hat{\\pi}_{j, t+1} - \\pi_{Observed,t+1}\n",
    "\\end{equation}$$\n",
    "\n",
    "where $j = (C\\&D_M,  Naive)$, and where $M$ can be replaced by a model name ranging from GARCH to EGARCH-SVI (Note the bold `$+1$' in $\\Omega_{t \\textbf{+1}}$ here to emphasise how $\\mathbb{P}(R_{t+1}>0|\\Omega_{t \\textbf{+1}})=I(R_{t+1}>0)$.)"
   ]
  },
  {
   "cell_type": "code",
   "execution_count": 154,
   "metadata": {},
   "outputs": [],
   "source": [
    "Naive_pi_error = Naive_zoo - Observed_pi_zoo\n",
    "GARCH11_pi_error = GARCH11_CandD_zoo_no_nas_par - Observed_pi_zoo\n",
    "GARCH11SVI_pi_error = GARCH11SVI_CandD_zoo_no_nas_par - Observed_pi_zoo\n",
    "GJRGARCH11_pi_error = GJRGARCH11_CandD_zoo_no_nas_par - Observed_pi_zoo\n",
    "GJRGARCH11SVI_pi_error = GJRGARCH11SVI_CandD_zoo_no_nas_par - Observed_pi_zoo\n",
    "EGARCH11_pi_error = EGARCH11_CandD_zoo_no_nas_par - Observed_pi_zoo\n",
    "EGARCH11SVI_pi_error = EGARCH11SVI_CandD_zoo_no_nas_par - Observed_pi_zoo"
   ]
  },
  {
   "cell_type": "code",
   "execution_count": 12,
   "metadata": {},
   "outputs": [
    {
     "data": {
      "text/html": [
       "<table>\n",
       "<caption>A data.table: 7 × 9</caption>\n",
       "<thead>\n",
       "\t<tr><th scope=col>Data_Set</th><th scope=col>Mean</th><th scope=col>Mean_of_Absolute_Values</th><th scope=col>Standard_Deviation</th><th scope=col>Median</th><th scope=col>Skewness</th><th scope=col>Kurtosis</th><th scope=col>ACF_lag_0</th><th scope=col>ACF_lag_1</th></tr>\n",
       "\t<tr><th scope=col>&lt;chr&gt;</th><th scope=col>&lt;dbl&gt;</th><th scope=col>&lt;dbl&gt;</th><th scope=col>&lt;dbl&gt;</th><th scope=col>&lt;dbl&gt;</th><th scope=col>&lt;dbl&gt;</th><th scope=col>&lt;dbl&gt;</th><th scope=col>&lt;dbl&gt;</th><th scope=col>&lt;dbl&gt;</th></tr>\n",
       "</thead>\n",
       "<tbody>\n",
       "\t<tr><td>Naive_pi_error        </td><td>-0.544358428</td><td>0.5445473</td><td>0.4980632</td><td>-0.9996686</td><td>0.1790524</td><td>-1.968977</td><td>1</td><td>-0.06672948</td></tr>\n",
       "\t<tr><td>GARCH11_pi_error      </td><td> 0.011770315</td><td>0.4943595</td><td>0.4984904</td><td>-0.4006568</td><td>0.1766350</td><td>-1.951251</td><td>1</td><td>-0.02481175</td></tr>\n",
       "\t<tr><td>GARCH11SVI_pi_error   </td><td> 0.009742772</td><td>0.4943771</td><td>0.4983300</td><td>-0.4033970</td><td>0.1779972</td><td>-1.951288</td><td>1</td><td>-0.02831325</td></tr>\n",
       "\t<tr><td>GJRGARCH11_pi_error   </td><td> 0.006156740</td><td>0.4948573</td><td>0.4982681</td><td>-0.4130435</td><td>0.1777539</td><td>-1.954735</td><td>1</td><td>-0.03268875</td></tr>\n",
       "\t<tr><td>GJRGARCH11SVI_pi_error</td><td> 0.006146078</td><td>0.4947756</td><td>0.4982166</td><td>-0.4111748</td><td>0.1777965</td><td>-1.954254</td><td>1</td><td>-0.03216385</td></tr>\n",
       "\t<tr><td>EGARCH11_pi_error     </td><td> 0.006432536</td><td>0.4947300</td><td>0.4982087</td><td>-0.4115816</td><td>0.1778832</td><td>-1.954040</td><td>1</td><td>-0.03242612</td></tr>\n",
       "\t<tr><td>EGARCH11SVI_pi_error  </td><td> 0.006283576</td><td>0.4946241</td><td>0.4982143</td><td>-0.4077604</td><td>0.1776422</td><td>-1.952094</td><td>1</td><td>-0.02887203</td></tr>\n",
       "</tbody>\n",
       "</table>\n"
      ],
      "text/latex": [
       "A data.table: 7 × 9\n",
       "\\begin{tabular}{lllllllll}\n",
       " Data\\_Set & Mean & Mean\\_of\\_Absolute\\_Values & Standard\\_Deviation & Median & Skewness & Kurtosis & ACF\\_lag\\_0 & ACF\\_lag\\_1\\\\\n",
       " <chr> & <dbl> & <dbl> & <dbl> & <dbl> & <dbl> & <dbl> & <dbl> & <dbl>\\\\\n",
       "\\hline\n",
       "\t Naive\\_pi\\_error         & -0.544358428 & 0.5445473 & 0.4980632 & -0.9996686 & 0.1790524 & -1.968977 & 1 & -0.06672948\\\\\n",
       "\t GARCH11\\_pi\\_error       &  0.011770315 & 0.4943595 & 0.4984904 & -0.4006568 & 0.1766350 & -1.951251 & 1 & -0.02481175\\\\\n",
       "\t GARCH11SVI\\_pi\\_error    &  0.009742772 & 0.4943771 & 0.4983300 & -0.4033970 & 0.1779972 & -1.951288 & 1 & -0.02831325\\\\\n",
       "\t GJRGARCH11\\_pi\\_error    &  0.006156740 & 0.4948573 & 0.4982681 & -0.4130435 & 0.1777539 & -1.954735 & 1 & -0.03268875\\\\\n",
       "\t GJRGARCH11SVI\\_pi\\_error &  0.006146078 & 0.4947756 & 0.4982166 & -0.4111748 & 0.1777965 & -1.954254 & 1 & -0.03216385\\\\\n",
       "\t EGARCH11\\_pi\\_error      &  0.006432536 & 0.4947300 & 0.4982087 & -0.4115816 & 0.1778832 & -1.954040 & 1 & -0.03242612\\\\\n",
       "\t EGARCH11SVI\\_pi\\_error   &  0.006283576 & 0.4946241 & 0.4982143 & -0.4077604 & 0.1776422 & -1.952094 & 1 & -0.02887203\\\\\n",
       "\\end{tabular}\n"
      ],
      "text/markdown": [
       "\n",
       "A data.table: 7 × 9\n",
       "\n",
       "| Data_Set &lt;chr&gt; | Mean &lt;dbl&gt; | Mean_of_Absolute_Values &lt;dbl&gt; | Standard_Deviation &lt;dbl&gt; | Median &lt;dbl&gt; | Skewness &lt;dbl&gt; | Kurtosis &lt;dbl&gt; | ACF_lag_0 &lt;dbl&gt; | ACF_lag_1 &lt;dbl&gt; |\n",
       "|---|---|---|---|---|---|---|---|---|\n",
       "| Naive_pi_error         | -0.544358428 | 0.5445473 | 0.4980632 | -0.9996686 | 0.1790524 | -1.968977 | 1 | -0.06672948 |\n",
       "| GARCH11_pi_error       |  0.011770315 | 0.4943595 | 0.4984904 | -0.4006568 | 0.1766350 | -1.951251 | 1 | -0.02481175 |\n",
       "| GARCH11SVI_pi_error    |  0.009742772 | 0.4943771 | 0.4983300 | -0.4033970 | 0.1779972 | -1.951288 | 1 | -0.02831325 |\n",
       "| GJRGARCH11_pi_error    |  0.006156740 | 0.4948573 | 0.4982681 | -0.4130435 | 0.1777539 | -1.954735 | 1 | -0.03268875 |\n",
       "| GJRGARCH11SVI_pi_error |  0.006146078 | 0.4947756 | 0.4982166 | -0.4111748 | 0.1777965 | -1.954254 | 1 | -0.03216385 |\n",
       "| EGARCH11_pi_error      |  0.006432536 | 0.4947300 | 0.4982087 | -0.4115816 | 0.1778832 | -1.954040 | 1 | -0.03242612 |\n",
       "| EGARCH11SVI_pi_error   |  0.006283576 | 0.4946241 | 0.4982143 | -0.4077604 | 0.1776422 | -1.952094 | 1 | -0.02887203 |\n",
       "\n"
      ],
      "text/plain": [
       "  Data_Set               Mean         Mean_of_Absolute_Values\n",
       "1 Naive_pi_error         -0.544358428 0.5445473              \n",
       "2 GARCH11_pi_error        0.011770315 0.4943595              \n",
       "3 GARCH11SVI_pi_error     0.009742772 0.4943771              \n",
       "4 GJRGARCH11_pi_error     0.006156740 0.4948573              \n",
       "5 GJRGARCH11SVI_pi_error  0.006146078 0.4947756              \n",
       "6 EGARCH11_pi_error       0.006432536 0.4947300              \n",
       "7 EGARCH11SVI_pi_error    0.006283576 0.4946241              \n",
       "  Standard_Deviation Median     Skewness  Kurtosis  ACF_lag_0 ACF_lag_1  \n",
       "1 0.4980632          -0.9996686 0.1790524 -1.968977 1         -0.06672948\n",
       "2 0.4984904          -0.4006568 0.1766350 -1.951251 1         -0.02481175\n",
       "3 0.4983300          -0.4033970 0.1779972 -1.951288 1         -0.02831325\n",
       "4 0.4982681          -0.4130435 0.1777539 -1.954735 1         -0.03268875\n",
       "5 0.4982166          -0.4111748 0.1777965 -1.954254 1         -0.03216385\n",
       "6 0.4982087          -0.4115816 0.1778832 -1.954040 1         -0.03242612\n",
       "7 0.4982143          -0.4077604 0.1776422 -1.952094 1         -0.02887203"
      ]
     },
     "metadata": {},
     "output_type": "display_data"
    }
   ],
   "source": [
    "rbind(Statistics_Table(\"Naive_pi_error\", na.omit(Naive_pi_error)),\n",
    "      Statistics_Table(\"GARCH11_pi_error\", na.omit(GARCH11_pi_error)),\n",
    "      Statistics_Table(\"GARCH11SVI_pi_error\", na.omit(GARCH11SVI_pi_error)),\n",
    "      Statistics_Table(\"GJRGARCH11_pi_error\", na.omit(GJRGARCH11_pi_error)),\n",
    "      Statistics_Table(\"GJRGARCH11SVI_pi_error\", na.omit(GJRGARCH11SVI_pi_error)),\n",
    "      Statistics_Table(\"EGARCH11_pi_error\", na.omit(EGARCH11_pi_error)),\n",
    "      Statistics_Table(\"EGARCH11SVI_pi_error\", na.omit(EGARCH11SVI_pi_error)))"
   ]
  },
  {
   "cell_type": "markdown",
   "metadata": {},
   "source": [
    "Only the 'Mean_of_Absolute_Values' and 'Standard_Deviation' really are of interest here. We are looking for the lowest absolute mean and standard deviation. The SVI-implementing model's results are seen to perform better than their SVI-free counterparts (bar the GACH model's). Apart from that, little at this time can be concluded - unfortunately."
   ]
  },
  {
   "cell_type": "markdown",
   "metadata": {},
   "source": [
    "$$ \\\\ $$\n",
    "#### [Brier scores](https://www.statisticshowto.com/brier-score/) of the probabilistic forecast errors derived from each model"
   ]
  },
  {
   "cell_type": "code",
   "execution_count": 16,
   "metadata": {},
   "outputs": [],
   "source": [
    "Brier_Score_Table = function(name, data)\n",
    "{as.data.table(list(Data_Set = name, Brier_Score = (1/length(data))*sum(data^2)))}"
   ]
  },
  {
   "cell_type": "code",
   "execution_count": 17,
   "metadata": {},
   "outputs": [
    {
     "data": {
      "text/html": [
       "<table>\n",
       "<caption>A data.table: 7 × 2</caption>\n",
       "<thead>\n",
       "\t<tr><th scope=col>Data_Set</th><th scope=col>Brier_Score</th></tr>\n",
       "\t<tr><th scope=col>&lt;chr&gt;</th><th scope=col>&lt;dbl&gt;</th></tr>\n",
       "</thead>\n",
       "<tbody>\n",
       "\t<tr><td>Naive_pi_error        </td><td>0.5443277</td></tr>\n",
       "\t<tr><td>GARCH11_pi_error      </td><td>0.2485609</td></tr>\n",
       "\t<tr><td>GARCH11SVI_pi_error   </td><td>0.2483573</td></tr>\n",
       "\t<tr><td>GJRGARCH11_pi_error   </td><td>0.2482388</td></tr>\n",
       "\t<tr><td>GJRGARCH11SVI_pi_error</td><td>0.2481874</td></tr>\n",
       "\t<tr><td>EGARCH11_pi_error     </td><td>0.2481831</td></tr>\n",
       "\t<tr><td>EGARCH11SVI_pi_error  </td><td>0.2481868</td></tr>\n",
       "</tbody>\n",
       "</table>\n"
      ],
      "text/latex": [
       "A data.table: 7 × 2\n",
       "\\begin{tabular}{ll}\n",
       " Data\\_Set & Brier\\_Score\\\\\n",
       " <chr> & <dbl>\\\\\n",
       "\\hline\n",
       "\t Naive\\_pi\\_error         & 0.5443277\\\\\n",
       "\t GARCH11\\_pi\\_error       & 0.2485609\\\\\n",
       "\t GARCH11SVI\\_pi\\_error    & 0.2483573\\\\\n",
       "\t GJRGARCH11\\_pi\\_error    & 0.2482388\\\\\n",
       "\t GJRGARCH11SVI\\_pi\\_error & 0.2481874\\\\\n",
       "\t EGARCH11\\_pi\\_error      & 0.2481831\\\\\n",
       "\t EGARCH11SVI\\_pi\\_error   & 0.2481868\\\\\n",
       "\\end{tabular}\n"
      ],
      "text/markdown": [
       "\n",
       "A data.table: 7 × 2\n",
       "\n",
       "| Data_Set &lt;chr&gt; | Brier_Score &lt;dbl&gt; |\n",
       "|---|---|\n",
       "| Naive_pi_error         | 0.5443277 |\n",
       "| GARCH11_pi_error       | 0.2485609 |\n",
       "| GARCH11SVI_pi_error    | 0.2483573 |\n",
       "| GJRGARCH11_pi_error    | 0.2482388 |\n",
       "| GJRGARCH11SVI_pi_error | 0.2481874 |\n",
       "| EGARCH11_pi_error      | 0.2481831 |\n",
       "| EGARCH11SVI_pi_error   | 0.2481868 |\n",
       "\n"
      ],
      "text/plain": [
       "  Data_Set               Brier_Score\n",
       "1 Naive_pi_error         0.5443277  \n",
       "2 GARCH11_pi_error       0.2485609  \n",
       "3 GARCH11SVI_pi_error    0.2483573  \n",
       "4 GJRGARCH11_pi_error    0.2482388  \n",
       "5 GJRGARCH11SVI_pi_error 0.2481874  \n",
       "6 EGARCH11_pi_error      0.2481831  \n",
       "7 EGARCH11SVI_pi_error   0.2481868  "
      ]
     },
     "metadata": {},
     "output_type": "display_data"
    }
   ],
   "source": [
    "rbind(Brier_Score_Table(\"Naive_pi_error\", na.omit(Naive_pi_error)),\n",
    "      Brier_Score_Table(\"GARCH11_pi_error\", na.omit(GARCH11_pi_error)),\n",
    "      Brier_Score_Table(\"GARCH11SVI_pi_error\", na.omit(GARCH11SVI_pi_error)),\n",
    "      Brier_Score_Table(\"GJRGARCH11_pi_error\", na.omit(GJRGARCH11_pi_error)),\n",
    "      Brier_Score_Table(\"GJRGARCH11SVI_pi_error\", na.omit(GJRGARCH11SVI_pi_error)),\n",
    "      Brier_Score_Table(\"EGARCH11_pi_error\", na.omit(EGARCH11_pi_error)),\n",
    "      Brier_Score_Table(\"EGARCH11SVI_pi_error\", na.omit(EGARCH11SVI_pi_error)))"
   ]
  },
  {
   "cell_type": "markdown",
   "metadata": {},
   "source": [
    "The higher the Brier score, the worst the model did. Expectedly, the naive model did worst. Interestingly, SVI-implementing models always outperformed SVI-free ones (apart from the EGARCH case)."
   ]
  },
  {
   "cell_type": "markdown",
   "metadata": {},
   "source": [
    "$$ \\\\ $$\n",
    "#### [Diebold & Mariano statistics](http://www.phdeconomics.sssup.it/documents/Lesson19.pdf)\n",
    "Here the alternative hypothesis is that method 2 is more accurate than method 1; remember that a small p-value indicates strong evidence against the Null Hypothesis."
   ]
  },
  {
   "cell_type": "code",
   "execution_count": 169,
   "metadata": {},
   "outputs": [],
   "source": [
    "GARCH11_pi_error_dm = GARCH11_pi_error - (GARCH11SVI_pi_error*0)\n",
    "GARCH11SVI_pi_error_dm = GARCH11SVI_pi_error - (GARCH11_pi_error*0)\n",
    "GARCH11_dm_test = dm.test(matrix(GARCH11_pi_error_dm), matrix(GARCH11SVI_pi_error_dm), alternative = \"greater\")"
   ]
  },
  {
   "cell_type": "code",
   "execution_count": 170,
   "metadata": {},
   "outputs": [
    {
     "name": "stdout",
     "output_type": "stream",
     "text": [
      "\n",
      "\tDiebold-Mariano Test\n",
      "\n",
      "data:  matrix(GARCH11_pi_error_dm)matrix(GARCH11SVI_pi_error_dm)\n",
      "DM = 1.8532, Forecast horizon = 1, Loss function power = 2, p-value =\n",
      "0.03197\n",
      "alternative hypothesis: greater\n",
      "\n"
     ]
    }
   ],
   "source": [
    "show(GARCH11_dm_test)"
   ]
  },
  {
   "cell_type": "code",
   "execution_count": 171,
   "metadata": {},
   "outputs": [],
   "source": [
    "GJRGARCH11_pi_error_dm = GJRGARCH11_pi_error - (GJRGARCH11SVI_pi_error*0)\n",
    "GJRGARCH11SVI_pi_error_dm = GJRGARCH11SVI_pi_error - (GJRGARCH11_pi_error*0)\n",
    "GJRGARCH11_dm_test = dm.test(matrix(GJRGARCH11_pi_error_dm), matrix(GJRGARCH11SVI_pi_error_dm), alternative = c(\"greater\"))"
   ]
  },
  {
   "cell_type": "code",
   "execution_count": 172,
   "metadata": {},
   "outputs": [
    {
     "name": "stdout",
     "output_type": "stream",
     "text": [
      "\n",
      "\tDiebold-Mariano Test\n",
      "\n",
      "data:  matrix(GJRGARCH11_pi_error_dm)matrix(GJRGARCH11SVI_pi_error_dm)\n",
      "DM = 0.7234, Forecast horizon = 1, Loss function power = 2, p-value =\n",
      "0.2347\n",
      "alternative hypothesis: greater\n",
      "\n"
     ]
    }
   ],
   "source": [
    "show(GJRGARCH11_dm_test)"
   ]
  },
  {
   "cell_type": "code",
   "execution_count": 173,
   "metadata": {},
   "outputs": [],
   "source": [
    "EGARCH11_pi_error_dm = EGARCH11_pi_error - (EGARCH11SVI_pi_error*0)\n",
    "EGARCH11SVI_pi_error_dm = EGARCH11SVI_pi_error - (EGARCH11_pi_error*0)\n",
    "EGARCH11_dm_test = dm.test(matrix(EGARCH11_pi_error_dm), matrix(EGARCH11SVI_pi_error_dm), alternative = c(\"greater\"))"
   ]
  },
  {
   "cell_type": "code",
   "execution_count": 174,
   "metadata": {},
   "outputs": [
    {
     "name": "stdout",
     "output_type": "stream",
     "text": [
      "\n",
      "\tDiebold-Mariano Test\n",
      "\n",
      "data:  matrix(EGARCH11_pi_error_dm)matrix(EGARCH11SVI_pi_error_dm)\n",
      "DM = -0.042896, Forecast horizon = 1, Loss function power = 2, p-value\n",
      "= 0.5171\n",
      "alternative hypothesis: greater\n",
      "\n"
     ]
    }
   ],
   "source": [
    "show(EGARCH11_dm_test)"
   ]
  },
  {
   "cell_type": "markdown",
   "metadata": {},
   "source": [
    "The only D-M test with a small enough p-value to allow for a statistically significant conclusion is the GARCH's (at the 5% Confidence Level / 95% Significance Level). It shows a slight preference for the SVI-implementing model."
   ]
  },
  {
   "cell_type": "markdown",
   "metadata": {},
   "source": [
    "$$ \\\\ $$\n",
    "Saving our data this far to help with de-bugging if needed:"
   ]
  },
  {
   "cell_type": "code",
   "execution_count": 175,
   "metadata": {},
   "outputs": [],
   "source": [
    "save.image(file = \"IDaSRP_work_space_p4.15.RData\")\n",
    "# # To restore your workspace, type this:\n",
    "# load(\"IDaSRP_work_space_p4.15.RData\")"
   ]
  },
  {
   "cell_type": "markdown",
   "metadata": {},
   "source": [
    "$$ \\\\ $$\n",
    "# Part 5: Financial significance"
   ]
  },
  {
   "cell_type": "markdown",
   "metadata": {},
   "source": [
    "This section investigates the financial implications of our work via the lens of a single\n",
    "profit maximising agent deciding on whether to invest in the risk-free rate of the index host's\n",
    "country ([TRUS1MT](http://product.datastream.com/browse/search.aspx?dsid=ZRQW955&AppGroup=DSAddin&q=Refinitiv+United+States+Government+Benchmark+Bid+Yield+1+Month&prev=99_Refinitiv+United+States+Government+Benchmark+Bid+Yield+3+Months&nav_category=8) in this instance) or in the index itself."
   ]
  },
  {
   "cell_type": "markdown",
   "metadata": {},
   "source": [
    "\n",
    "\n",
    "Now we can implement **Granger and Pesaran (2000)**'s framework. It allows us to put ourselves in the shoes of an investor who chooses between the risk-free asset and the risky one on a daily basis, *i.e.*:\n",
    "\n",
    "$$\n",
    "\\begin{equation}\n",
    "    R_{SPX, j, t} = \\omega_{_{SPX, j, t-1}} R_{SPX, m, t} + (1 - \\omega_{_{SPX, j, t-1}}) {r_f}_{_{SPX, t}}\n",
    "\\end{equation}\n",
    "$$\n",
    "\n",
    "where the strategy is denoted via $j = ( C\\&D_M , Naive) $ for model $M$ ranging from GARCH to EGARCH-SVI and $C\\&D_M$ stands for the Christoferson and Diebold model applied with the model $M$, and where\n",
    "\n",
    "$$\n",
    "\\begin{equation}\n",
    "    \\omega_{_{j, t}} = I(\\widehat{\\pi}_{j, t+1} > \\psi) = \\begin{Bmatrix} 1 & \\text{if } \\widehat{\\pi}_{j, t+1} > \\psi \\\\ 0 & \\text{otherwise} \\end{Bmatrix} \n",
    "\\end{equation}\n",
    "$$\n",
    "\n",
    "for a probability threshold $\\psi \\in \\mathbb{R}$ such that $ 0 \\leq \\psi \\leq 1 $, and where\n",
    "\n",
    "$$\n",
    "\\begin{array}{ll}\n",
    "    R_{SPX, m, t} &= \\frac{P_{SPX, t} - P_{SPX, t - 1}}{P_{SPX, t - 1}} \\\\\n",
    "                  &= R_{SPX, t} + {r_f}_{_{SPX, t}} \\text{ .}\n",
    "\\end{array}\n",
    "$$\n",
    "\n",
    "An investor's return following from this strategy is therefore cumulative and can be defined as\n",
    "\n",
    "$$\n",
    "\\begin{equation}\n",
    "    \\mathcal{R}_{SPX, j, t} = \\prod_{i=1}^{t} R_{SPX, j, i} \\text{ .}\n",
    "\\end{equation}\n",
    "$$"
   ]
  },
  {
   "cell_type": "markdown",
   "metadata": {},
   "source": [
    "Similarly, the used Buy-and-Hold strategy may be considered a misnomer here as it is defined as the return from recursively investing previous-day-returns in the index every day, starting with one unit of currency (U.S. Dollar for the SPX) for compatibility, *i.e.*: $$\\prod_{i=1}^{t} R_{SPX, B\\&H, i} \\text{ .}$$"
   ]
  },
  {
   "cell_type": "markdown",
   "metadata": {},
   "source": [
    "$$ \\\\ $$\n",
    "\n",
    "## Getting to the Coding\n",
    "\n",
    "We define $ y_{d,t} = I(R_{SPX, t} > 0) = \\begin{Bmatrix} 1 & \\text{if } R_{SPX, t} > 0 \\\\ 0 & \\text{otherwise} \\end{Bmatrix} $ as the indicator of the realised direction of the return on the S&P 500 index. This is to reflect (but it is not identical to) [CPV](https://www.sciencedirect.com/science/article/pii/S0261560617301912?via%3Dihub)'s notation. From there we construct\n",
    "$ \n",
    "\\mathbf{y\\_d} = $ $\\left[ \\begin{matrix}\n",
    "    y_{d,1} \\\\\n",
    "    y_{d,2} \\\\\n",
    "    \\vdots\\\\\n",
    "    y_{d,T_{y\\_d}}\n",
    "\\end{matrix} \\right]\n",
    "$ where $t \\in \\mathbb{Z}$ and $ 1 \\le t \\ge T_{y\\_d}$ as follows:"
   ]
  },
  {
   "cell_type": "code",
   "execution_count": 176,
   "metadata": {},
   "outputs": [],
   "source": [
    "y_d = ifelse(zoo(df[, c(\"SPX_R\")], index(df[, c(\"SPX_R\")]))>0,1,0)"
   ]
  },
  {
   "cell_type": "markdown",
   "metadata": {},
   "source": [
    "$$ \\\\ $$\n",
    "\n",
    "Set the probability threshold at which to invest in the index in our 2d graphs, *i.e.*: set $\\psi = 0.5$. This implies that the agent invests in the\n",
    "index if forecasts predict a higher probability of increase in its excess return than a decrease."
   ]
  },
  {
   "cell_type": "code",
   "execution_count": 177,
   "metadata": {},
   "outputs": [],
   "source": [
    "p = 0.5"
   ]
  },
  {
   "cell_type": "markdown",
   "metadata": {},
   "source": [
    "#### Granger and Pesaran (2000)'s framework using the Naive model"
   ]
  },
  {
   "cell_type": "markdown",
   "metadata": {},
   "source": [
    "Following from C\\&D, Christoffersen, Diebold, Mariano, Tay & Tse (2006)'s working paper outlined how the conditional probability of a positive return in the next time period is\n",
    "$$\\begin{equation}\n",
    "    \\mathbb{P}(R_{t+1} > 0 | \\Omega_{t}) = 1 - \\mathbb{P} \\bigg( \\frac{R_{t+1} - \\mu}{\\sigma_{t+1|t}} \\leq \\frac{-\\mu}{\\sigma_{t+1|t}} \\bigg) = 1 - F\\bigg( \\frac{-\\mu}{\\sigma_{t+1|t}} \\bigg)\n",
    "\\end{equation}$$\n",
    "\n",
    "where $\\mathbb{P}$ denotes probability, where there is no conditional mean predictability in returns $\\textbf{: } \\mu_{t+1|t} = \\mu$, where $R_{t+1}\\sim D(\\mu,\\sigma_{t+1|t})$ for a generic distribution  $D$ dependent only on $\\mu$ and $\\sigma$ (such as the Normal distribution), and where $F$ is the distribution function of the “standardized” return $\\frac{R_{t+1} - \\mu}{\\sigma_{t+1|t}}$. Then $R_{t+1}$'s sign is predictable even if its conditional mean isn't,\n",
    "provided that $\\mu \\neq 0$. If $F$ is asymmetric - as per SFFR(i) - then forecast constructions are still possible if $\\mu = 0$.\n",
    "\n",
    "$R_{t+1}$ sign forecasts are formulated as\n",
    "$$\\begin{equation} \\label{eq:PiCandD}\n",
    "    \\hat{\\pi}_{C\\&D_M, t+1} = \\hat{\\mathbb{P}}_{C\\&D_M}(R_{t+1|t}>0) = 1 - \\frac{1}{t} \\sum_{k=1}^{t} I \\bigg( \\frac{R_{k} - {\\hat{\\mu}_{k|k-1}}}{\\hat{\\sigma}_{k|k-1}} \\leq \\frac{-\\hat{\\mu}_{t+1|t}}{\\hat{\\sigma}_{t+1|t}} \\bigg)\n",
    "\\end{equation}$$\n",
    "\n",
    "where $M$ is the model used to compute recursive one-step-ahead out-of-sample forecasts $\\hat{\\mu}$ and $\\hat{\\sigma}$ ranging from GARCH to EGARCH-SVI (note that the model used to estimate $\\hat{\\mu}_{t+1|t}$ and $\\hat{\\sigma}_{t+1|t}$ are not specified on the right-hand-side of this equation to keep the notation uncluttered; it is so throughout the article), and where $k \\in \\mathbb{Z}$."
   ]
  },
  {
   "cell_type": "markdown",
   "metadata": {},
   "source": [
    "Remember our Naïve Framework. A Naïve model of sign change is used as a benchmark to construct comparisons. It is formulated as\n",
    "$$ \\hat{\\pi}_{Naive, t+1} = \\hat{\\mathbb{P}}_{Naive}(R_{t+1|t}>0) = \\frac{1}{t} \\sum_{k=1}^{t} I (R_k > 0) \\text{ .}$$"
   ]
  },
  {
   "cell_type": "markdown",
   "metadata": {},
   "source": [
    "$$ \\\\ $$\n",
    "\n",
    "Now we can construct our modelled $ \\widehat{y_{d,Naive,t}} = I(\\hat{\\pi}_{Naive, t} > 0) = \\begin{Bmatrix} 1 & \\text{if } \\hat{\\pi}_{Naive, t} > 0 \\\\ 0 & \\text{otherwise} \\end{Bmatrix} $. From there we construct\n",
    "$ \n",
    "\\mathbf{y\\_hat\\_d\\_Naive} = $ $\\left[ \\begin{matrix}\n",
    "    y_{d,Naive,1} \\\\\n",
    "    y_{d,Naive,2} \\\\\n",
    "    \\vdots\\\\\n",
    "    y_{d,Naive,T_{y\\_hat\\_d\\_Naive}}\n",
    "\\end{matrix} \\right]\n",
    "$ where $t \\in \\mathbb{Z}$ and $ 1 \\le t \\ge T_{y\\_hat\\_d\\_Naive}$ as follows:"
   ]
  },
  {
   "cell_type": "code",
   "execution_count": 16,
   "metadata": {},
   "outputs": [],
   "source": [
    "# corresponding directional forecast and realised direction\n",
    "y_hat_d_Naive = ifelse(Naive_zoo > p, 1, 0)\n",
    "\n",
    "# y_d_Naive = y_d - (Naive_zoo*0)"
   ]
  },
  {
   "cell_type": "markdown",
   "metadata": {},
   "source": [
    "From there we can compute our $\\omega_{Naive}$ such that \n",
    "$\n",
    "\\begin{equation}\n",
    "    \\omega_{_{Naive, t}} = I(\\widehat{\\pi}_{Naive, t+1} > \\psi) = \\begin{Bmatrix} 1 & \\text{if } \\widehat{\\pi}_{Naive, t+1} > \\psi \\\\ 0 & \\text{otherwise} \\end{Bmatrix} \n",
    "\\end{equation}\n",
    "$ \n",
    ". Remember that this far we let the threshold probability above which we buy a share of the S&P500 be $0.5$, *i.e.*: $\\psi = 0.5$; we named its R variable *p* for convenience when it comes to coding. Now we let $ \n",
    "\\mathbf{omega\\_Naive} = $ $\\left[ \\begin{matrix}\n",
    "    \\omega_{_{Naive, 1}} \\\\\n",
    "    \\omega_{_{Naive, 2}} \\\\\n",
    "    \\vdots\\\\\n",
    "    \\omega_{_{Naive, T_{omega\\_Naive}}}\n",
    "\\end{matrix} \\right]\n",
    "$ where $t \\in \\mathbb{Z}$ and $ 1 \\le t \\ge T_{omega\\_Naive}$ as follows:"
   ]
  },
  {
   "cell_type": "code",
   "execution_count": 16,
   "metadata": {},
   "outputs": [],
   "source": [
    "# let the portfolio weight attributed to the stock market index be\n",
    "omega_Naive = ifelse( (lead(as.matrix(y_hat_d_Naive),1)) == 1 , 1, 0)"
   ]
  },
  {
   "cell_type": "markdown",
   "metadata": {},
   "source": [
    "Remember that $ R_{SPX, j, t} = \\omega_{_{SPX, j, t-1}} R_{SPX, m, t} + (1 - \\omega_{_{SPX, j, t-1}}) {r_f}_{_{SPX, t}} $ where the strategy is denoted via $j = ( C\\&D_M , Naive) $ for model $M$ ranging from GARCH to EGARCH-SVI; thus we may now we define\n",
    "\n",
    "$$\n",
    "\\begin{array}{ll}\n",
    "\\mathbf{R\\_Active\\_Naive\\_p} &=\n",
    "    \\left[ \\begin{matrix}\n",
    "    R_{SPX, Naive, 1} \\\\\n",
    "    R_{SPX, Naive, 2} \\\\\n",
    "    \\vdots\\\\\n",
    "    R_{SPX, Naive, T_{R\\_Active\\_Naive\\_p}}\n",
    "    \\end{matrix} \\right] \\\\\n",
    "&= \\left[ \\begin{matrix}\n",
    "    \\omega_{_{SPX, Naive, 0}} (R_{SPX, 1} + {r_f}_{_{SPX, 1}}) + (1 - \\omega_{_{SPX, Naive, 0}}) {r_f}_{_{SPX, 1}} \\\\\n",
    "    \\omega_{_{SPX, Naive, 1}} (R_{SPX, 2} + {r_f}_{_{SPX, 2}}) + (1 - \\omega_{_{SPX, Naive, 1}}) {r_f}_{_{SPX, 2}} \\\\\n",
    "    \\vdots\\\\\n",
    "    \\omega_{_{SPX, Naive, T_{R\\_Active\\_Naive\\_p}-1}} (R_{SPX, T_{R\\_Active\\_Naive\\_p}} + {r_f}_{_{SPX, T_{R\\_Active\\_Naive\\_p}}}) + (1 - \\omega_{_{SPX, Naive, T_{R\\_Active\\_Naive\\_p}-1}}) {r_f}_{_{SPX, T_{R\\_Active\\_Naive\\_p}}}\n",
    "\\end{matrix} \\right]\n",
    "\\end{array}$$\n",
    "\n",
    "where $t \\in \\mathbb{Z}$ and $ 1 \\le t \\ge T_{R\\_Active\\_Naive\\_p}$ as follows:"
   ]
  },
  {
   "cell_type": "code",
   "execution_count": 17,
   "metadata": {},
   "outputs": [],
   "source": [
    "R_Active_Naive_p = ((lag(omega_Naive,1) * ((zoo(df[, c(\"SPX_R\")], index(df[, c(\"SPX_R\")])) + zoo(US_1MO_r_f)) - (y_hat_d_Naive*0)) +\n",
    "                       (1-lag(omega_Naive,1)) * (US_1MO_r_f_zoo-(y_hat_d_Naive*0))))[2:length(y_hat_d_Naive)]"
   ]
  },
  {
   "cell_type": "markdown",
   "metadata": {},
   "source": [
    "Such matrices are constructed for all $M$. The logic will not be written in words to save on clutter, but the code will be visible for study.\n",
    "\n",
    "$$ \\\\ $$"
   ]
  },
  {
   "cell_type": "markdown",
   "metadata": {},
   "source": [
    "Thus $ \\mathcal{R}_{SPX, Naive, t} = \\prod_{i=1}^{t} R_{SPX, Naive, i} $ and we may define\n",
    "\n",
    "$$\n",
    "\\begin{array}{ll}\n",
    "\\mathbf{R\\_Active\\_Naive\\_p\\_cumulated} &=\n",
    "    \\left[ \\begin{matrix}\n",
    "    \\mathcal{R}_{SPX, Naive, 1} \\\\\n",
    "    \\mathcal{R}_{SPX, Naive, 2} \\\\\n",
    "    \\vdots\\\\\n",
    "    \\mathcal{R}_{SPX, Naive, T_{R\\_Active\\_Naive\\_p\\_cumulated}}\n",
    "    \\end{matrix} \\right] \\\\\n",
    "&= \\left[ \\begin{matrix}\n",
    "    R_{SPX, Naive, 1} \\\\\n",
    "    R_{SPX, Naive, 1} * R_{SPX, Naive, 2} \\\\\n",
    "    \\prod_{i=1}^{3} R_{SPX, Naive, i} \\\\\n",
    "    \\vdots\\\\\n",
    "    \\prod_{i=1}^{T_{R\\_Active\\_Naive\\_p\\_cumulated}} R_{SPX, Naive, i}\n",
    "    \\end{matrix} \\right]\n",
    "\\end{array}$$\n",
    "\n",
    "where $t \\in \\mathbb{Z}$ and $ 1 \\le t \\ge T_{R\\_Active\\_Naive\\_p\\_cumulated}$ as follows:"
   ]
  },
  {
   "cell_type": "code",
   "execution_count": 17,
   "metadata": {},
   "outputs": [],
   "source": [
    "R_Active_Naive_p_cumulated = matrix(,nrow=length(R_Active_Naive_p))\n",
    "for (i in c(1:length(R_Active_Naive_p)))\n",
    "{R_Active_Naive_p_cumulated[i] = prod((1 + R_Active_Naive_p)[1:i])}\n",
    "\n",
    "# R_cumulated_Naive = matrix(,nrow = length(R_Active_Naive_p))\n",
    "# for (i in c(1:length(R_Active_Naive_p)))\n",
    "# {R_cumulated_Naive[i] = prod((1 + (zoo(df[, c(\"SPX_R\")], index(df[, c(\"SPX_R\")])) +\n",
    "#                                      (US_1MO_r_f_zoo - (R_Active_Naive_p*0))))[1:i])}"
   ]
  },
  {
   "cell_type": "markdown",
   "metadata": {},
   "source": [
    "$$ \\\\ $$\n",
    "\n",
    "#### Granger and Pesaran (2000)'s framework using the Buy and Hold (Cumulative and Recursive) Model"
   ]
  },
  {
   "cell_type": "markdown",
   "metadata": {},
   "source": [
    "As aforementioned, $ \\mathcal{R}_{SPX, B\\&H, t} = \\prod_{i=1}^{t} R_{SPX, B\\&H, i}$, thus we let\n",
    "\n",
    "$$\n",
    "\\begin{array}{ll}\n",
    "\\mathbf{R\\_cumulated} &= \\left[ \\begin{matrix}\n",
    "    \\mathcal{R}_{SPX, B\\&H, 1} \\\\\n",
    "    \\mathcal{R}_{SPX, B\\&H, 2} \\\\\n",
    "    \\vdots\\\\\n",
    "    \\mathcal{R}_{SPX, B\\&H, T_{R\\_cumulated}}\n",
    "\\end{matrix} \\right] \\\\\n",
    "&= \\left[ \\begin{matrix}\n",
    "    R_{SPX, B\\&H, 1} \\\\\n",
    "    R_{SPX, B\\&H, 1} * R_{SPX, B\\&H, 2} \\\\\n",
    "    \\prod_{i=1}^{3} R_{SPX, B\\&H, i} \\\\\n",
    "    \\vdots\\\\\n",
    "    \\prod_{i=1}^{T_{R\\_cumulated}} R_{SPX, B\\&H, i}\n",
    "\\end{matrix} \\right] \\\\\n",
    "\\end{array}$$"
   ]
  },
  {
   "cell_type": "code",
   "execution_count": 18,
   "metadata": {},
   "outputs": [],
   "source": [
    "R_cumulated = matrix(,nrow=length(R_Active_Naive_p))\n",
    "for (i in c(1:length(R_Active_Naive_p)))\n",
    "{R_cumulated[i] = prod((1 + (zoo(df[, c(\"SPX_R\")], index(df[, c(\"SPX_R\")]))\n",
    "                             + (US_1MO_r_f_zoo - (R_Active_Naive_p*0))))[1:i])}"
   ]
  },
  {
   "cell_type": "markdown",
   "metadata": {},
   "source": [
    "$$ \\\\ $$\n",
    "Saving our data this far to help with de-bugging if needed:"
   ]
  },
  {
   "cell_type": "code",
   "execution_count": 19,
   "metadata": {},
   "outputs": [],
   "source": [
    "save.image(file = \"IDaSRP_work_space_p5.16.RData\")\n",
    "# # To restore your workspace, type this:\n",
    "# load(\"IDaSRP_work_space_p5.16.RData\")"
   ]
  },
  {
   "cell_type": "markdown",
   "metadata": {},
   "source": [
    "### Granger and Pesaran (2000)'s framework using the GARCH11 model"
   ]
  },
  {
   "cell_type": "markdown",
   "metadata": {},
   "source": [
    "corresponding directional forecast and realised direction"
   ]
  },
  {
   "cell_type": "markdown",
   "metadata": {},
   "source": [
    "#### Series"
   ]
  },
  {
   "cell_type": "code",
   "execution_count": 20,
   "metadata": {},
   "outputs": [],
   "source": [
    "y_hat_d_GARCH11_ser = ifelse(GARCH11_CandD_zoo_no_nas_ser>p,1,0)\n",
    "y_d_GARCH11_ser = y_d - (GARCH11_CandD_zoo_no_nas_ser*0) # This y_d only has values on dates corresponding to GARCH11's."
   ]
  },
  {
   "cell_type": "markdown",
   "metadata": {},
   "source": [
    "let the portfolio weight attributed to the stock market index be as follows (i.e.: if $\\hat{y}_{d, GARCH11, t+1} = 1$, then $\\omega = 1$, $0$ otherwise):"
   ]
  },
  {
   "cell_type": "code",
   "execution_count": 21,
   "metadata": {},
   "outputs": [],
   "source": [
    "omega_GARCH11_ser = ifelse( (lead(as.matrix(y_hat_d_GARCH11_ser),1)) == 1, 1, 0)"
   ]
  },
  {
   "cell_type": "code",
   "execution_count": 23,
   "metadata": {},
   "outputs": [],
   "source": [
    "R_Active_GARCH11_p_ser = ((lag(omega_GARCH11_ser,1) * ((zoo(df[, c(\"SPX_R\")], index(df[, c(\"SPX_R\")])) + zoo(US_1MO_r_f)) - (y_hat_d_GARCH11_ser*0))) +\n",
    "                             ((1-lag(omega_GARCH11_ser,1)) * (US_1MO_r_f_zoo - (y_hat_d_GARCH11_ser*0))))[2:length(y_hat_d_GARCH11_ser)]\n",
    "\n",
    "R_Active_GARCH11_p_cumulated_ser = matrix(,nrow=length(R_Active_GARCH11_p_ser))\n",
    "for (i in c(1:length(R_Active_GARCH11_p_ser)))\n",
    "{R_Active_GARCH11_p_cumulated_ser[i] = prod((1+R_Active_GARCH11_p_ser)[1:i])}\n",
    "\n",
    "R_cumulated_GARCH11_ser = matrix(,nrow=length(R_Active_GARCH11_p_ser))\n",
    "for (i in c(1:length(R_Active_GARCH11_p_ser)))\n",
    "{R_cumulated_GARCH11_ser[i] = prod((1 + (zoo(df[, c(\"SPX_R\")], index(df[, c(\"SPX_R\")])) + (US_1MO_r_f_zoo - (R_Active_GARCH11_p_ser*0))))[1:i])}"
   ]
  },
  {
   "cell_type": "markdown",
   "metadata": {},
   "source": [
    "$$ \\\\ $$\n",
    "Saving our data this far to help with de-bugging if needed:"
   ]
  },
  {
   "cell_type": "code",
   "execution_count": 24,
   "metadata": {},
   "outputs": [],
   "source": [
    "save.image(file = \"IDaSRP_work_space_p5.17.RData\")\n",
    "# # To restore your workspace, type this:\n",
    "# load(\"IDaSRP_work_space_p5.17.RData\")"
   ]
  },
  {
   "cell_type": "markdown",
   "metadata": {},
   "source": [
    "#### Parallel"
   ]
  },
  {
   "cell_type": "code",
   "execution_count": 25,
   "metadata": {},
   "outputs": [],
   "source": [
    "y_hat_d_GARCH11_par = ifelse(GARCH11_CandD_zoo_no_nas_par>p,1,0)\n",
    "y_d_GARCH11_par = y_d - (GARCH11_CandD_zoo_no_nas_par*0) # This y_d only has values on dates corresponding to GARCH11's."
   ]
  },
  {
   "cell_type": "markdown",
   "metadata": {},
   "source": [
    "let the portfolio weight attributed to the stock market index be as follows (i.e.: if $\\widehat{y_{d, GARCH11, t+1}} = 1$, then $\\omega = 1$, $0$ otherwise):"
   ]
  },
  {
   "cell_type": "code",
   "execution_count": 26,
   "metadata": {},
   "outputs": [],
   "source": [
    "omega_GARCH11_par = ifelse( (lead(as.matrix(y_hat_d_GARCH11_par),1)) == 1, 1, 0)"
   ]
  },
  {
   "cell_type": "code",
   "execution_count": 27,
   "metadata": {},
   "outputs": [],
   "source": [
    "R_Active_GARCH11_p_par = ((lag(omega_GARCH11_par,1) * ((zoo(df[, c(\"SPX_R\")], index(df[, c(\"SPX_R\")])) + zoo(US_1MO_r_f)) - (y_hat_d_GARCH11_par*0))) +\n",
    "                             ((1-lag(omega_GARCH11_par,1)) * (US_1MO_r_f_zoo-(y_hat_d_GARCH11_par*0))))[2:length(y_hat_d_GARCH11_par)]\n",
    "\n",
    "R_Active_GARCH11_p_cumulated_par = matrix(,nrow=length(R_Active_GARCH11_p_par))\n",
    "for (i in c(1:length(R_Active_GARCH11_p_par)))\n",
    "{R_Active_GARCH11_p_cumulated_par[i] = prod((1+R_Active_GARCH11_p_par)[1:i])}\n",
    "\n",
    "R_cumulated_GARCH11_par = matrix(,nrow=length(R_Active_GARCH11_p_par))\n",
    "for (i in c(1:length(R_Active_GARCH11_p_par)))\n",
    "{R_cumulated_GARCH11_par[i] = prod((1 + (zoo(df[, c(\"SPX_R\")], index(df[, c(\"SPX_R\")])) + (US_1MO_r_f_zoo - (R_Active_GARCH11_p_par*0))))[1:i])}"
   ]
  },
  {
   "cell_type": "markdown",
   "metadata": {},
   "source": [
    "$$ \\\\ $$\n",
    "Saving our data this far to help with de-bugging if needed:"
   ]
  },
  {
   "cell_type": "code",
   "execution_count": 28,
   "metadata": {},
   "outputs": [],
   "source": [
    "save.image(file = \"IDaSRP_work_space_p5.18.RData\")\n",
    "# # To restore your workspace, type this:\n",
    "# load(\"IDaSRP_work_space_p5.18.RData\")"
   ]
  },
  {
   "cell_type": "markdown",
   "metadata": {},
   "source": [
    "##### Granger and Pesaran (2000)'s framework using the GARCH11-SVI model"
   ]
  },
  {
   "cell_type": "markdown",
   "metadata": {},
   "source": [
    "###### Series"
   ]
  },
  {
   "cell_type": "markdown",
   "metadata": {},
   "source": [
    "corresponding directional forecast and realised direction"
   ]
  },
  {
   "cell_type": "code",
   "execution_count": 29,
   "metadata": {},
   "outputs": [],
   "source": [
    "y_hat_d_GARCH11SVI_ser = ifelse(GARCH11SVI_CandD_zoo_no_nas_ser>p, 1, 0)\n",
    "y_d_GARCH11SVI_ser = y_d - (GARCH11SVI_CandD_zoo_no_nas_ser * 0) # This y_d only has values on dates corresponding to GARCH11SVI's."
   ]
  },
  {
   "cell_type": "markdown",
   "metadata": {},
   "source": [
    "let the portfolio weight attributed to the stock market index be"
   ]
  },
  {
   "cell_type": "code",
   "execution_count": 30,
   "metadata": {},
   "outputs": [],
   "source": [
    "omega_GARCH11SVI_ser = ifelse( (lead(as.matrix(y_hat_d_GARCH11SVI_ser),1))==1 , 1, 0)"
   ]
  },
  {
   "cell_type": "code",
   "execution_count": 31,
   "metadata": {},
   "outputs": [],
   "source": [
    "R_Active_GARCH11SVI_p_ser = ((lag(omega_GARCH11SVI_ser,1) * ((zoo(df[, c(\"SPX_R\")], index(df[, c(\"SPX_R\")])) + zoo(US_1MO_r_f)) - (y_hat_d_GARCH11SVI_ser*0))) +\n",
    "                               ((1-lag(omega_GARCH11SVI_ser,1)) * (US_1MO_r_f_zoo - (y_hat_d_GARCH11SVI_ser*0))))[2:length(y_hat_d_GARCH11SVI_ser)]\n",
    "\n",
    "R_Active_GARCH11SVI_p_cumulated_ser = matrix(,nrow=length(R_Active_GARCH11SVI_p_ser))\n",
    "for (i in c(1:length(R_Active_GARCH11SVI_p_ser)))\n",
    "{R_Active_GARCH11SVI_p_cumulated_ser[i] = prod((1+R_Active_GARCH11SVI_p_ser)[1:i])}\n",
    "\n",
    "R_cumulated_GARCH11SVI_ser = matrix(,nrow=length(R_Active_GARCH11SVI_p_ser))\n",
    "for (i in c(1:length(R_Active_GARCH11SVI_p_ser)))\n",
    "{R_cumulated_GARCH11SVI_ser[i] = prod((1+(zoo(df[, c(\"SPX_R\")], index(df[, c(\"SPX_R\")])) + (US_1MO_r_f_zoo - (R_Active_GARCH11SVI_p_ser*0))))[1:i])}"
   ]
  },
  {
   "cell_type": "markdown",
   "metadata": {},
   "source": [
    "$$ \\\\ $$\n",
    "Saving our data this far to help with de-bugging if needed:"
   ]
  },
  {
   "cell_type": "code",
   "execution_count": 32,
   "metadata": {},
   "outputs": [],
   "source": [
    "save.image(file = \"IDaSRP_work_space_p5.19.RData\")\n",
    "# # To restore your workspace, type this:\n",
    "# load(\"IDaSRP_work_space_p5.19.RData\")"
   ]
  },
  {
   "cell_type": "markdown",
   "metadata": {},
   "source": [
    "###### Parallel"
   ]
  },
  {
   "cell_type": "markdown",
   "metadata": {},
   "source": [
    "corresponding directional forecast and realised direction"
   ]
  },
  {
   "cell_type": "code",
   "execution_count": 33,
   "metadata": {},
   "outputs": [],
   "source": [
    "y_hat_d_GARCH11SVI_par = ifelse(GARCH11SVI_CandD_zoo_no_nas_par>p, 1, 0)\n",
    "y_d_GARCH11SVI_par = y_d - (GARCH11SVI_CandD_zoo_no_nas_par * 0) # This y_d only has values on dates corresponding to GARCH11SVI's."
   ]
  },
  {
   "cell_type": "markdown",
   "metadata": {},
   "source": [
    "let the portfolio weight attributed to the stock market index be"
   ]
  },
  {
   "cell_type": "code",
   "execution_count": 34,
   "metadata": {},
   "outputs": [],
   "source": [
    "omega_GARCH11SVI_par = ifelse( (lead(as.matrix(y_hat_d_GARCH11SVI_par),1))==1 , 1, 0)"
   ]
  },
  {
   "cell_type": "code",
   "execution_count": 35,
   "metadata": {},
   "outputs": [],
   "source": [
    "R_Active_GARCH11SVI_p_par = ((lag(omega_GARCH11SVI_par,1) * ((zoo(df[, c(\"SPX_R\")], index(df[, c(\"SPX_R\")])) + zoo(US_1MO_r_f)) - (y_hat_d_GARCH11SVI_par*0))) +\n",
    "                               ((1-lag(omega_GARCH11SVI_par,1)) * (US_1MO_r_f_zoo - (y_hat_d_GARCH11SVI_par*0))))[2:length(y_hat_d_GARCH11SVI_par)]\n",
    "\n",
    "R_Active_GARCH11SVI_p_cumulated_par = matrix(,nrow=length(R_Active_GARCH11SVI_p_par))\n",
    "for (i in c(1:length(R_Active_GARCH11SVI_p_par)))\n",
    "{R_Active_GARCH11SVI_p_cumulated_par[i] = prod((1+R_Active_GARCH11SVI_p_par)[1:i])}\n",
    "\n",
    "R_cumulated_GARCH11SVI_par = matrix(,nrow=length(R_Active_GARCH11SVI_p_par))\n",
    "for (i in c(1:length(R_Active_GARCH11SVI_p_par)))\n",
    "{R_cumulated_GARCH11SVI_par[i] = prod((1+(zoo(df[, c(\"SPX_R\")], index(df[, c(\"SPX_R\")])) + (US_1MO_r_f_zoo - (R_Active_GARCH11SVI_p_par*0))))[1:i])}"
   ]
  },
  {
   "cell_type": "markdown",
   "metadata": {},
   "source": [
    "$$ \\\\ $$\n",
    "Saving our data this far to help with de-bugging if needed:"
   ]
  },
  {
   "cell_type": "code",
   "execution_count": 36,
   "metadata": {},
   "outputs": [],
   "source": [
    "save.image(file = \"IDaSRP_work_space_p5.20.RData\")\n",
    "# # To restore your workspace, type this:\n",
    "# load(\"IDaSRP_work_space_p5.20.RData\")"
   ]
  },
  {
   "cell_type": "markdown",
   "metadata": {},
   "source": [
    "### Granger and Pesaran (2000)'s framework using the GJRGARCH11 model"
   ]
  },
  {
   "cell_type": "markdown",
   "metadata": {},
   "source": [
    "#### Series"
   ]
  },
  {
   "cell_type": "code",
   "execution_count": 37,
   "metadata": {},
   "outputs": [],
   "source": [
    "# corresponding directional forecast and realised direction\n",
    "y_hat_d_GJRGARCH11_ser = ifelse(GJRGARCH11_CandD_zoo_no_nas_ser>p,1,0)\n",
    "y_d_GJRGARCH11_ser = y_d - (GJRGARCH11_CandD_zoo_no_nas_ser*0) # This y_d only has values on dates corresponding to GJRGARCH11's."
   ]
  },
  {
   "cell_type": "code",
   "execution_count": 38,
   "metadata": {},
   "outputs": [],
   "source": [
    "# let the portfolio weight attributed to the stock market index be\n",
    "omega_GJRGARCH11_ser = ifelse( (lead(as.matrix(y_hat_d_GJRGARCH11_ser),1))==1 , 1, 0)"
   ]
  },
  {
   "cell_type": "code",
   "execution_count": 39,
   "metadata": {},
   "outputs": [],
   "source": [
    "R_Active_GJRGARCH11_p_ser = ((lag(omega_GJRGARCH11_ser,1) * ((zoo(df[, c(\"SPX_R\")], index(df[, c(\"SPX_R\")])) + zoo(US_1MO_r_f)) - (y_hat_d_GJRGARCH11_ser*0))) +\n",
    "                               ((1-lag(omega_GJRGARCH11_ser,1)) * (US_1MO_r_f_zoo-(y_hat_d_GJRGARCH11_ser*0))))[2:length(y_hat_d_GJRGARCH11_ser)]\n",
    "\n",
    "R_Active_GJRGARCH11_p_cumulated_ser = matrix(,nrow=length(R_Active_GJRGARCH11_p_ser))\n",
    "for (i in c(1:length(R_Active_GJRGARCH11_p_ser)))\n",
    "{R_Active_GJRGARCH11_p_cumulated_ser[i] = prod((1+R_Active_GJRGARCH11_p_ser)[1:i])}\n",
    "\n",
    "R_cumulated_GJRGARCH11_ser = matrix(,nrow=length(R_Active_GJRGARCH11_p_ser))\n",
    "for (i in c(1:length(R_Active_GJRGARCH11_p_ser)))\n",
    "{R_cumulated_GJRGARCH11_ser[i] = prod((1+(zoo(df[, c(\"SPX_R\")], index(df[, c(\"SPX_R\")]))+(US_1MO_r_f_zoo - (R_Active_GJRGARCH11_p_ser*0))))[1:i])}"
   ]
  },
  {
   "cell_type": "markdown",
   "metadata": {},
   "source": [
    "$$ \\\\ $$\n",
    "Saving our data this far to help with de-bugging if needed:"
   ]
  },
  {
   "cell_type": "code",
   "execution_count": 40,
   "metadata": {},
   "outputs": [],
   "source": [
    "save.image(file = \"IDaSRP_work_space_p5.21.RData\")\n",
    "# # To restore your workspace, type this:\n",
    "# load(\"IDaSRP_work_space_p5.21.RData\")"
   ]
  },
  {
   "cell_type": "markdown",
   "metadata": {},
   "source": [
    "#### Parallel"
   ]
  },
  {
   "cell_type": "code",
   "execution_count": 41,
   "metadata": {},
   "outputs": [],
   "source": [
    "# corresponding directional forecast and realised direction\n",
    "y_hat_d_GJRGARCH11_par = ifelse(GJRGARCH11_CandD_zoo_no_nas_par>p,1,0)\n",
    "y_d_GJRGARCH11_par = y_d - (GJRGARCH11_CandD_zoo_no_nas_par*0) # This y_d only has values on dates corresponding to GJRGARCH11's."
   ]
  },
  {
   "cell_type": "code",
   "execution_count": 42,
   "metadata": {},
   "outputs": [],
   "source": [
    "# let the portfolio weight attributed to the stock market index be\n",
    "omega_GJRGARCH11_par = ifelse( (lead(as.matrix(y_hat_d_GJRGARCH11_par),1))==1 , 1, 0)"
   ]
  },
  {
   "cell_type": "code",
   "execution_count": 43,
   "metadata": {},
   "outputs": [],
   "source": [
    "R_Active_GJRGARCH11_p_par = ((lag(omega_GJRGARCH11_par,1) * ((zoo(df[, c(\"SPX_R\")], index(df[, c(\"SPX_R\")])) + zoo(US_1MO_r_f)) - (y_hat_d_GJRGARCH11_par*0))) +\n",
    "                               ((1-lag(omega_GJRGARCH11_par,1)) * (US_1MO_r_f_zoo-(y_hat_d_GJRGARCH11_par*0))))[2:length(y_hat_d_GJRGARCH11_par)]\n",
    "\n",
    "R_Active_GJRGARCH11_p_cumulated_par = matrix(,nrow=length(R_Active_GJRGARCH11_p_par))\n",
    "for (i in c(1:length(R_Active_GJRGARCH11_p_par)))\n",
    "{R_Active_GJRGARCH11_p_cumulated_par[i] = prod((1+R_Active_GJRGARCH11_p_par)[1:i])}\n",
    "\n",
    "R_cumulated_GJRGARCH11_par = matrix(,nrow=length(R_Active_GJRGARCH11_p_par))\n",
    "for (i in c(1:length(R_Active_GJRGARCH11_p_par)))\n",
    "{R_cumulated_GJRGARCH11_par[i] = prod((1+(zoo(df[, c(\"SPX_R\")], index(df[, c(\"SPX_R\")]))+(US_1MO_r_f_zoo - (R_Active_GJRGARCH11_p_par*0))))[1:i])}"
   ]
  },
  {
   "cell_type": "markdown",
   "metadata": {},
   "source": [
    "$$ \\\\ $$\n",
    "Saving our data this far to help with de-bugging if needed:"
   ]
  },
  {
   "cell_type": "code",
   "execution_count": 44,
   "metadata": {},
   "outputs": [],
   "source": [
    "save.image(file = \"IDaSRP_work_space_p5.22.RData\")\n",
    "# # To restore your workspace, type this:\n",
    "# load(\"IDaSRP_work_space_p5.22.RData\")"
   ]
  },
  {
   "cell_type": "markdown",
   "metadata": {},
   "source": [
    "##### Granger and Pesaran (2000)'s framework using the GJRGARCH11-SVI model"
   ]
  },
  {
   "cell_type": "markdown",
   "metadata": {},
   "source": [
    "###### Series"
   ]
  },
  {
   "cell_type": "code",
   "execution_count": 45,
   "metadata": {},
   "outputs": [],
   "source": [
    "# corresponding directional forecast and realised direction\n",
    "y_hat_d_GJRGARCH11SVI_ser = ifelse(GJRGARCH11SVI_CandD_zoo_no_nas_ser>p,1,0)\n",
    "y_d_GJRGARCH11SVI_ser = y_d - (GJRGARCH11SVI_CandD_zoo_no_nas_ser*0) # This y_d only has values on dates corresponding to GJRGARCH11SVI's."
   ]
  },
  {
   "cell_type": "code",
   "execution_count": 46,
   "metadata": {},
   "outputs": [],
   "source": [
    "# let the portfolio weight attributed to the stock market index be\n",
    "omega_GJRGARCH11SVI_ser = ifelse( (lead(as.matrix(y_hat_d_GJRGARCH11SVI_ser),1))==1 , 1, 0)"
   ]
  },
  {
   "cell_type": "code",
   "execution_count": 47,
   "metadata": {},
   "outputs": [],
   "source": [
    "R_Active_GJRGARCH11SVI_p_ser = ((lag(omega_GJRGARCH11SVI_ser,1) * ((zoo(df[, c(\"SPX_R\")], index(df[, c(\"SPX_R\")])) + zoo(US_1MO_r_f)) - (y_hat_d_GJRGARCH11SVI_ser*0))) +\n",
    "                               ((1-lag(omega_GJRGARCH11SVI_ser,1)) * (US_1MO_r_f_zoo-(y_hat_d_GJRGARCH11SVI_ser*0))))[2:length(y_hat_d_GJRGARCH11SVI_ser)]\n",
    "\n",
    "R_Active_GJRGARCH11SVI_p_cumulated_ser = matrix(,nrow=length(R_Active_GJRGARCH11SVI_p_ser))\n",
    "for (i in c(1:length(R_Active_GJRGARCH11SVI_p_ser)))\n",
    "{R_Active_GJRGARCH11SVI_p_cumulated_ser[i] = prod((1+R_Active_GJRGARCH11SVI_p_ser)[1:i])}\n",
    "\n",
    "R_cumulated_GJRGARCH11SVI_ser = matrix(,nrow=length(R_Active_GJRGARCH11SVI_p_ser))\n",
    "for (i in c(1:length(R_Active_GJRGARCH11SVI_p_ser)))\n",
    "{R_cumulated_GJRGARCH11SVI_ser[i] = prod((1+(zoo(df[, c(\"SPX_R\")], index(df[, c(\"SPX_R\")]))+(US_1MO_r_f_zoo - (R_Active_GJRGARCH11SVI_p_ser*0))))[1:i])}"
   ]
  },
  {
   "cell_type": "markdown",
   "metadata": {},
   "source": [
    "$$ \\\\ $$\n",
    "Saving our data this far to help with de-bugging if needed:"
   ]
  },
  {
   "cell_type": "code",
   "execution_count": 48,
   "metadata": {},
   "outputs": [],
   "source": [
    "save.image(file = \"IDaSRP_work_space_p5.23.RData\")\n",
    "# # To restore your workspace, type this:\n",
    "# load(\"IDaSRP_work_space_p5.23.RData\")"
   ]
  },
  {
   "cell_type": "markdown",
   "metadata": {},
   "source": [
    "###### Parallel"
   ]
  },
  {
   "cell_type": "code",
   "execution_count": 49,
   "metadata": {},
   "outputs": [],
   "source": [
    "# corresponding directional forecast and realised direction\n",
    "y_hat_d_GJRGARCH11SVI_par = ifelse(GJRGARCH11SVI_CandD_zoo_no_nas_par>p,1,0)\n",
    "y_d_GJRGARCH11SVI_par = y_d - (GJRGARCH11SVI_CandD_zoo_no_nas_par*0) # This y_d only has values on dates corresponding to GJRGARCH11SVI's."
   ]
  },
  {
   "cell_type": "code",
   "execution_count": 50,
   "metadata": {},
   "outputs": [],
   "source": [
    "# let the portfolio weight attributed to the stock market index be\n",
    "omega_GJRGARCH11SVI_par = ifelse( (lead(as.matrix(y_hat_d_GJRGARCH11SVI_par),1))==1 , 1, 0)"
   ]
  },
  {
   "cell_type": "code",
   "execution_count": 51,
   "metadata": {},
   "outputs": [],
   "source": [
    "R_Active_GJRGARCH11SVI_p_par = ((lag(omega_GJRGARCH11SVI_par,1) * ((zoo(df[, c(\"SPX_R\")], index(df[, c(\"SPX_R\")])) + zoo(US_1MO_r_f)) - (y_hat_d_GJRGARCH11SVI_par*0))) +\n",
    "                               ((1-lag(omega_GJRGARCH11SVI_par,1)) * (US_1MO_r_f_zoo-(y_hat_d_GJRGARCH11SVI_par*0))))[2:length(y_hat_d_GJRGARCH11SVI_par)]\n",
    "\n",
    "R_Active_GJRGARCH11SVI_p_cumulated_par = matrix(,nrow=length(R_Active_GJRGARCH11SVI_p_par))\n",
    "for (i in c(1:length(R_Active_GJRGARCH11SVI_p_par)))\n",
    "{R_Active_GJRGARCH11SVI_p_cumulated_par[i] = prod((1+R_Active_GJRGARCH11SVI_p_par)[1:i])}\n",
    "\n",
    "R_cumulated_GJRGARCH11SVI_par = matrix(,nrow=length(R_Active_GJRGARCH11SVI_p_par))\n",
    "for (i in c(1:length(R_Active_GJRGARCH11SVI_p_par)))\n",
    "{R_cumulated_GJRGARCH11SVI_par[i] = prod((1+(zoo(df[, c(\"SPX_R\")], index(df[, c(\"SPX_R\")]))+(US_1MO_r_f_zoo - (R_Active_GJRGARCH11SVI_p_par*0))))[1:i])}"
   ]
  },
  {
   "cell_type": "markdown",
   "metadata": {},
   "source": [
    "$$ \\\\ $$\n",
    "Saving our data this far to help with de-bugging if needed:"
   ]
  },
  {
   "cell_type": "code",
   "execution_count": 52,
   "metadata": {},
   "outputs": [],
   "source": [
    "save.image(file = \"IDaSRP_work_space_p5.24.RData\")\n",
    "# # To restore your workspace, type this:\n",
    "# load(\"IDaSRP_work_space_p5.24.RData\")"
   ]
  },
  {
   "cell_type": "markdown",
   "metadata": {},
   "source": [
    "### Granger and Pesaran (2000)'s framework using the EGARCH11 model"
   ]
  },
  {
   "cell_type": "markdown",
   "metadata": {},
   "source": [
    "#### Series"
   ]
  },
  {
   "cell_type": "code",
   "execution_count": 53,
   "metadata": {},
   "outputs": [],
   "source": [
    "# corresponding directional forecast and realised direction\n",
    "y_hat_d_EGARCH11_ser = ifelse(EGARCH11_CandD_zoo_no_nas_ser>p,1,0)\n",
    "y_d_EGARCH11_ser = y_d - (EGARCH11_CandD_zoo_no_nas_ser*0) # This y_d only has values on dates corresponding to EGARCH11's."
   ]
  },
  {
   "cell_type": "code",
   "execution_count": 54,
   "metadata": {},
   "outputs": [],
   "source": [
    "# let the portfolio weight attributed to the stock market index be\n",
    "omega_EGARCH11_ser = ifelse( (lead(as.matrix(y_hat_d_EGARCH11_ser),1))==1 , 1, 0)"
   ]
  },
  {
   "cell_type": "code",
   "execution_count": 55,
   "metadata": {},
   "outputs": [],
   "source": [
    "R_Active_EGARCH11_p_ser = ((lag(omega_EGARCH11_ser,1) * ((zoo(df[, c(\"SPX_R\")], index(df[, c(\"SPX_R\")])) + zoo(US_1MO_r_f)) - (y_hat_d_EGARCH11_ser*0))) +\n",
    "                               ((1-lag(omega_EGARCH11_ser,1)) * (US_1MO_r_f_zoo-(y_hat_d_EGARCH11_ser*0))))[2:length(y_hat_d_EGARCH11_ser)]\n",
    "\n",
    "R_Active_EGARCH11_p_cumulated_ser = matrix(,nrow=length(R_Active_EGARCH11_p_ser))\n",
    "for (i in c(1:length(R_Active_EGARCH11_p_ser)))\n",
    "{R_Active_EGARCH11_p_cumulated_ser[i] = prod((1+R_Active_EGARCH11_p_ser)[1:i])}\n",
    "\n",
    "R_cumulated_EGARCH11_ser = matrix(,nrow=length(R_Active_EGARCH11_p_ser))\n",
    "for (i in c(1:length(R_Active_EGARCH11_p_ser)))\n",
    "{R_cumulated_EGARCH11_ser[i] = prod((1+(zoo(df[, c(\"SPX_R\")], index(df[, c(\"SPX_R\")]))+(US_1MO_r_f_zoo - (R_Active_EGARCH11_p_ser*0))))[1:i])}"
   ]
  },
  {
   "cell_type": "markdown",
   "metadata": {},
   "source": [
    "$$ \\\\ $$\n",
    "Saving our data this far to help with de-bugging if needed:"
   ]
  },
  {
   "cell_type": "code",
   "execution_count": 56,
   "metadata": {},
   "outputs": [],
   "source": [
    "save.image(file = \"IDaSRP_work_space_p5.25.RData\")\n",
    "# # To restore your workspace, type this:\n",
    "# load(\"IDaSRP_work_space_p5.25.RData\")"
   ]
  },
  {
   "cell_type": "markdown",
   "metadata": {},
   "source": [
    "#### Parallel"
   ]
  },
  {
   "cell_type": "code",
   "execution_count": 57,
   "metadata": {},
   "outputs": [],
   "source": [
    "# corresponding directional forecast and realised direction\n",
    "y_hat_d_EGARCH11_par = ifelse(EGARCH11_CandD_zoo_no_nas_par>p,1,0)\n",
    "y_d_EGARCH11_par = y_d - (EGARCH11_CandD_zoo_no_nas_par*0) # This y_d only has values on dates corresponding to EGARCH11's."
   ]
  },
  {
   "cell_type": "code",
   "execution_count": 58,
   "metadata": {},
   "outputs": [],
   "source": [
    "# let the portfolio weight attributed to the stock market index be\n",
    "omega_EGARCH11_par = ifelse( (lead(as.matrix(y_hat_d_EGARCH11_par),1))==1 , 1, 0)"
   ]
  },
  {
   "cell_type": "code",
   "execution_count": 59,
   "metadata": {},
   "outputs": [],
   "source": [
    "R_Active_EGARCH11_p_par = ((lag(omega_EGARCH11_par,1) * ((zoo(df[, c(\"SPX_R\")], index(df[, c(\"SPX_R\")])) + zoo(US_1MO_r_f)) - (y_hat_d_EGARCH11_par*0))) +\n",
    "                               ((1-lag(omega_EGARCH11_par,1)) * (US_1MO_r_f_zoo-(y_hat_d_EGARCH11_par*0))))[2:length(y_hat_d_EGARCH11_par)]\n",
    "\n",
    "R_Active_EGARCH11_p_cumulated_par = matrix(,nrow=length(R_Active_EGARCH11_p_par))\n",
    "for (i in c(1:length(R_Active_EGARCH11_p_par)))\n",
    "{R_Active_EGARCH11_p_cumulated_par[i] = prod((1+R_Active_EGARCH11_p_par)[1:i])}\n",
    "\n",
    "R_cumulated_EGARCH11_par = matrix(,nrow=length(R_Active_EGARCH11_p_par))\n",
    "for (i in c(1:length(R_Active_EGARCH11_p_par)))\n",
    "{R_cumulated_EGARCH11_par[i] = prod((1+(zoo(df[, c(\"SPX_R\")], index(df[, c(\"SPX_R\")]))+(US_1MO_r_f_zoo - (R_Active_EGARCH11_p_par*0))))[1:i])}"
   ]
  },
  {
   "cell_type": "markdown",
   "metadata": {},
   "source": [
    "$$ \\\\ $$\n",
    "Saving our data this far to help with de-bugging if needed:"
   ]
  },
  {
   "cell_type": "code",
   "execution_count": 60,
   "metadata": {},
   "outputs": [],
   "source": [
    "save.image(file = \"IDaSRP_work_space_p5.26.RData\")\n",
    "# # To restore your workspace, type this:\n",
    "# load(\"IDaSRP_work_space_p5.26.RData\")"
   ]
  },
  {
   "cell_type": "markdown",
   "metadata": {},
   "source": [
    "##### Granger and Pesaran (2000)'s framework using the EGARCH11-SVI model"
   ]
  },
  {
   "cell_type": "markdown",
   "metadata": {},
   "source": [
    "###### Series"
   ]
  },
  {
   "cell_type": "code",
   "execution_count": 61,
   "metadata": {},
   "outputs": [],
   "source": [
    "# corresponding directional forecast and realised direction\n",
    "y_hat_d_EGARCH11SVI_ser = ifelse(EGARCH11SVI_CandD_zoo_no_nas_ser>p,1,0)\n",
    "y_d_EGARCH11SVI_ser = y_d - (EGARCH11SVI_CandD_zoo_no_nas_ser*0) # This y_d only has values on dates corresponding to EGARCH11SVI's."
   ]
  },
  {
   "cell_type": "code",
   "execution_count": 62,
   "metadata": {},
   "outputs": [],
   "source": [
    "# let the portfolio weight attributed to the stock market index be\n",
    "omega_EGARCH11SVI_ser = ifelse( (lead(as.matrix(y_hat_d_EGARCH11SVI_ser),1))==1 , 1, 0)"
   ]
  },
  {
   "cell_type": "code",
   "execution_count": 63,
   "metadata": {},
   "outputs": [],
   "source": [
    "R_Active_EGARCH11SVI_p_ser = ((lag(omega_EGARCH11SVI_ser,1) * ((zoo(df[, c(\"SPX_R\")], index(df[, c(\"SPX_R\")])) + zoo(US_1MO_r_f)) - (y_hat_d_EGARCH11SVI_ser*0))) +\n",
    "                               ((1-lag(omega_EGARCH11SVI_ser,1)) * (US_1MO_r_f_zoo-(y_hat_d_EGARCH11SVI_ser*0))))[2:length(y_hat_d_EGARCH11SVI_ser)]\n",
    "\n",
    "R_Active_EGARCH11SVI_p_cumulated_ser = matrix(,nrow=length(R_Active_EGARCH11SVI_p_ser))\n",
    "for (i in c(1:length(R_Active_EGARCH11SVI_p_ser)))\n",
    "{R_Active_EGARCH11SVI_p_cumulated_ser[i] = prod((1+R_Active_EGARCH11SVI_p_ser)[1:i])}\n",
    "\n",
    "R_cumulated_EGARCH11SVI_ser = matrix(,nrow=length(R_Active_EGARCH11SVI_p_ser))\n",
    "for (i in c(1:length(R_Active_EGARCH11SVI_p_ser)))\n",
    "{R_cumulated_EGARCH11SVI_ser[i] = prod((1+(zoo(df[, c(\"SPX_R\")], index(df[, c(\"SPX_R\")]))+(US_1MO_r_f_zoo - (R_Active_EGARCH11SVI_p_ser*0))))[1:i])}"
   ]
  },
  {
   "cell_type": "markdown",
   "metadata": {},
   "source": [
    "$$ \\\\ $$\n",
    "Saving our data this far to help with de-bugging if needed:"
   ]
  },
  {
   "cell_type": "code",
   "execution_count": 64,
   "metadata": {},
   "outputs": [],
   "source": [
    "save.image(file = \"IDaSRP_work_space_p5.27.RData\")\n",
    "# # To restore your workspace, type this:\n",
    "# load(\"IDaSRP_work_space_p5.27.RData\")"
   ]
  },
  {
   "cell_type": "markdown",
   "metadata": {},
   "source": [
    "###### Parallel"
   ]
  },
  {
   "cell_type": "code",
   "execution_count": 65,
   "metadata": {},
   "outputs": [],
   "source": [
    "# corresponding directional forecast and realised direction\n",
    "y_hat_d_EGARCH11SVI_par = ifelse(EGARCH11SVI_CandD_zoo_no_nas_par>p,1,0)\n",
    "y_d_EGARCH11SVI_par = y_d - (EGARCH11SVI_CandD_zoo_no_nas_par*0) # This y_d only has values on dates corresponding to EGARCH11SVI's."
   ]
  },
  {
   "cell_type": "code",
   "execution_count": 66,
   "metadata": {},
   "outputs": [],
   "source": [
    "# let the portfolio weight attributed to the stock market index be\n",
    "omega_EGARCH11SVI_par = ifelse( (lead(as.matrix(y_hat_d_EGARCH11SVI_par),1))==1 , 1, 0)"
   ]
  },
  {
   "cell_type": "code",
   "execution_count": 67,
   "metadata": {},
   "outputs": [],
   "source": [
    "R_Active_EGARCH11SVI_p_par = ((lag(omega_EGARCH11SVI_par,1) * ((zoo(df[, c(\"SPX_R\")], index(df[, c(\"SPX_R\")])) + zoo(US_1MO_r_f)) - (y_hat_d_EGARCH11SVI_par*0))) +\n",
    "                               ((1-lag(omega_EGARCH11SVI_par,1)) * (US_1MO_r_f_zoo-(y_hat_d_EGARCH11SVI_par*0))))[2:length(y_hat_d_EGARCH11SVI_par)]\n",
    "\n",
    "R_Active_EGARCH11SVI_p_cumulated_par = matrix(,nrow=length(R_Active_EGARCH11SVI_p_par))\n",
    "for (i in c(1:length(R_Active_EGARCH11SVI_p_par)))\n",
    "{R_Active_EGARCH11SVI_p_cumulated_par[i] = prod((1+R_Active_EGARCH11SVI_p_par)[1:i])}\n",
    "\n",
    "R_cumulated_EGARCH11SVI_par = matrix(,nrow=length(R_Active_EGARCH11SVI_p_par))\n",
    "for (i in c(1:length(R_Active_EGARCH11SVI_p_par)))\n",
    "{R_cumulated_EGARCH11SVI_par[i] = prod((1+(zoo(df[, c(\"SPX_R\")], index(df[, c(\"SPX_R\")])) + (US_1MO_r_f_zoo - (R_Active_EGARCH11SVI_p_par*0))))[1:i])}"
   ]
  },
  {
   "cell_type": "markdown",
   "metadata": {},
   "source": [
    "$$ \\\\ $$\n",
    "Saving our data this far to help with de-bugging if needed:"
   ]
  },
  {
   "cell_type": "code",
   "execution_count": 68,
   "metadata": {},
   "outputs": [],
   "source": [
    "save.image(file = \"IDaSRP_work_space_p5.28.RData\")\n",
    "# # To restore your workspace, type this:\n",
    "# load(\"IDaSRP_work_space_p5.28.RData\")"
   ]
  },
  {
   "cell_type": "markdown",
   "metadata": {},
   "source": [
    "### Granger and Pesaran (2000)'s framework 2d Graphs put together"
   ]
  },
  {
   "cell_type": "markdown",
   "metadata": {},
   "source": [
    "Let's see how many $\\hat{y}_{d, t}^j$ observations there are"
   ]
  },
  {
   "cell_type": "code",
   "execution_count": 69,
   "metadata": {},
   "outputs": [
    {
     "data": {
      "text/html": [
       "3791"
      ],
      "text/latex": [
       "3791"
      ],
      "text/markdown": [
       "3791"
      ],
      "text/plain": [
       "[1] 3791"
      ]
     },
     "metadata": {},
     "output_type": "display_data"
    }
   ],
   "source": [
    "length(zoo::index(y_hat_d_Naive[2:length(y_hat_d_Naive)]))"
   ]
  },
  {
   "cell_type": "markdown",
   "metadata": {},
   "source": [
    "$$ \\ $$\n",
    "\n",
    "### Series\n",
    "\n",
    "Let's have a look at the cumulative returns of our trader following each of the strategies with estimates computed in series"
   ]
  },
  {
   "cell_type": "code",
   "execution_count": 70,
   "metadata": {},
   "outputs": [
    {
     "data": {
      "image/png": "[encoded data removed]",
      "text/plain": [
       "Plot with title \"SPX Strategy_ser for psi 0.5\""
      ]
     },
     "metadata": {
      "image/png": {
       "height": 420,
       "width": 420
      },
      "text/plain": {
       "height": 420,
       "width": 420
      }
     },
     "output_type": "display_data"
    }
   ],
   "source": [
    "# Plot all 2d polts\n",
    "\n",
    "par(bg = \"grey30\", col.axis = \"white\", col.lab = \"white\", col.main = \"white\", col.sub = \"white\")\n",
    "\n",
    "plot(zoo(R_Active_GARCH11_p_cumulated_ser,\n",
    "         as.Date(zoo::index(y_hat_d_GARCH11_ser[2:length(y_hat_d_GARCH11_ser)]))),\n",
    "     cex.axis=1, type=\"l\",col=\"red\", xlab='Date', ylim=c(0.6,2.7), ylab='SPX strategy gain ($)', main=str_c(\"SPX Strategy_ser for psi \", p))\n",
    "lines(zoo(R_cumulated,\n",
    "          as.Date(zoo::index(y_hat_d_Naive[2:length(y_hat_d_Naive)]))),\n",
    "      col = \"white\")\n",
    "lines(zoo(R_Active_Naive_p_cumulated,\n",
    "          as.Date(zoo::index(y_hat_d_Naive[2:length(y_hat_d_Naive)]))),\n",
    "      col=\"black\")\n",
    "lines(zoo(R_Active_GARCH11SVI_p_cumulated_ser,\n",
    "          as.Date(zoo::index(y_hat_d_GARCH11SVI_ser[2:length(y_hat_d_GARCH11SVI_ser)]))),\n",
    "      col=\"orange\")\n",
    "lines(zoo(R_Active_EGARCH11SVI_p_cumulated_ser,\n",
    "          as.Date(zoo::index(y_hat_d_EGARCH11SVI_ser[2:length(y_hat_d_EGARCH11SVI_ser)]))),\n",
    "      col=\"purple\")\n",
    "lines(zoo(R_Active_GJRGARCH11_p_cumulated_ser,\n",
    "          as.Date(zoo::index(y_hat_d_GJRGARCH11_ser[2:length(y_hat_d_GJRGARCH11_ser)]))),\n",
    "      col=\"blue\")\n",
    "lines(zoo(R_Active_GJRGARCH11SVI_p_cumulated_ser,\n",
    "          as.Date(zoo::index(y_hat_d_GJRGARCH11SVI_ser[2:length(y_hat_d_GJRGARCH11SVI_ser)]))),\n",
    "      col=\"magenta\")\n",
    "lines(zoo(R_Active_EGARCH11_p_cumulated_ser,\n",
    "          as.Date(zoo::index(y_hat_d_EGARCH11_ser[2:length(y_hat_d_EGARCH11_ser)]))),\n",
    "      col=\"green\")\n",
    "legend(lty=1, cex=1,\n",
    "       \"topleft\", col = c(\"white\", \"black\", \"red\", \"orange\", \"blue\", \"magenta\", \"green\", \"purple\"), text.col = c(\"white\"),\n",
    "       legend=c(\"Buy and hold\", \"Naive\", \"GARCH\", \"GARCH-SVI\", \"GJRGARCH\", \"GJRGARCH-SVI\", \"EGARCH\", \"EGARCH-SVI\"))"
   ]
  },
  {
   "cell_type": "markdown",
   "metadata": {},
   "source": [
    "To get a narrower view of this graph, we can have a look at the difference between the (active) Buy & Hold model's output and the other's:"
   ]
  },
  {
   "cell_type": "code",
   "execution_count": 71,
   "metadata": {},
   "outputs": [
    {
     "data": {
      "image/png": "[encoded data removed]",
      "text/plain": [
       "Plot with title \"SPX Strategy_ser for psi 0.5\""
      ]
     },
     "metadata": {
      "image/png": {
       "height": 420,
       "width": 420
      },
      "text/plain": {
       "height": 420,
       "width": 420
      }
     },
     "output_type": "display_data"
    }
   ],
   "source": [
    "par(bg = \"grey30\", col.axis = \"white\", col.lab = \"white\", col.main = \"white\", col.sub = \"white\")\n",
    "\n",
    "plot(zoo(R_Active_GARCH11_p_cumulated_ser - R_cumulated[(length(R_cumulated)-length(R_Active_GARCH11_p_cumulated_ser)+1):length(R_cumulated)],\n",
    "         as.Date(zoo::index(y_hat_d_GARCH11_ser[2:length(y_hat_d_GARCH11_ser)]))),\n",
    "     cex.axis=1, type=\"l\",col=\"red\", xlab='Date', ylim=c(-0.1,0.5), ylab='SPX strategy gain ($)', main=str_c(\"SPX Strategy_ser for psi \", p))\n",
    "lines(zoo(R_Active_GJRGARCH11SVI_p_cumulated_ser - R_cumulated[(length(R_cumulated)-length(R_Active_GJRGARCH11SVI_p_cumulated_ser)+1):length(R_cumulated)],\n",
    "          as.Date(zoo::index(y_hat_d_GJRGARCH11SVI_ser[2:length(y_hat_d_GJRGARCH11SVI_ser)]))),\n",
    "      col=\"magenta\")\n",
    "lines(zoo(R_cumulated - R_cumulated,\n",
    "          as.Date(zoo::index(y_hat_d_Naive[2:length(y_hat_d_Naive)]))),\n",
    "      col = \"white\")\n",
    "lines(zoo(R_Active_Naive_p_cumulated - R_cumulated[(length(R_cumulated)-length(R_Active_Naive_p_cumulated)+1):length(R_cumulated)],\n",
    "          as.Date(zoo::index(y_hat_d_Naive[2:length(y_hat_d_Naive)]))),\n",
    "      col=\"black\")\n",
    "lines(zoo(R_Active_GARCH11SVI_p_cumulated_ser - R_cumulated[(length(R_cumulated)-length(R_Active_GARCH11SVI_p_cumulated_ser)+1):length(R_cumulated)],\n",
    "          as.Date(zoo::index(y_hat_d_GARCH11SVI_ser[2:length(y_hat_d_GARCH11SVI_ser)]))),\n",
    "      col=\"orange\")\n",
    "lines(zoo(R_Active_EGARCH11SVI_p_cumulated_ser - R_cumulated[(length(R_cumulated)-length(R_Active_EGARCH11SVI_p_cumulated_ser)+1):length(R_cumulated)],\n",
    "          as.Date(zoo::index(y_hat_d_EGARCH11SVI_ser[2:length(y_hat_d_EGARCH11SVI_ser)]))),\n",
    "      col=\"purple\")\n",
    "lines(zoo(R_Active_GJRGARCH11_p_cumulated_ser - R_cumulated[(length(R_cumulated)-length(R_Active_GJRGARCH11_p_cumulated_ser)+1):length(R_cumulated)],\n",
    "          as.Date(zoo::index(y_hat_d_GJRGARCH11_ser[2:length(y_hat_d_GJRGARCH11_ser)]))),\n",
    "      col=\"blue\")\n",
    "lines(zoo(R_Active_EGARCH11_p_cumulated_ser - R_cumulated[(length(R_cumulated)-length(R_Active_EGARCH11_p_cumulated_ser)+1):length(R_cumulated)],\n",
    "          as.Date(zoo::index(y_hat_d_EGARCH11_ser[2:length(y_hat_d_EGARCH11_ser)]))),\n",
    "      col=\"green\")\n",
    "legend(lty=1, cex=1,\n",
    "       \"topleft\", col = c(\"white\", \"black\", \"red\", \"orange\", \"blue\", \"magenta\", \"green\", \"purple\"), text.col = c(\"white\"),\n",
    "       legend=c(\"Buy and hold\", \"Naive\", \"GARCH\", \"GARCH-SVI\", \"GJRGARCH\", \"GJRGARCH-SVI\", \"EGARCH\", \"EGARCH-SVI\"))"
   ]
  },
  {
   "cell_type": "markdown",
   "metadata": {},
   "source": [
    "Note the variance shown in lines in the graph above does not represent their variance, only the variance in their level difference with the (active) Buy & Hold model's output. The fact that some lines look flatter than others simply portrays how is follows the B&H model."
   ]
  },
  {
   "cell_type": "markdown",
   "metadata": {},
   "source": [
    "### Parallel\n",
    "\n",
    "Let's have a look at the cumulative returns of our trader following each of the strategies with estimates computed in parallel"
   ]
  },
  {
   "cell_type": "code",
   "execution_count": 72,
   "metadata": {},
   "outputs": [
    {
     "data": {
      "image/png": "[encoded data removed]",
      "text/plain": [
       "Plot with title \"SPX Strategy_par for psi 0.5\""
      ]
     },
     "metadata": {
      "image/png": {
       "height": 420,
       "width": 420
      },
      "text/plain": {
       "height": 420,
       "width": 420
      }
     },
     "output_type": "display_data"
    }
   ],
   "source": [
    "# Plot all 2d polts\n",
    "\n",
    "par(bg = \"grey30\", col.axis = \"white\", col.lab = \"white\", col.main = \"white\", col.sub = \"white\")\n",
    "\n",
    "plot(zoo(R_Active_GARCH11_p_cumulated_par,\n",
    "         as.Date(zoo::index(y_hat_d_GARCH11_par[2:length(y_hat_d_GARCH11_par)]))),\n",
    "     cex.axis=1, type=\"l\",col=\"red\", xlab='Date', ylim=c(0.6,2.7), ylab='SPX strategy gain ($)', main=str_c(\"SPX Strategy_par for psi \", p))\n",
    "lines(zoo(R_cumulated,\n",
    "          as.Date(zoo::index(y_hat_d_Naive[2:length(y_hat_d_Naive)]))),\n",
    "      col = \"white\")\n",
    "lines(zoo(R_Active_Naive_p_cumulated,\n",
    "          as.Date(zoo::index(y_hat_d_Naive[2:length(y_hat_d_Naive)]))),\n",
    "      col=\"black\")\n",
    "lines(zoo(R_Active_GARCH11SVI_p_cumulated_par,\n",
    "          as.Date(zoo::index(y_hat_d_GARCH11SVI_par[2:length(y_hat_d_GARCH11SVI_par)]))),\n",
    "      col=\"orange\")\n",
    "lines(zoo(R_Active_EGARCH11SVI_p_cumulated_par,\n",
    "          as.Date(zoo::index(y_hat_d_EGARCH11SVI_par[2:length(y_hat_d_EGARCH11SVI_par)]))),\n",
    "      col=\"purple\")\n",
    "lines(zoo(R_Active_GJRGARCH11_p_cumulated_par,\n",
    "          as.Date(zoo::index(y_hat_d_GJRGARCH11_par[2:length(y_hat_d_GJRGARCH11_par)]))),\n",
    "      col=\"blue\")\n",
    "lines(zoo(R_Active_GJRGARCH11SVI_p_cumulated_par,\n",
    "          as.Date(zoo::index(y_hat_d_GJRGARCH11SVI_par[2:length(y_hat_d_GJRGARCH11SVI_par)]))),\n",
    "      col=\"magenta\")\n",
    "lines(zoo(R_Active_EGARCH11_p_cumulated_par,\n",
    "          as.Date(zoo::index(y_hat_d_EGARCH11_par[2:length(y_hat_d_EGARCH11_par)]))),\n",
    "      col=\"green\")\n",
    "legend(lty=1, cex=1,\n",
    "       \"topleft\", col = c(\"white\", \"black\", \"red\", \"orange\", \"blue\", \"magenta\", \"green\", \"purple\"), text.col = c(\"white\"),\n",
    "       legend=c(\"Buy and hold\", \"Naive\", \"GARCH\", \"GARCH-SVI\", \"GJRGARCH\", \"GJRGARCH-SVI\", \"EGARCH\", \"EGARCH-SVI\"))"
   ]
  },
  {
   "cell_type": "markdown",
   "metadata": {},
   "source": [
    "To get a narrower view of this graph, we can have a look at the difference between the (active) Buy & Hold model's output and the other's:"
   ]
  },
  {
   "cell_type": "code",
   "execution_count": 73,
   "metadata": {},
   "outputs": [
    {
     "data": {
      "image/png": "[encoded data removed]",
      "text/plain": [
       "Plot with title \"SPX Strategy_par for psi 0.5\""
      ]
     },
     "metadata": {
      "image/png": {
       "height": 420,
       "width": 420
      },
      "text/plain": {
       "height": 420,
       "width": 420
      }
     },
     "output_type": "display_data"
    }
   ],
   "source": [
    "par(bg = \"grey30\", col.axis = \"white\", col.lab = \"white\", col.main = \"white\", col.sub = \"white\")\n",
    "\n",
    "plot(zoo(R_Active_GARCH11_p_cumulated_par - R_cumulated[(length(R_cumulated)-length(R_Active_GARCH11_p_cumulated_par)+1):length(R_cumulated)],\n",
    "         as.Date(zoo::index(y_hat_d_GARCH11_par[2:length(y_hat_d_GARCH11_par)]))),\n",
    "     cex.axis=1, type=\"l\",col=\"red\", xlab='Date', ylim=c(-0.1,0.5), ylab='SPX strategy gain ($)', main=str_c(\"SPX Strategy_par for psi \", p))\n",
    "lines(zoo(R_Active_GJRGARCH11SVI_p_cumulated_par - R_cumulated[(length(R_cumulated)-length(R_Active_GJRGARCH11SVI_p_cumulated_par)+1):length(R_cumulated)],\n",
    "          as.Date(zoo::index(y_hat_d_GJRGARCH11SVI_par[2:length(y_hat_d_GJRGARCH11SVI_par)]))),\n",
    "      col=\"magenta\")\n",
    "lines(zoo(R_cumulated - R_cumulated,\n",
    "          as.Date(zoo::index(y_hat_d_Naive[2:length(y_hat_d_Naive)]))),\n",
    "      col = \"white\")\n",
    "lines(zoo(R_Active_Naive_p_cumulated - R_cumulated[(length(R_cumulated)-length(R_Active_Naive_p_cumulated)+1):length(R_cumulated)],\n",
    "          as.Date(zoo::index(y_hat_d_Naive[2:length(y_hat_d_Naive)]))),\n",
    "      col=\"black\")\n",
    "lines(zoo(R_Active_GARCH11SVI_p_cumulated_par - R_cumulated[(length(R_cumulated)-length(R_Active_GARCH11SVI_p_cumulated_par)+1):length(R_cumulated)],\n",
    "          as.Date(zoo::index(y_hat_d_GARCH11SVI_par[2:length(y_hat_d_GARCH11SVI_par)]))),\n",
    "      col=\"orange\")\n",
    "lines(zoo(R_Active_EGARCH11SVI_p_cumulated_par - R_cumulated[(length(R_cumulated)-length(R_Active_EGARCH11SVI_p_cumulated_par)+1):length(R_cumulated)],\n",
    "          as.Date(zoo::index(y_hat_d_EGARCH11SVI_par[2:length(y_hat_d_EGARCH11SVI_par)]))),\n",
    "      col=\"purple\")\n",
    "lines(zoo(R_Active_GJRGARCH11_p_cumulated_par - R_cumulated[(length(R_cumulated)-length(R_Active_GJRGARCH11_p_cumulated_par)+1):length(R_cumulated)],\n",
    "          as.Date(zoo::index(y_hat_d_GJRGARCH11_par[2:length(y_hat_d_GJRGARCH11_par)]))),\n",
    "      col=\"blue\")\n",
    "lines(zoo(R_Active_EGARCH11_p_cumulated_par - R_cumulated[(length(R_cumulated)-length(R_Active_EGARCH11_p_cumulated_par)+1):length(R_cumulated)],\n",
    "          as.Date(zoo::index(y_hat_d_EGARCH11_par[2:length(y_hat_d_EGARCH11_par)]))),\n",
    "      col=\"green\")\n",
    "legend(lty=1, cex=1,\n",
    "       \"topleft\", col = c(\"white\", \"black\", \"red\", \"orange\", \"blue\", \"magenta\", \"green\", \"purple\"), text.col = c(\"white\"),\n",
    "       legend=c(\"Buy and hold\", \"Naive\", \"GARCH\", \"GARCH-SVI\", \"GJRGARCH\", \"GJRGARCH-SVI\", \"EGARCH\", \"EGARCH-SVI\"))"
   ]
  },
  {
   "cell_type": "markdown",
   "metadata": {},
   "source": [
    "Note the variance shown in lines in the graph above does not represent their variance, only the variance in their level difference with the (active) Buy & Hold model's output. Similarly, sharp and instantaneous decreases or increases are not reflective of $\\mathcal{R}_{SPX, j, t}$. The fact that some lines look flatter than others simply portrays how is follows the B&H model."
   ]
  },
  {
   "cell_type": "markdown",
   "metadata": {},
   "source": [
    "$$ \\\\ $$\n",
    "Saving our data this far to help with de-bugging if needed:"
   ]
  },
  {
   "cell_type": "code",
   "execution_count": 74,
   "metadata": {},
   "outputs": [],
   "source": [
    "save.image(file = \"IDaSRP_work_space_p5.29.RData\")\n",
    "# # To restore your workspace, type this:\n",
    "# load(\"IDaSRP_work_space_p5.29.RData\")"
   ]
  },
  {
   "cell_type": "markdown",
   "metadata": {},
   "source": [
    "$$ \\\\ $$\n",
    "## Trading Strategy Results\n",
    "\n",
    "This section investigates the financial implications of my work via the lens of a single\n",
    "profit maximising agent deciding on whether to invest in the risk-free rate of the index host's\n",
    "country (U.S.D. in this instance) or in the index itself. In this instance, the investor chooses\n",
    "between the One-Month United States' Treasury Bill and the S&P 500."
   ]
  },
  {
   "cell_type": "markdown",
   "metadata": {},
   "source": [
    "$$ \\\\ $$\n",
    "### Sharpe-Ratios"
   ]
  },
  {
   "cell_type": "markdown",
   "metadata": {},
   "source": [
    "For completeness, Sharpe-Ratios of such $\\mathcal{R}_{SPX, j, t}$ are also provided. They are defined as:\n",
    "\n",
    "$$\n",
    "\\frac{ \\mathcal{R}_{SPX, j, t} - \\mathcal{R}_{f_{SPX}, t} }{ \\sqrt{Var(\\mathcal{R}_{SPX, j, t})} }\n",
    "$$\n",
    "\n",
    "where $\\mathcal{R}_{f_{SPX}, t}$ is $r_{f_{SPX},t}$ equivalent to $\\mathcal{R}_{SPX, j, t}$ above for `like-to-like' comparison such that $\\mathcal{R}_{f_{SPX}, t} = \\prod_{i=1}^{t} r_{f_{SPX},t} \\text{ .}$"
   ]
  },
  {
   "cell_type": "markdown",
   "metadata": {},
   "source": [
    "$$ \\\\ $$\n",
    "\n",
    "#### Example of the computation of Sharpe-Ratios with $\\mathcal{R}_{SPX, EGARCH11}$\n",
    "\n",
    "- 1st: We need to compute $\\mathcal{R}_{f_{SPX}}$ via $ \\text{ } \\mathbf{cumulative\\_R\\_f} =$ $\\left[ \\begin{matrix}\n",
    "    \\mathcal{R}_{f_{SPX}, 1} \\\\\n",
    "    \\mathcal{R}_{f_{SPX}, 2} \\\\\n",
    "    \\vdots\\\\\n",
    "    \\mathcal{R}_{f_{SPX}, {T_{cumulative\\_R\\_f}}}\n",
    "\\end{matrix} \\right]\n",
    "\\text{ }$ where $t \\in \\mathbb{Z}$ and $ 1 \\le t \\ge T_{cumulative\\_R\\_f}$."
   ]
  },
  {
   "cell_type": "code",
   "execution_count": 66,
   "metadata": {},
   "outputs": [],
   "source": [
    "one_m_r_f = ZCB_YTM_Implied_r_f(CMR = TRUS1MT_raw, Maturity = (1/12), D = 30)\n",
    "cumulative_R_f = matrix(,nrow=(length(one_m_r_f)-1))\n",
    "for (i in c(2:(length(one_m_r_f))))\n",
    "{cumulative_R_f[i] = prod((1 + one_m_r_f[2:i]))}\n",
    "cumulative_R_f_zoo = zoo(cumulative_R_f,\n",
    "                         as.Date(index(one_m_r_f)[2:(length(one_m_r_f))]))"
   ]
  },
  {
   "cell_type": "markdown",
   "metadata": {},
   "source": [
    "- 2nd we need to know when the latest value for our $\\mathcal{R}_{SPX, j, t}$ was recorded to match it with the equivalent value in $\\mathcal{R}_{f_{SPX}, t}$"
   ]
  },
  {
   "cell_type": "code",
   "execution_count": 37,
   "metadata": {},
   "outputs": [
    {
     "data": {
      "text/plain": [
       "2019-03-13 \n",
       "  2.383941 "
      ]
     },
     "metadata": {},
     "output_type": "display_data"
    }
   ],
   "source": [
    "zoo(R_Active_EGARCH11_p_cumulated_par,\n",
    "    as.Date(zoo::index(y_hat_d_EGARCH11_par[2:length(y_hat_d_EGARCH11_par)])))[length(R_Active_EGARCH11_p_cumulated_par)]"
   ]
  },
  {
   "cell_type": "code",
   "execution_count": 71,
   "metadata": {},
   "outputs": [
    {
     "data": {
      "text/html": [
       "<time datetime=\"2019-03-13\">2019-03-13</time>"
      ],
      "text/latex": [
       "2019-03-13"
      ],
      "text/markdown": [
       "2019-03-13"
      ],
      "text/plain": [
       "[1] \"2019-03-13\""
      ]
     },
     "metadata": {},
     "output_type": "display_data"
    }
   ],
   "source": [
    "time(zoo(R_Active_EGARCH11_p_cumulated_par,\n",
    "         as.Date(zoo::index(y_hat_d_EGARCH11_par[2:length(y_hat_d_EGARCH11_par)])))[length(R_Active_EGARCH11_p_cumulated_par)])"
   ]
  },
  {
   "cell_type": "code",
   "execution_count": 72,
   "metadata": {},
   "outputs": [
    {
     "data": {
      "text/plain": [
       "2019-03-13 \n",
       "  1.168543 "
      ]
     },
     "metadata": {},
     "output_type": "display_data"
    }
   ],
   "source": [
    "cumulative_R_f_zoo[time(zoo(R_Active_EGARCH11_p_cumulated_par,\n",
    "                            as.Date(zoo::index(y_hat_d_EGARCH11_par[2:length(y_hat_d_EGARCH11_par)])))[length(R_Active_EGARCH11_p_cumulated_par)])]"
   ]
  },
  {
   "cell_type": "markdown",
   "metadata": {},
   "source": [
    "- 3rd We can put it all together:"
   ]
  },
  {
   "cell_type": "code",
   "execution_count": 83,
   "metadata": {},
   "outputs": [],
   "source": [
    "EGARCH11_Sharpe_Ratio1 = (\n",
    "    (\n",
    "        as.numeric(\n",
    "            zoo(\n",
    "                R_Active_EGARCH11_p_cumulated_par,\n",
    "                as.Date(\n",
    "                    zoo::index(\n",
    "                        y_hat_d_EGARCH11_par[2:length(y_hat_d_EGARCH11_par)]\n",
    "                    )\n",
    "                )\n",
    "            )[length(R_Active_EGARCH11_p_cumulated_par)]\n",
    "        ) - as.numeric(cumulative_R_f_zoo[time(\n",
    "            zoo(\n",
    "                R_Active_EGARCH11_p_cumulated_par,\n",
    "                as.Date(\n",
    "                    zoo::index(\n",
    "                        y_hat_d_EGARCH11_par[2:length(\n",
    "                            y_hat_d_EGARCH11_par\n",
    "                        )]\n",
    "                    )\n",
    "                )\n",
    "            )[length(R_Active_EGARCH11_p_cumulated_par)])])\n",
    "    )/(sd(R_Active_EGARCH11_p_cumulated_par)))"
   ]
  },
  {
   "cell_type": "code",
   "execution_count": 84,
   "metadata": {},
   "outputs": [
    {
     "data": {
      "text/html": [
       "2.81687593057198"
      ],
      "text/latex": [
       "2.81687593057198"
      ],
      "text/markdown": [
       "2.81687593057198"
      ],
      "text/plain": [
       "[1] 2.816876"
      ]
     },
     "metadata": {},
     "output_type": "display_data"
    }
   ],
   "source": [
    "EGARCH11_Sharpe_Ratio1"
   ]
  },
  {
   "cell_type": "markdown",
   "metadata": {},
   "source": [
    "#### Generalisation (making an R function) of Sharpe-Ratio"
   ]
  },
  {
   "cell_type": "code",
   "execution_count": 79,
   "metadata": {},
   "outputs": [],
   "source": [
    "Cumulated_Sharpe_Ratio  = function(cumulative_R_zoo, r_f_zoo){\n",
    "    \n",
    "    # Compute cumulative_R_f\n",
    "    cumulative_R_f = matrix(,nrow=(length(r_f_zoo)-1))\n",
    "    for (i in c(2:(length(r_f_zoo))))\n",
    "    {cumulative_R_f[i] = prod((1 + r_f_zoo[2:i]))}\n",
    "    cumulative_R_f_zoo = zoo(cumulative_R_f,\n",
    "                             as.Date(index(r_f_zoo)[2:(length(r_f_zoo))]))\n",
    "    \n",
    "    # Calculate the cumulated_R_f\n",
    "    cumulated_R_f = cumulative_R_f_zoo[time(cumulative_R_zoo[length(cumulative_R_zoo)])]\n",
    "    \n",
    "    # Calculate Cumulated_Sharpe_Ratio:\n",
    "    Cumulated_Sharpe_Ratio = (\n",
    "        (as.numeric(\n",
    "            cumulative_R_zoo[length(\n",
    "                cumulative_R_zoo\n",
    "            )]) - as.numeric(\n",
    "            cumulated_R_f\n",
    "        )\n",
    "        )/(sd(cumulative_R_zoo)))\n",
    "    \n",
    "    # return a list including r_f 0th and YTM 1st.\n",
    "    return(Cumulated_Sharpe_Ratio)}"
   ]
  },
  {
   "cell_type": "code",
   "execution_count": 80,
   "metadata": {},
   "outputs": [],
   "source": [
    "EGARCH11_Sharpe_Ratio = Cumulated_Sharpe_Ratio(cumulative_R_zoo = zoo(R_Active_EGARCH11_p_cumulated_par,as.Date(zoo::index(y_hat_d_EGARCH11_par[2:length(y_hat_d_EGARCH11_par)]))),\n",
    "                                               r_f_zoo = ZCB_YTM_Implied_r_f(CMR = TRUS1MT_raw, Maturity = (1/12), D = 30))"
   ]
  },
  {
   "cell_type": "code",
   "execution_count": 81,
   "metadata": {},
   "outputs": [
    {
     "data": {
      "text/html": [
       "2.81687593057198"
      ],
      "text/latex": [
       "2.81687593057198"
      ],
      "text/markdown": [
       "2.81687593057198"
      ],
      "text/plain": [
       "[1] 2.816876"
      ]
     },
     "metadata": {},
     "output_type": "display_data"
    }
   ],
   "source": [
    "EGARCH11_Sharpe_Ratio"
   ]
  },
  {
   "cell_type": "markdown",
   "metadata": {},
   "source": [
    "#### Sharpe-Ratio of our $\\mathcal{R}_{SPX, j}$"
   ]
  },
  {
   "cell_type": "code",
   "execution_count": 101,
   "metadata": {},
   "outputs": [],
   "source": [
    "R_cumulated_Sharpe_Ratio = Cumulated_Sharpe_Ratio(cumulative_R_zoo = zoo(R_cumulated, as.Date(zoo::index(y_hat_d_Naive[2:length(y_hat_d_Naive)]))), r_f_zoo = ZCB_YTM_Implied_r_f(CMR = TRUS1MT_raw, Maturity = (1/12), D = 30))"
   ]
  },
  {
   "cell_type": "code",
   "execution_count": 103,
   "metadata": {},
   "outputs": [],
   "source": [
    "GARCH11_Sharpe_Ratio_par = Cumulated_Sharpe_Ratio(cumulative_R_zoo = zoo(R_Active_GARCH11_p_cumulated_par,as.Date(zoo::index(y_hat_d_GARCH11_par[2:length(y_hat_d_GARCH11_par)]))), r_f_zoo = ZCB_YTM_Implied_r_f(CMR = TRUS1MT_raw, Maturity = (1/12), D = 30))\n",
    "GARCH11SVI_Sharpe_Ratio_par = Cumulated_Sharpe_Ratio(cumulative_R_zoo = zoo(R_Active_GARCH11SVI_p_cumulated_par,as.Date(zoo::index(y_hat_d_GARCH11SVI_par[2:length(y_hat_d_GARCH11SVI_par)]))), r_f_zoo = ZCB_YTM_Implied_r_f(CMR = TRUS1MT_raw, Maturity = (1/12), D = 30))\n",
    "GJRGARCH11_Sharpe_Ratio_par = Cumulated_Sharpe_Ratio(cumulative_R_zoo = zoo(R_Active_GJRGARCH11_p_cumulated_par,as.Date(zoo::index(y_hat_d_GJRGARCH11_par[2:length(y_hat_d_GJRGARCH11_par)]))), r_f_zoo = ZCB_YTM_Implied_r_f(CMR = TRUS1MT_raw, Maturity = (1/12), D = 30))\n",
    "GJRGARCH11SVI_Sharpe_Ratio_par = Cumulated_Sharpe_Ratio(cumulative_R_zoo = zoo(R_Active_GJRGARCH11SVI_p_cumulated_par,as.Date(zoo::index(y_hat_d_GJRGARCH11SVI_par[2:length(y_hat_d_GJRGARCH11SVI_par)]))), r_f_zoo = ZCB_YTM_Implied_r_f(CMR = TRUS1MT_raw, Maturity = (1/12), D = 30))\n",
    "EGARCH11_Sharpe_Ratio_par = Cumulated_Sharpe_Ratio(cumulative_R_zoo = zoo(R_Active_EGARCH11_p_cumulated_par,as.Date(zoo::index(y_hat_d_EGARCH11_par[2:length(y_hat_d_EGARCH11_par)]))), r_f_zoo = ZCB_YTM_Implied_r_f(CMR = TRUS1MT_raw, Maturity = (1/12), D = 30))\n",
    "EGARCH11SVI_Sharpe_Ratio_par = Cumulated_Sharpe_Ratio(cumulative_R_zoo = zoo(R_Active_EGARCH11SVI_p_cumulated_par,as.Date(zoo::index(y_hat_d_EGARCH11SVI_par[2:length(y_hat_d_EGARCH11SVI_par)]))), r_f_zoo = ZCB_YTM_Implied_r_f(CMR = TRUS1MT_raw, Maturity = (1/12), D = 30))"
   ]
  },
  {
   "cell_type": "code",
   "execution_count": 104,
   "metadata": {},
   "outputs": [],
   "source": [
    "GARCH11_Sharpe_Ratio_ser = Cumulated_Sharpe_Ratio(cumulative_R_zoo = zoo(R_Active_GARCH11_p_cumulated_ser,as.Date(zoo::index(y_hat_d_GARCH11_ser[2:length(y_hat_d_GARCH11_ser)]))), r_f_zoo = ZCB_YTM_Implied_r_f(CMR = TRUS1MT_raw, Maturity = (1/12), D = 30))\n",
    "GARCH11SVI_Sharpe_Ratio_ser = Cumulated_Sharpe_Ratio(cumulative_R_zoo = zoo(R_Active_GARCH11SVI_p_cumulated_ser,as.Date(zoo::index(y_hat_d_GARCH11SVI_ser[2:length(y_hat_d_GARCH11SVI_ser)]))), r_f_zoo = ZCB_YTM_Implied_r_f(CMR = TRUS1MT_raw, Maturity = (1/12), D = 30))\n",
    "GJRGARCH11_Sharpe_Ratio_ser = Cumulated_Sharpe_Ratio(cumulative_R_zoo = zoo(R_Active_GJRGARCH11_p_cumulated_ser,as.Date(zoo::index(y_hat_d_GJRGARCH11_ser[2:length(y_hat_d_GJRGARCH11_ser)]))), r_f_zoo = ZCB_YTM_Implied_r_f(CMR = TRUS1MT_raw, Maturity = (1/12), D = 30))\n",
    "GJRGARCH11SVI_Sharpe_Ratio_ser = Cumulated_Sharpe_Ratio(cumulative_R_zoo = zoo(R_Active_GJRGARCH11SVI_p_cumulated_ser,as.Date(zoo::index(y_hat_d_GJRGARCH11SVI_ser[2:length(y_hat_d_GJRGARCH11SVI_ser)]))), r_f_zoo = ZCB_YTM_Implied_r_f(CMR = TRUS1MT_raw, Maturity = (1/12), D = 30))\n",
    "EGARCH11_Sharpe_Ratio_ser = Cumulated_Sharpe_Ratio(cumulative_R_zoo = zoo(R_Active_EGARCH11_p_cumulated_ser,as.Date(zoo::index(y_hat_d_EGARCH11_ser[2:length(y_hat_d_EGARCH11_ser)]))), r_f_zoo = ZCB_YTM_Implied_r_f(CMR = TRUS1MT_raw, Maturity = (1/12), D = 30))\n",
    "EGARCH11SVI_Sharpe_Ratio_ser = Cumulated_Sharpe_Ratio(cumulative_R_zoo = zoo(R_Active_EGARCH11SVI_p_cumulated_ser,as.Date(zoo::index(y_hat_d_EGARCH11SVI_ser[2:length(y_hat_d_EGARCH11SVI_ser)]))), r_f_zoo = ZCB_YTM_Implied_r_f(CMR = TRUS1MT_raw, Maturity = (1/12), D = 30))"
   ]
  },
  {
   "cell_type": "code",
   "execution_count": 111,
   "metadata": {},
   "outputs": [
    {
     "data": {
      "text/html": [
       "<table>\n",
       "<caption>A data.table: 13 × 3</caption>\n",
       "<thead>\n",
       "\t<tr><th scope=col>Data_Set</th><th scope=col>Sharpe_Ratio</th><th scope=col>Cumulative_Return</th></tr>\n",
       "\t<tr><th scope=col>&lt;chr&gt;</th><th scope=col>&lt;dbl&gt;</th><th scope=col>&lt;dbl&gt;</th></tr>\n",
       "</thead>\n",
       "<tbody>\n",
       "\t<tr><td>Buy_and_Hold     </td><td>2.738442</td><td>2.253220</td></tr>\n",
       "\t<tr><td>GARCH11_par      </td><td>2.870103</td><td>2.487054</td></tr>\n",
       "\t<tr><td>GARCH11SVI_par   </td><td>2.980150</td><td>2.623453</td></tr>\n",
       "\t<tr><td>GARCH11_ser      </td><td>2.905228</td><td>2.518621</td></tr>\n",
       "\t<tr><td>GARCH11SVI_ser   </td><td>2.770977</td><td>2.478100</td></tr>\n",
       "\t<tr><td>GJRGARCH11_par   </td><td>2.766061</td><td>2.430767</td></tr>\n",
       "\t<tr><td>GJRGARCH11SVI_par</td><td>2.852719</td><td>2.555329</td></tr>\n",
       "\t<tr><td>GJRGARCH11_ser   </td><td>2.821888</td><td>2.466335</td></tr>\n",
       "\t<tr><td>GJRGARCH11SVI_ser</td><td>2.669043</td><td>2.418233</td></tr>\n",
       "\t<tr><td>EGARCH11_par     </td><td>2.816876</td><td>2.383941</td></tr>\n",
       "\t<tr><td>EGARCH11SVI_par  </td><td>2.882028</td><td>2.550741</td></tr>\n",
       "\t<tr><td>EGARCH11_ser     </td><td>2.878755</td><td>2.477058</td></tr>\n",
       "\t<tr><td>EGARCH11SVI_ser  </td><td>3.128387</td><td>2.640707</td></tr>\n",
       "</tbody>\n",
       "</table>\n"
      ],
      "text/latex": [
       "A data.table: 13 × 3\n",
       "\\begin{tabular}{lll}\n",
       " Data\\_Set & Sharpe\\_Ratio & Cumulative\\_Return\\\\\n",
       " <chr> & <dbl> & <dbl>\\\\\n",
       "\\hline\n",
       "\t Buy\\_and\\_Hold      & 2.738442 & 2.253220\\\\\n",
       "\t GARCH11\\_par       & 2.870103 & 2.487054\\\\\n",
       "\t GARCH11SVI\\_par    & 2.980150 & 2.623453\\\\\n",
       "\t GARCH11\\_ser       & 2.905228 & 2.518621\\\\\n",
       "\t GARCH11SVI\\_ser    & 2.770977 & 2.478100\\\\\n",
       "\t GJRGARCH11\\_par    & 2.766061 & 2.430767\\\\\n",
       "\t GJRGARCH11SVI\\_par & 2.852719 & 2.555329\\\\\n",
       "\t GJRGARCH11\\_ser    & 2.821888 & 2.466335\\\\\n",
       "\t GJRGARCH11SVI\\_ser & 2.669043 & 2.418233\\\\\n",
       "\t EGARCH11\\_par      & 2.816876 & 2.383941\\\\\n",
       "\t EGARCH11SVI\\_par   & 2.882028 & 2.550741\\\\\n",
       "\t EGARCH11\\_ser      & 2.878755 & 2.477058\\\\\n",
       "\t EGARCH11SVI\\_ser   & 3.128387 & 2.640707\\\\\n",
       "\\end{tabular}\n"
      ],
      "text/markdown": [
       "\n",
       "A data.table: 13 × 3\n",
       "\n",
       "| Data_Set &lt;chr&gt; | Sharpe_Ratio &lt;dbl&gt; | Cumulative_Return &lt;dbl&gt; |\n",
       "|---|---|---|\n",
       "| Buy_and_Hold      | 2.738442 | 2.253220 |\n",
       "| GARCH11_par       | 2.870103 | 2.487054 |\n",
       "| GARCH11SVI_par    | 2.980150 | 2.623453 |\n",
       "| GARCH11_ser       | 2.905228 | 2.518621 |\n",
       "| GARCH11SVI_ser    | 2.770977 | 2.478100 |\n",
       "| GJRGARCH11_par    | 2.766061 | 2.430767 |\n",
       "| GJRGARCH11SVI_par | 2.852719 | 2.555329 |\n",
       "| GJRGARCH11_ser    | 2.821888 | 2.466335 |\n",
       "| GJRGARCH11SVI_ser | 2.669043 | 2.418233 |\n",
       "| EGARCH11_par      | 2.816876 | 2.383941 |\n",
       "| EGARCH11SVI_par   | 2.882028 | 2.550741 |\n",
       "| EGARCH11_ser      | 2.878755 | 2.477058 |\n",
       "| EGARCH11SVI_ser   | 3.128387 | 2.640707 |\n",
       "\n"
      ],
      "text/plain": [
       "   Data_Set          Sharpe_Ratio Cumulative_Return\n",
       "1  Buy_and_Hold      2.738442     2.253220         \n",
       "2  GARCH11_par       2.870103     2.487054         \n",
       "3  GARCH11SVI_par    2.980150     2.623453         \n",
       "4  GARCH11_ser       2.905228     2.518621         \n",
       "5  GARCH11SVI_ser    2.770977     2.478100         \n",
       "6  GJRGARCH11_par    2.766061     2.430767         \n",
       "7  GJRGARCH11SVI_par 2.852719     2.555329         \n",
       "8  GJRGARCH11_ser    2.821888     2.466335         \n",
       "9  GJRGARCH11SVI_ser 2.669043     2.418233         \n",
       "10 EGARCH11_par      2.816876     2.383941         \n",
       "11 EGARCH11SVI_par   2.882028     2.550741         \n",
       "12 EGARCH11_ser      2.878755     2.477058         \n",
       "13 EGARCH11SVI_ser   3.128387     2.640707         "
      ]
     },
     "metadata": {},
     "output_type": "display_data"
    }
   ],
   "source": [
    "rbind(as.data.table(list(Data_Set = \"Buy_and_Hold\", Sharpe_Ratio = R_cumulated_Sharpe_Ratio,\n",
    "                         Cumulative_Return = R_cumulated[length(R_cumulated)])),\n",
    "      as.data.table(list(Data_Set = \"GARCH11_par\", Sharpe_Ratio = GARCH11_Sharpe_Ratio_par,\n",
    "                         Cumulative_Return = R_Active_GARCH11_p_cumulated_par[length(R_Active_GARCH11_p_cumulated_par)])),\n",
    "      as.data.table(list(Data_Set = \"GARCH11SVI_par\", Sharpe_Ratio = GARCH11SVI_Sharpe_Ratio_par,\n",
    "                         Cumulative_Return = R_Active_GARCH11SVI_p_cumulated_par[length(R_Active_GARCH11SVI_p_cumulated_par)])),\n",
    "      as.data.table(list(Data_Set = \"GARCH11_ser\", Sharpe_Ratio = GARCH11_Sharpe_Ratio_ser,\n",
    "                         Cumulative_Return = R_Active_GARCH11_p_cumulated_ser[length(R_Active_GARCH11_p_cumulated_ser)])),\n",
    "      as.data.table(list(Data_Set = \"GARCH11SVI_ser\", Sharpe_Ratio = GARCH11SVI_Sharpe_Ratio_ser,\n",
    "                         Cumulative_Return = R_Active_GARCH11SVI_p_cumulated_ser[length(R_Active_GARCH11SVI_p_cumulated_ser)])),\n",
    "      as.data.table(list(Data_Set = \"GJRGARCH11_par\", Sharpe_Ratio = GJRGARCH11_Sharpe_Ratio_par,\n",
    "                         Cumulative_Return = R_Active_GJRGARCH11_p_cumulated_par[length(R_Active_GJRGARCH11_p_cumulated_par)])),\n",
    "      as.data.table(list(Data_Set = \"GJRGARCH11SVI_par\", Sharpe_Ratio = GJRGARCH11SVI_Sharpe_Ratio_par,\n",
    "                         Cumulative_Return = R_Active_GJRGARCH11SVI_p_cumulated_par[length(R_Active_GJRGARCH11SVI_p_cumulated_par)])),\n",
    "      as.data.table(list(Data_Set = \"GJRGARCH11_ser\", Sharpe_Ratio = GJRGARCH11_Sharpe_Ratio_ser,\n",
    "                         Cumulative_Return = R_Active_GJRGARCH11_p_cumulated_ser[length(R_Active_GJRGARCH11_p_cumulated_ser)])),\n",
    "      as.data.table(list(Data_Set = \"GJRGARCH11SVI_ser\", Sharpe_Ratio = GJRGARCH11SVI_Sharpe_Ratio_ser,\n",
    "                         Cumulative_Return = R_Active_GJRGARCH11SVI_p_cumulated_ser[length(R_Active_GJRGARCH11SVI_p_cumulated_ser)])),\n",
    "      as.data.table(list(Data_Set = \"EGARCH11_par\", Sharpe_Ratio = EGARCH11_Sharpe_Ratio_par,\n",
    "                         Cumulative_Return = R_Active_EGARCH11_p_cumulated_par[length(R_Active_EGARCH11_p_cumulated_par)])),\n",
    "      as.data.table(list(Data_Set = \"EGARCH11SVI_par\", Sharpe_Ratio = EGARCH11SVI_Sharpe_Ratio_par,\n",
    "                         Cumulative_Return = R_Active_EGARCH11SVI_p_cumulated_par[length(R_Active_EGARCH11SVI_p_cumulated_par)])) ,\n",
    "      as.data.table(list(Data_Set = \"EGARCH11_ser\", Sharpe_Ratio = EGARCH11_Sharpe_Ratio_ser,\n",
    "                         Cumulative_Return = R_Active_EGARCH11_p_cumulated_ser[length(R_Active_EGARCH11_p_cumulated_ser)])),\n",
    "      as.data.table(list(Data_Set = \"EGARCH11SVI_ser\", Sharpe_Ratio = EGARCH11SVI_Sharpe_Ratio_ser,\n",
    "                         Cumulative_Return = R_Active_EGARCH11SVI_p_cumulated_ser[length(R_Active_EGARCH11SVI_p_cumulated_ser)])))"
   ]
  },
  {
   "cell_type": "markdown",
   "metadata": {},
   "source": [
    "Over all, the SVI_par model was always the best performing bar the EGARCHSVI_ser that performed [exceptionally well](https://www.investopedia.com/ask/answers/010815/what-good-sharpe-ratio.asp#:~:text=Usually%2C%20any%20Sharpe%20ratio%20greater,1.0%20is%20considered%20sub%2Doptimal.). It is also interesting to note that the SVI models always outperformed the non-SVI ones both in terms of returns and Sharpe-Ratios."
   ]
  },
  {
   "cell_type": "markdown",
   "metadata": {},
   "source": [
    "$$ \\\\ $$\n",
    "## Conclusion\n",
    "\n",
    "$$ \\\\ $$"
   ]
  },
  {
   "cell_type": "markdown",
   "metadata": {},
   "source": [
    "\n",
    "This article replicated part of the work of CPV (Chronopoulos et al. (2018)) on the SPX. It empirically investigates the explanatory and predictive powers of Google Trends data as a proxy for information demand in a series of GARCH models and using the C\\&D (Christoffersen and Diebold (2006)) framework. In the interest of time, I empirically studied the financial implications of my findings, but not their economic significance, inferring them instead from financial and graphical analyses.\n",
    "\n",
    "$$ \\\\ $$\n",
    "\n",
    "Before moving on any further, it must be noted that I externally investigated the effect of using different Google Trends draw (SVIs) and found that they may impact results. However, the conclusion and the relative performance of each model were the same.\n",
    "I would also like to note that further external analysis additionally indicated that investors clued into its forecasting models' effectiveness and reduced their performance over time by using it - in a similar fashion as in Simon (1955).\n",
    "\n",
    "Findings above also highlighted how the inclusion of a single external variable in recursive models - namely $\\Delta$SVI - is extremely limiting as it does not allow for the inclusion of new variables that may become relevant due to structural changes in domestic economies. It is unrealistic to expect a priori knowledge of all variables affecting asset price change sign movements.\n",
    "One may attempt to use other factors in combination with dummy variables to anticipate when they should apply ex ante (Pesaran and Timmermann (2000)) such as in Vlastakis and Markellos (2012) where a dummy variable is attached to $\\Delta$SVI for low and high economic states (when returns dropped or rose by more than one standard deviation in a week).\n",
    "\n",
    "\n",
    "$$ \\\\ $$\n",
    "\n",
    "These particular predictive challenges - however - do not seem to be caused by the model constructions. Original tests on the use of Google Trends data in SPX’s excess return variance forecasts were positive. SPX excess return sign forecasts compiled via C\\&D's framework also proved more successful to a profit maximising agent trading daily than comparable buy-and- hold and naive model forecasts.\n",
    "\n",
    "One must - however - be careful when interpreting these results. Graphical analyses indicated that models tend not to foresee economic crashes, and that an application of my strategy may not be superior to buy-and-hold's at any time.\n",
    "\n",
    "Moreover, it would be interesting to investigate the optimal risk-aversion level one ought to have to maximise their profits; *i.e.*: the optimal level of $\\psi$.\n",
    "\n",
    "Furthermore, SPX SVI-implementing strategies worked remarkably well despite their variance forecasting models performing at a level that could not be determined in comparison to their SVI-free counterparts. This could be indicative of SVI-implementation in C\\&D's models as useful in surprising ways - not in aiding variance forecasting, but in channelling its predictive powers via variance forecasting other than by improving it, possibly by reducing only Type II or Type I errors. Further studies on this aspect of results above would be enlightening.\n",
    "\n",
    "$$ \\\\ $$\n",
    "\n",
    "In conclusion, further studies are needed to statistically-significantly propose that Google Trends can be used in forecasting the sign of index excess return at a daily frequency. Indeed, Google Trends data may have changed in minute but substantial ways - possibly since the introduction of caffeine on the 8th of June 2010. It may be enlightening to look into structural changes in $\\Delta$SVI at that time before implementing it in this study.\n",
    "\n",
    "Moreover, it would be compelling to continue the work above with a draw of SVI for other indices only for their respective country region – *e.g.*: for the FTSE and the U.K.. Extending the logic in Preis et al. (2013), one may find more robust findings this way.\n",
    "\n",
    "Furthermore, only AR and GARCH models of order one were used in my (and CPV's) paper. It may be revealing to see how Rt or $\\Delta$SVI of further lags may pick up on cyclical trends (that can be seen in the graph of our SVI). One may attempt and find their best orders via Information Criteria analyses akin to in Brooks and Burke (1998).\n",
    "\n",
    "Following from the study in Fleming, Kirby, and Ostdiek (2003), models using Realised Volatility instead of the Moving Average components of the GARCH models($\\sigma_{t-1}$) could also be a novel implementation to improve volatility forecasts and see their repercussions in C\\&D's model.\n",
    "\n",
    "In this study, excess returns from our strategy were computed using a risk-free rate based on the change in the same bond's market price from one day to the next; this is not quite so conventional. In order to produce findings more comparable with others in similar fields , one ought to re-create this study using a YTM implied daily risk-free rate.\n",
    "\n",
    "Investigating the different forecasting models via the Henriksson and Merton (1981) test of market timing would be extremely interesting as well.\n",
    "\n",
    "An attempt at the above profit maximising strategies over any period of time may also be revealing. They proved useful over our time periods, but that does not constitute of proof that it is the case for any period. These strategies only showed their use following the 2008 crisis and did not foresee significant economic crashes due to its short forecasting horizon. This leads to believe that longer horizons with lower frequency data - such as weekly data – could be easier to forecast and thus more accurate - as per Preis et al. (2013). This strategy would also allow for lower trading costs and improved overall performance.\n",
    "\n",
    "Finally, and most obviously, one ought to complete this article’s work on the SPX and investigate the economic significance of the findings above in an empirical manner using Granger and Pesaran (2000)'s framework and implement trading costs in analyses.\n"
   ]
  },
  {
   "cell_type": "markdown",
   "metadata": {},
   "source": [
    "$$ \\\\ $$\n",
    "\n",
    "## Appendix"
   ]
  },
  {
   "cell_type": "markdown",
   "metadata": {},
   "source": [
    "$$ \\\\ $$\n",
    "\n",
    "## Literature Review\n",
    "\n",
    "\n",
    "Whilst a family of GARCH models are used in this thesis to remedy the particular issue\n",
    "of heteroscedasticity modelling, the task of predicting asset prices remains notoriously difficulties;\n",
    "often, \"even the best prediction models have no out-of-sample forecasting powers\" (Bossaerts\n",
    "and Hillion (1999), p.405) (e.g.: Kostakis, Magdalinos, and Stamatogiannis (2014)). This is\n",
    "what motivated C&D to challege such difficulties by demonstrating how correlations between\n",
    "asset price volatilities and returns arise given non-zero expected returns irrespective of the\n",
    "shape of their distribution. When expected returns are zero, Christoffersen, Diebold, Mariano,\n",
    "Tay, and Tse (2006) (CDMTT hereon) highlighted that sign prediction was still possible with\n",
    "asymmetrically distributed returns - in alignment with SFFR (i).\n",
    "\n",
    "\n",
    "Market participants try to inform themselves optimally prior to trading (Simon (1955)).\n",
    "Therefore, risk aversion and information demand are closely related, it is thus so for investment\n",
    "activities too, that in turn cause asset price changes. While model specifications such as\n",
    "C&D's are naturally of paramount importance, numerous economists also investigated the explanatory\n",
    "powers of exogenous variables in forecasting models since Keynes' study on Business\n",
    "Cycles (e.g.: Fama and French (1996), famously).\n",
    "\n",
    "\n",
    "CPV novelly incorporated such a variable - information demand - in these models to study\n",
    "their forecasting powers. While a plethora of studies investigated how asset prices are affected/correlated with information demand indexed via Wikipedia (Moat et al. (2013); Rubin and\n",
    "Rubin (2010)), online message boards (Antweiler and Frank (2004)), et cetera (Vlastakis and\n",
    "Markellos (2012)), Google Trends stood out as particularly useful in finance (Da, Engelberg, and\n",
    "Gao (2011); Preis, Moat, and Stanley (2013)). The prevalence of Google as the internationally\n",
    "dominant search-engine allowed for the use of Google Trends in academia with varying degrees\n",
    "of accuracy in (science (Pelat, Turbelin, Bar-Hen, Flahault, and Valleron (2009)), economics\n",
    "(Askitas and Zimmermann (2009)), and) finance (Choi and Varian (2012); Curme, Preis, Stanley,\n",
    "and Moat (2014), and Jiang (2016)). It is best to note that Google is not strictly dominant in all countries. Notable exceptions exist in South Korea (with Naver), Russia (with Yandex) and China (with Baidu). Vlastakis and Markellos (2012) found that financial\n",
    "information-networks (e.g.: Reuters, Bloomberg, ...) tend to share articles outside their platforms\n",
    "and lead to information arriving in traditional and non-traditional information-channels\n",
    "at approximately the same time; Google Trends can thus be used to measure signals of investor\n",
    "interests in certain topics/assets and that there is a relationship between the information demand\n",
    "of an asset and its return's volatility.\n",
    "\n",
    "\n",
    "CPV thus used Google Trends data as a proxy for information demand in the form of a\n",
    "Search Vector Index (SVI). They found evidence of distribution asymmetry in the SPX excess\n",
    "returns - allowing for the application of CDMTT's work - as well as a clear and statistically significant relationship between those returns and the first difference in SVI - $\\Delta$SVI - using\n",
    "a family of GARCH models which were then used in C&D's framework. This proved highly\n",
    "successful: when testing their findings using Granger and Pesaran (2000)'s framework over the\n",
    "time period extending from the 1st of January 2004 to the 31st of December 2016 (01/01/2004 - 31/12/2016), their scenario analysis resulted in higher Sharpe-ratios (Sharpe (1966)) when\n",
    "implementing SVIs in an active strategy compared to a naive or a buy-and-hold (B&H) strategy\n",
    "for a utility maximising investor acting with a Constant Absolute Risk Aversion (i.e.: with a\n",
    "negative exponential utility function) with and without short-selling. It is also interesting to\n",
    "note that short- and long-term interest rates were shown to have smaller - but still significant -\n",
    "predictive powers when using monthly data (comparing CPV's findings to Nyberg (2011) and\n",
    "Chevapatrakul (2013)'s) suggesting that higher frequency data - such as $\\Delta$SVI - may be of\n",
    "better use."
   ]
  },
  {
   "cell_type": "markdown",
   "metadata": {},
   "source": [
    "$$ \\\\ $$\n",
    "\n",
    "### References\n",
    "\n",
    "- Anand, A., Irvine, P., Puckett, A., & Venkataraman, K. (2011). Performance of institutional trading desks: An analysis of persistence in trading costs. The Review of Financial Studies, 25 (2), 557-598.\n",
    "- Andersen, T. G., Bollerslev, T., Diebold, F. X., & Ebens, H. (2001). The distribution of realized stock return volatility. Journal of financial economics, 61 (1), 43-76.\n",
    "- Antweiler, W., & Frank, M. Z. (2004). Is all that talk just noise? the information content of internet stock message boards. The Journal of finance, 59 (3), 1259-1294.\n",
    "- Askitas, N., & Zimmermann, K. F. (2009). Google econometrics and unemployment forecasting. SSRN Electronic Journal.\n",
    "- Awartani, B. M., & Corradi, V. (2005). Predicting the volatility of the s&p-500 stock index via garch models: the role of asymmetries. International Journal of Forecasting, 21 (1), 167-183.\n",
    "- Barndorff-Nielsen, O. E., & Shephard, N. (2002). Econometric analysis of realized volatility and its use in estimating stochastic volatility models. Journal of the Royal Statistical Society: Series B (Statistical Methodology), 64 (2), 253-280.\n",
    "- Bollerslev, T. (1986). Generalized autoregressive conditional heteroskedasticity. Journal of econometrics, 31 (3), 307-327.\n",
    "- Booth, G., & Gurun, U. (2004). Financial archaeology: Capitalism, financial markets, and price volatility. Michigan State University.\n",
    "- Bossaerts, P., & Hillion, P. (1999). Implementing statistical criteria to select return forecasting models: what do we learn? The Review of Financial Studies, 12 (2), 405.\n",
    "- Brier, G. W. (1950). Verification of forecasts expressed in terms of probability. Monthly weather review, 78 (1), 1-3.\n",
    "- Brooks, C., & Burke, S. P. (1998). Forecasting exchange rate volatility using conditional variance models selected by information criteria. Economics Letters, 61 (3), 273-278.\n",
    "- Chevapatrakul, T. (2013). Return sign forecasts based on conditional risk: Evidence from the uk stock market index. Journal of Banking & Finance, 37 (7), 2342-2353.\n",
    "- Choi, H., & Varian, H. (2012). Predicting the present with google trends. Economic Record, 88 , 2-9.\n",
    "- Christoffersen, P., & Diebold, F. X. (2006). Financial asset returns, direction-of-change forecasting, and volatility dynamics. Management Science, 52 (8), 1273-1287.\n",
    "- Christoffersen, P., Diebold, F. X., Mariano, R. S., Tay, A. S., & Tse, Y. K. (2006). Directionof-change forecasts based on conditional variance, skewness and kurtosis dynamics: international evidence.\n",
    "- Chronopoulos, D. K., Papadimitriou, F. I., & Vlastakis, N. (2018). Information demand and stock return predictability. Journal of International Money and Finance, 80 , 59-74. Retrieved from https://www.sciencedirect.com/science/article/pii/S0261560617301912?via%3Dihub\n",
    "- Curme, C., Preis, T., Stanley, H. E., & Moat, H. S. (2014). Quantifying the semantics of search behavior before stock market moves. Proceedings of the National Academy of Sciences, 111 (32), 11600-11605.\n",
    "- Da, Z. H., Engelberg, J., & Gao, P. (2011). In search of attention. The Journal of Finance, 66 (5), 1461-1499.\n",
    "- Dave Davis. (2017). Google's caffeine update: Better indexing & fresher search results. Retrieved 29/08/2019, from https://www.searchenginejournal.com/google-algorithm-history/caffeine-update/\n",
    "- Dickey, D. A., & Fuller, W. A. (1979). Distribution of the estimators for autoregressive time series with a unit root. Journal of the American statistical association, 74 (366a), 427-431.\n",
    "- Diebold, F. X., & Mariano, R. S. (1995). Comparing predictive accuracy. Journal of Business and Economic Statistics, 13 (3), 253-263.\n",
    "- Economist, T. (8th of Febuary 2018). Bets on low market volatility went spectacularly wrong: Vexed about vix. The Economist, Slowbalisation(Print edition | Finance and economics). Retrieved 19th of August 2019, from https://www.economist.com/finance-and-economics/2018/02/08/bets-on-low-market-volatility-went-spectacularly-wrong\n",
    "- Engle, R. F. (1982). Autoregressive conditional heteroscedasticity with estimates of the variance of united kingdom in ation. Econometrica: Journal of the Econometric Society, 987-1007.\n",
    "- Fama, E. F., & French, K. R. (1996). Multifactor explanations of asset pricing anomalies. The journal of finance, 51 (1), 55-84.\n",
    "- Fleming, J., Kirby, C., & Ostdiek, B. (2003). The economic value of volatility timing using \"realized\" volatility. Journal of Financial Economics, 67 (3), 473-509.\n",
    "- Glosten, L. R., Jagannathan, R., & Runkle, D. E. (1993). On the relation between the expected value and the volatility of the nominal excess return on stocks. The journal of finance, 48 (5), 1779-1801.\n",
    "- Granger, C. W., & Pesaran, M. H. (2000). Economic and statistical measures of forecast accuracy. Journal of Forecasting, 19 (7), 537-560.\n",
    "- Harrison, P. (1998). Similarities in the distribution of stock market price changes between the eighteenth and twentieth centuries. The Journal of Business, 71 (1), 55-79.\n",
    "- Henriksson, R. D., & Merton, R. C. (1981). On market timing and investment performance. ii. statistical procedures for evaluating forecasting skills. Journal of business, 513-533.\n",
    "- Jiang, W. (2016). Stock market valuation using internet search volumes: Us-china comparison. Kandel, S., & Stambaugh, R. F. (1996). On the predictability of stock returns: an assetallocation perspective. The Journal of Finance, 51 (2), 385-424.\n",
    "- Kostakis, A., Magdalinos, T., & Stamatogiannis, M. P. (2014). Robust econometric inference for stock return predictability. The Review of Financial Studies, 28 (5), 1506-1553.\n",
    "- Lesmond, D. A., Ogden, J. P., & Trzcinka, C. A. (1999). A new estimate of transaction costs. The Review of Financial Studies, 12 (5), 1113-1141.\n",
    "- Lo, A. W. (2005). Reconciling efficient markets with behavioral finance: the adaptive markets hypothesis. Journal of investment consulting, 7 (2), 21-44.\n",
    "- Mandelbrot, B. (1963). The variation of certain of certain speculative. Journal of Finance, 36 , 418.\n",
    "- Mitchell, H., Brown, R., & Easton, S. (2002). Old volatility-arch effects in 19th century consol data. Applied Financial Economics, 12 (4), 301-307.\n",
    "- Moat, H. S., Curme, C., Avakian, A., Kenett, D. Y., Stanley, H. E., & Preis, T. (2013). Quantifying wikipedia usage patterns before stock market moves. Scientific Reports, 3 (1), 269.\n",
    "- N., J., & Wold, H. (1939). A study in analysis of stationary time series. Journal of the Royal Statistical Society, 102 (2), 295.\n",
    "- Nelson, D. B. (1991). Conditional heteroskedasticity in asset returns: A new approach. Econo-metrica: Journal of the Econometric Society, 347-370.\n",
    "- Nyberg, H. (2011). Forecasting the direction of the us stock market with dynamic binary probit models. International Journal of Forecasting, 27 (2), 561-578.\n",
    "- Pelat, C., Turbelin, C., Bar-Hen, A., Flahault, A., & Valleron, A.-J. (2009). More diseases tracked by using google trends. Emerging infectious diseases, 15 (8), 1327.\n",
    "- Pesaran, M. H., & Timmermann, A. (1995). Predictability of stock returns: Robustness and economic significance. The Journal of Finance, 50 (4), 1201-1228.\n",
    "- Pesaran, M. H., & Timmermann, A. (2000). A recursive modelling approach to predicting uk stock returns. The Economic Journal, 110 (460), 159-191.\n",
    "- Phillips, P. C., & Perron, P. (1988). Testing for a unit root in time series regression. Biometrika, 75 (2), 335-346.\n",
    "- Poon, S.-H., & Granger, C. W. (2003). Forecasting volatility in financial markets: A review. Journal of economic literature, 41 (2), 478-539.\n",
    "- Preis, T., Moat, H. S., & Stanley, H. E. (2013). Quantifying trading behavior in financial markets using google trends.\n",
    "- Rapach, D., & Zhou, G. (2013). Forecasting stock returns. In Handbook of economic forecasting (Vol. 2, pp. 328-383). Elsevier.\n",
    "- Rubin, A., & Rubin, E. (2010). Informed investors and the internet. Journal of Business Finance & Accounting, 37 (7-8), 841-865.\n",
    "- Sharpe, W. F. (1966). Mutual fund performance. The Journal of business, 39 (1), 119-138.\n",
    "- Silk, M. J. (2012). Link between s&p 500 and ftse 100 and the comparison of that link before and after the s&p 500 peak in october 2007. Lingnan Journal of Banking, Finance and Economics, 3 (1), 3.\n",
    "- Simon, H. A. (1955). A behavioral model of rational choice. The quarterly journal of economics, 69 (1), 99-118.\n",
    "- Taylor, S. J. (2005). Asset price dynamics, volatility, and prediction. Princeton university press.\n",
    "- Timmermann, A., & Granger, C. W. (2004). Efficient market hypothesis and forecasting. International Journal of forecasting, 20 (1), 15-27.\n",
    "- Tinbergen, J. (1933). Statistiek en wiskunde in dienst van het konjunktuuronderzoek: Statistics and mathematics in the service of business cycle research. Netherlands School of Economics.\n",
    "- Tong, H. (1990). Non-linear time series: a dynamical system approach. Oxford University Press.\n",
    "- Verbeek, M. (2008). A guide to modern econometrics (2nd ed.). John Wiley & Sons. Vlastakis, N., & Markellos, R. N. (2012). Information demand and stock market volatility. Journal of Banking & Finance, 36 (6), 1808-1821.\n",
    "- Whittle, P. (1951). Hypothesis testing in time series analysis.\n",
    "- Yule, G. U. (1927). On a method of investigating periodicities in disturbed series, with special reference to wolfer's sunspot numbers. Philosophical Transactions of the Royal Society A: Mathematical, Physical and Engineering Sciences, 226 (636-646), 267-298."
   ]
  },
  {
   "cell_type": "markdown",
   "metadata": {},
   "source": [
    "$$ \\\\ $$\n",
    "\n",
    "### df"
   ]
  },
  {
   "cell_type": "code",
   "execution_count": 28,
   "metadata": {},
   "outputs": [
    {
     "data": {
      "text/html": [
       "<table>\n",
       "<caption>A tibble: 3792 × 9</caption>\n",
       "<thead>\n",
       "\t<tr><th></th><th scope=col>S.PCOMP</th><th scope=col>TRUS1MT</th><th scope=col>TRUS3MT</th><th scope=col>TRUS10T</th><th scope=col>US_1MO_r_f</th><th scope=col>SPX_R</th><th scope=col>SPX_RV</th><th scope=col>SPX_SVI</th><th scope=col>SPX_dSVI</th></tr>\n",
       "\t<tr><th></th><th scope=col>&lt;dbl&gt;</th><th scope=col>&lt;dbl&gt;</th><th scope=col>&lt;dbl&gt;</th><th scope=col>&lt;dbl&gt;</th><th scope=col>&lt;dbl&gt;</th><th scope=col>&lt;dbl&gt;</th><th scope=col>&lt;dbl&gt;</th><th scope=col>&lt;dbl&gt;</th><th scope=col>&lt;dbl&gt;</th></tr>\n",
       "</thead>\n",
       "<tbody>\n",
       "\t<tr><th scope=row>2004-01-05</th><td>1122.22</td><td>0.865</td><td>0.917</td><td>4.384</td><td>-8.262244e-06</td><td> 0.0124036144</td><td>0.005919711</td><td>16</td><td> 2</td></tr>\n",
       "\t<tr><th scope=row>2004-01-06</th><td>1123.67</td><td>0.875</td><td>0.922</td><td>4.275</td><td>-8.261425e-06</td><td> 0.0013003432</td><td>0.004468624</td><td>23</td><td> 7</td></tr>\n",
       "\t<tr><th scope=row>2004-01-07</th><td>1126.33</td><td>0.855</td><td>0.897</td><td>4.246</td><td> 1.652387e-05</td><td> 0.0023507192</td><td>0.005380438</td><td>14</td><td>-9</td></tr>\n",
       "\t<tr><th scope=row>2004-01-08</th><td>1131.92</td><td>0.875</td><td>0.866</td><td>4.258</td><td>-1.652360e-05</td><td> 0.0049795451</td><td>0.005636016</td><td>15</td><td> 1</td></tr>\n",
       "\t<tr><th scope=row>2004-01-09</th><td>1121.85</td><td>0.855</td><td>0.861</td><td>4.084</td><td> 1.652387e-05</td><td>-0.0089129123</td><td>0.008299253</td><td> 9</td><td>-6</td></tr>\n",
       "\t<tr><th scope=row>2004-01-14</th><td>1130.52</td><td>0.835</td><td>0.876</td><td>3.997</td><td> 1.239564e-05</td><td> 0.0082821407</td><td>0.004631834</td><td>10</td><td> 1</td></tr>\n",
       "\t<tr><th scope=row>2004-01-15</th><td>1132.05</td><td>0.805</td><td>0.866</td><td>3.974</td><td> 2.479697e-05</td><td> 0.0013285625</td><td>0.007092478</td><td> 7</td><td>-3</td></tr>\n",
       "\t<tr><th scope=row>2004-01-16</th><td>1139.83</td><td>0.780</td><td>0.871</td><td>4.016</td><td> 2.066974e-05</td><td> 0.0068518182</td><td>0.005964541</td><td>14</td><td> 7</td></tr>\n",
       "\t<tr><th scope=row>2004-01-20</th><td>1138.77</td><td>0.770</td><td>0.866</td><td>4.063</td><td> 1.653781e-05</td><td>-0.0009465010</td><td>0.004815061</td><td> 7</td><td>-7</td></tr>\n",
       "\t<tr><th scope=row>2004-01-21</th><td>1147.62</td><td>0.755</td><td>0.881</td><td>4.023</td><td> 1.240549e-05</td><td> 0.0077591375</td><td>0.006019031</td><td>13</td><td> 6</td></tr>\n",
       "\t<tr><th scope=row>2004-01-22</th><td>1143.94</td><td>0.705</td><td>0.871</td><td>3.968</td><td> 4.136556e-05</td><td>-0.0032480019</td><td>0.005782836</td><td>15</td><td> 2</td></tr>\n",
       "\t<tr><th scope=row>2004-01-23</th><td>1141.55</td><td>0.760</td><td>0.871</td><td>4.087</td><td>-4.549901e-05</td><td>-0.0020437714</td><td>0.006094626</td><td>11</td><td>-4</td></tr>\n",
       "\t<tr><th scope=row>2004-01-26</th><td>1155.37</td><td>0.795</td><td>0.879</td><td>4.136</td><td>-2.894123e-05</td><td> 0.0121352879</td><td>0.005430781</td><td>11</td><td> 0</td></tr>\n",
       "\t<tr><th scope=row>2004-01-27</th><td>1144.05</td><td>0.805</td><td>0.917</td><td>4.087</td><td>-8.267162e-06</td><td>-0.0097894600</td><td>0.005375860</td><td> 8</td><td>-3</td></tr>\n",
       "\t<tr><th scope=row>2004-01-28</th><td>1128.48</td><td>0.870</td><td>0.907</td><td>4.193</td><td>-5.371535e-05</td><td>-0.0135558297</td><td>0.009729285</td><td>10</td><td> 2</td></tr>\n",
       "\t<tr><th scope=row>2004-01-29</th><td>1134.11</td><td>0.850</td><td>0.932</td><td>4.184</td><td> 1.652469e-05</td><td> 0.0049724871</td><td>0.008977799</td><td>10</td><td> 0</td></tr>\n",
       "\t<tr><th scope=row>2004-01-30</th><td>1131.13</td><td>0.830</td><td>0.917</td><td>4.135</td><td> 1.652797e-05</td><td>-0.0026441390</td><td>0.007256402</td><td>19</td><td> 9</td></tr>\n",
       "\t<tr><th scope=row>2004-02-02</th><td>1135.26</td><td>0.845</td><td>0.907</td><td>4.149</td><td>-1.239611e-05</td><td> 0.0036636121</td><td>0.009097525</td><td>11</td><td>-8</td></tr>\n",
       "\t<tr><th scope=row>2004-02-03</th><td>1136.03</td><td>0.850</td><td>0.932</td><td>4.104</td><td>-4.131642e-06</td><td> 0.0006823904</td><td>0.005889087</td><td> 8</td><td>-3</td></tr>\n",
       "\t<tr><th scope=row>2004-02-04</th><td>1126.52</td><td>0.880</td><td>0.922</td><td>4.120</td><td>-2.478530e-05</td><td>-0.0083464725</td><td>0.007651679</td><td>14</td><td> 6</td></tr>\n",
       "\t<tr><th scope=row>2004-02-05</th><td>1128.59</td><td>0.865</td><td>0.927</td><td>4.168</td><td> 1.239196e-05</td><td> 0.0018251254</td><td>0.006708651</td><td>16</td><td> 2</td></tr>\n",
       "\t<tr><th scope=row>2004-02-06</th><td>1142.76</td><td>0.860</td><td>0.927</td><td>4.087</td><td> 4.131045e-06</td><td> 0.0125513585</td><td>0.006689608</td><td>12</td><td>-4</td></tr>\n",
       "\t<tr><th scope=row>2004-02-09</th><td>1139.81</td><td>0.865</td><td>0.927</td><td>4.058</td><td>-4.131028e-06</td><td>-0.0025773384</td><td>0.004193692</td><td>11</td><td>-1</td></tr>\n",
       "\t<tr><th scope=row>2004-02-10</th><td>1145.54</td><td>0.860</td><td>0.917</td><td>4.120</td><td> 4.131045e-06</td><td> 0.0050230226</td><td>0.004895371</td><td>12</td><td> 1</td></tr>\n",
       "\t<tr><th scope=row>2004-02-11</th><td>1157.76</td><td>0.870</td><td>0.922</td><td>4.028</td><td>-8.261834e-06</td><td> 0.0106757200</td><td>0.006703273</td><td>14</td><td> 2</td></tr>\n",
       "\t<tr><th scope=row>2004-02-12</th><td>1152.11</td><td>0.870</td><td>0.917</td><td>4.058</td><td> 0.000000e+00</td><td>-0.0048801133</td><td>0.004653582</td><td>14</td><td> 0</td></tr>\n",
       "\t<tr><th scope=row>2004-02-13</th><td>1145.81</td><td>0.880</td><td>0.917</td><td>4.052</td><td>-8.261015e-06</td><td>-0.0054599668</td><td>0.006932313</td><td>14</td><td> 0</td></tr>\n",
       "\t<tr><th scope=row>2004-02-17</th><td>1156.99</td><td>0.885</td><td>0.917</td><td>4.044</td><td>-4.130209e-06</td><td> 0.0097614198</td><td>0.006613290</td><td>19</td><td> 5</td></tr>\n",
       "\t<tr><th scope=row>2004-02-18</th><td>1151.82</td><td>0.890</td><td>0.927</td><td>4.054</td><td>-4.130004e-06</td><td>-0.0044643615</td><td>0.004135190</td><td>12</td><td>-7</td></tr>\n",
       "\t<tr><th scope=row>2004-02-19</th><td>1147.06</td><td>0.890</td><td>0.927</td><td>4.044</td><td> 0.000000e+00</td><td>-0.0041325902</td><td>0.007512106</td><td>13</td><td> 1</td></tr>\n",
       "\t<tr><th scope=row>...</th><td>...</td><td>...</td><td>...</td><td>...</td><td>...</td><td>...</td><td>...</td><td>...</td><td>...</td></tr>\n",
       "\t<tr><th scope=row>2019-01-30</th><td>2681.05</td><td>2.387</td><td>2.417</td><td>2.695</td><td>-4.069618e-06</td><td> 0.0155533120</td><td>0.008665881</td><td>29</td><td> 2</td></tr>\n",
       "\t<tr><th scope=row>2019-01-31</th><td>2704.10</td><td>2.397</td><td>2.397</td><td>2.635</td><td>-8.138624e-06</td><td> 0.0086055165</td><td>0.006442116</td><td>31</td><td> 2</td></tr>\n",
       "\t<tr><th scope=row>2019-02-01</th><td>2706.53</td><td>2.410</td><td>2.396</td><td>2.691</td><td>-1.057901e-05</td><td> 0.0009092144</td><td>0.006480257</td><td>30</td><td>-1</td></tr>\n",
       "\t<tr><th scope=row>2019-02-04</th><td>2724.87</td><td>2.402</td><td>2.391</td><td>2.724</td><td> 6.510056e-06</td><td> 0.0067696942</td><td>0.005007432</td><td>27</td><td>-3</td></tr>\n",
       "\t<tr><th scope=row>2019-02-05</th><td>2737.70</td><td>2.387</td><td>2.417</td><td>2.704</td><td> 1.220776e-05</td><td> 0.0046962737</td><td>0.004210377</td><td>31</td><td> 4</td></tr>\n",
       "\t<tr><th scope=row>2019-02-06</th><td>2731.61</td><td>2.394</td><td>2.417</td><td>2.700</td><td>-5.697127e-06</td><td>-0.0022187979</td><td>0.004585573</td><td>27</td><td>-4</td></tr>\n",
       "\t<tr><th scope=row>2019-02-07</th><td>2706.05</td><td>2.387</td><td>2.412</td><td>2.654</td><td> 5.697159e-06</td><td>-0.0093628162</td><td>0.008123491</td><td>27</td><td> 0</td></tr>\n",
       "\t<tr><th scope=row>2019-02-08</th><td>2707.88</td><td>2.428</td><td>2.422</td><td>2.632</td><td>-3.336289e-05</td><td> 0.0007096253</td><td>0.005737097</td><td>27</td><td> 0</td></tr>\n",
       "\t<tr><th scope=row>2019-02-11</th><td>2709.80</td><td>2.433</td><td>2.432</td><td>2.661</td><td>-4.067791e-06</td><td> 0.0007131096</td><td>0.005052937</td><td>25</td><td>-2</td></tr>\n",
       "\t<tr><th scope=row>2019-02-12</th><td>2744.73</td><td>2.417</td><td>2.435</td><td>2.684</td><td> 1.301774e-05</td><td> 0.0128772325</td><td>0.004535485</td><td>28</td><td> 3</td></tr>\n",
       "\t<tr><th scope=row>2019-02-13</th><td>2753.03</td><td>2.417</td><td>2.430</td><td>2.706</td><td> 0.000000e+00</td><td> 0.0030239769</td><td>0.004444758</td><td>26</td><td>-2</td></tr>\n",
       "\t<tr><th scope=row>2019-02-14</th><td>2745.73</td><td>2.422</td><td>2.430</td><td>2.659</td><td>-4.068227e-06</td><td>-0.0026475556</td><td>0.006654919</td><td>28</td><td> 2</td></tr>\n",
       "\t<tr><th scope=row>2019-02-15</th><td>2775.60</td><td>2.425</td><td>2.427</td><td>2.666</td><td>-2.440843e-06</td><td> 0.0108811507</td><td>0.004551266</td><td>30</td><td> 2</td></tr>\n",
       "\t<tr><th scope=row>2019-02-19</th><td>2779.76</td><td>2.405</td><td>2.429</td><td>2.645</td><td> 1.627379e-05</td><td> 0.0014825012</td><td>0.003456960</td><td>25</td><td>-5</td></tr>\n",
       "\t<tr><th scope=row>2019-02-20</th><td>2784.70</td><td>2.402</td><td>2.446</td><td>2.652</td><td> 2.441326e-06</td><td> 0.0017746905</td><td>0.005014522</td><td>25</td><td> 0</td></tr>\n",
       "\t<tr><th scope=row>2019-02-21</th><td>2774.88</td><td>2.384</td><td>2.448</td><td>2.688</td><td> 1.464955e-05</td><td>-0.0035410617</td><td>0.004766829</td><td>27</td><td> 2</td></tr>\n",
       "\t<tr><th scope=row>2019-02-22</th><td>2792.67</td><td>2.425</td><td>2.450</td><td>2.655</td><td>-3.336386e-05</td><td> 0.0064444519</td><td>0.003804397</td><td>27</td><td> 0</td></tr>\n",
       "\t<tr><th scope=row>2019-02-25</th><td>2796.11</td><td>2.430</td><td>2.450</td><td>2.673</td><td>-4.067910e-06</td><td> 0.0012358640</td><td>0.003903839</td><td>29</td><td> 2</td></tr>\n",
       "\t<tr><th scope=row>2019-02-26</th><td>2793.90</td><td>2.428</td><td>2.458</td><td>2.636</td><td> 1.627145e-06</td><td>-0.0007920109</td><td>0.005142023</td><td>29</td><td> 0</td></tr>\n",
       "\t<tr><th scope=row>2019-02-27</th><td>2792.38</td><td>2.422</td><td>2.451</td><td>2.693</td><td> 4.881633e-06</td><td>-0.0005489240</td><td>0.004799897</td><td>27</td><td>-2</td></tr>\n",
       "\t<tr><th scope=row>2019-02-28</th><td>2784.49</td><td>2.415</td><td>2.440</td><td>2.711</td><td> 5.695602e-06</td><td>-0.0028312423</td><td>0.003938471</td><td>26</td><td>-1</td></tr>\n",
       "\t<tr><th scope=row>2019-03-01</th><td>2803.69</td><td>2.452</td><td>2.435</td><td>2.755</td><td>-3.010038e-05</td><td> 0.0069254385</td><td>0.004912823</td><td>26</td><td> 0</td></tr>\n",
       "\t<tr><th scope=row>2019-03-04</th><td>2792.81</td><td>2.437</td><td>2.432</td><td>2.722</td><td> 1.220180e-05</td><td>-0.0038928020</td><td>0.007707261</td><td>27</td><td> 1</td></tr>\n",
       "\t<tr><th scope=row>2019-03-05</th><td>2789.65</td><td>2.432</td><td>2.465</td><td>2.722</td><td> 4.067648e-06</td><td>-0.0011355445</td><td>0.004922985</td><td>27</td><td> 0</td></tr>\n",
       "\t<tr><th scope=row>2019-03-06</th><td>2771.45</td><td>2.426</td><td>2.465</td><td>2.692</td><td> 4.881442e-06</td><td>-0.0065289974</td><td>0.005115445</td><td>26</td><td>-1</td></tr>\n",
       "\t<tr><th scope=row>2019-03-07</th><td>2748.93</td><td>2.424</td><td>2.460</td><td>2.636</td><td> 1.627208e-06</td><td>-0.0081273376</td><td>0.006930191</td><td>27</td><td> 1</td></tr>\n",
       "\t<tr><th scope=row>2019-03-08</th><td>2743.07</td><td>2.450</td><td>2.454</td><td>2.625</td><td>-2.115099e-05</td><td>-0.0021105875</td><td>0.007230079</td><td>25</td><td>-2</td></tr>\n",
       "\t<tr><th scope=row>2019-03-11</th><td>2783.30</td><td>2.445</td><td>2.444</td><td>2.641</td><td> 4.067132e-06</td><td> 0.0146619822</td><td>0.004354816</td><td>25</td><td> 0</td></tr>\n",
       "\t<tr><th scope=row>2019-03-12</th><td>2791.52</td><td>2.434</td><td>2.460</td><td>2.605</td><td> 8.948411e-06</td><td> 0.0029443804</td><td>0.004611710</td><td>28</td><td> 3</td></tr>\n",
       "\t<tr><th scope=row>2019-03-13</th><td>2810.92</td><td>2.429</td><td>2.452</td><td>2.610</td><td> 4.067767e-06</td><td> 0.0069455511</td><td>0.004200144</td><td>27</td><td>-1</td></tr>\n",
       "</tbody>\n",
       "</table>\n"
      ],
      "text/latex": [
       "A tibble: 3792 × 9\n",
       "\\begin{tabular}{r|lllllllll}\n",
       "  & S.PCOMP & TRUS1MT & TRUS3MT & TRUS10T & US\\_1MO\\_r\\_f & SPX\\_R & SPX\\_RV & SPX\\_SVI & SPX\\_dSVI\\\\\n",
       "  & <dbl> & <dbl> & <dbl> & <dbl> & <dbl> & <dbl> & <dbl> & <dbl> & <dbl>\\\\\n",
       "\\hline\n",
       "\t2004-01-05 & 1122.22 & 0.865 & 0.917 & 4.384 & -8.262244e-06 &  0.0124036144 & 0.005919711 & 16 &  2\\\\\n",
       "\t2004-01-06 & 1123.67 & 0.875 & 0.922 & 4.275 & -8.261425e-06 &  0.0013003432 & 0.004468624 & 23 &  7\\\\\n",
       "\t2004-01-07 & 1126.33 & 0.855 & 0.897 & 4.246 &  1.652387e-05 &  0.0023507192 & 0.005380438 & 14 & -9\\\\\n",
       "\t2004-01-08 & 1131.92 & 0.875 & 0.866 & 4.258 & -1.652360e-05 &  0.0049795451 & 0.005636016 & 15 &  1\\\\\n",
       "\t2004-01-09 & 1121.85 & 0.855 & 0.861 & 4.084 &  1.652387e-05 & -0.0089129123 & 0.008299253 &  9 & -6\\\\\n",
       "\t2004-01-14 & 1130.52 & 0.835 & 0.876 & 3.997 &  1.239564e-05 &  0.0082821407 & 0.004631834 & 10 &  1\\\\\n",
       "\t2004-01-15 & 1132.05 & 0.805 & 0.866 & 3.974 &  2.479697e-05 &  0.0013285625 & 0.007092478 &  7 & -3\\\\\n",
       "\t2004-01-16 & 1139.83 & 0.780 & 0.871 & 4.016 &  2.066974e-05 &  0.0068518182 & 0.005964541 & 14 &  7\\\\\n",
       "\t2004-01-20 & 1138.77 & 0.770 & 0.866 & 4.063 &  1.653781e-05 & -0.0009465010 & 0.004815061 &  7 & -7\\\\\n",
       "\t2004-01-21 & 1147.62 & 0.755 & 0.881 & 4.023 &  1.240549e-05 &  0.0077591375 & 0.006019031 & 13 &  6\\\\\n",
       "\t2004-01-22 & 1143.94 & 0.705 & 0.871 & 3.968 &  4.136556e-05 & -0.0032480019 & 0.005782836 & 15 &  2\\\\\n",
       "\t2004-01-23 & 1141.55 & 0.760 & 0.871 & 4.087 & -4.549901e-05 & -0.0020437714 & 0.006094626 & 11 & -4\\\\\n",
       "\t2004-01-26 & 1155.37 & 0.795 & 0.879 & 4.136 & -2.894123e-05 &  0.0121352879 & 0.005430781 & 11 &  0\\\\\n",
       "\t2004-01-27 & 1144.05 & 0.805 & 0.917 & 4.087 & -8.267162e-06 & -0.0097894600 & 0.005375860 &  8 & -3\\\\\n",
       "\t2004-01-28 & 1128.48 & 0.870 & 0.907 & 4.193 & -5.371535e-05 & -0.0135558297 & 0.009729285 & 10 &  2\\\\\n",
       "\t2004-01-29 & 1134.11 & 0.850 & 0.932 & 4.184 &  1.652469e-05 &  0.0049724871 & 0.008977799 & 10 &  0\\\\\n",
       "\t2004-01-30 & 1131.13 & 0.830 & 0.917 & 4.135 &  1.652797e-05 & -0.0026441390 & 0.007256402 & 19 &  9\\\\\n",
       "\t2004-02-02 & 1135.26 & 0.845 & 0.907 & 4.149 & -1.239611e-05 &  0.0036636121 & 0.009097525 & 11 & -8\\\\\n",
       "\t2004-02-03 & 1136.03 & 0.850 & 0.932 & 4.104 & -4.131642e-06 &  0.0006823904 & 0.005889087 &  8 & -3\\\\\n",
       "\t2004-02-04 & 1126.52 & 0.880 & 0.922 & 4.120 & -2.478530e-05 & -0.0083464725 & 0.007651679 & 14 &  6\\\\\n",
       "\t2004-02-05 & 1128.59 & 0.865 & 0.927 & 4.168 &  1.239196e-05 &  0.0018251254 & 0.006708651 & 16 &  2\\\\\n",
       "\t2004-02-06 & 1142.76 & 0.860 & 0.927 & 4.087 &  4.131045e-06 &  0.0125513585 & 0.006689608 & 12 & -4\\\\\n",
       "\t2004-02-09 & 1139.81 & 0.865 & 0.927 & 4.058 & -4.131028e-06 & -0.0025773384 & 0.004193692 & 11 & -1\\\\\n",
       "\t2004-02-10 & 1145.54 & 0.860 & 0.917 & 4.120 &  4.131045e-06 &  0.0050230226 & 0.004895371 & 12 &  1\\\\\n",
       "\t2004-02-11 & 1157.76 & 0.870 & 0.922 & 4.028 & -8.261834e-06 &  0.0106757200 & 0.006703273 & 14 &  2\\\\\n",
       "\t2004-02-12 & 1152.11 & 0.870 & 0.917 & 4.058 &  0.000000e+00 & -0.0048801133 & 0.004653582 & 14 &  0\\\\\n",
       "\t2004-02-13 & 1145.81 & 0.880 & 0.917 & 4.052 & -8.261015e-06 & -0.0054599668 & 0.006932313 & 14 &  0\\\\\n",
       "\t2004-02-17 & 1156.99 & 0.885 & 0.917 & 4.044 & -4.130209e-06 &  0.0097614198 & 0.006613290 & 19 &  5\\\\\n",
       "\t2004-02-18 & 1151.82 & 0.890 & 0.927 & 4.054 & -4.130004e-06 & -0.0044643615 & 0.004135190 & 12 & -7\\\\\n",
       "\t2004-02-19 & 1147.06 & 0.890 & 0.927 & 4.044 &  0.000000e+00 & -0.0041325902 & 0.007512106 & 13 &  1\\\\\n",
       "\t... & ... & ... & ... & ... & ... & ... & ... & ... & ...\\\\\n",
       "\t2019-01-30 & 2681.05 & 2.387 & 2.417 & 2.695 & -4.069618e-06 &  0.0155533120 & 0.008665881 & 29 &  2\\\\\n",
       "\t2019-01-31 & 2704.10 & 2.397 & 2.397 & 2.635 & -8.138624e-06 &  0.0086055165 & 0.006442116 & 31 &  2\\\\\n",
       "\t2019-02-01 & 2706.53 & 2.410 & 2.396 & 2.691 & -1.057901e-05 &  0.0009092144 & 0.006480257 & 30 & -1\\\\\n",
       "\t2019-02-04 & 2724.87 & 2.402 & 2.391 & 2.724 &  6.510056e-06 &  0.0067696942 & 0.005007432 & 27 & -3\\\\\n",
       "\t2019-02-05 & 2737.70 & 2.387 & 2.417 & 2.704 &  1.220776e-05 &  0.0046962737 & 0.004210377 & 31 &  4\\\\\n",
       "\t2019-02-06 & 2731.61 & 2.394 & 2.417 & 2.700 & -5.697127e-06 & -0.0022187979 & 0.004585573 & 27 & -4\\\\\n",
       "\t2019-02-07 & 2706.05 & 2.387 & 2.412 & 2.654 &  5.697159e-06 & -0.0093628162 & 0.008123491 & 27 &  0\\\\\n",
       "\t2019-02-08 & 2707.88 & 2.428 & 2.422 & 2.632 & -3.336289e-05 &  0.0007096253 & 0.005737097 & 27 &  0\\\\\n",
       "\t2019-02-11 & 2709.80 & 2.433 & 2.432 & 2.661 & -4.067791e-06 &  0.0007131096 & 0.005052937 & 25 & -2\\\\\n",
       "\t2019-02-12 & 2744.73 & 2.417 & 2.435 & 2.684 &  1.301774e-05 &  0.0128772325 & 0.004535485 & 28 &  3\\\\\n",
       "\t2019-02-13 & 2753.03 & 2.417 & 2.430 & 2.706 &  0.000000e+00 &  0.0030239769 & 0.004444758 & 26 & -2\\\\\n",
       "\t2019-02-14 & 2745.73 & 2.422 & 2.430 & 2.659 & -4.068227e-06 & -0.0026475556 & 0.006654919 & 28 &  2\\\\\n",
       "\t2019-02-15 & 2775.60 & 2.425 & 2.427 & 2.666 & -2.440843e-06 &  0.0108811507 & 0.004551266 & 30 &  2\\\\\n",
       "\t2019-02-19 & 2779.76 & 2.405 & 2.429 & 2.645 &  1.627379e-05 &  0.0014825012 & 0.003456960 & 25 & -5\\\\\n",
       "\t2019-02-20 & 2784.70 & 2.402 & 2.446 & 2.652 &  2.441326e-06 &  0.0017746905 & 0.005014522 & 25 &  0\\\\\n",
       "\t2019-02-21 & 2774.88 & 2.384 & 2.448 & 2.688 &  1.464955e-05 & -0.0035410617 & 0.004766829 & 27 &  2\\\\\n",
       "\t2019-02-22 & 2792.67 & 2.425 & 2.450 & 2.655 & -3.336386e-05 &  0.0064444519 & 0.003804397 & 27 &  0\\\\\n",
       "\t2019-02-25 & 2796.11 & 2.430 & 2.450 & 2.673 & -4.067910e-06 &  0.0012358640 & 0.003903839 & 29 &  2\\\\\n",
       "\t2019-02-26 & 2793.90 & 2.428 & 2.458 & 2.636 &  1.627145e-06 & -0.0007920109 & 0.005142023 & 29 &  0\\\\\n",
       "\t2019-02-27 & 2792.38 & 2.422 & 2.451 & 2.693 &  4.881633e-06 & -0.0005489240 & 0.004799897 & 27 & -2\\\\\n",
       "\t2019-02-28 & 2784.49 & 2.415 & 2.440 & 2.711 &  5.695602e-06 & -0.0028312423 & 0.003938471 & 26 & -1\\\\\n",
       "\t2019-03-01 & 2803.69 & 2.452 & 2.435 & 2.755 & -3.010038e-05 &  0.0069254385 & 0.004912823 & 26 &  0\\\\\n",
       "\t2019-03-04 & 2792.81 & 2.437 & 2.432 & 2.722 &  1.220180e-05 & -0.0038928020 & 0.007707261 & 27 &  1\\\\\n",
       "\t2019-03-05 & 2789.65 & 2.432 & 2.465 & 2.722 &  4.067648e-06 & -0.0011355445 & 0.004922985 & 27 &  0\\\\\n",
       "\t2019-03-06 & 2771.45 & 2.426 & 2.465 & 2.692 &  4.881442e-06 & -0.0065289974 & 0.005115445 & 26 & -1\\\\\n",
       "\t2019-03-07 & 2748.93 & 2.424 & 2.460 & 2.636 &  1.627208e-06 & -0.0081273376 & 0.006930191 & 27 &  1\\\\\n",
       "\t2019-03-08 & 2743.07 & 2.450 & 2.454 & 2.625 & -2.115099e-05 & -0.0021105875 & 0.007230079 & 25 & -2\\\\\n",
       "\t2019-03-11 & 2783.30 & 2.445 & 2.444 & 2.641 &  4.067132e-06 &  0.0146619822 & 0.004354816 & 25 &  0\\\\\n",
       "\t2019-03-12 & 2791.52 & 2.434 & 2.460 & 2.605 &  8.948411e-06 &  0.0029443804 & 0.004611710 & 28 &  3\\\\\n",
       "\t2019-03-13 & 2810.92 & 2.429 & 2.452 & 2.610 &  4.067767e-06 &  0.0069455511 & 0.004200144 & 27 & -1\\\\\n",
       "\\end{tabular}\n"
      ],
      "text/markdown": [
       "\n",
       "A tibble: 3792 × 9\n",
       "\n",
       "| <!--/--> | S.PCOMP &lt;dbl&gt; | TRUS1MT &lt;dbl&gt; | TRUS3MT &lt;dbl&gt; | TRUS10T &lt;dbl&gt; | US_1MO_r_f &lt;dbl&gt; | SPX_R &lt;dbl&gt; | SPX_RV &lt;dbl&gt; | SPX_SVI &lt;dbl&gt; | SPX_dSVI &lt;dbl&gt; |\n",
       "|---|---|---|---|---|---|---|---|---|---|\n",
       "| 2004-01-05 | 1122.22 | 0.865 | 0.917 | 4.384 | -8.262244e-06 |  0.0124036144 | 0.005919711 | 16 |  2 |\n",
       "| 2004-01-06 | 1123.67 | 0.875 | 0.922 | 4.275 | -8.261425e-06 |  0.0013003432 | 0.004468624 | 23 |  7 |\n",
       "| 2004-01-07 | 1126.33 | 0.855 | 0.897 | 4.246 |  1.652387e-05 |  0.0023507192 | 0.005380438 | 14 | -9 |\n",
       "| 2004-01-08 | 1131.92 | 0.875 | 0.866 | 4.258 | -1.652360e-05 |  0.0049795451 | 0.005636016 | 15 |  1 |\n",
       "| 2004-01-09 | 1121.85 | 0.855 | 0.861 | 4.084 |  1.652387e-05 | -0.0089129123 | 0.008299253 |  9 | -6 |\n",
       "| 2004-01-14 | 1130.52 | 0.835 | 0.876 | 3.997 |  1.239564e-05 |  0.0082821407 | 0.004631834 | 10 |  1 |\n",
       "| 2004-01-15 | 1132.05 | 0.805 | 0.866 | 3.974 |  2.479697e-05 |  0.0013285625 | 0.007092478 |  7 | -3 |\n",
       "| 2004-01-16 | 1139.83 | 0.780 | 0.871 | 4.016 |  2.066974e-05 |  0.0068518182 | 0.005964541 | 14 |  7 |\n",
       "| 2004-01-20 | 1138.77 | 0.770 | 0.866 | 4.063 |  1.653781e-05 | -0.0009465010 | 0.004815061 |  7 | -7 |\n",
       "| 2004-01-21 | 1147.62 | 0.755 | 0.881 | 4.023 |  1.240549e-05 |  0.0077591375 | 0.006019031 | 13 |  6 |\n",
       "| 2004-01-22 | 1143.94 | 0.705 | 0.871 | 3.968 |  4.136556e-05 | -0.0032480019 | 0.005782836 | 15 |  2 |\n",
       "| 2004-01-23 | 1141.55 | 0.760 | 0.871 | 4.087 | -4.549901e-05 | -0.0020437714 | 0.006094626 | 11 | -4 |\n",
       "| 2004-01-26 | 1155.37 | 0.795 | 0.879 | 4.136 | -2.894123e-05 |  0.0121352879 | 0.005430781 | 11 |  0 |\n",
       "| 2004-01-27 | 1144.05 | 0.805 | 0.917 | 4.087 | -8.267162e-06 | -0.0097894600 | 0.005375860 |  8 | -3 |\n",
       "| 2004-01-28 | 1128.48 | 0.870 | 0.907 | 4.193 | -5.371535e-05 | -0.0135558297 | 0.009729285 | 10 |  2 |\n",
       "| 2004-01-29 | 1134.11 | 0.850 | 0.932 | 4.184 |  1.652469e-05 |  0.0049724871 | 0.008977799 | 10 |  0 |\n",
       "| 2004-01-30 | 1131.13 | 0.830 | 0.917 | 4.135 |  1.652797e-05 | -0.0026441390 | 0.007256402 | 19 |  9 |\n",
       "| 2004-02-02 | 1135.26 | 0.845 | 0.907 | 4.149 | -1.239611e-05 |  0.0036636121 | 0.009097525 | 11 | -8 |\n",
       "| 2004-02-03 | 1136.03 | 0.850 | 0.932 | 4.104 | -4.131642e-06 |  0.0006823904 | 0.005889087 |  8 | -3 |\n",
       "| 2004-02-04 | 1126.52 | 0.880 | 0.922 | 4.120 | -2.478530e-05 | -0.0083464725 | 0.007651679 | 14 |  6 |\n",
       "| 2004-02-05 | 1128.59 | 0.865 | 0.927 | 4.168 |  1.239196e-05 |  0.0018251254 | 0.006708651 | 16 |  2 |\n",
       "| 2004-02-06 | 1142.76 | 0.860 | 0.927 | 4.087 |  4.131045e-06 |  0.0125513585 | 0.006689608 | 12 | -4 |\n",
       "| 2004-02-09 | 1139.81 | 0.865 | 0.927 | 4.058 | -4.131028e-06 | -0.0025773384 | 0.004193692 | 11 | -1 |\n",
       "| 2004-02-10 | 1145.54 | 0.860 | 0.917 | 4.120 |  4.131045e-06 |  0.0050230226 | 0.004895371 | 12 |  1 |\n",
       "| 2004-02-11 | 1157.76 | 0.870 | 0.922 | 4.028 | -8.261834e-06 |  0.0106757200 | 0.006703273 | 14 |  2 |\n",
       "| 2004-02-12 | 1152.11 | 0.870 | 0.917 | 4.058 |  0.000000e+00 | -0.0048801133 | 0.004653582 | 14 |  0 |\n",
       "| 2004-02-13 | 1145.81 | 0.880 | 0.917 | 4.052 | -8.261015e-06 | -0.0054599668 | 0.006932313 | 14 |  0 |\n",
       "| 2004-02-17 | 1156.99 | 0.885 | 0.917 | 4.044 | -4.130209e-06 |  0.0097614198 | 0.006613290 | 19 |  5 |\n",
       "| 2004-02-18 | 1151.82 | 0.890 | 0.927 | 4.054 | -4.130004e-06 | -0.0044643615 | 0.004135190 | 12 | -7 |\n",
       "| 2004-02-19 | 1147.06 | 0.890 | 0.927 | 4.044 |  0.000000e+00 | -0.0041325902 | 0.007512106 | 13 |  1 |\n",
       "| ... | ... | ... | ... | ... | ... | ... | ... | ... | ... |\n",
       "| 2019-01-30 | 2681.05 | 2.387 | 2.417 | 2.695 | -4.069618e-06 |  0.0155533120 | 0.008665881 | 29 |  2 |\n",
       "| 2019-01-31 | 2704.10 | 2.397 | 2.397 | 2.635 | -8.138624e-06 |  0.0086055165 | 0.006442116 | 31 |  2 |\n",
       "| 2019-02-01 | 2706.53 | 2.410 | 2.396 | 2.691 | -1.057901e-05 |  0.0009092144 | 0.006480257 | 30 | -1 |\n",
       "| 2019-02-04 | 2724.87 | 2.402 | 2.391 | 2.724 |  6.510056e-06 |  0.0067696942 | 0.005007432 | 27 | -3 |\n",
       "| 2019-02-05 | 2737.70 | 2.387 | 2.417 | 2.704 |  1.220776e-05 |  0.0046962737 | 0.004210377 | 31 |  4 |\n",
       "| 2019-02-06 | 2731.61 | 2.394 | 2.417 | 2.700 | -5.697127e-06 | -0.0022187979 | 0.004585573 | 27 | -4 |\n",
       "| 2019-02-07 | 2706.05 | 2.387 | 2.412 | 2.654 |  5.697159e-06 | -0.0093628162 | 0.008123491 | 27 |  0 |\n",
       "| 2019-02-08 | 2707.88 | 2.428 | 2.422 | 2.632 | -3.336289e-05 |  0.0007096253 | 0.005737097 | 27 |  0 |\n",
       "| 2019-02-11 | 2709.80 | 2.433 | 2.432 | 2.661 | -4.067791e-06 |  0.0007131096 | 0.005052937 | 25 | -2 |\n",
       "| 2019-02-12 | 2744.73 | 2.417 | 2.435 | 2.684 |  1.301774e-05 |  0.0128772325 | 0.004535485 | 28 |  3 |\n",
       "| 2019-02-13 | 2753.03 | 2.417 | 2.430 | 2.706 |  0.000000e+00 |  0.0030239769 | 0.004444758 | 26 | -2 |\n",
       "| 2019-02-14 | 2745.73 | 2.422 | 2.430 | 2.659 | -4.068227e-06 | -0.0026475556 | 0.006654919 | 28 |  2 |\n",
       "| 2019-02-15 | 2775.60 | 2.425 | 2.427 | 2.666 | -2.440843e-06 |  0.0108811507 | 0.004551266 | 30 |  2 |\n",
       "| 2019-02-19 | 2779.76 | 2.405 | 2.429 | 2.645 |  1.627379e-05 |  0.0014825012 | 0.003456960 | 25 | -5 |\n",
       "| 2019-02-20 | 2784.70 | 2.402 | 2.446 | 2.652 |  2.441326e-06 |  0.0017746905 | 0.005014522 | 25 |  0 |\n",
       "| 2019-02-21 | 2774.88 | 2.384 | 2.448 | 2.688 |  1.464955e-05 | -0.0035410617 | 0.004766829 | 27 |  2 |\n",
       "| 2019-02-22 | 2792.67 | 2.425 | 2.450 | 2.655 | -3.336386e-05 |  0.0064444519 | 0.003804397 | 27 |  0 |\n",
       "| 2019-02-25 | 2796.11 | 2.430 | 2.450 | 2.673 | -4.067910e-06 |  0.0012358640 | 0.003903839 | 29 |  2 |\n",
       "| 2019-02-26 | 2793.90 | 2.428 | 2.458 | 2.636 |  1.627145e-06 | -0.0007920109 | 0.005142023 | 29 |  0 |\n",
       "| 2019-02-27 | 2792.38 | 2.422 | 2.451 | 2.693 |  4.881633e-06 | -0.0005489240 | 0.004799897 | 27 | -2 |\n",
       "| 2019-02-28 | 2784.49 | 2.415 | 2.440 | 2.711 |  5.695602e-06 | -0.0028312423 | 0.003938471 | 26 | -1 |\n",
       "| 2019-03-01 | 2803.69 | 2.452 | 2.435 | 2.755 | -3.010038e-05 |  0.0069254385 | 0.004912823 | 26 |  0 |\n",
       "| 2019-03-04 | 2792.81 | 2.437 | 2.432 | 2.722 |  1.220180e-05 | -0.0038928020 | 0.007707261 | 27 |  1 |\n",
       "| 2019-03-05 | 2789.65 | 2.432 | 2.465 | 2.722 |  4.067648e-06 | -0.0011355445 | 0.004922985 | 27 |  0 |\n",
       "| 2019-03-06 | 2771.45 | 2.426 | 2.465 | 2.692 |  4.881442e-06 | -0.0065289974 | 0.005115445 | 26 | -1 |\n",
       "| 2019-03-07 | 2748.93 | 2.424 | 2.460 | 2.636 |  1.627208e-06 | -0.0081273376 | 0.006930191 | 27 |  1 |\n",
       "| 2019-03-08 | 2743.07 | 2.450 | 2.454 | 2.625 | -2.115099e-05 | -0.0021105875 | 0.007230079 | 25 | -2 |\n",
       "| 2019-03-11 | 2783.30 | 2.445 | 2.444 | 2.641 |  4.067132e-06 |  0.0146619822 | 0.004354816 | 25 |  0 |\n",
       "| 2019-03-12 | 2791.52 | 2.434 | 2.460 | 2.605 |  8.948411e-06 |  0.0029443804 | 0.004611710 | 28 |  3 |\n",
       "| 2019-03-13 | 2810.92 | 2.429 | 2.452 | 2.610 |  4.067767e-06 |  0.0069455511 | 0.004200144 | 27 | -1 |\n",
       "\n"
      ],
      "text/plain": [
       "           S.PCOMP TRUS1MT TRUS3MT TRUS10T US_1MO_r_f    SPX_R        \n",
       "2004-01-05 1122.22 0.865   0.917   4.384   -8.262244e-06  0.0124036144\n",
       "2004-01-06 1123.67 0.875   0.922   4.275   -8.261425e-06  0.0013003432\n",
       "2004-01-07 1126.33 0.855   0.897   4.246    1.652387e-05  0.0023507192\n",
       "2004-01-08 1131.92 0.875   0.866   4.258   -1.652360e-05  0.0049795451\n",
       "2004-01-09 1121.85 0.855   0.861   4.084    1.652387e-05 -0.0089129123\n",
       "2004-01-14 1130.52 0.835   0.876   3.997    1.239564e-05  0.0082821407\n",
       "2004-01-15 1132.05 0.805   0.866   3.974    2.479697e-05  0.0013285625\n",
       "2004-01-16 1139.83 0.780   0.871   4.016    2.066974e-05  0.0068518182\n",
       "2004-01-20 1138.77 0.770   0.866   4.063    1.653781e-05 -0.0009465010\n",
       "2004-01-21 1147.62 0.755   0.881   4.023    1.240549e-05  0.0077591375\n",
       "2004-01-22 1143.94 0.705   0.871   3.968    4.136556e-05 -0.0032480019\n",
       "2004-01-23 1141.55 0.760   0.871   4.087   -4.549901e-05 -0.0020437714\n",
       "2004-01-26 1155.37 0.795   0.879   4.136   -2.894123e-05  0.0121352879\n",
       "2004-01-27 1144.05 0.805   0.917   4.087   -8.267162e-06 -0.0097894600\n",
       "2004-01-28 1128.48 0.870   0.907   4.193   -5.371535e-05 -0.0135558297\n",
       "2004-01-29 1134.11 0.850   0.932   4.184    1.652469e-05  0.0049724871\n",
       "2004-01-30 1131.13 0.830   0.917   4.135    1.652797e-05 -0.0026441390\n",
       "2004-02-02 1135.26 0.845   0.907   4.149   -1.239611e-05  0.0036636121\n",
       "2004-02-03 1136.03 0.850   0.932   4.104   -4.131642e-06  0.0006823904\n",
       "2004-02-04 1126.52 0.880   0.922   4.120   -2.478530e-05 -0.0083464725\n",
       "2004-02-05 1128.59 0.865   0.927   4.168    1.239196e-05  0.0018251254\n",
       "2004-02-06 1142.76 0.860   0.927   4.087    4.131045e-06  0.0125513585\n",
       "2004-02-09 1139.81 0.865   0.927   4.058   -4.131028e-06 -0.0025773384\n",
       "2004-02-10 1145.54 0.860   0.917   4.120    4.131045e-06  0.0050230226\n",
       "2004-02-11 1157.76 0.870   0.922   4.028   -8.261834e-06  0.0106757200\n",
       "2004-02-12 1152.11 0.870   0.917   4.058    0.000000e+00 -0.0048801133\n",
       "2004-02-13 1145.81 0.880   0.917   4.052   -8.261015e-06 -0.0054599668\n",
       "2004-02-17 1156.99 0.885   0.917   4.044   -4.130209e-06  0.0097614198\n",
       "2004-02-18 1151.82 0.890   0.927   4.054   -4.130004e-06 -0.0044643615\n",
       "2004-02-19 1147.06 0.890   0.927   4.044    0.000000e+00 -0.0041325902\n",
       "...        ...     ...     ...     ...     ...           ...          \n",
       "2019-01-30 2681.05 2.387   2.417   2.695   -4.069618e-06  0.0155533120\n",
       "2019-01-31 2704.10 2.397   2.397   2.635   -8.138624e-06  0.0086055165\n",
       "2019-02-01 2706.53 2.410   2.396   2.691   -1.057901e-05  0.0009092144\n",
       "2019-02-04 2724.87 2.402   2.391   2.724    6.510056e-06  0.0067696942\n",
       "2019-02-05 2737.70 2.387   2.417   2.704    1.220776e-05  0.0046962737\n",
       "2019-02-06 2731.61 2.394   2.417   2.700   -5.697127e-06 -0.0022187979\n",
       "2019-02-07 2706.05 2.387   2.412   2.654    5.697159e-06 -0.0093628162\n",
       "2019-02-08 2707.88 2.428   2.422   2.632   -3.336289e-05  0.0007096253\n",
       "2019-02-11 2709.80 2.433   2.432   2.661   -4.067791e-06  0.0007131096\n",
       "2019-02-12 2744.73 2.417   2.435   2.684    1.301774e-05  0.0128772325\n",
       "2019-02-13 2753.03 2.417   2.430   2.706    0.000000e+00  0.0030239769\n",
       "2019-02-14 2745.73 2.422   2.430   2.659   -4.068227e-06 -0.0026475556\n",
       "2019-02-15 2775.60 2.425   2.427   2.666   -2.440843e-06  0.0108811507\n",
       "2019-02-19 2779.76 2.405   2.429   2.645    1.627379e-05  0.0014825012\n",
       "2019-02-20 2784.70 2.402   2.446   2.652    2.441326e-06  0.0017746905\n",
       "2019-02-21 2774.88 2.384   2.448   2.688    1.464955e-05 -0.0035410617\n",
       "2019-02-22 2792.67 2.425   2.450   2.655   -3.336386e-05  0.0064444519\n",
       "2019-02-25 2796.11 2.430   2.450   2.673   -4.067910e-06  0.0012358640\n",
       "2019-02-26 2793.90 2.428   2.458   2.636    1.627145e-06 -0.0007920109\n",
       "2019-02-27 2792.38 2.422   2.451   2.693    4.881633e-06 -0.0005489240\n",
       "2019-02-28 2784.49 2.415   2.440   2.711    5.695602e-06 -0.0028312423\n",
       "2019-03-01 2803.69 2.452   2.435   2.755   -3.010038e-05  0.0069254385\n",
       "2019-03-04 2792.81 2.437   2.432   2.722    1.220180e-05 -0.0038928020\n",
       "2019-03-05 2789.65 2.432   2.465   2.722    4.067648e-06 -0.0011355445\n",
       "2019-03-06 2771.45 2.426   2.465   2.692    4.881442e-06 -0.0065289974\n",
       "2019-03-07 2748.93 2.424   2.460   2.636    1.627208e-06 -0.0081273376\n",
       "2019-03-08 2743.07 2.450   2.454   2.625   -2.115099e-05 -0.0021105875\n",
       "2019-03-11 2783.30 2.445   2.444   2.641    4.067132e-06  0.0146619822\n",
       "2019-03-12 2791.52 2.434   2.460   2.605    8.948411e-06  0.0029443804\n",
       "2019-03-13 2810.92 2.429   2.452   2.610    4.067767e-06  0.0069455511\n",
       "           SPX_RV      SPX_SVI SPX_dSVI\n",
       "2004-01-05 0.005919711 16       2      \n",
       "2004-01-06 0.004468624 23       7      \n",
       "2004-01-07 0.005380438 14      -9      \n",
       "2004-01-08 0.005636016 15       1      \n",
       "2004-01-09 0.008299253  9      -6      \n",
       "2004-01-14 0.004631834 10       1      \n",
       "2004-01-15 0.007092478  7      -3      \n",
       "2004-01-16 0.005964541 14       7      \n",
       "2004-01-20 0.004815061  7      -7      \n",
       "2004-01-21 0.006019031 13       6      \n",
       "2004-01-22 0.005782836 15       2      \n",
       "2004-01-23 0.006094626 11      -4      \n",
       "2004-01-26 0.005430781 11       0      \n",
       "2004-01-27 0.005375860  8      -3      \n",
       "2004-01-28 0.009729285 10       2      \n",
       "2004-01-29 0.008977799 10       0      \n",
       "2004-01-30 0.007256402 19       9      \n",
       "2004-02-02 0.009097525 11      -8      \n",
       "2004-02-03 0.005889087  8      -3      \n",
       "2004-02-04 0.007651679 14       6      \n",
       "2004-02-05 0.006708651 16       2      \n",
       "2004-02-06 0.006689608 12      -4      \n",
       "2004-02-09 0.004193692 11      -1      \n",
       "2004-02-10 0.004895371 12       1      \n",
       "2004-02-11 0.006703273 14       2      \n",
       "2004-02-12 0.004653582 14       0      \n",
       "2004-02-13 0.006932313 14       0      \n",
       "2004-02-17 0.006613290 19       5      \n",
       "2004-02-18 0.004135190 12      -7      \n",
       "2004-02-19 0.007512106 13       1      \n",
       "...        ...         ...     ...     \n",
       "2019-01-30 0.008665881 29       2      \n",
       "2019-01-31 0.006442116 31       2      \n",
       "2019-02-01 0.006480257 30      -1      \n",
       "2019-02-04 0.005007432 27      -3      \n",
       "2019-02-05 0.004210377 31       4      \n",
       "2019-02-06 0.004585573 27      -4      \n",
       "2019-02-07 0.008123491 27       0      \n",
       "2019-02-08 0.005737097 27       0      \n",
       "2019-02-11 0.005052937 25      -2      \n",
       "2019-02-12 0.004535485 28       3      \n",
       "2019-02-13 0.004444758 26      -2      \n",
       "2019-02-14 0.006654919 28       2      \n",
       "2019-02-15 0.004551266 30       2      \n",
       "2019-02-19 0.003456960 25      -5      \n",
       "2019-02-20 0.005014522 25       0      \n",
       "2019-02-21 0.004766829 27       2      \n",
       "2019-02-22 0.003804397 27       0      \n",
       "2019-02-25 0.003903839 29       2      \n",
       "2019-02-26 0.005142023 29       0      \n",
       "2019-02-27 0.004799897 27      -2      \n",
       "2019-02-28 0.003938471 26      -1      \n",
       "2019-03-01 0.004912823 26       0      \n",
       "2019-03-04 0.007707261 27       1      \n",
       "2019-03-05 0.004922985 27       0      \n",
       "2019-03-06 0.005115445 26      -1      \n",
       "2019-03-07 0.006930191 27       1      \n",
       "2019-03-08 0.007230079 25      -2      \n",
       "2019-03-11 0.004354816 25       0      \n",
       "2019-03-12 0.004611710 28       3      \n",
       "2019-03-13 0.004200144 27      -1      "
      ]
     },
     "metadata": {},
     "output_type": "display_data"
    }
   ],
   "source": [
    "as_tibble(df, rownames = NA)"
   ]
  },
  {
   "cell_type": "code",
   "execution_count": null,
   "metadata": {},
   "outputs": [],
   "source": []
  }
 ],
 "metadata": {
  "kernelspec": {
   "display_name": "R",
   "language": "R",
   "name": "ir"
  },
  "language_info": {
   "codemirror_mode": "r",
   "file_extension": ".r",
   "mimetype": "text/x-r-source",
   "name": "R",
   "pygments_lexer": "r",
   "version": "3.6.1"
  }
 },
 "nbformat": 4,
 "nbformat_minor": 4
}
